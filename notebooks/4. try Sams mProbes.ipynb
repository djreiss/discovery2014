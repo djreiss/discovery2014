{
 "cells": [
  {
   "cell_type": "code",
   "execution_count": 3,
   "metadata": {
    "collapsed": true
   },
   "outputs": [],
   "source": [
    "#%run -i read_counts.py\n",
    "all_freqs = pickle.load(open('all_freqs.pkl', 'rb'))"
   ]
  },
  {
   "cell_type": "code",
   "execution_count": 4,
   "metadata": {
    "collapsed": false
   },
   "outputs": [
    {
     "name": "stdout",
     "output_type": "stream",
     "text": [
      "The rpy2.ipython extension is already loaded. To reload it, use:\n",
      "  %reload_ext rpy2.ipython\n"
     ]
    }
   ],
   "source": [
    "from matplotlib import pyplot as plt\n",
    "\n",
    "%matplotlib inline\n",
    "from IPython.display import set_matplotlib_formats\n",
    "set_matplotlib_formats('pdf', 'svg')\n",
    "\n",
    "import pandas as pd\n",
    "pd.options.display.mpl_style = 'default'\n",
    "\n",
    "from mpltools import style\n",
    "from mpltools import layout\n",
    "\n",
    "style.use('ggplot')\n",
    "\n",
    "## see: https://stackoverflow.com/questions/19536817/manipulate-html-module-font-size-in-ipython-notebook\n",
    "class sizeme():\n",
    "    \"\"\" Class to change html fontsize of object's representation\"\"\"\n",
    "    def __init__(self,ob, size, height=100):\n",
    "        self.ob = ob\n",
    "        self.size = size\n",
    "        self.height = height\n",
    "    def _repr_html_(self):\n",
    "        repl_tuple = (self.size, self.height, self.ob._repr_html_())\n",
    "        return u'<span style=\"font-size:{0}%; line-height:{1}%\">{2}</span>'.format(*repl_tuple)\n",
    "    \n",
    "## see https://stackoverflow.com/questions/14656852/how-to-use-pandas-dataframes-and-numpy-arrays-in-rpy2\n",
    "## and http://ipython.org/ipython-doc/rel-0.13/config/extensions/rmagic.html\n",
    "## note there's a ri2pandas() to convert back.\n",
    "## but note, rpy2 2.4.0 and later automagically translates dataframes: \n",
    "## https://stackoverflow.com/questions/20630121/pandas-how-to-convert-r-dataframe-back-to-pandas\n",
    "%load_ext rpy2.ipython\n",
    "#import rpy2.robjects.pandas2ri as p2r\n",
    "#rdf = p2r.pandas2ri(info)\n",
    "#%Rpush rdf"
   ]
  },
  {
   "cell_type": "code",
   "execution_count": 5,
   "metadata": {
    "collapsed": false
   },
   "outputs": [
    {
     "data": {
      "text/html": [
       "<span style=\"font-size:50%; line-height:120%\"><div>\n",
       "<table border=\"1\" class=\"dataframe\">\n",
       "  <thead>\n",
       "    <tr style=\"text-align: right;\">\n",
       "      <th></th>\n",
       "      <th>Sample name</th>\n",
       "      <th>Source</th>\n",
       "      <th>Barcode</th>\n",
       "      <th>Strain/condition</th>\n",
       "      <th>cultivation type</th>\n",
       "      <th>Chemostat/batch ID #</th>\n",
       "      <th>Description/condition details</th>\n",
       "      <th>Description/condition details -2</th>\n",
       "      <th>carbon source</th>\n",
       "      <th>electron donor</th>\n",
       "      <th>concentration (mM)</th>\n",
       "      <th>electron acceptor</th>\n",
       "      <th>growth rate per h</th>\n",
       "      <th>T0C</th>\n",
       "      <th>organisms</th>\n",
       "    </tr>\n",
       "    <tr>\n",
       "      <th>Sample name</th>\n",
       "      <th></th>\n",
       "      <th></th>\n",
       "      <th></th>\n",
       "      <th></th>\n",
       "      <th></th>\n",
       "      <th></th>\n",
       "      <th></th>\n",
       "      <th></th>\n",
       "      <th></th>\n",
       "      <th></th>\n",
       "      <th></th>\n",
       "      <th></th>\n",
       "      <th></th>\n",
       "      <th></th>\n",
       "      <th></th>\n",
       "    </tr>\n",
       "  </thead>\n",
       "  <tbody>\n",
       "    <tr>\n",
       "      <th>Sample_US-1505885</th>\n",
       "      <td>Sample_US-1505885</td>\n",
       "      <td>Labcorp</td>\n",
       "      <td>US-1505885</td>\n",
       "      <td>PS 37 C log 2</td>\n",
       "      <td>batch</td>\n",
       "      <td>NaN</td>\n",
       "      <td>pyruvate 80mM, sulfate 15mM 37C</td>\n",
       "      <td>sulfate respiration/growth</td>\n",
       "      <td>pyruvate 80mM</td>\n",
       "      <td>pyruvate</td>\n",
       "      <td>NaN</td>\n",
       "      <td>sulfate</td>\n",
       "      <td>NaN</td>\n",
       "      <td>37</td>\n",
       "      <td>D vulgaris Hildenborugh</td>\n",
       "    </tr>\n",
       "    <tr>\n",
       "      <th>Sample_US-1505888</th>\n",
       "      <td>Sample_US-1505888</td>\n",
       "      <td>Labcorp</td>\n",
       "      <td>US-1505888</td>\n",
       "      <td>LS 37C   log 1</td>\n",
       "      <td>batch</td>\n",
       "      <td>NaN</td>\n",
       "      <td>lactate 40mM, sulfate15mM 37C</td>\n",
       "      <td>sulfate respiration/growth</td>\n",
       "      <td>lactate 40mM</td>\n",
       "      <td>lactate</td>\n",
       "      <td>NaN</td>\n",
       "      <td>sulfate</td>\n",
       "      <td>NaN</td>\n",
       "      <td>37</td>\n",
       "      <td>D vulgaris Hildenborugh</td>\n",
       "    </tr>\n",
       "    <tr>\n",
       "      <th>Sample_US-1505895</th>\n",
       "      <td>Sample_US-1505895</td>\n",
       "      <td>Labcorp</td>\n",
       "      <td>US-1505895</td>\n",
       "      <td>LS 37C e. stat 1</td>\n",
       "      <td>batch</td>\n",
       "      <td>NaN</td>\n",
       "      <td>lactate 40mM, sulfate15mM 37C</td>\n",
       "      <td>fermentation</td>\n",
       "      <td>lactate 10mM</td>\n",
       "      <td>lactate</td>\n",
       "      <td>10</td>\n",
       "      <td>none</td>\n",
       "      <td>0</td>\n",
       "      <td>37</td>\n",
       "      <td>D vulgaris Hildenborugh</td>\n",
       "    </tr>\n",
       "  </tbody>\n",
       "</table>\n",
       "</div></span>"
      ],
      "text/plain": [
       "<__main__.sizeme instance at 0x7f0c66049ea8>"
      ]
     },
     "execution_count": 5,
     "metadata": {},
     "output_type": "execute_result"
    }
   ],
   "source": [
    "x = all_freqs['Desulfovibrio_vulgaris_Hildenborough_uid57645'].copy()\n",
    "sample_info = pd.read_excel('Sample_Info_COMPLETE.xlsx') ##,skiprows=[0])\n",
    "sample_info = sample_info.set_index( sample_info['Sample name'] )\n",
    "sample_infos = { k:sample_info.ix[all_freqs[k].columns.droplevel(1).values] for k in all_freqs.keys() }\n",
    "info = sample_infos['Desulfovibrio_vulgaris_Hildenborough_uid57645'].copy()\n",
    "sizeme(info.head(3),50,120)"
   ]
  },
  {
   "cell_type": "code",
   "execution_count": 6,
   "metadata": {
    "collapsed": false
   },
   "outputs": [
    {
     "name": "stdout",
     "output_type": "stream",
     "text": [
      "['DVU0001' 'DVU0002' 'DVU0003' ..., '__too_low_aQual' '__not_aligned'\n",
      " '__alignment_not_unique']\n"
     ]
    }
   ],
   "source": [
    "%Rpush info\n",
    "%Rpush x\n",
    "genes = x.index.values.astype('str')\n",
    "print(genes)\n",
    "%Rpush genes\n",
    "#%R save.image(\"Untitled1.RData\")"
   ]
  },
  {
   "cell_type": "code",
   "execution_count": 7,
   "metadata": {
    "collapsed": false
   },
   "outputs": [
    {
     "data": {
      "text/plain": [
       "NULL\n"
      ]
     },
     "metadata": {},
     "output_type": "display_data"
    }
   ],
   "source": [
    "%%R\n",
    "#    load(\"Untitled1.RData\")\n",
    "    good_gene = which(!substr(genes,1,2)=='__' & apply(x,1,sum)>0)\n",
    "    x = x[good_gene,]\n",
    "    rownames(x)=genes[good_gene]\n",
    "    x.orig = x = as.matrix(x); NULL"
   ]
  },
  {
   "cell_type": "markdown",
   "metadata": {},
   "source": [
    "# Note I now think that we have to use all genes and use the non-centered-scaled data (ranked?) to do good classification."
   ]
  },
  {
   "cell_type": "markdown",
   "metadata": {},
   "source": [
    "## Try mProbes -- note it is very slow!\n",
    "### Train classifier on growth rate"
   ]
  },
  {
   "cell_type": "code",
   "execution_count": null,
   "metadata": {
    "collapsed": false
   },
   "outputs": [
    {
     "name": "stderr",
     "output_type": "stream",
     "text": [
      "/home/dreiss/PYTHONUSERBASE/lib/python2.7/site-packages/rpy2/robjects/functions.py:106: UserWarning: Loading required package: randomForest\n",
      "\n",
      "  res = super(Function, self).__call__(*new_args, **new_kwargs)\n",
      "/home/dreiss/PYTHONUSERBASE/lib/python2.7/site-packages/rpy2/robjects/functions.py:106: UserWarning: randomForest 4.6-10\n",
      "\n",
      "  res = super(Function, self).__call__(*new_args, **new_kwargs)\n",
      "/home/dreiss/PYTHONUSERBASE/lib/python2.7/site-packages/rpy2/robjects/functions.py:106: UserWarning: Type rfNews() to see new features/changes/bug fixes.\n",
      "\n",
      "  res = super(Function, self).__call__(*new_args, **new_kwargs)\n",
      "/home/dreiss/PYTHONUSERBASE/lib/python2.7/site-packages/rpy2/robjects/functions.py:106: UserWarning: Loading required package: foreach\n",
      "\n",
      "  res = super(Function, self).__call__(*new_args, **new_kwargs)\n"
     ]
    }
   ],
   "source": [
    "%%R\n",
    "require(randomForest)\n",
    "source(\"mProbes.R\")\n",
    "require(doMC)\n",
    "doMC:::registerDoMC(cores=8)\n",
    "\n",
    "gr=info$growth.rate.per.h; gr=as.numeric(as.character(gr)); gr[is.na(gr)]=0.2\n",
    "Y <- factor( ifelse(gr==0, 'no_growth', ifelse(gr>=0.2, 'fast_growth', 'med_growth')) )\n",
    "\n",
    "mp.gr <- mProbes(t(x), Y, type='randomForest', ntree=1000)\n",
    "head(sort(mp.gr), 20)"
   ]
  },
  {
   "cell_type": "code",
   "execution_count": null,
   "metadata": {
    "collapsed": false
   },
   "outputs": [],
   "source": [
    "%%R\n",
    "mp.gr2 <- mProbes(t(x), Y, type='randomForest', ntree=1000)\n",
    "head(sort(mp.gr2), 20)"
   ]
  },
  {
   "cell_type": "markdown",
   "metadata": {},
   "source": [
    "### Train classifier on electron donor"
   ]
  },
  {
   "cell_type": "code",
   "execution_count": null,
   "metadata": {
    "collapsed": true
   },
   "outputs": [],
   "source": [
    "%%R\n",
    "doMC:::registerDoMC(cores=8)\n",
    "Y <- info$electron.donor\n",
    "mp.ed <- mProbes(t(x), Y, type='randomForest', ntree=1000)\n",
    "head(sort(mp.ed), 20)"
   ]
  },
  {
   "cell_type": "markdown",
   "metadata": {},
   "source": [
    "### Train classifier on electron acceptor"
   ]
  },
  {
   "cell_type": "code",
   "execution_count": null,
   "metadata": {
    "collapsed": true
   },
   "outputs": [],
   "source": [
    "%%R\n",
    "Y <- info$electron.acceptor\n",
    "doMC:::registerDoMC(cores=8)\n",
    "mp.ea <- mProbes(t(x), Y, type='randomForest', ntree=1000)\n",
    "head(sort(mp.ea), 20)"
   ]
  },
  {
   "cell_type": "markdown",
   "metadata": {},
   "source": [
    "### Train classifier on temperature"
   ]
  },
  {
   "cell_type": "code",
   "execution_count": null,
   "metadata": {
    "collapsed": true
   },
   "outputs": [],
   "source": [
    "%%R\n",
    "Y <- info$T0C == 37\n",
    "mp.temp <- mProbes(t(x), Y, type='randomForest', ntree=1000)\n",
    "head(sort(mp.tmp), 20)"
   ]
  },
  {
   "cell_type": "code",
   "execution_count": null,
   "metadata": {
    "collapsed": false
   },
   "outputs": [],
   "source": []
  }
 ],
 "metadata": {
  "kernelspec": {
   "display_name": "Python 2",
   "language": "python",
   "name": "python2"
  },
  "language_info": {
   "codemirror_mode": {
    "name": "ipython",
    "version": 2
   },
   "file_extension": ".py",
   "mimetype": "text/x-python",
   "name": "python",
   "nbconvert_exporter": "python",
   "pygments_lexer": "ipython2",
   "version": "2.7.6"
  }
 },
 "nbformat": 4,
 "nbformat_minor": 0
}
