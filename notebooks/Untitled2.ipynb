{
 "metadata": {
  "name": "",
  "signature": "sha256:9568c4c71a391fdb03943d378bcfb33934646b0fb0cff3cd84e83f94ecc00373"
 },
 "nbformat": 3,
 "nbformat_minor": 0,
 "worksheets": [
  {
   "cells": [
    {
     "cell_type": "code",
     "collapsed": true,
     "input": [
      "%run -i read_counts.py"
     ],
     "language": "python",
     "metadata": {},
     "outputs": [
      {
       "output_type": "stream",
       "stream": "stdout",
       "text": [
        "False\n",
        "None\n",
        "./ALL_SAMPLES/\n",
        "['./ALL_SAMPLES//dvh-output/Sample_ISB-1'\n",
        " './ALL_SAMPLES//dvh-output/Sample_ISB-10'\n",
        " './ALL_SAMPLES//dvh-output/Sample_ISB-11'\n",
        " './ALL_SAMPLES//dvh-output/Sample_ISB-12'\n",
        " './ALL_SAMPLES//dvh-output/Sample_ISB-13'\n",
        " './ALL_SAMPLES//dvh-output/Sample_ISB-14'\n",
        " './ALL_SAMPLES//dvh-output/Sample_ISB-15'\n",
        " './ALL_SAMPLES//dvh-output/Sample_ISB-16'\n",
        " './ALL_SAMPLES//dvh-output/Sample_ISB-17'\n",
        " './ALL_SAMPLES//dvh-output/Sample_ISB-18'\n",
        " './ALL_SAMPLES//dvh-output/Sample_ISB-19'\n",
        " './ALL_SAMPLES//dvh-output/Sample_ISB-2'\n",
        " './ALL_SAMPLES//dvh-output/Sample_ISB-20'\n",
        " './ALL_SAMPLES//dvh-output/Sample_ISB-21'\n",
        " './ALL_SAMPLES//dvh-output/Sample_ISB-22'\n",
        " './ALL_SAMPLES//dvh-output/Sample_ISB-23'\n",
        " './ALL_SAMPLES//dvh-output/Sample_ISB-24'\n",
        " './ALL_SAMPLES//dvh-output/Sample_ISB-3'\n",
        " './ALL_SAMPLES//dvh-output/Sample_ISB-4'\n",
        " './ALL_SAMPLES//dvh-output/Sample_ISB-5'\n",
        " './ALL_SAMPLES//dvh-output/Sample_ISB-6'\n",
        " './ALL_SAMPLES//dvh-output/Sample_ISB-7'\n",
        " './ALL_SAMPLES//dvh-output/Sample_ISB-8'\n",
        " './ALL_SAMPLES//dvh-output/Sample_ISB-9'\n",
        " './ALL_SAMPLES//dvh-output/Sample_US-1505885'\n",
        " './ALL_SAMPLES//dvh-output/Sample_US-1505888'\n",
        " './ALL_SAMPLES//dvh-output/Sample_US-1505895'\n",
        " './ALL_SAMPLES//dvh-output/Sample_US-1505897'\n",
        " './ALL_SAMPLES//dvh-output/Sample_US-1505898'\n",
        " './ALL_SAMPLES//dvh-output/Sample_US-1505926'\n",
        " './ALL_SAMPLES//dvh-output/Sample_US-1505946'\n",
        " './ALL_SAMPLES//dvh-output/Sample_US-1505947'\n",
        " './ALL_SAMPLES//dvh-output/Sample_US-1505949'\n",
        " './ALL_SAMPLES//dvh-output/Sample_US-1505951'\n",
        " './ALL_SAMPLES//dvh-output/Sample_US-1505953'\n",
        " './ALL_SAMPLES//dvh-output/Sample_US-1505963'\n",
        " './ALL_SAMPLES//dvh-output/Sample_US-1505967'\n",
        " './ALL_SAMPLES//dvh-output/Sample_US-1505985'\n",
        " './ALL_SAMPLES//dvh-output/Sample_US-1505998'\n",
        " './ALL_SAMPLES//dvh-output/Sample_US-1506000'\n",
        " './ALL_SAMPLES//dvh-output/Sample_US-1506005'\n",
        " './ALL_SAMPLES//dvh-output/Sample_US-1510827'\n",
        " './ALL_SAMPLES//dvh-output/Sample_US-1510829'\n",
        " './ALL_SAMPLES//dvh-output/Sample_US-1510836'\n",
        " './ALL_SAMPLES//dvh-output/Sample_US-1510840'\n",
        " './ALL_SAMPLES//dvh-output/Sample_US-1510845'\n",
        " './ALL_SAMPLES//dvh-output/Sample_US-1510848'\n",
        " './ALL_SAMPLES//dvh-output/Sample_US-1510851'\n",
        " './ALL_SAMPLES//dvh-output/Sample_US-1510852'\n",
        " './ALL_SAMPLES//dvh-output/Sample_US-1510853'\n",
        " './ALL_SAMPLES//dvh-output/Sample_US-1510854'\n",
        " './ALL_SAMPLES//dvh-output/Sample_US-1510855'\n",
        " './ALL_SAMPLES//dvh-output/Sample_US-1510856'\n",
        " './ALL_SAMPLES//dvh-output/Sample_US-1510859'\n",
        " './ALL_SAMPLES//dvh-output/Sample_US-1510864'\n",
        " './ALL_SAMPLES//dvh-output/Sample_US-1510865'\n",
        " './ALL_SAMPLES//dvh-output/Sample_US-1510866'\n",
        " './ALL_SAMPLES//dvh-output/Sample_US-1510868'\n",
        " './ALL_SAMPLES//dvh-output/Sample_US-1510870'\n",
        " './ALL_SAMPLES//dvh-output/Sample_US-1510871'\n",
        " './ALL_SAMPLES//dvh-output/Sample_US-1510873'\n",
        " './ALL_SAMPLES//dvh-output/Sample_US-1510874'\n",
        " './ALL_SAMPLES//dvh-output/Sample_US-1510876'\n",
        " './ALL_SAMPLES//dvh-output/Sample_US-1510877'\n",
        " './ALL_SAMPLES//dvh-output/Sample_US-1510878'\n",
        " './ALL_SAMPLES//dvh-output/Sample_US-1510880'\n",
        " './ALL_SAMPLES//dvh-output/Sample_US-1510881'\n",
        " './ALL_SAMPLES//dvh-output/Sample_US-1510882'\n",
        " './ALL_SAMPLES//dvh-output/Sample_US-1510884'\n",
        " './ALL_SAMPLES//dvh-output/Sample_US-1510886'\n",
        " './ALL_SAMPLES//dvh-output/Sample_US-1510888'\n",
        " './ALL_SAMPLES//dvh-output/Sample_US-1510889'\n",
        " './ALL_SAMPLES//dvh-output/Sample_US-1510891'\n",
        " './ALL_SAMPLES//dvh-output/Sample_US-1510892'\n",
        " './ALL_SAMPLES//dvh-output/Sample_US-1510894'\n",
        " './ALL_SAMPLES//dvh-output/Sample_US-1510895'\n",
        " './ALL_SAMPLES//dvh-output/Sample_US-1510896'\n",
        " './ALL_SAMPLES//dvh-output/Sample_US-1510897'\n",
        " './ALL_SAMPLES//dvh-output/Sample_US-1510899'\n",
        " './ALL_SAMPLES//dvh-output/Sample_US-1510900'\n",
        " './ALL_SAMPLES//dvh-output/Sample_US-1510901'\n",
        " './ALL_SAMPLES//dvh-output/Sample_UW1'\n",
        " './ALL_SAMPLES//dvh-output/Sample_UW2'\n",
        " './ALL_SAMPLES//dvh-output/Sample_UW3'\n",
        " './ALL_SAMPLES//dvh-output/Sample_UW4'\n",
        " './ALL_SAMPLES//dvh-output/Sample_UW5'\n",
        " './ALL_SAMPLES//dvh-output/Sample_UW6']\n",
        "['./ALL_SAMPLES//dvh-output/Sample_ISB-1'\n",
        " './ALL_SAMPLES//dvh-output/Sample_ISB-10'\n",
        " './ALL_SAMPLES//dvh-output/Sample_ISB-11'\n",
        " './ALL_SAMPLES//dvh-output/Sample_ISB-12'\n",
        " './ALL_SAMPLES//dvh-output/Sample_ISB-13'\n",
        " './ALL_SAMPLES//dvh-output/Sample_ISB-14'\n",
        " './ALL_SAMPLES//dvh-output/Sample_ISB-15'\n",
        " './ALL_SAMPLES//dvh-output/Sample_ISB-16'\n",
        " './ALL_SAMPLES//dvh-output/Sample_ISB-17'\n",
        " './ALL_SAMPLES//dvh-output/Sample_ISB-18'\n",
        " './ALL_SAMPLES//dvh-output/Sample_ISB-19'\n",
        " './ALL_SAMPLES//dvh-output/Sample_ISB-2'\n",
        " './ALL_SAMPLES//dvh-output/Sample_ISB-20'\n",
        " './ALL_SAMPLES//dvh-output/Sample_ISB-21'\n",
        " './ALL_SAMPLES//dvh-output/Sample_ISB-22'\n",
        " './ALL_SAMPLES//dvh-output/Sample_ISB-23'\n",
        " './ALL_SAMPLES//dvh-output/Sample_ISB-24'\n",
        " './ALL_SAMPLES//dvh-output/Sample_ISB-3'\n",
        " './ALL_SAMPLES//dvh-output/Sample_ISB-4'\n",
        " './ALL_SAMPLES//dvh-output/Sample_ISB-5'\n",
        " './ALL_SAMPLES//dvh-output/Sample_ISB-6'\n",
        " './ALL_SAMPLES//dvh-output/Sample_ISB-7'\n",
        " './ALL_SAMPLES//dvh-output/Sample_ISB-8'\n",
        " './ALL_SAMPLES//dvh-output/Sample_ISB-9'\n",
        " './ALL_SAMPLES//dvh-output/Sample_US-1505885'\n",
        " './ALL_SAMPLES//dvh-output/Sample_US-1505888'\n",
        " './ALL_SAMPLES//dvh-output/Sample_US-1505895'\n",
        " './ALL_SAMPLES//dvh-output/Sample_US-1505897'\n",
        " './ALL_SAMPLES//dvh-output/Sample_US-1505898'\n",
        " './ALL_SAMPLES//dvh-output/Sample_US-1505926'\n",
        " './ALL_SAMPLES//dvh-output/Sample_US-1505946'\n",
        " './ALL_SAMPLES//dvh-output/Sample_US-1505947'\n",
        " './ALL_SAMPLES//dvh-output/Sample_US-1505949'\n",
        " './ALL_SAMPLES//dvh-output/Sample_US-1505951'\n",
        " './ALL_SAMPLES//dvh-output/Sample_US-1505953'\n",
        " './ALL_SAMPLES//dvh-output/Sample_US-1505963'\n",
        " './ALL_SAMPLES//dvh-output/Sample_US-1505967'\n",
        " './ALL_SAMPLES//dvh-output/Sample_US-1505985'\n",
        " './ALL_SAMPLES//dvh-output/Sample_US-1505998'\n",
        " './ALL_SAMPLES//dvh-output/Sample_US-1506000'\n",
        " './ALL_SAMPLES//dvh-output/Sample_US-1506005'\n",
        " './ALL_SAMPLES//dvh-output/Sample_US-1510827'\n",
        " './ALL_SAMPLES//dvh-output/Sample_US-1510829'\n",
        " './ALL_SAMPLES//dvh-output/Sample_US-1510836'\n",
        " './ALL_SAMPLES//dvh-output/Sample_US-1510840'\n",
        " './ALL_SAMPLES//dvh-output/Sample_US-1510845'\n",
        " './ALL_SAMPLES//dvh-output/Sample_US-1510848'\n",
        " './ALL_SAMPLES//dvh-output/Sample_US-1510851'\n",
        " './ALL_SAMPLES//dvh-output/Sample_US-1510852'\n",
        " './ALL_SAMPLES//dvh-output/Sample_US-1510853'\n",
        " './ALL_SAMPLES//dvh-output/Sample_US-1510854'\n",
        " './ALL_SAMPLES//dvh-output/Sample_US-1510855'\n",
        " './ALL_SAMPLES//dvh-output/Sample_US-1510856'\n",
        " './ALL_SAMPLES//dvh-output/Sample_US-1510859'\n",
        " './ALL_SAMPLES//dvh-output/Sample_US-1510864'\n",
        " './ALL_SAMPLES//dvh-output/Sample_US-1510865'\n",
        " './ALL_SAMPLES//dvh-output/Sample_US-1510866'\n",
        " './ALL_SAMPLES//dvh-output/Sample_US-1510868'\n",
        " './ALL_SAMPLES//dvh-output/Sample_US-1510870'\n",
        " './ALL_SAMPLES//dvh-output/Sample_US-1510871'\n",
        " './ALL_SAMPLES//dvh-output/Sample_US-1510873'\n",
        " './ALL_SAMPLES//dvh-output/Sample_US-1510874'\n",
        " './ALL_SAMPLES//dvh-output/Sample_US-1510876'\n",
        " './ALL_SAMPLES//dvh-output/Sample_US-1510877'\n",
        " './ALL_SAMPLES//dvh-output/Sample_US-1510878'\n",
        " './ALL_SAMPLES//dvh-output/Sample_US-1510880'\n",
        " './ALL_SAMPLES//dvh-output/Sample_US-1510881'\n",
        " './ALL_SAMPLES//dvh-output/Sample_US-1510882'\n",
        " './ALL_SAMPLES//dvh-output/Sample_US-1510884'\n",
        " './ALL_SAMPLES//dvh-output/Sample_US-1510886'\n",
        " './ALL_SAMPLES//dvh-output/Sample_US-1510888'\n",
        " './ALL_SAMPLES//dvh-output/Sample_US-1510889'\n",
        " './ALL_SAMPLES//dvh-output/Sample_US-1510891'\n",
        " './ALL_SAMPLES//dvh-output/Sample_US-1510892'\n",
        " './ALL_SAMPLES//dvh-output/Sample_US-1510894'\n",
        " './ALL_SAMPLES//dvh-output/Sample_US-1510895'\n",
        " './ALL_SAMPLES//dvh-output/Sample_US-1510896'\n",
        " './ALL_SAMPLES//dvh-output/Sample_US-1510897'\n",
        " './ALL_SAMPLES//dvh-output/Sample_US-1510899'\n",
        " './ALL_SAMPLES//dvh-output/Sample_US-1510900'\n",
        " './ALL_SAMPLES//dvh-output/Sample_US-1510901'\n",
        " './ALL_SAMPLES//dvh-output/Sample_UW1'\n",
        " './ALL_SAMPLES//dvh-output/Sample_UW2'\n",
        " './ALL_SAMPLES//dvh-output/Sample_UW3'\n",
        " './ALL_SAMPLES//dvh-output/Sample_UW4'\n",
        " './ALL_SAMPLES//dvh-output/Sample_UW5'\n",
        " './ALL_SAMPLES//dvh-output/Sample_UW6']\n",
        "./ALL_SAMPLES//dvh-output/Sample_ISB-1/Desulfovibrio_alaskensis_G20_uid57941/NC_007519.counts\n",
        "4940587"
       ]
      },
      {
       "output_type": "stream",
       "stream": "stdout",
       "text": [
        "\n",
        "./ALL_SAMPLES//dvh-output/Sample_ISB-10/Desulfovibrio_alaskensis_G20_uid57941/NC_007519.counts\n",
        "4482925\n",
        "./ALL_SAMPLES//dvh-output/Sample_ISB-11/Desulfovibrio_alaskensis_G20_uid57941/NC_007519.counts\n",
        "3653657\n",
        "./ALL_SAMPLES//dvh-output/Sample_ISB-12/Desulfovibrio_alaskensis_G20_uid57941/NC_007519.counts\n",
        "3924696\n",
        "./ALL_SAMPLES//dvh-output/Sample_ISB-13/Desulfovibrio_alaskensis_G20_uid57941/NC_007519.counts\n",
        "4192935\n",
        "./ALL_SAMPLES//dvh-output/Sample_ISB-14/Desulfovibrio_alaskensis_G20_uid57941/NC_007519.counts\n",
        "4226921"
       ]
      },
      {
       "output_type": "stream",
       "stream": "stdout",
       "text": [
        "\n",
        "./ALL_SAMPLES//dvh-output/Sample_ISB-15/Desulfovibrio_alaskensis_G20_uid57941/NC_007519.counts\n",
        "4169355\n",
        "./ALL_SAMPLES//dvh-output/Sample_ISB-16/Desulfovibrio_alaskensis_G20_uid57941/NC_007519.counts\n",
        "2522717\n",
        "./ALL_SAMPLES//dvh-output/Sample_ISB-17/Desulfovibrio_alaskensis_G20_uid57941/NC_007519.counts\n",
        "2944806\n",
        "./ALL_SAMPLES//dvh-output/Sample_ISB-18/Desulfovibrio_alaskensis_G20_uid57941/NC_007519.counts\n",
        "3548786\n",
        "./ALL_SAMPLES//dvh-output/Sample_ISB-19/Desulfovibrio_alaskensis_G20_uid57941/NC_007519.counts\n",
        "4493258"
       ]
      },
      {
       "output_type": "stream",
       "stream": "stdout",
       "text": [
        "\n",
        "./ALL_SAMPLES//dvh-output/Sample_ISB-2/Desulfovibrio_alaskensis_G20_uid57941/NC_007519.counts\n",
        "4068030\n",
        "./ALL_SAMPLES//dvh-output/Sample_ISB-20/Desulfovibrio_alaskensis_G20_uid57941/NC_007519.counts\n",
        "5121670\n",
        "./ALL_SAMPLES//dvh-output/Sample_ISB-21/Desulfovibrio_alaskensis_G20_uid57941/NC_007519.counts\n",
        "4357971\n",
        "./ALL_SAMPLES//dvh-output/Sample_ISB-22/Desulfovibrio_alaskensis_G20_uid57941/NC_007519.counts\n",
        "3339083\n",
        "./ALL_SAMPLES//dvh-output/Sample_ISB-23/Desulfovibrio_alaskensis_G20_uid57941/NC_007519.counts\n",
        "4264163"
       ]
      },
      {
       "output_type": "stream",
       "stream": "stdout",
       "text": [
        "\n",
        "./ALL_SAMPLES//dvh-output/Sample_ISB-24/Desulfovibrio_alaskensis_G20_uid57941/NC_007519.counts\n",
        "3914132\n",
        "./ALL_SAMPLES//dvh-output/Sample_ISB-3/Desulfovibrio_alaskensis_G20_uid57941/NC_007519.counts\n",
        "4177238\n",
        "./ALL_SAMPLES//dvh-output/Sample_ISB-4/Desulfovibrio_alaskensis_G20_uid57941/NC_007519.counts\n",
        "4165289\n",
        "./ALL_SAMPLES//dvh-output/Sample_ISB-5/Desulfovibrio_alaskensis_G20_uid57941/NC_007519.counts\n",
        "3775398\n",
        "./ALL_SAMPLES//dvh-output/Sample_ISB-6/Desulfovibrio_alaskensis_G20_uid57941/NC_007519.counts\n",
        "4200328"
       ]
      },
      {
       "output_type": "stream",
       "stream": "stdout",
       "text": [
        "\n",
        "./ALL_SAMPLES//dvh-output/Sample_ISB-7/Desulfovibrio_alaskensis_G20_uid57941/NC_007519.counts\n",
        "5133477\n",
        "./ALL_SAMPLES//dvh-output/Sample_ISB-8/Desulfovibrio_alaskensis_G20_uid57941/NC_007519.counts\n",
        "5034391\n",
        "./ALL_SAMPLES//dvh-output/Sample_ISB-9/Desulfovibrio_alaskensis_G20_uid57941/NC_007519.counts\n",
        "4660505\n",
        "./ALL_SAMPLES//dvh-output/Sample_UW1/Desulfovibrio_alaskensis_G20_uid57941/NC_007519.counts\n",
        "3007221\n",
        "./ALL_SAMPLES//dvh-output/Sample_UW2/Desulfovibrio_alaskensis_G20_uid57941/NC_007519.counts"
       ]
      },
      {
       "output_type": "stream",
       "stream": "stdout",
       "text": [
        "\n",
        "3503141\n",
        "./ALL_SAMPLES//dvh-output/Sample_UW3/Desulfovibrio_alaskensis_G20_uid57941/NC_007519.counts\n",
        "1973982\n",
        "./ALL_SAMPLES//dvh-output/Sample_UW4/Desulfovibrio_alaskensis_G20_uid57941/NC_007519.counts\n",
        "2094497\n",
        "./ALL_SAMPLES//dvh-output/Sample_UW5/Desulfovibrio_alaskensis_G20_uid57941/NC_007519.counts\n",
        "2435242\n",
        "./ALL_SAMPLES//dvh-output/Sample_UW6/Desulfovibrio_alaskensis_G20_uid57941/NC_007519.counts\n",
        "2353322\n",
        "./ALL_SAMPLES//dvh-output/Sample_US-1510827/Methanospirillum_hungatei_JF_1_uid58181/NC_007796.counts"
       ]
      },
      {
       "output_type": "stream",
       "stream": "stdout",
       "text": [
        "\n",
        "1379653\n",
        "./ALL_SAMPLES//dvh-output/Sample_UW5/Methanospirillum_hungatei_JF_1_uid58181/NC_007796.counts\n",
        "2092224\n",
        "./ALL_SAMPLES//dvh-output/Sample_UW6/Methanospirillum_hungatei_JF_1_uid58181/NC_007796.counts\n",
        "2871145\n",
        "./ALL_SAMPLES//dvh-output/Sample_US-1505898/Methanococcus_maripaludis_S2_uid58035/NC_005791.counts\n",
        "1518340\n",
        "./ALL_SAMPLES//dvh-output/Sample_US-1505946/Methanococcus_maripaludis_S2_uid58035/NC_005791.counts\n",
        "1348555"
       ]
      },
      {
       "output_type": "stream",
       "stream": "stdout",
       "text": [
        "\n",
        "./ALL_SAMPLES//dvh-output/Sample_US-1505947/Methanococcus_maripaludis_S2_uid58035/NC_005791.counts\n",
        "1513946\n",
        "./ALL_SAMPLES//dvh-output/Sample_US-1505967/Methanococcus_maripaludis_S2_uid58035/NC_005791.counts\n",
        "1361036\n",
        "./ALL_SAMPLES//dvh-output/Sample_US-1505985/Methanococcus_maripaludis_S2_uid58035/NC_005791.counts\n",
        "1358646\n",
        "./ALL_SAMPLES//dvh-output/Sample_US-1510829/Methanococcus_maripaludis_S2_uid58035/NC_005791.counts\n",
        "647539\n",
        "./ALL_SAMPLES//dvh-output/Sample_US-1510836/Methanococcus_maripaludis_S2_uid58035/NC_005791.counts\n",
        "742224\n",
        "./ALL_SAMPLES//dvh-output/Sample_US-1510840/Methanococcus_maripaludis_S2_uid58035/NC_005791.counts\n",
        "748051\n",
        "./ALL_SAMPLES//dvh-output/Sample_US-1510845/Methanococcus_maripaludis_S2_uid58035/NC_005791.counts\n",
        "762642"
       ]
      },
      {
       "output_type": "stream",
       "stream": "stdout",
       "text": [
        "\n",
        "./ALL_SAMPLES//dvh-output/Sample_US-1510848/Methanococcus_maripaludis_S2_uid58035/NC_005791.counts\n",
        "750237\n",
        "./ALL_SAMPLES//dvh-output/Sample_US-1510852/Methanococcus_maripaludis_S2_uid58035/NC_005791.counts\n",
        "608694\n",
        "./ALL_SAMPLES//dvh-output/Sample_US-1510853/Methanococcus_maripaludis_S2_uid58035/NC_005791.counts\n",
        "717637\n",
        "./ALL_SAMPLES//dvh-output/Sample_US-1510854/Methanococcus_maripaludis_S2_uid58035/NC_005791.counts\n",
        "900013\n",
        "./ALL_SAMPLES//dvh-output/Sample_US-1510856/Methanococcus_maripaludis_S2_uid58035/NC_005791.counts\n",
        "541447\n",
        "./ALL_SAMPLES//dvh-output/Sample_US-1510859/Methanococcus_maripaludis_S2_uid58035/NC_005791.counts\n",
        "1074883\n",
        "./ALL_SAMPLES//dvh-output/Sample_US-1510864/Methanococcus_maripaludis_S2_uid58035/NC_005791.counts\n",
        "813331"
       ]
      },
      {
       "output_type": "stream",
       "stream": "stdout",
       "text": [
        "\n",
        "./ALL_SAMPLES//dvh-output/Sample_US-1510866/Methanococcus_maripaludis_S2_uid58035/NC_005791.counts\n",
        "695889\n",
        "./ALL_SAMPLES//dvh-output/Sample_US-1510868/Methanococcus_maripaludis_S2_uid58035/NC_005791.counts\n",
        "617361\n",
        "./ALL_SAMPLES//dvh-output/Sample_US-1510870/Methanococcus_maripaludis_S2_uid58035/NC_005791.counts\n",
        "781089\n",
        "./ALL_SAMPLES//dvh-output/Sample_US-1510895/Methanococcus_maripaludis_S2_uid58035/NC_005791.counts\n",
        "708928\n",
        "./ALL_SAMPLES//dvh-output/Sample_UW1/Methanococcus_maripaludis_S2_uid58035/NC_005791.counts\n",
        "504163\n",
        "./ALL_SAMPLES//dvh-output/Sample_UW2/Methanococcus_maripaludis_S2_uid58035/NC_005791.counts\n",
        "472186\n",
        "./ALL_SAMPLES//dvh-output/Sample_UW3/Methanococcus_maripaludis_S2_uid58035/NC_005791.counts"
       ]
      },
      {
       "output_type": "stream",
       "stream": "stdout",
       "text": [
        "\n",
        "877654\n",
        "./ALL_SAMPLES//dvh-output/Sample_UW4/Methanococcus_maripaludis_S2_uid58035/NC_005791.counts\n",
        "677991\n",
        "./ALL_SAMPLES//dvh-output/Sample_US-1505885/Desulfovibrio_vulgaris_Hildenborough_uid57645/NC_002937.counts\n",
        "5359302\n",
        "./ALL_SAMPLES//dvh-output/Sample_US-1505885/Desulfovibrio_vulgaris_Hildenborough_uid57645/NC_005863.counts\n",
        "5359302\n",
        "./ALL_SAMPLES//dvh-output/Sample_US-1505888/Desulfovibrio_vulgaris_Hildenborough_uid57645/NC_002937.counts\n",
        "5097830\n",
        "./ALL_SAMPLES//dvh-output/Sample_US-1505888/Desulfovibrio_vulgaris_Hildenborough_uid57645/NC_005863.counts\n",
        "5097830\n",
        "./ALL_SAMPLES//dvh-output/Sample_US-1505895/Desulfovibrio_vulgaris_Hildenborough_uid57645/NC_002937.counts\n",
        "4302466"
       ]
      },
      {
       "output_type": "stream",
       "stream": "stdout",
       "text": [
        "\n",
        "./ALL_SAMPLES//dvh-output/Sample_US-1505895/Desulfovibrio_vulgaris_Hildenborough_uid57645/NC_005863.counts\n",
        "4302466\n",
        "./ALL_SAMPLES//dvh-output/Sample_US-1505897/Desulfovibrio_vulgaris_Hildenborough_uid57645/NC_002937.counts\n",
        "3284683\n",
        "./ALL_SAMPLES//dvh-output/Sample_US-1505897/Desulfovibrio_vulgaris_Hildenborough_uid57645/NC_005863.counts\n",
        "3284683\n",
        "./ALL_SAMPLES//dvh-output/Sample_US-1505898/Desulfovibrio_vulgaris_Hildenborough_uid57645/NC_002937.counts\n",
        "2249937\n",
        "./ALL_SAMPLES//dvh-output/Sample_US-1505898/Desulfovibrio_vulgaris_Hildenborough_uid57645/NC_005863.counts\n",
        "2249937\n",
        "./ALL_SAMPLES//dvh-output/Sample_US-1505926/Desulfovibrio_vulgaris_Hildenborough_uid57645/NC_002937.counts\n",
        "4394966\n",
        "./ALL_SAMPLES//dvh-output/Sample_US-1505926/Desulfovibrio_vulgaris_Hildenborough_uid57645/NC_005863.counts\n",
        "4394966\n",
        "./ALL_SAMPLES//dvh-output/Sample_US-1505946/Desulfovibrio_vulgaris_Hildenborough_uid57645/NC_002937.counts"
       ]
      },
      {
       "output_type": "stream",
       "stream": "stdout",
       "text": [
        "\n",
        "3009522\n",
        "./ALL_SAMPLES//dvh-output/Sample_US-1505946/Desulfovibrio_vulgaris_Hildenborough_uid57645/NC_005863.counts\n",
        "3009522\n",
        "./ALL_SAMPLES//dvh-output/Sample_US-1505947/Desulfovibrio_vulgaris_Hildenborough_uid57645/NC_002937.counts\n",
        "2293840\n",
        "./ALL_SAMPLES//dvh-output/Sample_US-1505947/Desulfovibrio_vulgaris_Hildenborough_uid57645/NC_005863.counts\n",
        "2293840\n",
        "./ALL_SAMPLES//dvh-output/Sample_US-1505949/Desulfovibrio_vulgaris_Hildenborough_uid57645/NC_002937.counts\n",
        "3940558\n",
        "./ALL_SAMPLES//dvh-output/Sample_US-1505949/Desulfovibrio_vulgaris_Hildenborough_uid57645/NC_005863.counts\n",
        "3940558\n",
        "./ALL_SAMPLES//dvh-output/Sample_US-1505951/Desulfovibrio_vulgaris_Hildenborough_uid57645/NC_002937.counts\n",
        "4068786\n",
        "./ALL_SAMPLES//dvh-output/Sample_US-1505951/Desulfovibrio_vulgaris_Hildenborough_uid57645/NC_005863.counts"
       ]
      },
      {
       "output_type": "stream",
       "stream": "stdout",
       "text": [
        "\n",
        "4068786\n",
        "./ALL_SAMPLES//dvh-output/Sample_US-1505953/Desulfovibrio_vulgaris_Hildenborough_uid57645/NC_002937.counts\n",
        "2264043\n",
        "./ALL_SAMPLES//dvh-output/Sample_US-1505953/Desulfovibrio_vulgaris_Hildenborough_uid57645/NC_005863.counts\n",
        "2264043\n",
        "./ALL_SAMPLES//dvh-output/Sample_US-1505963/Desulfovibrio_vulgaris_Hildenborough_uid57645/NC_002937.counts\n",
        "2970905\n",
        "./ALL_SAMPLES//dvh-output/Sample_US-1505963/Desulfovibrio_vulgaris_Hildenborough_uid57645/NC_005863.counts\n",
        "2970905\n",
        "./ALL_SAMPLES//dvh-output/Sample_US-1505967/Desulfovibrio_vulgaris_Hildenborough_uid57645/NC_002937.counts\n",
        "2514961\n",
        "./ALL_SAMPLES//dvh-output/Sample_US-1505967/Desulfovibrio_vulgaris_Hildenborough_uid57645/NC_005863.counts\n",
        "2514961\n",
        "./ALL_SAMPLES//dvh-output/Sample_US-1505985/Desulfovibrio_vulgaris_Hildenborough_uid57645/NC_002937.counts\n",
        "2654898"
       ]
      },
      {
       "output_type": "stream",
       "stream": "stdout",
       "text": [
        "\n",
        "./ALL_SAMPLES//dvh-output/Sample_US-1505985/Desulfovibrio_vulgaris_Hildenborough_uid57645/NC_005863.counts\n",
        "2654898\n",
        "./ALL_SAMPLES//dvh-output/Sample_US-1505998/Desulfovibrio_vulgaris_Hildenborough_uid57645/NC_002937.counts\n",
        "4218048\n",
        "./ALL_SAMPLES//dvh-output/Sample_US-1505998/Desulfovibrio_vulgaris_Hildenborough_uid57645/NC_005863.counts\n",
        "4218048\n",
        "./ALL_SAMPLES//dvh-output/Sample_US-1506000/Desulfovibrio_vulgaris_Hildenborough_uid57645/NC_002937.counts\n",
        "3690510\n",
        "./ALL_SAMPLES//dvh-output/Sample_US-1506000/Desulfovibrio_vulgaris_Hildenborough_uid57645/NC_005863.counts\n",
        "3690510\n",
        "./ALL_SAMPLES//dvh-output/Sample_US-1506005/Desulfovibrio_vulgaris_Hildenborough_uid57645/NC_002937.counts\n",
        "2701000\n",
        "./ALL_SAMPLES//dvh-output/Sample_US-1506005/Desulfovibrio_vulgaris_Hildenborough_uid57645/NC_005863.counts\n",
        "2701000\n",
        "./ALL_SAMPLES//dvh-output/Sample_US-1510827/Desulfovibrio_vulgaris_Hildenborough_uid57645/NC_002937.counts"
       ]
      },
      {
       "output_type": "stream",
       "stream": "stdout",
       "text": [
        "\n",
        "1084208\n",
        "./ALL_SAMPLES//dvh-output/Sample_US-1510827/Desulfovibrio_vulgaris_Hildenborough_uid57645/NC_005863.counts\n",
        "1084208\n",
        "./ALL_SAMPLES//dvh-output/Sample_US-1510829/Desulfovibrio_vulgaris_Hildenborough_uid57645/NC_002937.counts\n",
        "692419\n",
        "./ALL_SAMPLES//dvh-output/Sample_US-1510829/Desulfovibrio_vulgaris_Hildenborough_uid57645/NC_005863.counts\n",
        "692419\n",
        "./ALL_SAMPLES//dvh-output/Sample_US-1510836/Desulfovibrio_vulgaris_Hildenborough_uid57645/NC_002937.counts\n",
        "1476089\n",
        "./ALL_SAMPLES//dvh-output/Sample_US-1510836/Desulfovibrio_vulgaris_Hildenborough_uid57645/NC_005863.counts\n",
        "1476089\n",
        "./ALL_SAMPLES//dvh-output/Sample_US-1510840/Desulfovibrio_vulgaris_Hildenborough_uid57645/NC_002937.counts\n",
        "781196\n",
        "./ALL_SAMPLES//dvh-output/Sample_US-1510840/Desulfovibrio_vulgaris_Hildenborough_uid57645/NC_005863.counts"
       ]
      },
      {
       "output_type": "stream",
       "stream": "stdout",
       "text": [
        "\n",
        "781196\n",
        "./ALL_SAMPLES//dvh-output/Sample_US-1510845/Desulfovibrio_vulgaris_Hildenborough_uid57645/NC_002937.counts\n",
        "740995\n",
        "./ALL_SAMPLES//dvh-output/Sample_US-1510845/Desulfovibrio_vulgaris_Hildenborough_uid57645/NC_005863.counts\n",
        "740995\n",
        "./ALL_SAMPLES//dvh-output/Sample_US-1510848/Desulfovibrio_vulgaris_Hildenborough_uid57645/NC_002937.counts\n",
        "1194318\n",
        "./ALL_SAMPLES//dvh-output/Sample_US-1510848/Desulfovibrio_vulgaris_Hildenborough_uid57645/NC_005863.counts\n",
        "1194318\n",
        "./ALL_SAMPLES//dvh-output/Sample_US-1510851/Desulfovibrio_vulgaris_Hildenborough_uid57645/NC_002937.counts\n",
        "2608604\n",
        "./ALL_SAMPLES//dvh-output/Sample_US-1510851/Desulfovibrio_vulgaris_Hildenborough_uid57645/NC_005863.counts\n",
        "2608604\n",
        "./ALL_SAMPLES//dvh-output/Sample_US-1510852/Desulfovibrio_vulgaris_Hildenborough_uid57645/NC_002937.counts"
       ]
      },
      {
       "output_type": "stream",
       "stream": "stdout",
       "text": [
        "\n",
        "730488\n",
        "./ALL_SAMPLES//dvh-output/Sample_US-1510852/Desulfovibrio_vulgaris_Hildenborough_uid57645/NC_005863.counts\n",
        "730488\n",
        "./ALL_SAMPLES//dvh-output/Sample_US-1510853/Desulfovibrio_vulgaris_Hildenborough_uid57645/NC_002937.counts\n",
        "1320447\n",
        "./ALL_SAMPLES//dvh-output/Sample_US-1510853/Desulfovibrio_vulgaris_Hildenborough_uid57645/NC_005863.counts\n",
        "1320447\n",
        "./ALL_SAMPLES//dvh-output/Sample_US-1510854/Desulfovibrio_vulgaris_Hildenborough_uid57645/NC_002937.counts\n",
        "924329\n",
        "./ALL_SAMPLES//dvh-output/Sample_US-1510854/Desulfovibrio_vulgaris_Hildenborough_uid57645/NC_005863.counts\n",
        "924329\n",
        "./ALL_SAMPLES//dvh-output/Sample_US-1510855/Desulfovibrio_vulgaris_Hildenborough_uid57645/NC_002937.counts\n",
        "2810247\n",
        "./ALL_SAMPLES//dvh-output/Sample_US-1510855/Desulfovibrio_vulgaris_Hildenborough_uid57645/NC_005863.counts\n",
        "2810247"
       ]
      },
      {
       "output_type": "stream",
       "stream": "stdout",
       "text": [
        "\n",
        "./ALL_SAMPLES//dvh-output/Sample_US-1510856/Desulfovibrio_vulgaris_Hildenborough_uid57645/NC_002937.counts\n",
        "1121573\n",
        "./ALL_SAMPLES//dvh-output/Sample_US-1510856/Desulfovibrio_vulgaris_Hildenborough_uid57645/NC_005863.counts\n",
        "1121573\n",
        "./ALL_SAMPLES//dvh-output/Sample_US-1510859/Desulfovibrio_vulgaris_Hildenborough_uid57645/NC_002937.counts\n",
        "807099\n",
        "./ALL_SAMPLES//dvh-output/Sample_US-1510859/Desulfovibrio_vulgaris_Hildenborough_uid57645/NC_005863.counts\n",
        "807099\n",
        "./ALL_SAMPLES//dvh-output/Sample_US-1510864/Desulfovibrio_vulgaris_Hildenborough_uid57645/NC_002937.counts\n",
        "839215\n",
        "./ALL_SAMPLES//dvh-output/Sample_US-1510864/Desulfovibrio_vulgaris_Hildenborough_uid57645/NC_005863.counts\n",
        "839215\n",
        "./ALL_SAMPLES//dvh-output/Sample_US-1510865/Desulfovibrio_vulgaris_Hildenborough_uid57645/NC_002937.counts\n",
        "2695908"
       ]
      },
      {
       "output_type": "stream",
       "stream": "stdout",
       "text": [
        "\n",
        "./ALL_SAMPLES//dvh-output/Sample_US-1510865/Desulfovibrio_vulgaris_Hildenborough_uid57645/NC_005863.counts\n",
        "2695908\n",
        "./ALL_SAMPLES//dvh-output/Sample_US-1510866/Desulfovibrio_vulgaris_Hildenborough_uid57645/NC_002937.counts\n",
        "909064\n",
        "./ALL_SAMPLES//dvh-output/Sample_US-1510866/Desulfovibrio_vulgaris_Hildenborough_uid57645/NC_005863.counts\n",
        "909064\n",
        "./ALL_SAMPLES//dvh-output/Sample_US-1510868/Desulfovibrio_vulgaris_Hildenborough_uid57645/NC_002937.counts\n",
        "752322\n",
        "./ALL_SAMPLES//dvh-output/Sample_US-1510868/Desulfovibrio_vulgaris_Hildenborough_uid57645/NC_005863.counts\n",
        "752322\n",
        "./ALL_SAMPLES//dvh-output/Sample_US-1510870/Desulfovibrio_vulgaris_Hildenborough_uid57645/NC_002937.counts\n",
        "912056\n",
        "./ALL_SAMPLES//dvh-output/Sample_US-1510870/Desulfovibrio_vulgaris_Hildenborough_uid57645/NC_005863.counts\n",
        "912056\n",
        "./ALL_SAMPLES//dvh-output/Sample_US-1510871/Desulfovibrio_vulgaris_Hildenborough_uid57645/NC_002937.counts"
       ]
      },
      {
       "output_type": "stream",
       "stream": "stdout",
       "text": [
        "\n",
        "2842476\n",
        "./ALL_SAMPLES//dvh-output/Sample_US-1510871/Desulfovibrio_vulgaris_Hildenborough_uid57645/NC_005863.counts\n",
        "2842476\n",
        "./ALL_SAMPLES//dvh-output/Sample_US-1510873/Desulfovibrio_vulgaris_Hildenborough_uid57645/NC_002937.counts\n",
        "3128245\n",
        "./ALL_SAMPLES//dvh-output/Sample_US-1510873/Desulfovibrio_vulgaris_Hildenborough_uid57645/NC_005863.counts\n",
        "3128245\n",
        "./ALL_SAMPLES//dvh-output/Sample_US-1510874/Desulfovibrio_vulgaris_Hildenborough_uid57645/NC_002937.counts\n",
        "2382068\n",
        "./ALL_SAMPLES//dvh-output/Sample_US-1510874/Desulfovibrio_vulgaris_Hildenborough_uid57645/NC_005863.counts\n",
        "2382068\n",
        "./ALL_SAMPLES//dvh-output/Sample_US-1510876/Desulfovibrio_vulgaris_Hildenborough_uid57645/NC_002937.counts\n",
        "2424094\n",
        "./ALL_SAMPLES//dvh-output/Sample_US-1510876/Desulfovibrio_vulgaris_Hildenborough_uid57645/NC_005863.counts"
       ]
      },
      {
       "output_type": "stream",
       "stream": "stdout",
       "text": [
        "\n",
        "2424094\n",
        "./ALL_SAMPLES//dvh-output/Sample_US-1510877/Desulfovibrio_vulgaris_Hildenborough_uid57645/NC_002937.counts\n",
        "2513354\n",
        "./ALL_SAMPLES//dvh-output/Sample_US-1510877/Desulfovibrio_vulgaris_Hildenborough_uid57645/NC_005863.counts\n",
        "2513354\n",
        "./ALL_SAMPLES//dvh-output/Sample_US-1510878/Desulfovibrio_vulgaris_Hildenborough_uid57645/NC_002937.counts\n",
        "1387932\n",
        "./ALL_SAMPLES//dvh-output/Sample_US-1510878/Desulfovibrio_vulgaris_Hildenborough_uid57645/NC_005863.counts\n",
        "1387932\n",
        "./ALL_SAMPLES//dvh-output/Sample_US-1510880/Desulfovibrio_vulgaris_Hildenborough_uid57645/NC_002937.counts\n",
        "3301449\n",
        "./ALL_SAMPLES//dvh-output/Sample_US-1510880/Desulfovibrio_vulgaris_Hildenborough_uid57645/NC_005863.counts\n",
        "3301449\n",
        "./ALL_SAMPLES//dvh-output/Sample_US-1510881/Desulfovibrio_vulgaris_Hildenborough_uid57645/NC_002937.counts\n",
        "2391521"
       ]
      },
      {
       "output_type": "stream",
       "stream": "stdout",
       "text": [
        "\n",
        "./ALL_SAMPLES//dvh-output/Sample_US-1510881/Desulfovibrio_vulgaris_Hildenborough_uid57645/NC_005863.counts\n",
        "2391521\n",
        "./ALL_SAMPLES//dvh-output/Sample_US-1510882/Desulfovibrio_vulgaris_Hildenborough_uid57645/NC_002937.counts\n",
        "3005520\n",
        "./ALL_SAMPLES//dvh-output/Sample_US-1510882/Desulfovibrio_vulgaris_Hildenborough_uid57645/NC_005863.counts\n",
        "3005520\n",
        "./ALL_SAMPLES//dvh-output/Sample_US-1510884/Desulfovibrio_vulgaris_Hildenborough_uid57645/NC_002937.counts\n",
        "2922287\n",
        "./ALL_SAMPLES//dvh-output/Sample_US-1510884/Desulfovibrio_vulgaris_Hildenborough_uid57645/NC_005863.counts\n",
        "2922287\n",
        "./ALL_SAMPLES//dvh-output/Sample_US-1510886/Desulfovibrio_vulgaris_Hildenborough_uid57645/NC_002937.counts\n",
        "2025832\n",
        "./ALL_SAMPLES//dvh-output/Sample_US-1510886/Desulfovibrio_vulgaris_Hildenborough_uid57645/NC_005863.counts\n",
        "2025832\n",
        "./ALL_SAMPLES//dvh-output/Sample_US-1510888/Desulfovibrio_vulgaris_Hildenborough_uid57645/NC_002937.counts"
       ]
      },
      {
       "output_type": "stream",
       "stream": "stdout",
       "text": [
        "\n",
        "2916156\n",
        "./ALL_SAMPLES//dvh-output/Sample_US-1510888/Desulfovibrio_vulgaris_Hildenborough_uid57645/NC_005863.counts\n",
        "2916156\n",
        "./ALL_SAMPLES//dvh-output/Sample_US-1510889/Desulfovibrio_vulgaris_Hildenborough_uid57645/NC_002937.counts\n",
        "2230148\n",
        "./ALL_SAMPLES//dvh-output/Sample_US-1510889/Desulfovibrio_vulgaris_Hildenborough_uid57645/NC_005863.counts\n",
        "2230148\n",
        "./ALL_SAMPLES//dvh-output/Sample_US-1510891/Desulfovibrio_vulgaris_Hildenborough_uid57645/NC_002937.counts\n",
        "3316165\n",
        "./ALL_SAMPLES//dvh-output/Sample_US-1510891/Desulfovibrio_vulgaris_Hildenborough_uid57645/NC_005863.counts\n",
        "3316165\n",
        "./ALL_SAMPLES//dvh-output/Sample_US-1510892/Desulfovibrio_vulgaris_Hildenborough_uid57645/NC_002937.counts\n",
        "2787988\n",
        "./ALL_SAMPLES//dvh-output/Sample_US-1510892/Desulfovibrio_vulgaris_Hildenborough_uid57645/NC_005863.counts\n",
        "2787988"
       ]
      },
      {
       "output_type": "stream",
       "stream": "stdout",
       "text": [
        "\n",
        "./ALL_SAMPLES//dvh-output/Sample_US-1510894/Desulfovibrio_vulgaris_Hildenborough_uid57645/NC_002937.counts\n",
        "3206321\n",
        "./ALL_SAMPLES//dvh-output/Sample_US-1510894/Desulfovibrio_vulgaris_Hildenborough_uid57645/NC_005863.counts\n",
        "3206321\n",
        "./ALL_SAMPLES//dvh-output/Sample_US-1510895/Desulfovibrio_vulgaris_Hildenborough_uid57645/NC_002937.counts\n",
        "1072510\n",
        "./ALL_SAMPLES//dvh-output/Sample_US-1510895/Desulfovibrio_vulgaris_Hildenborough_uid57645/NC_005863.counts\n",
        "1072510\n",
        "./ALL_SAMPLES//dvh-output/Sample_US-1510896/Desulfovibrio_vulgaris_Hildenborough_uid57645/NC_002937.counts\n",
        "3053753\n",
        "./ALL_SAMPLES//dvh-output/Sample_US-1510896/Desulfovibrio_vulgaris_Hildenborough_uid57645/NC_005863.counts\n",
        "3053753\n",
        "./ALL_SAMPLES//dvh-output/Sample_US-1510897/Desulfovibrio_vulgaris_Hildenborough_uid57645/NC_002937.counts\n",
        "2531351"
       ]
      },
      {
       "output_type": "stream",
       "stream": "stdout",
       "text": [
        "\n",
        "./ALL_SAMPLES//dvh-output/Sample_US-1510897/Desulfovibrio_vulgaris_Hildenborough_uid57645/NC_005863.counts\n",
        "2531351\n",
        "./ALL_SAMPLES//dvh-output/Sample_US-1510899/Desulfovibrio_vulgaris_Hildenborough_uid57645/NC_002937.counts\n",
        "1454820\n",
        "./ALL_SAMPLES//dvh-output/Sample_US-1510899/Desulfovibrio_vulgaris_Hildenborough_uid57645/NC_005863.counts\n",
        "1454820\n",
        "./ALL_SAMPLES//dvh-output/Sample_US-1510900/Desulfovibrio_vulgaris_Hildenborough_uid57645/NC_002937.counts\n",
        "2365403\n",
        "./ALL_SAMPLES//dvh-output/Sample_US-1510900/Desulfovibrio_vulgaris_Hildenborough_uid57645/NC_005863.counts\n",
        "2365403\n",
        "./ALL_SAMPLES//dvh-output/Sample_US-1510901/Desulfovibrio_vulgaris_Hildenborough_uid57645/NC_002937.counts\n",
        "2711999\n",
        "./ALL_SAMPLES//dvh-output/Sample_US-1510901/Desulfovibrio_vulgaris_Hildenborough_uid57645/NC_005863.counts\n",
        "2711999\n",
        "NORMALIZING: "
       ]
      },
      {
       "output_type": "stream",
       "stream": "stdout",
       "text": [
        " Desulfovibrio_alaskensis_G20_uid57941\n",
        "17"
       ]
      },
      {
       "output_type": "stream",
       "stream": "stdout",
       "text": [
        " rRNAs 114679723 105370211 52479977\n",
        "NORMALIZING:  Methanospirillum_hungatei_JF_1_uid58181\n",
        "19"
       ]
      },
      {
       "output_type": "stream",
       "stream": "stdout",
       "text": [
        " rRNAs 6343022 5914757 3676742\n",
        "NORMALIZING:  Methanococcus_maripaludis_S2_uid58035\n",
        "15"
       ]
      },
      {
       "output_type": "stream",
       "stream": "stdout",
       "text": [
        " rRNAs 20742482 18705978 4926555\n",
        "NORMALIZING:  Desulfovibrio_vulgaris_Hildenborough_uid57645\n",
        "27"
       ]
      },
      {
       "output_type": "stream",
       "stream": "stdout",
       "text": [
        " rRNAs 274776448 121512642.0 69458716\n"
       ]
      },
      {
       "ename": "TypeError",
       "evalue": "exceptions must be old-style classes or derived from BaseException, not str",
       "output_type": "pyerr",
       "traceback": [
        "\u001b[1;31m---------------------------------------------------------------------------\u001b[0m\n\u001b[1;31mTypeError\u001b[0m                                 Traceback (most recent call last)",
        "\u001b[1;32m/home/dreiss/scratch/halo/DVU_for_discovery_prop/discovery2014_local/read_counts.py\u001b[0m in \u001b[0;36m<module>\u001b[1;34m()\u001b[0m\n\u001b[0;32m    187\u001b[0m \u001b[1;33m\u001b[0m\u001b[0m\n\u001b[0;32m    188\u001b[0m \u001b[1;33m\u001b[0m\u001b[0m\n\u001b[1;32m--> 189\u001b[1;33m \u001b[1;32mraise\u001b[0m \u001b[1;34m'STOPPING'\u001b[0m\u001b[1;33m\u001b[0m\u001b[0m\n\u001b[0m\u001b[0;32m    190\u001b[0m \u001b[1;33m\u001b[0m\u001b[0m\n\u001b[0;32m    191\u001b[0m \u001b[1;33m\u001b[0m\u001b[0m\n",
        "\u001b[1;31mTypeError\u001b[0m: exceptions must be old-style classes or derived from BaseException, not str"
       ]
      }
     ],
     "prompt_number": 3
    },
    {
     "cell_type": "code",
     "collapsed": false,
     "input": [
      "from matplotlib import pyplot as plt\n",
      "\n",
      "%matplotlib inline\n",
      "from IPython.display import set_matplotlib_formats\n",
      "set_matplotlib_formats('pdf', 'svg')\n",
      "\n",
      "import pandas as pd\n",
      "pd.options.display.mpl_style = 'default'\n",
      "\n",
      "from mpltools import style\n",
      "from mpltools import layout\n",
      "\n",
      "style.use('ggplot')\n",
      "\n",
      "## see: https://stackoverflow.com/questions/19536817/manipulate-html-module-font-size-in-ipython-notebook\n",
      "class sizeme():\n",
      "    \"\"\" Class to change html fontsize of object's representation\"\"\"\n",
      "    def __init__(self,ob, size, height=100):\n",
      "        self.ob = ob\n",
      "        self.size = size\n",
      "        self.height = height\n",
      "    def _repr_html_(self):\n",
      "        repl_tuple = (self.size, self.height, self.ob._repr_html_())\n",
      "        return u'<span style=\"font-size:{0}%; line-height:{1}%\">{2}</span>'.format(*repl_tuple)\n",
      "    \n",
      "## see https://stackoverflow.com/questions/14656852/how-to-use-pandas-dataframes-and-numpy-arrays-in-rpy2\n",
      "## and http://ipython.org/ipython-doc/rel-0.13/config/extensions/rmagic.html\n",
      "## note there's a ri2pandas() to convert back.\n",
      "## but note, rpy2 2.4.0 and later automagically translates dataframes: \n",
      "## https://stackoverflow.com/questions/20630121/pandas-how-to-convert-r-dataframe-back-to-pandas\n",
      "%load_ext rpy2.ipython\n",
      "#import rpy2.robjects.pandas2ri as p2r\n",
      "#rdf = p2r.pandas2ri(info)\n",
      "#%Rpush rdf"
     ],
     "language": "python",
     "metadata": {},
     "outputs": [
      {
       "output_type": "stream",
       "stream": "stdout",
       "text": [
        "The rpy2.ipython extension is already loaded. To reload it, use:\n",
        "  %reload_ext rpy2.ipython\n"
       ]
      }
     ],
     "prompt_number": 4
    },
    {
     "cell_type": "code",
     "collapsed": false,
     "input": [
      "x = all_freqs['Desulfovibrio_vulgaris_Hildenborough_uid57645'].copy()\n",
      "sample_info = pd.read_excel('Sample_Info_COMPLETE.xlsx') ##,skiprows=[0])\n",
      "sample_info = sample_info.set_index( sample_info['Sample name'] )\n",
      "sample_infos = { k:sample_info.ix[all_freqs[k].columns.droplevel(1).values] for k in all_freqs.keys() }\n",
      "info = sample_infos['Desulfovibrio_vulgaris_Hildenborough_uid57645'].copy()\n",
      "sizeme(info.head(3),50,120)"
     ],
     "language": "python",
     "metadata": {},
     "outputs": [
      {
       "html": [
        "<span style=\"font-size:50%; line-height:120%\"><div style=\"max-height:1000px;max-width:1500px;overflow:auto;\">\n",
        "<table border=\"1\" class=\"dataframe\">\n",
        "  <thead>\n",
        "    <tr style=\"text-align: right;\">\n",
        "      <th></th>\n",
        "      <th>Sample name</th>\n",
        "      <th>Source</th>\n",
        "      <th>Barcode</th>\n",
        "      <th>Strain/condition</th>\n",
        "      <th>cultivation type</th>\n",
        "      <th>Chemostat/batch ID #</th>\n",
        "      <th>Description/condition details</th>\n",
        "      <th>Description/condition details -2</th>\n",
        "      <th>carbon source</th>\n",
        "      <th>electron donor</th>\n",
        "      <th>concentration (mM)</th>\n",
        "      <th>electron acceptor</th>\n",
        "      <th>growth rate per h</th>\n",
        "      <th>T0C</th>\n",
        "      <th>organisms</th>\n",
        "    </tr>\n",
        "    <tr>\n",
        "      <th>Sample name</th>\n",
        "      <th></th>\n",
        "      <th></th>\n",
        "      <th></th>\n",
        "      <th></th>\n",
        "      <th></th>\n",
        "      <th></th>\n",
        "      <th></th>\n",
        "      <th></th>\n",
        "      <th></th>\n",
        "      <th></th>\n",
        "      <th></th>\n",
        "      <th></th>\n",
        "      <th></th>\n",
        "      <th></th>\n",
        "      <th></th>\n",
        "    </tr>\n",
        "  </thead>\n",
        "  <tbody>\n",
        "    <tr>\n",
        "      <th>Sample_US-1505885</th>\n",
        "      <td>Sample_US-1505885</td>\n",
        "      <td>Labcorp</td>\n",
        "      <td>US-1505885</td>\n",
        "      <td>PS 37 C log 2</td>\n",
        "      <td>batch</td>\n",
        "      <td>NaN</td>\n",
        "      <td>pyruvate 80mM, sulfate 15mM 37C</td>\n",
        "      <td>sulfate respiration/growth</td>\n",
        "      <td>pyruvate 80mM</td>\n",
        "      <td>pyruvate</td>\n",
        "      <td>NaN</td>\n",
        "      <td>sulfate</td>\n",
        "      <td>NaN</td>\n",
        "      <td>37</td>\n",
        "      <td>D vulgaris Hildenborugh</td>\n",
        "    </tr>\n",
        "    <tr>\n",
        "      <th>Sample_US-1505888</th>\n",
        "      <td>Sample_US-1505888</td>\n",
        "      <td>Labcorp</td>\n",
        "      <td>US-1505888</td>\n",
        "      <td>LS 37C   log 1</td>\n",
        "      <td>batch</td>\n",
        "      <td>NaN</td>\n",
        "      <td>lactate 40mM, sulfate15mM 37C</td>\n",
        "      <td>sulfate respiration/growth</td>\n",
        "      <td>lactate 40mM</td>\n",
        "      <td>lactate</td>\n",
        "      <td>NaN</td>\n",
        "      <td>sulfate</td>\n",
        "      <td>NaN</td>\n",
        "      <td>37</td>\n",
        "      <td>D vulgaris Hildenborugh</td>\n",
        "    </tr>\n",
        "    <tr>\n",
        "      <th>Sample_US-1505895</th>\n",
        "      <td>Sample_US-1505895</td>\n",
        "      <td>Labcorp</td>\n",
        "      <td>US-1505895</td>\n",
        "      <td>LS 37C e. stat 1</td>\n",
        "      <td>batch</td>\n",
        "      <td>NaN</td>\n",
        "      <td>lactate 40mM, sulfate15mM 37C</td>\n",
        "      <td>fermentation</td>\n",
        "      <td>lactate 10mM</td>\n",
        "      <td>lactate</td>\n",
        "      <td>10</td>\n",
        "      <td>none</td>\n",
        "      <td>0</td>\n",
        "      <td>37</td>\n",
        "      <td>D vulgaris Hildenborugh</td>\n",
        "    </tr>\n",
        "  </tbody>\n",
        "</table>\n",
        "</div></span>"
       ],
       "metadata": {},
       "output_type": "pyout",
       "prompt_number": 5,
       "text": [
        "<__main__.sizeme instance at 0x7f47eae40290>"
       ]
      }
     ],
     "prompt_number": 5
    },
    {
     "cell_type": "code",
     "collapsed": true,
     "input": [
      "%Rpush info\n",
      "%Rpush x\n",
      "genes = x.index.values.astype('str')\n",
      "print(genes)\n",
      "%Rpush genes\n",
      "%R save.image(\"Untitled1.RData\")"
     ],
     "language": "python",
     "metadata": {},
     "outputs": [
      {
       "output_type": "stream",
       "stream": "stdout",
       "text": [
        "['DVU0001' 'DVU0002' 'DVU0003' ..., '__too_low_aQual' '__not_aligned'\n",
        " '__alignment_not_unique']\n"
       ]
      }
     ],
     "prompt_number": 48
    },
    {
     "cell_type": "code",
     "collapsed": false,
     "input": [
      "%%R\n",
      "    load(\"Untitled1.RData\")\n",
      "    good_gene = which(!substr(genes,1,2)=='__' & apply(x,1,sum)>0)\n",
      "    x = x[good_gene,]\n",
      "    rownames(x)=genes[good_gene]\n",
      "    x.orig = as.matrix(x)\n",
      "    NULL"
     ],
     "language": "python",
     "metadata": {},
     "outputs": [
      {
       "metadata": {},
       "output_type": "display_data",
       "text": [
        "NULL\n"
       ]
      }
     ],
     "prompt_number": 24
    },
    {
     "cell_type": "code",
     "collapsed": false,
     "input": [
      "%%R\n",
      "    x=log10(t(as.matrix(x)))\n",
      "    x[is.na(x)|is.infinite(x)] <- 0\n",
      "    x = t(scale(x))\n",
      "    set.seed(10)\n",
      "    km = kmeans(x,1000,20,200)\n",
      "    NULL"
     ],
     "language": "python",
     "metadata": {},
     "outputs": [
      {
       "metadata": {},
       "output_type": "display_data",
       "text": [
        "NULL\n"
       ]
      }
     ],
     "prompt_number": 26
    },
    {
     "cell_type": "code",
     "collapsed": false,
     "input": [
      "%R matplot(t(x[km$cluster==7,,drop=F]),typ='l')\n",
      "%R matplot(t(x.orig[km$cluster==7,,drop=F]),typ='l')"
     ],
     "language": "python",
     "metadata": {},
     "outputs": [
      {
       "metadata": {},
       "output_type": "display_data",
       "png": "[encoded data removed]"
      },
      {
       "metadata": {},
       "output_type": "display_data",
       "png": "[encoded data removed]"
      }
     ],
     "prompt_number": 28
    },
    {
     "cell_type": "heading",
     "level": 1,
     "metadata": {},
     "source": [
      "Note I now think that we have to use all genes and use the non-centered-scaled data (ranked?) to do good classification."
     ]
    },
    {
     "cell_type": "code",
     "collapsed": false,
     "input": [
      "%R require(randomForest)\n",
      "sizeme(info.head(3),50,120)"
     ],
     "language": "python",
     "metadata": {},
     "outputs": [
      {
       "html": [
        "<span style=\"font-size:50%; line-height:120%\"><div style=\"max-height:1000px;max-width:1500px;overflow:auto;\">\n",
        "<table border=\"1\" class=\"dataframe\">\n",
        "  <thead>\n",
        "    <tr style=\"text-align: right;\">\n",
        "      <th></th>\n",
        "      <th>Sample name</th>\n",
        "      <th>Source</th>\n",
        "      <th>Barcode</th>\n",
        "      <th>Strain/condition</th>\n",
        "      <th>cultivation type</th>\n",
        "      <th>Chemostat/batch ID #</th>\n",
        "      <th>Description/condition details</th>\n",
        "      <th>Description/condition details -2</th>\n",
        "      <th>carbon source</th>\n",
        "      <th>electron donor</th>\n",
        "      <th>concentration (mM)</th>\n",
        "      <th>electron acceptor</th>\n",
        "      <th>growth rate per h</th>\n",
        "      <th>T0C</th>\n",
        "      <th>organisms</th>\n",
        "    </tr>\n",
        "    <tr>\n",
        "      <th>Sample name</th>\n",
        "      <th></th>\n",
        "      <th></th>\n",
        "      <th></th>\n",
        "      <th></th>\n",
        "      <th></th>\n",
        "      <th></th>\n",
        "      <th></th>\n",
        "      <th></th>\n",
        "      <th></th>\n",
        "      <th></th>\n",
        "      <th></th>\n",
        "      <th></th>\n",
        "      <th></th>\n",
        "      <th></th>\n",
        "      <th></th>\n",
        "    </tr>\n",
        "  </thead>\n",
        "  <tbody>\n",
        "    <tr>\n",
        "      <th>Sample_US-1505885</th>\n",
        "      <td>Sample_US-1505885</td>\n",
        "      <td>Labcorp</td>\n",
        "      <td>US-1505885</td>\n",
        "      <td>PS 37 C log 2</td>\n",
        "      <td>batch</td>\n",
        "      <td>NaN</td>\n",
        "      <td>pyruvate 80mM, sulfate 15mM 37C</td>\n",
        "      <td>sulfate respiration/growth</td>\n",
        "      <td>pyruvate 80mM</td>\n",
        "      <td>pyruvate</td>\n",
        "      <td>NaN</td>\n",
        "      <td>sulfate</td>\n",
        "      <td>NaN</td>\n",
        "      <td>37</td>\n",
        "      <td>D vulgaris Hildenborugh</td>\n",
        "    </tr>\n",
        "    <tr>\n",
        "      <th>Sample_US-1505888</th>\n",
        "      <td>Sample_US-1505888</td>\n",
        "      <td>Labcorp</td>\n",
        "      <td>US-1505888</td>\n",
        "      <td>LS 37C   log 1</td>\n",
        "      <td>batch</td>\n",
        "      <td>NaN</td>\n",
        "      <td>lactate 40mM, sulfate15mM 37C</td>\n",
        "      <td>sulfate respiration/growth</td>\n",
        "      <td>lactate 40mM</td>\n",
        "      <td>lactate</td>\n",
        "      <td>NaN</td>\n",
        "      <td>sulfate</td>\n",
        "      <td>NaN</td>\n",
        "      <td>37</td>\n",
        "      <td>D vulgaris Hildenborugh</td>\n",
        "    </tr>\n",
        "    <tr>\n",
        "      <th>Sample_US-1505895</th>\n",
        "      <td>Sample_US-1505895</td>\n",
        "      <td>Labcorp</td>\n",
        "      <td>US-1505895</td>\n",
        "      <td>LS 37C e. stat 1</td>\n",
        "      <td>batch</td>\n",
        "      <td>NaN</td>\n",
        "      <td>lactate 40mM, sulfate15mM 37C</td>\n",
        "      <td>fermentation</td>\n",
        "      <td>lactate 10mM</td>\n",
        "      <td>lactate</td>\n",
        "      <td>10</td>\n",
        "      <td>none</td>\n",
        "      <td>0</td>\n",
        "      <td>37</td>\n",
        "      <td>D vulgaris Hildenborugh</td>\n",
        "    </tr>\n",
        "  </tbody>\n",
        "</table>\n",
        "</div></span>"
       ],
       "metadata": {},
       "output_type": "pyout",
       "prompt_number": 51,
       "text": [
        "<__main__.sizeme instance at 0x7f47f009fcf8>"
       ]
      }
     ],
     "prompt_number": 51
    },
    {
     "cell_type": "heading",
     "level": 3,
     "metadata": {},
     "source": [
      "Train classifier on growth rate"
     ]
    },
    {
     "cell_type": "code",
     "collapsed": false,
     "input": [
      "%%R\n",
      "    gr=info$growth.rate.per.h; gr=as.numeric(as.character(gr)); gr[is.na(gr)]=0.2\n",
      "    Y <- factor( ifelse(gr==0, 'no_growth', ifelse(gr>=0.2, 'fast_growth', 'med_growth')) )\n",
      "    #model.mat = model.matrix(~-1+cultivation.type+electron.donor+electron.acceptor+growth.rate.per.h+T0C,data=info)\n",
      "    rf.gr <- randomForest(t(x), Y, importance=T, ntree=10000, do.trace=F)\n",
      "    varImpPlot(rf.gr); print(rf)"
     ],
     "language": "python",
     "metadata": {},
     "outputs": [
      {
       "metadata": {},
       "output_type": "display_data",
       "text": [
        "\n",
        "Call:\n",
        " randomForest(x = t(x), y = Y, ntree = 10000, importance = T,      do.trace = F) \n",
        "               Type of random forest: classification\n",
        "                     Number of trees: 10000\n",
        "No. of variables tried at each split: 60\n",
        "\n",
        "        OOB estimate of  error rate: 21.05%\n",
        "Confusion matrix:\n",
        "            fast_growth med_growth no_growth class.error\n",
        "fast_growth          18          0         5  0.21739130\n",
        "med_growth            1         11         0  0.08333333\n",
        "no_growth             5          1        16  0.27272727\n",
        "NULL\n"
       ]
      },
      {
       "metadata": {},
       "output_type": "display_data",
       "png": "[encoded data removed]"
      }
     ],
     "prompt_number": 52
    },
    {
     "cell_type": "heading",
     "level": 3,
     "metadata": {},
     "source": [
      "submit selected genes to network portal to see function"
     ]
    },
    {
     "cell_type": "code",
     "collapsed": false,
     "input": [
      "%R imps <- rf.gr$importance; imps = imps[order(imps[,'MeanDecreaseAccuracy'], decreasing=T),]\n",
      "%Rpull imp_vars\n",
      "\n",
      "query = '%22'+'%22+%22'.join(imp_vars)+'%22'\n",
      "print query\n",
      "from IPython.display import IFrame\n",
      "IFrame('http://networks.systemsbiology.net/search?q='+query, width='100%', height=150)"
     ],
     "language": "python",
     "metadata": {},
     "outputs": [
      {
       "output_type": "stream",
       "stream": "stdout",
       "text": [
        "%22DVU0147%22+%22DVU0598%22+%22DVU0599%22+%22DVU1258%22+%22DVU1421%22+%22DVU2286%22+%22DVU2289%22+%22DVU2290%22+%22DVU2451%22+%22DVU3026%22+%22DVU3032%22+%22DVU3033%22+%22DVU3084%22+%22DVU3132%22+%22DVU3133%22+%22DVU3134%22+%22DVUA0003%22+%22DVUA0024%22+%22DVUA0028%22+%22DVUA0029%22+%22DVUA0031%22+%22DVUA0032%22+%22DVUA0034%22+%22DVUA0035%22+%22DVUA0060%22\n"
       ]
      },
      {
       "html": [
        "\n",
        "        <iframe\n",
        "            width=\"100%\"\n",
        "            height=150\"\n",
        "            src=\"http://networks.systemsbiology.net/search?q=%22DVU0147%22+%22DVU0598%22+%22DVU0599%22+%22DVU1258%22+%22DVU1421%22+%22DVU2286%22+%22DVU2289%22+%22DVU2290%22+%22DVU2451%22+%22DVU3026%22+%22DVU3032%22+%22DVU3033%22+%22DVU3084%22+%22DVU3132%22+%22DVU3133%22+%22DVU3134%22+%22DVUA0003%22+%22DVUA0024%22+%22DVUA0028%22+%22DVUA0029%22+%22DVUA0031%22+%22DVUA0032%22+%22DVUA0034%22+%22DVUA0035%22+%22DVUA0060%22\"\n",
        "            frameborder=\"0\"\n",
        "            allowfullscreen\n",
        "        ></iframe>\n",
        "        "
       ],
       "metadata": {},
       "output_type": "pyout",
       "prompt_number": 53,
       "text": [
        "<IPython.lib.display.IFrame at 0x7f47eb008110>"
       ]
      }
     ],
     "prompt_number": 53
    },
    {
     "cell_type": "heading",
     "level": 3,
     "metadata": {},
     "source": [
      "Train classifier on electron donor"
     ]
    },
    {
     "cell_type": "code",
     "collapsed": false,
     "input": [
      "%%R\n",
      "    Y <- info$electron.donor\n",
      "    rf.ed <- randomForest(t(x), Y, importance=T, ntree=10000, do.trace=F)\n",
      "    varImpPlot(rf.ed); print(rf.ed)"
     ],
     "language": "python",
     "metadata": {},
     "outputs": [
      {
       "metadata": {},
       "output_type": "display_data",
       "text": [
        "\n",
        "Call:\n",
        " randomForest(x = t(x), y = Y, ntree = 10000, importance = T,      do.trace = F) \n",
        "               Type of random forest: classification\n",
        "                     Number of trees: 10000\n",
        "No. of variables tried at each split: 60\n",
        "\n",
        "        OOB estimate of  error rate: 1.75%\n",
        "Confusion matrix:\n",
        "         hydrogen lactate pyruvate class.error\n",
        "hydrogen       12       0        0  0.00000000\n",
        "lactate         0      33        0  0.00000000\n",
        "pyruvate        1       0       11  0.08333333\n",
        "NULL\n"
       ]
      },
      {
       "metadata": {},
       "output_type": "display_data",
       "png": "[encoded data removed]"
      }
     ],
     "prompt_number": 54
    },
    {
     "cell_type": "code",
     "collapsed": false,
     "input": [
      "%R imps <- rf.ed$importance; imps = imps[order(imps[,'MeanDecreaseAccuracy'], decreasing=T),]\n",
      "%R imp_vars = sort(rownames(imps)[1:25])\n",
      "%Rpull imp_vars\n",
      "\n",
      "query = '%22'+'%22+%22'.join(imp_vars)+'%22'\n",
      "print query\n",
      "from IPython.display import IFrame\n",
      "IFrame('http://networks.systemsbiology.net/search?q='+query, width='100%', height=150)"
     ],
     "language": "python",
     "metadata": {},
     "outputs": [
      {
       "output_type": "stream",
       "stream": "stdout",
       "text": [
        "%22DVU0819%22+%22DVU2092%22+%22DVU2093%22+%22DVU2094%22+%22DVU2286%22+%22DVU2287%22+%22DVU2288%22+%22DVU2289%22+%22DVU2290%22+%22DVU2291%22+%22DVU2292%22+%22DVU2293%22+%22DVU2451%22+%22DVU2452%22+%22DVU2650%22+%22DVU3024%22+%22DVU3025%22+%22DVU3026%22+%22DVU3027%22+%22DVU3028%22+%22DVU3029%22+%22DVU3030%22+%22DVU3031%22+%22DVU3032%22+%22DVU3033%22\n"
       ]
      },
      {
       "html": [
        "\n",
        "        <iframe\n",
        "            width=\"100%\"\n",
        "            height=150\"\n",
        "            src=\"http://networks.systemsbiology.net/search?q=%22DVU0819%22+%22DVU2092%22+%22DVU2093%22+%22DVU2094%22+%22DVU2286%22+%22DVU2287%22+%22DVU2288%22+%22DVU2289%22+%22DVU2290%22+%22DVU2291%22+%22DVU2292%22+%22DVU2293%22+%22DVU2451%22+%22DVU2452%22+%22DVU2650%22+%22DVU3024%22+%22DVU3025%22+%22DVU3026%22+%22DVU3027%22+%22DVU3028%22+%22DVU3029%22+%22DVU3030%22+%22DVU3031%22+%22DVU3032%22+%22DVU3033%22\"\n",
        "            frameborder=\"0\"\n",
        "            allowfullscreen\n",
        "        ></iframe>\n",
        "        "
       ],
       "metadata": {},
       "output_type": "pyout",
       "prompt_number": 55,
       "text": [
        "<IPython.lib.display.IFrame at 0x7f4819e88c50>"
       ]
      }
     ],
     "prompt_number": 55
    },
    {
     "cell_type": "heading",
     "level": 3,
     "metadata": {},
     "source": [
      "Train classifier on electron acceptor"
     ]
    },
    {
     "cell_type": "code",
     "collapsed": false,
     "input": [
      "%%R\n",
      "    Y <- info$electron.acceptor\n",
      "    rf.ea <- randomForest(t(x), Y, importance=T, ntree=10000, do.trace=F)\n",
      "    varImpPlot(rf.ea); print(rf.ea)"
     ],
     "language": "python",
     "metadata": {},
     "outputs": [
      {
       "metadata": {},
       "output_type": "display_data",
       "text": [
        "\n",
        "Call:\n",
        " randomForest(x = t(x), y = Y, ntree = 10000, importance = T,      do.trace = F) \n",
        "               Type of random forest: classification\n",
        "                     Number of trees: 10000\n",
        "No. of variables tried at each split: 60\n",
        "\n",
        "        OOB estimate of  error rate: 12.28%\n",
        "Confusion matrix:\n",
        "                      none proton/hydrogenotroph sulfate class.error\n",
        "none                    15                     0       3   0.1666667\n",
        "proton/hydrogenotroph    0                    21       0   0.0000000\n",
        "sulfate                  4                     0      14   0.2222222\n",
        "NULL\n"
       ]
      },
      {
       "metadata": {},
       "output_type": "display_data",
       "png": "[encoded data removed]"
      }
     ],
     "prompt_number": 56
    },
    {
     "cell_type": "code",
     "collapsed": false,
     "input": [
      "%R imps <- rf.ea$importance; imps = imps[order(imps[,'MeanDecreaseAccuracy'], decreasing=T),]\n",
      "%Rpull imp_vars\n",
      "\n",
      "query = '%22'+'%22+%22'.join(imp_vars)+'%22'\n",
      "print query\n",
      "from IPython.display import IFrame\n",
      "IFrame('http://networks.systemsbiology.net/search?q='+query, width='100%', height=150)"
     ],
     "language": "python",
     "metadata": {},
     "outputs": [
      {
       "output_type": "stream",
       "stream": "stdout",
       "text": [
        "%22DVU0819%22+%22DVU2092%22+%22DVU2093%22+%22DVU2094%22+%22DVU2286%22+%22DVU2287%22+%22DVU2288%22+%22DVU2289%22+%22DVU2290%22+%22DVU2291%22+%22DVU2292%22+%22DVU2293%22+%22DVU2451%22+%22DVU2452%22+%22DVU2650%22+%22DVU3024%22+%22DVU3025%22+%22DVU3026%22+%22DVU3027%22+%22DVU3028%22+%22DVU3029%22+%22DVU3030%22+%22DVU3031%22+%22DVU3032%22+%22DVU3033%22\n"
       ]
      },
      {
       "html": [
        "\n",
        "        <iframe\n",
        "            width=\"100%\"\n",
        "            height=150\"\n",
        "            src=\"http://networks.systemsbiology.net/search?q=%22DVU0819%22+%22DVU2092%22+%22DVU2093%22+%22DVU2094%22+%22DVU2286%22+%22DVU2287%22+%22DVU2288%22+%22DVU2289%22+%22DVU2290%22+%22DVU2291%22+%22DVU2292%22+%22DVU2293%22+%22DVU2451%22+%22DVU2452%22+%22DVU2650%22+%22DVU3024%22+%22DVU3025%22+%22DVU3026%22+%22DVU3027%22+%22DVU3028%22+%22DVU3029%22+%22DVU3030%22+%22DVU3031%22+%22DVU3032%22+%22DVU3033%22\"\n",
        "            frameborder=\"0\"\n",
        "            allowfullscreen\n",
        "        ></iframe>\n",
        "        "
       ],
       "metadata": {},
       "output_type": "pyout",
       "prompt_number": 57,
       "text": [
        "<IPython.lib.display.IFrame at 0x7f4824b16ad0>"
       ]
      }
     ],
     "prompt_number": 57
    },
    {
     "cell_type": "code",
     "collapsed": false,
     "input": [],
     "language": "python",
     "metadata": {},
     "outputs": []
    }
   ],
   "metadata": {}
  }
 ]
}