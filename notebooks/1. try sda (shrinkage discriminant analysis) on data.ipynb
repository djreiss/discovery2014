{
 "cells": [
  {
   "cell_type": "code",
   "execution_count": 1,
   "metadata": {
    "collapsed": true
   },
   "outputs": [],
   "source": [
    "#%run -i read_counts.py\n",
    "all_freqs = pickle.load(open('all_freqs.pkl', 'rb'))"
   ]
  },
  {
   "cell_type": "code",
   "execution_count": 3,
   "metadata": {
    "collapsed": false
   },
   "outputs": [],
   "source": [
    "from matplotlib import pyplot as plt\n",
    "\n",
    "%matplotlib inline\n",
    "from IPython.display import set_matplotlib_formats\n",
    "set_matplotlib_formats('pdf', 'svg')\n",
    "\n",
    "import pandas as pd\n",
    "pd.options.display.mpl_style = 'default'\n",
    "\n",
    "from mpltools import style\n",
    "from mpltools import layout\n",
    "\n",
    "style.use('ggplot')\n",
    "\n",
    "## see: https://stackoverflow.com/questions/19536817/manipulate-html-module-font-size-in-ipython-notebook\n",
    "class sizeme():\n",
    "    \"\"\" Class to change html fontsize of object's representation\"\"\"\n",
    "    def __init__(self,ob, size, height=100):\n",
    "        self.ob = ob\n",
    "        self.size = size\n",
    "        self.height = height\n",
    "    def _repr_html_(self):\n",
    "        repl_tuple = (self.size, self.height, self.ob._repr_html_())\n",
    "        return u'<span style=\"font-size:{0}%; line-height:{1}%\">{2}</span>'.format(*repl_tuple)"
   ]
  },
  {
   "cell_type": "code",
   "execution_count": 4,
   "metadata": {
    "collapsed": false
   },
   "outputs": [
    {
     "name": "stdout",
     "output_type": "stream",
     "text": [
      "The rpy2.ipython extension is already loaded. To reload it, use:\n",
      "  %reload_ext rpy2.ipython\n"
     ]
    }
   ],
   "source": [
    "## see https://stackoverflow.com/questions/14656852/how-to-use-pandas-dataframes-and-numpy-arrays-in-rpy2\n",
    "## and http://ipython.org/ipython-doc/rel-0.13/config/extensions/rmagic.html\n",
    "## note there's a ri2pandas() to convert back.\n",
    "## but note, rpy2 2.4.0 and later automagically translates dataframes: \n",
    "## https://stackoverflow.com/questions/20630121/pandas-how-to-convert-r-dataframe-back-to-pandas\n",
    "%load_ext rpy2.ipython\n",
    "#import rpy2.robjects.pandas2ri as p2r\n",
    "#rdf = p2r.pandas2ri(info)\n",
    "#%Rpush rdf"
   ]
  },
  {
   "cell_type": "code",
   "execution_count": 5,
   "metadata": {
    "collapsed": false
   },
   "outputs": [
    {
     "data": {
      "text/html": [
       "<span style=\"font-size:50%; line-height:120%\"><div>\n",
       "<table border=\"1\" class=\"dataframe\">\n",
       "  <thead>\n",
       "    <tr style=\"text-align: right;\">\n",
       "      <th></th>\n",
       "      <th>Sample name</th>\n",
       "      <th>Source</th>\n",
       "      <th>Barcode</th>\n",
       "      <th>Strain/condition</th>\n",
       "      <th>cultivation type</th>\n",
       "      <th>Chemostat/batch ID #</th>\n",
       "      <th>Description/condition details</th>\n",
       "      <th>Description/condition details -2</th>\n",
       "      <th>carbon source</th>\n",
       "      <th>electron donor</th>\n",
       "      <th>concentration (mM)</th>\n",
       "      <th>electron acceptor</th>\n",
       "      <th>growth rate per h</th>\n",
       "      <th>T0C</th>\n",
       "      <th>organisms</th>\n",
       "    </tr>\n",
       "    <tr>\n",
       "      <th>Sample name</th>\n",
       "      <th></th>\n",
       "      <th></th>\n",
       "      <th></th>\n",
       "      <th></th>\n",
       "      <th></th>\n",
       "      <th></th>\n",
       "      <th></th>\n",
       "      <th></th>\n",
       "      <th></th>\n",
       "      <th></th>\n",
       "      <th></th>\n",
       "      <th></th>\n",
       "      <th></th>\n",
       "      <th></th>\n",
       "      <th></th>\n",
       "    </tr>\n",
       "  </thead>\n",
       "  <tbody>\n",
       "    <tr>\n",
       "      <th>Sample_US-1505885</th>\n",
       "      <td>Sample_US-1505885</td>\n",
       "      <td>Labcorp</td>\n",
       "      <td>US-1505885</td>\n",
       "      <td>PS 37 C log 2</td>\n",
       "      <td>batch</td>\n",
       "      <td>NaN</td>\n",
       "      <td>pyruvate 80mM, sulfate 15mM 37C</td>\n",
       "      <td>sulfate respiration/growth</td>\n",
       "      <td>pyruvate 80mM</td>\n",
       "      <td>pyruvate</td>\n",
       "      <td>NaN</td>\n",
       "      <td>sulfate</td>\n",
       "      <td>NaN</td>\n",
       "      <td>37</td>\n",
       "      <td>D vulgaris Hildenborugh</td>\n",
       "    </tr>\n",
       "    <tr>\n",
       "      <th>Sample_US-1505888</th>\n",
       "      <td>Sample_US-1505888</td>\n",
       "      <td>Labcorp</td>\n",
       "      <td>US-1505888</td>\n",
       "      <td>LS 37C   log 1</td>\n",
       "      <td>batch</td>\n",
       "      <td>NaN</td>\n",
       "      <td>lactate 40mM, sulfate15mM 37C</td>\n",
       "      <td>sulfate respiration/growth</td>\n",
       "      <td>lactate 40mM</td>\n",
       "      <td>lactate</td>\n",
       "      <td>NaN</td>\n",
       "      <td>sulfate</td>\n",
       "      <td>NaN</td>\n",
       "      <td>37</td>\n",
       "      <td>D vulgaris Hildenborugh</td>\n",
       "    </tr>\n",
       "    <tr>\n",
       "      <th>Sample_US-1505895</th>\n",
       "      <td>Sample_US-1505895</td>\n",
       "      <td>Labcorp</td>\n",
       "      <td>US-1505895</td>\n",
       "      <td>LS 37C e. stat 1</td>\n",
       "      <td>batch</td>\n",
       "      <td>NaN</td>\n",
       "      <td>lactate 40mM, sulfate15mM 37C</td>\n",
       "      <td>fermentation</td>\n",
       "      <td>lactate 10mM</td>\n",
       "      <td>lactate</td>\n",
       "      <td>10</td>\n",
       "      <td>none</td>\n",
       "      <td>0</td>\n",
       "      <td>37</td>\n",
       "      <td>D vulgaris Hildenborugh</td>\n",
       "    </tr>\n",
       "  </tbody>\n",
       "</table>\n",
       "</div></span>"
      ],
      "text/plain": [
       "<__main__.sizeme instance at 0x7f49f5b6dea8>"
      ]
     },
     "execution_count": 5,
     "metadata": {},
     "output_type": "execute_result"
    }
   ],
   "source": [
    "x = all_freqs['Desulfovibrio_vulgaris_Hildenborough_uid57645'].copy()\n",
    "sample_info = pd.read_excel('Sample_Info_COMPLETE.xlsx') ##,skiprows=[0])\n",
    "sample_info = sample_info.set_index( sample_info['Sample name'] )\n",
    "sample_infos = { k:sample_info.ix[all_freqs[k].columns.droplevel(1).values] for k in all_freqs.keys() }\n",
    "info = sample_infos['Desulfovibrio_vulgaris_Hildenborough_uid57645'].copy()\n",
    "sizeme(info.head(3),50,120)"
   ]
  },
  {
   "cell_type": "code",
   "execution_count": 9,
   "metadata": {
    "collapsed": false
   },
   "outputs": [
    {
     "name": "stdout",
     "output_type": "stream",
     "text": [
      "['DVU0001' 'DVU0002' 'DVU0003' ..., '__too_low_aQual' '__not_aligned'\n",
      " '__alignment_not_unique']\n"
     ]
    }
   ],
   "source": [
    "%Rpush info\n",
    "%Rpush x\n",
    "genes = x.index.values.astype('str')\n",
    "print(genes)\n",
    "%Rpush genes\n",
    "#%R save.image(\"Untitled1.RData\")"
   ]
  },
  {
   "cell_type": "code",
   "execution_count": 10,
   "metadata": {
    "collapsed": false
   },
   "outputs": [
    {
     "data": {
      "text/plain": [
       "ite:  1  ridge cost:  28.35699  |b|_1:  5.342971 \n",
       "ite:  2  ridge cost:  25.22139  |b|_1:  4.855164 \n",
       "ite:  3  ridge cost:  22.42048  |b|_1:  3.913895 \n",
       "ite:  4  ridge cost:  13.16292  |b|_1:  5.125011 \n",
       "ite:  5  ridge cost:  25.14276  |b|_1:  8.103719 \n",
       "ite:  6  ridge cost:  33.62026  |b|_1:  8.984382 \n",
       "ite:  7  ridge cost:  38.82663  |b|_1:  8.589824 \n",
       "ite:  8  ridge cost:  39.20047  |b|_1:  8.875339 \n",
       "ite:  9  ridge cost:  39.31899  |b|_1:  8.956233 \n",
       "ite:  10  ridge cost:  39.3529  |b|_1:  8.978692 \n",
       "ite:  11  ridge cost:  39.37749  |b|_1:  8.97961 \n",
       "ite:  12  ridge cost:  39.38487  |b|_1:  8.979826 \n",
       "ite:  13  ridge cost:  39.38704  |b|_1:  8.97989 \n",
       "ite:  14  ridge cost:  39.38768  |b|_1:  8.979909 \n",
       "ite:  15  ridge cost:  39.38787  |b|_1:  8.979914 \n",
       "ite:  16  ridge cost:  39.38793  |b|_1:  8.979916 \n",
       "ite:  17  ridge cost:  39.38794  |b|_1:  8.979916 \n",
       "ite:  1  ridge cost:  30.14872  |b|_1:  5.119144 \n",
       "ite:  2  ridge cost:  30.14872  |b|_1:  5.119144 \n",
       "final update, total ridge cost:  69.53667  |b|_1:  14.09906 \n"
      ]
     },
     "metadata": {},
     "output_type": "display_data"
    }
   ],
   "source": [
    "%%R\n",
    "#    load(\"Untitled1.RData\")\n",
    "    gr=info$growth.rate.per.h; gr=as.numeric(as.character(gr)); gr[is.na(gr)]=0.2; info$growth.rate.per.h=gr\n",
    "    model.mat = model.matrix(~-1+cultivation.type+electron.donor+electron.acceptor+growth.rate.per.h+T0C,data=info)\n",
    "    good_gene = which(!substr(genes,1,2)=='__' & apply(x,1,sum)>0)\n",
    "    x = x[good_gene,]\n",
    "    rownames(x)=genes[good_gene]\n",
    "    x=log10(t(as.matrix(x)))\n",
    "    x[is.na(x)|is.infinite(x)] <- 0\n",
    "    require(sparseLDA)\n",
    "    X <- normalize(x); X <- X$Xc\n",
    "    Y <- model.mat[ ,grepl('donor',colnames(model.mat))]\n",
    "    Y <- cbind(Y, electron.donorhydrogen=1-apply(Y,1,sum))\n",
    "    sda.fit=sda(X,Y,stop=-9,trace=T)\n",
    "    betas <- sda.fit$beta; rownames(betas) <- sda.fit$varNames; betas <- as.data.frame(betas)\n",
    "    varNames <- sda.fit$varNames"
   ]
  },
  {
   "cell_type": "code",
   "execution_count": 11,
   "metadata": {
    "collapsed": false
   },
   "outputs": [
    {
     "name": "stdout",
     "output_type": "stream",
     "text": [
      "['DVU0031' 'DVU0177' 'DVU0650' 'DVU0745' 'DVU1013' 'DVU1520' 'DVU1917'\n",
      " 'DVU2204' 'DVU2293' 'DVU2451' 'DVU2650' 'DVU2652' 'DVU2666' 'DVU2667'\n",
      " 'DVU3027' 'DVU3029' 'DVU3031' 'Dv16SC']\n"
     ]
    }
   ],
   "source": [
    "%Rpull betas varNames\n",
    "print(varNames)"
   ]
  },
  {
   "cell_type": "markdown",
   "metadata": {},
   "source": [
    "submit these to network portal to see function [link](http://networks.systemsbiology.net/search?q=DVU0024+DVU0031+DVU0032+DVU0037+DVU0177+DVU0181+DVU0434+DVU0650+DVU0745+DVU0747+DVU1013+DVU1098+DVU1142+DVU1520+DVU1553+DVU1637+DVU1859+DVU1917+DVU2204+DVU2249+DVU2250+DVU2293+DVU2451+DVU2594+DVU2622+DVU2652+DVU2666+DVU2667+DVU2742+DVU2952+DVU2981+DVU2982+DVU3027+DVU3029+DVU3031+DVU3291+DVU3292+DVU3339.1+%22DVU_tRNA-Ala-4%22+Dv16SC)\n",
    "\n"
   ]
  },
  {
   "cell_type": "code",
   "execution_count": 12,
   "metadata": {
    "collapsed": false
   },
   "outputs": [
    {
     "data": {
      "text/html": [
       "\n",
       "        <iframe\n",
       "            width=\"100%\"\n",
       "            height=\"150\"\n",
       "            src=\"http://networks.systemsbiology.net/search?q=DVU0024+DVU0031+DVU0032+DVU0037+DVU0177+DVU0181+DVU0434+DVU0650+DVU0745+DVU0747+DVU1013+DVU1098+DVU1142+DVU1520+DVU1553+DVU1637+DVU1859+DVU1917+DVU2204+DVU2249+DVU2250+DVU2293+DVU2451+DVU2594+DVU2622+DVU2652+DVU2666+DVU2667+DVU2742+DVU2952+DVU2981+DVU2982+DVU3027+DVU3029+DVU3031+DVU3291+DVU3292+DVU3339.1+%22DVU_tRNA-Ala-4%22+Dv16SC\"\n",
       "            frameborder=\"0\"\n",
       "            allowfullscreen\n",
       "        ></iframe>\n",
       "        "
      ],
      "text/plain": [
       "<IPython.lib.display.IFrame at 0x7f4a19534950>"
      ]
     },
     "execution_count": 12,
     "metadata": {},
     "output_type": "execute_result"
    }
   ],
   "source": [
    "from IPython.display import IFrame\n",
    "IFrame('http://networks.systemsbiology.net/search?q=DVU0024+DVU0031+DVU0032+DVU0037+DVU0177+DVU0181+DVU0434+DVU0650+DVU0745+DVU0747+DVU1013+DVU1098+DVU1142+DVU1520+DVU1553+DVU1637+DVU1859+DVU1917+DVU2204+DVU2249+DVU2250+DVU2293+DVU2451+DVU2594+DVU2622+DVU2652+DVU2666+DVU2667+DVU2742+DVU2952+DVU2981+DVU2982+DVU3027+DVU3029+DVU3031+DVU3291+DVU3292+DVU3339.1+%22DVU_tRNA-Ala-4%22+Dv16SC', \n",
    "       width='100%', height=150)"
   ]
  },
  {
   "cell_type": "code",
   "execution_count": 13,
   "metadata": {
    "collapsed": false
   },
   "outputs": [
    {
     "data": {
      "text/plain": [
       "ite:  1  ridge cost:  38.50368  |b|_1:  3.669826 \n",
       "ite:  2  ridge cost:  43.41143  |b|_1:  5.084331 \n",
       "ite:  3  ridge cost:  49.36249  |b|_1:  5.862193 \n",
       "ite:  4  ridge cost:  58.38915  |b|_1:  4.653358 \n",
       "ite:  5  ridge cost:  56.73306  |b|_1:  5.017014 \n",
       "ite:  6  ridge cost:  55.74344  |b|_1:  5.210932 \n",
       "ite:  7  ridge cost:  55.12528  |b|_1:  5.324631 \n",
       "ite:  8  ridge cost:  59.20131  |b|_1:  4.586446 \n",
       "ite:  9  ridge cost:  59.18413  |b|_1:  4.591013 \n",
       "ite:  10  ridge cost:  59.16968  |b|_1:  4.594459 \n",
       "ite:  11  ridge cost:  55.11451  |b|_1:  5.326566 \n",
       "ite:  12  ridge cost:  59.20198  |b|_1:  4.586256 \n",
       "ite:  13  ridge cost:  59.18471  |b|_1:  4.590869 \n",
       "ite:  14  ridge cost:  59.17016  |b|_1:  4.594351 \n",
       "ite:  15  ridge cost:  55.1116  |b|_1:  5.327089 \n",
       "ite:  16  ridge cost:  59.20216  |b|_1:  4.586204 \n",
       "ite:  17  ridge cost:  59.18486  |b|_1:  4.59083 \n",
       "ite:  18  ridge cost:  59.17029  |b|_1:  4.594322 \n",
       "ite:  19  ridge cost:  55.11081  |b|_1:  5.327231 \n",
       "ite:  20  ridge cost:  59.20221  |b|_1:  4.58619 \n",
       "ite:  21  ridge cost:  59.1849  |b|_1:  4.59082 \n",
       "ite:  22  ridge cost:  59.17032  |b|_1:  4.594314 \n",
       "ite:  23  ridge cost:  55.1106  |b|_1:  5.327269 \n",
       "ite:  24  ridge cost:  59.20223  |b|_1:  4.586187 \n",
       "ite:  25  ridge cost:  59.18491  |b|_1:  4.590817 \n",
       "ite:  26  ridge cost:  59.17033  |b|_1:  4.594311 \n",
       "ite:  27  ridge cost:  55.11054  |b|_1:  5.327279 \n",
       "ite:  28  ridge cost:  59.20223  |b|_1:  4.586186 \n",
       "ite:  29  ridge cost:  59.18492  |b|_1:  4.590816 \n",
       "ite:  30  ridge cost:  59.17033  |b|_1:  4.594311 \n",
       "ite:  31  ridge cost:  55.11052  |b|_1:  5.327282 \n",
       "ite:  32  ridge cost:  59.20223  |b|_1:  4.586185 \n",
       "ite:  33  ridge cost:  59.18492  |b|_1:  4.590816 \n",
       "ite:  34  ridge cost:  59.17033  |b|_1:  4.594311 \n",
       "ite:  35  ridge cost:  55.11052  |b|_1:  5.327283 \n",
       "ite:  36  ridge cost:  59.20223  |b|_1:  4.586185 \n",
       "ite:  37  ridge cost:  59.18492  |b|_1:  4.590816 \n",
       "ite:  38  ridge cost:  59.17033  |b|_1:  4.594311 \n",
       "ite:  39  ridge cost:  55.11052  |b|_1:  5.327283 \n",
       "ite:  40  ridge cost:  59.20223  |b|_1:  4.586185 \n",
       "ite:  41  ridge cost:  59.18492  |b|_1:  4.590816 \n",
       "ite:  42  ridge cost:  59.17033  |b|_1:  4.594311 \n",
       "ite:  43  ridge cost:  55.11052  |b|_1:  5.327283 \n",
       "ite:  44  ridge cost:  59.20223  |b|_1:  4.586185 \n",
       "ite:  45  ridge cost:  59.18492  |b|_1:  4.590816 \n",
       "ite:  46  ridge cost:  59.17033  |b|_1:  4.594311 \n",
       "ite:  47  ridge cost:  55.11052  |b|_1:  5.327283 \n",
       "ite:  48  ridge cost:  59.20223  |b|_1:  4.586185 \n",
       "ite:  49  ridge cost:  59.18492  |b|_1:  4.590816 \n",
       "ite:  50  ridge cost:  59.17033  |b|_1:  4.594311 \n",
       "ite:  51  ridge cost:  55.11052  |b|_1:  5.327283 \n",
       "ite:  52  ridge cost:  59.20223  |b|_1:  4.586185 \n",
       "ite:  53  ridge cost:  59.18492  |b|_1:  4.590816 \n",
       "ite:  54  ridge cost:  59.17033  |b|_1:  4.594311 \n",
       "ite:  55  ridge cost:  55.11052  |b|_1:  5.327283 \n",
       "ite:  56  ridge cost:  59.20223  |b|_1:  4.586185 \n",
       "ite:  57  ridge cost:  59.18492  |b|_1:  4.590816 \n",
       "ite:  58  ridge cost:  59.17033  |b|_1:  4.594311 \n",
       "ite:  59  ridge cost:  55.11052  |b|_1:  5.327283 \n",
       "ite:  60  ridge cost:  59.20223  |b|_1:  4.586185 \n",
       "ite:  61  ridge cost:  59.18492  |b|_1:  4.590816 \n",
       "ite:  62  ridge cost:  59.17033  |b|_1:  4.594311 \n",
       "ite:  63  ridge cost:  55.11052  |b|_1:  5.327283 \n",
       "ite:  64  ridge cost:  59.20223  |b|_1:  4.586185 \n",
       "ite:  65  ridge cost:  59.18492  |b|_1:  4.590816 \n",
       "ite:  66  ridge cost:  59.17033  |b|_1:  4.594311 \n",
       "ite:  67  ridge cost:  55.11052  |b|_1:  5.327283 \n",
       "ite:  68  ridge cost:  59.20223  |b|_1:  4.586185 \n",
       "ite:  69  ridge cost:  59.18492  |b|_1:  4.590816 \n",
       "ite:  70  ridge cost:  59.17033  |b|_1:  4.594311 \n",
       "ite:  71  ridge cost:  55.11052  |b|_1:  5.327283 \n",
       "ite:  72  ridge cost:  59.20223  |b|_1:  4.586185 \n",
       "ite:  73  ridge cost:  59.18492  |b|_1:  4.590816 \n",
       "ite:  74  ridge cost:  59.17033  |b|_1:  4.594311 \n",
       "ite:  75  ridge cost:  55.11052  |b|_1:  5.327283 \n",
       "ite:  76  ridge cost:  59.20223  |b|_1:  4.586185 \n",
       "ite:  77  ridge cost:  59.18492  |b|_1:  4.590816 \n",
       "ite:  78  ridge cost:  59.17033  |b|_1:  4.594311 \n",
       "ite:  79  ridge cost:  55.11052  |b|_1:  5.327283 \n",
       "ite:  80  ridge cost:  59.20223  |b|_1:  4.586185 \n",
       "ite:  81  ridge cost:  59.18492  |b|_1:  4.590816 \n",
       "ite:  82  ridge cost:  59.17033  |b|_1:  4.594311 \n",
       "ite:  83  ridge cost:  55.11052  |b|_1:  5.327283 \n",
       "ite:  84  ridge cost:  59.20223  |b|_1:  4.586185 \n",
       "ite:  85  ridge cost:  59.18492  |b|_1:  4.590816 \n",
       "ite:  86  ridge cost:  59.17033  |b|_1:  4.594311 \n",
       "ite:  87  ridge cost:  55.11052  |b|_1:  5.327283 \n",
       "ite:  88  ridge cost:  59.20223  |b|_1:  4.586185 \n",
       "ite:  89  ridge cost:  59.18492  |b|_1:  4.590816 \n",
       "ite:  90  ridge cost:  59.17033  |b|_1:  4.594311 \n",
       "ite:  91  ridge cost:  55.11052  |b|_1:  5.327283 \n",
       "ite:  92  ridge cost:  59.20223  |b|_1:  4.586185 \n",
       "ite:  93  ridge cost:  59.18492  |b|_1:  4.590816 \n",
       "ite:  94  ridge cost:  59.17033  |b|_1:  4.594311 \n",
       "ite:  95  ridge cost:  55.11052  |b|_1:  5.327283 \n",
       "ite:  96  ridge cost:  59.20223  |b|_1:  4.586185 \n",
       "ite:  97  ridge cost:  59.18492  |b|_1:  4.590816 \n",
       "ite:  98  ridge cost:  59.17033  |b|_1:  4.594311 \n",
       "ite:  99  ridge cost:  55.11052  |b|_1:  5.327283 \n",
       "ite:  100  ridge cost:  59.20223  |b|_1:  4.586185 \n",
       "ite:  1  ridge cost:  10.02428  |b|_1:  5.922338 \n",
       "ite:  2  ridge cost:  10.02428  |b|_1:  5.922338 \n",
       "final update, total ridge cost:  69.22651  |b|_1:  10.50852 \n"
      ]
     },
     "metadata": {},
     "output_type": "display_data"
    }
   ],
   "source": [
    "%%R\n",
    "    gr <- info$growth.rate.per.h\n",
    "    Y <- cbind(no_growth=as.integer(gr==0), fast_growth=as.integer(gr>=0.2), med_growth=as.integer(gr>0&gr<0.2))\n",
    "    sda.fit=sda(X,Y,stop=-9,trace=T)\n",
    "    betas <- sda.fit$beta; rownames(betas) <- sda.fit$varNames; betas <- as.data.frame(betas)\n",
    "    varNames <- sda.fit$varNames"
   ]
  },
  {
   "cell_type": "code",
   "execution_count": 14,
   "metadata": {
    "collapsed": false
   },
   "outputs": [
    {
     "data": {
      "text/html": [
       "\n",
       "        <iframe\n",
       "            width=\"100%\"\n",
       "            height=\"150\"\n",
       "            src=\"http://networks.systemsbiology.net/search?q=%22DVU0530%22+%22DVU0534%22+%22DVU0549%22+%22DVU0571%22+%22DVU0598%22+%22DVU1258%22+%22DVU1751%22+%22DVU1971%22+%22DVU2105%22+%22DVU2611%22+%22DVU2974%22+%22DVU3122%22+%22DVU3211%22+%22DVU3308%22+%22DVU4007%22+%22DVU_tRNA-Arg-6%22+%22DVUA0029%22+%22DVUA0031%22\"\n",
       "            frameborder=\"0\"\n",
       "            allowfullscreen\n",
       "        ></iframe>\n",
       "        "
      ],
      "text/plain": [
       "<IPython.lib.display.IFrame at 0x7f4a19534890>"
      ]
     },
     "execution_count": 14,
     "metadata": {},
     "output_type": "execute_result"
    }
   ],
   "source": [
    "%Rpull betas varNames\n",
    "#print(varNames)\n",
    "query = '%22'+'%22+%22'.join(varNames)+'%22'\n",
    "from IPython.display import IFrame\n",
    "IFrame('http://networks.systemsbiology.net/search?q='+query, \n",
    "       width='100%', height=150)"
   ]
  },
  {
   "cell_type": "code",
   "execution_count": null,
   "metadata": {
    "collapsed": true
   },
   "outputs": [],
   "source": []
  }
 ],
 "metadata": {
  "kernelspec": {
   "display_name": "Python 2",
   "language": "python",
   "name": "python2"
  },
  "language_info": {
   "codemirror_mode": {
    "name": "ipython",
    "version": 2
   },
   "file_extension": ".py",
   "mimetype": "text/x-python",
   "name": "python",
   "nbconvert_exporter": "python",
   "pygments_lexer": "ipython2",
   "version": "2.7.6"
  }
 },
 "nbformat": 4,
 "nbformat_minor": 0
}
