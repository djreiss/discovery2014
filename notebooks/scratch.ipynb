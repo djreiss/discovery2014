{
 "cells": [
  {
   "cell_type": "code",
   "execution_count": 20,
   "metadata": {
    "collapsed": false
   },
   "outputs": [
    {
     "name": "stdout",
     "output_type": "stream",
     "text": [
      "The rpy2.ipython extension is already loaded. To reload it, use:\n",
      "  %reload_ext rpy2.ipython\n"
     ]
    }
   ],
   "source": [
    "from matplotlib import pyplot as plt\n",
    "\n",
    "%matplotlib inline\n",
    "from IPython.display import set_matplotlib_formats\n",
    "set_matplotlib_formats('pdf', 'svg')\n",
    "\n",
    "import pandas as pd\n",
    "pd.options.display.mpl_style = 'default'\n",
    "\n",
    "from mpltools import style\n",
    "from mpltools import layout\n",
    "\n",
    "style.use('ggplot')\n",
    "\n",
    "## see: https://stackoverflow.com/questions/19536817/manipulate-html-module-font-size-in-ipython-notebook\n",
    "class sizeme():\n",
    "    \"\"\" Class to change html fontsize of object's representation\"\"\"\n",
    "    def __init__(self,ob, size=30, height=100):\n",
    "        self.ob = ob\n",
    "        self.size = size\n",
    "        self.height = height\n",
    "    def _repr_html_(self):\n",
    "        repl_tuple = (self.size, self.height, self.ob._repr_html_())\n",
    "        return u'<span style=\"font-size:{0}%; line-height:{1}%\">{2}</span>'.format(*repl_tuple)\n",
    "    \n",
    "## see https://stackoverflow.com/questions/14656852/how-to-use-pandas-dataframes-and-numpy-arrays-in-rpy2\n",
    "## and http://ipython.org/ipython-doc/rel-0.13/config/extensions/rmagic.html\n",
    "## note there's a ri2pandas() to convert back.\n",
    "## but note, rpy2 2.4.0 and later automagically translates dataframes: \n",
    "## https://stackoverflow.com/questions/20630121/pandas-how-to-convert-r-dataframe-back-to-pandas\n",
    "%load_ext rpy2.ipython\n",
    "%Rdevice svg\n",
    "#import rpy2.robjects.pandas2ri as p2r\n",
    "#rdf = p2r.pandas2ri(info)\n",
    "#%Rpush rdf"
   ]
  },
  {
   "cell_type": "code",
   "execution_count": 2,
   "metadata": {
    "collapsed": false
   },
   "outputs": [
    {
     "data": {
      "text/plain": [
       "array(['x', 'xx', 'inp_quantiles', 'Y', 'qqq', 'getY', '.Random.seed',\n",
       "       'tmp_lst', 'do_it', 'b', 'mns', 'features', 'col_groups', 'nlev',\n",
       "       'info', 'NOTEBOOK_FULL_PATH', 'imp_genes', 'n_genes',\n",
       "       'b_trees_list', 'my.util', 'good_gene', 'cond_type', 'tmp',\n",
       "       'n_features', 'expr_levels', 'x.ranks', 'genes', 'results',\n",
       "       'imp_genes_list', 'results_noleaveout'], \n",
       "      dtype='|S18')"
      ]
     },
     "execution_count": 2,
     "metadata": {},
     "output_type": "execute_result"
    }
   ],
   "source": [
    "%R load(\"9. try Boruta and then randomForest on left-out replicates, ranked data, varying number of features, new growth values.RData\")"
   ]
  },
  {
   "cell_type": "code",
   "execution_count": 58,
   "metadata": {
    "collapsed": false
   },
   "outputs": [
    {
     "data": {
      "text/plain": [
       "electron_donor 3 \n"
      ]
     },
     "metadata": {},
     "output_type": "display_data"
    }
   ],
   "source": [
    "%%R\n",
    "imp_genes <- imp_genes_list$electron_donor\n",
    "xx <- as.matrix(x); colnames(xx) <- gsub('.','-',names(Y),fixed=T)\n",
    "Y <- getY('electron_donor', info)\n",
    "xx <- cbind(xx[,Y=='lactate'], xx[,Y=='pyruvate'], xx[,Y=='hydrogen'])\n",
    "xx <- as.data.frame(xx[imp_genes,])"
   ]
  },
  {
   "cell_type": "code",
   "execution_count": 59,
   "metadata": {
    "collapsed": false
   },
   "outputs": [],
   "source": [
    "%Rpull xx\n",
    "%Rpull imp_genes\n",
    "xx = xx.set_index(imp_genes)\n",
    "sizeme(xx.head())\n",
    "writer = pd.ExcelWriter('dvh_features_expression.xlsx')\n",
    "xx.to_excel( writer, 'electron_donor' )\n",
    "np.log10(xx+1).to_excel( writer, 'log10_electron_donor' )\n",
    "#writer.save()"
   ]
  },
  {
   "cell_type": "code",
   "execution_count": 60,
   "metadata": {
    "collapsed": false
   },
   "outputs": [
    {
     "data": {
      "text/plain": [
       "electron_acceptor 3 \n"
      ]
     },
     "metadata": {},
     "output_type": "display_data"
    }
   ],
   "source": [
    "%%R\n",
    "imp_genes <- imp_genes_list$electron_acceptor\n",
    "xx <- as.matrix(x); colnames(xx) <- gsub('.','-',names(Y),fixed=T)\n",
    "Y <- getY('electron_acceptor', info)\n",
    "xx <- cbind(xx[,Y=='sulfate'], xx[,Y=='proton/hydrogenotroph'], xx[,Y=='none'])\n",
    "xx <- as.data.frame(xx[imp_genes,])"
   ]
  },
  {
   "cell_type": "code",
   "execution_count": 61,
   "metadata": {
    "collapsed": false
   },
   "outputs": [],
   "source": [
    "%Rpull xx\n",
    "%Rpull imp_genes\n",
    "xx = xx.set_index(imp_genes)\n",
    "sizeme(xx.head())\n",
    "#writer = pd.ExcelWriter('dvh_electron_donor.xlsx')\n",
    "xx.to_excel( writer, 'electron_acceptor' )\n",
    "np.log10(xx+1).to_excel( writer, 'log10_electron_acceptor' )\n",
    "#writer.save()"
   ]
  },
  {
   "cell_type": "code",
   "execution_count": 62,
   "metadata": {
    "collapsed": false
   },
   "outputs": [
    {
     "data": {
      "text/plain": [
       "growth_rate 2 \n"
      ]
     },
     "metadata": {},
     "output_type": "display_data"
    }
   ],
   "source": [
    "%%R\n",
    "imp_genes <- imp_genes_list$growth_rate\n",
    "xx <- as.matrix(x); colnames(xx) <- gsub('.','-',names(Y),fixed=T)\n",
    "Y <- getY('growth_rate', info)\n",
    "xx <- cbind(xx[,Y=='med_growth'], xx[,Y=='no_growth'])\n",
    "xx <- as.data.frame(xx[imp_genes,])"
   ]
  },
  {
   "cell_type": "code",
   "execution_count": 63,
   "metadata": {
    "collapsed": true
   },
   "outputs": [],
   "source": [
    "%Rpull xx\n",
    "%Rpull imp_genes\n",
    "xx = xx.set_index(imp_genes)\n",
    "sizeme(xx.head())\n",
    "#writer = pd.ExcelWriter('dvh_electron_donor.xlsx')\n",
    "xx.to_excel( writer, 'growth_rate' )\n",
    "np.log10(xx+1).to_excel( writer, 'log10_growth_rate' )\n",
    "#writer.save()"
   ]
  },
  {
   "cell_type": "code",
   "execution_count": 64,
   "metadata": {
    "collapsed": false
   },
   "outputs": [
    {
     "data": {
      "text/plain": [
       "temperature 2 \n"
      ]
     },
     "metadata": {},
     "output_type": "display_data"
    }
   ],
   "source": [
    "%%R\n",
    "imp_genes <- imp_genes_list$temperature\n",
    "xx <- as.matrix(x); colnames(xx) <- gsub('.','-',names(Y),fixed=T)\n",
    "Y <- getY('temperature', info)\n",
    "xx <- cbind(xx[,Y==TRUE], xx[,Y==FALSE])\n",
    "xx <- as.data.frame(xx[imp_genes,])"
   ]
  },
  {
   "cell_type": "code",
   "execution_count": 65,
   "metadata": {
    "collapsed": true
   },
   "outputs": [],
   "source": [
    "%Rpull xx\n",
    "%Rpull imp_genes\n",
    "xx = xx.set_index(imp_genes)\n",
    "sizeme(xx.head())\n",
    "#writer = pd.ExcelWriter('dvh_electron_donor.xlsx')\n",
    "xx.to_excel( writer, 'temperature' )\n",
    "np.log10(xx+1).to_excel( writer, 'log10_temperature' )\n",
    "#writer.save()"
   ]
  },
  {
   "cell_type": "code",
   "execution_count": 66,
   "metadata": {
    "collapsed": true
   },
   "outputs": [],
   "source": [
    "%%R\n",
    "qqq = new.env()\n",
    "load('11. classify dvh mono vs. coculture only.RData', envir=qqq)"
   ]
  },
  {
   "cell_type": "code",
   "execution_count": 67,
   "metadata": {
    "collapsed": false
   },
   "outputs": [],
   "source": [
    "%%R\n",
    "imp_genes <- qqq$imp_genes\n",
    "Y <- as.character(info$organisms)\n",
    "xx = as.matrix(x[,colnames(x)%in%colnames(x.ranks)])\n",
    "colnames(xx) <- names(Y) <-gsub('.','-',colnames(xx),fixed=T)\n",
    "xx <- cbind(xx[,Y=='D vulgaris Hildenborugh'], xx[,Y!='D vulgaris Hildenborugh'])\n",
    "xx <- as.data.frame(xx[gsub('.','-',imp_genes,fixed=T),])"
   ]
  },
  {
   "cell_type": "code",
   "execution_count": 68,
   "metadata": {
    "collapsed": true
   },
   "outputs": [],
   "source": [
    "%Rpull xx\n",
    "%Rpull imp_genes\n",
    "xx = xx.set_index(imp_genes)\n",
    "sizeme(xx.head())\n",
    "#writer = pd.ExcelWriter('dvh_electron_donor.xlsx')\n",
    "xx.to_excel( writer, 'mono_or_coculture' )\n",
    "np.log10(xx+1).to_excel( writer, 'log10_mono_or_coculture' )\n",
    "#writer.save()"
   ]
  },
  {
   "cell_type": "code",
   "execution_count": 69,
   "metadata": {
    "collapsed": true
   },
   "outputs": [],
   "source": [
    "writer.save()"
   ]
  },
  {
   "cell_type": "code",
   "execution_count": null,
   "metadata": {
    "collapsed": true
   },
   "outputs": [],
   "source": []
  }
 ],
 "metadata": {
  "kernelspec": {
   "display_name": "Python 2",
   "language": "python",
   "name": "python2"
  },
  "language_info": {
   "codemirror_mode": {
    "name": "ipython",
    "version": 2
   },
   "file_extension": ".py",
   "mimetype": "text/x-python",
   "name": "python",
   "nbconvert_exporter": "python",
   "pygments_lexer": "ipython2",
   "version": "2.7.6"
  }
 },
 "nbformat": 4,
 "nbformat_minor": 0
}
