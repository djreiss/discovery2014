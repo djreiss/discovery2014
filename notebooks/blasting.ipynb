{
 "cells": [
  {
   "cell_type": "markdown",
   "metadata": {},
   "source": [
    "### This is just to get the ratios in, so we can get a list of gene names:"
   ]
  },
  {
   "cell_type": "code",
   "execution_count": null,
   "metadata": {
    "collapsed": false
   },
   "outputs": [],
   "source": [
    "%run -i read_counts.py"
   ]
  },
  {
   "cell_type": "code",
   "execution_count": 19,
   "metadata": {
    "collapsed": false
   },
   "outputs": [
    {
     "name": "stdout",
     "output_type": "stream",
     "text": [
      "/home/dreiss/scratch/halo/DVU_for_discovery_prop/discovery2014_local/BLASTING\n"
     ]
    }
   ],
   "source": [
    "cd BLASTING"
   ]
  },
  {
   "cell_type": "markdown",
   "metadata": {},
   "source": [
    "### some ideas from cmonkey_experimental.R"
   ]
  },
  {
   "cell_type": "code",
   "execution_count": null,
   "metadata": {
    "collapsed": true
   },
   "outputs": [],
   "source": [
    "! wget 'http://rsat.ulb.ac.be/rsat/data/genomes/Desulfovibrio_desulfuricans_G20/genome/Desulfovibrio_desulfuricans_G20_aa.fasta'"
   ]
  },
  {
   "cell_type": "code",
   "execution_count": null,
   "metadata": {
    "collapsed": true
   },
   "outputs": [],
   "source": [
    "!wget 'http://rsat.ulb.ac.be/rsat/data/genomes/Desulfovibrio_vulgaris_Hildenborough/genome/Desulfovibrio_vulgaris_Hildenborough_aa.fasta'"
   ]
  },
  {
   "cell_type": "code",
   "execution_count": null,
   "metadata": {
    "collapsed": true
   },
   "outputs": [],
   "source": [
    "!./formatdb -p T -o F -i Desulfovibrio_desulfuricans_G20_aa.fasta -l temp1.log\n",
    "!./formatdb -p T -o F -i Desulfovibrio_vulgaris_Hildenborough_aa.fasta -l temp2.log\n",
    "!./blastall -d Desulfovibrio_vulgaris_Hildenborough_aa.fasta -i Desulfovibrio_desulfuricans_G20_aa.fasta -p blastp -F \"m S\" -m 8 -b 200000 >blasted_out.tab"
   ]
  },
  {
   "cell_type": "code",
   "execution_count": 20,
   "metadata": {
    "collapsed": true
   },
   "outputs": [],
   "source": [
    "%%R\n",
    "blast.out <- readLines('blasted_out.tab')\n",
    "out <- t( sapply( strsplit( blast.out, \"\\t\" ), cbind ) )\n",
    "out <- data.frame( `Query id`=out[ ,1 ], `Subject id`=out[ ,2 ], `% identity`=as.numeric( out[ ,3 ] ),\n",
    "                    `alignment length`=as.integer( out[ ,4 ] ), mismatches=as.integer( out[ ,5 ] ),\n",
    "                    `gap openings`=as.integer( out[ ,6 ] ), `q. start`=as.integer( out[ ,7 ] ),\n",
    "                    `q. end`=as.integer( out[ ,8 ] ), `s. start`=as.integer( out[ ,9 ] ),\n",
    "                    `s. end`=as.integer( out[ ,10 ] ), `e-value`=as.numeric( out[ ,11 ] ),\n",
    "                    `bit score`=as.numeric( out[ ,12 ] ) )\n",
    "\n",
    "e.cutoff <- 1e-5\n",
    "out <- subset( out, e.value <= e.cutoff )"
   ]
  },
  {
   "cell_type": "code",
   "execution_count": 21,
   "metadata": {
    "collapsed": true
   },
   "outputs": [],
   "source": [
    "%%R\n",
    "read.fasta <- function( fname ) {\n",
    "    lines <- readLines( gzfile( fname ) )\n",
    "    lines <- lines[ lines != \"\" ]\n",
    "    starts <- grep( \"^>\", lines, perl=T )\n",
    "    stops <- c( starts[ 2:length( starts ) ], length( lines ) + 1 )\n",
    "    seqs <- sapply( 1:length( starts ), function( i ) paste( lines[ ( starts[ i ] + 1 ):( stops[ i ] - 1 ) ],\n",
    "                                                            collapse=\"\", sep=\"\" ) )\n",
    "    names( seqs ) <- gsub( \"^>\", \"\", lines[ starts ], perl=T )\n",
    "    seqs\n",
    "}\n",
    "\n",
    "fraction.cutoff <- 0.5\n",
    "lens1 <- nchar( read.fasta( 'Desulfovibrio_vulgaris_Hildenborough_aa.fasta' ) )\n",
    "lens2 <- nchar( read.fasta( 'Desulfovibrio_desulfuricans_G20_aa.fasta' ) )\n",
    "out <- cbind( out, fraction.x=out$alignment.length / lens1[ as.character( out$Subject.id ) ],\n",
    "               fraction.y=out$alignment.length / lens2[ as.character( out$Query.id ) ] )\n",
    "out <- subset( out, fraction.x >= fraction.cutoff & fraction.y >= fraction.cutoff )"
   ]
  },
  {
   "cell_type": "code",
   "execution_count": 22,
   "metadata": {
    "collapsed": false
   },
   "outputs": [
    {
     "name": "stdout",
     "output_type": "stream",
     "text": [
      "['Desulfovibrio_alaskensis_G20_uid57941', 'Desulfovibrio_vulgaris_Hildenborough_uid57645', 'Methanococcus_maripaludis_S2_uid58035', 'Methanospirillum_hungatei_JF_1_uid58181']\n"
     ]
    }
   ],
   "source": [
    "print all_freqs.keys()\n",
    "x1 = all_freqs['Desulfovibrio_vulgaris_Hildenborough_uid57645'].copy()\n",
    "x2 = all_freqs['Desulfovibrio_alaskensis_G20_uid57941'].copy()\n",
    "sizeme(x2.head(),60,6)\n",
    "genes1 = x1.index.values\n",
    "%Rpush genes1\n",
    "genes2 = x2.index.values\n",
    "%Rpush genes2\n",
    "#%R save.image('qqq')"
   ]
  },
  {
   "cell_type": "code",
   "execution_count": null,
   "metadata": {
    "collapsed": true
   },
   "outputs": [],
   "source": [
    "!wget 'http://rsat.ulb.ac.be/rsat/data/genomes/Desulfovibrio_vulgaris_Hildenborough/genome/feature_names.tab'\n",
    "!mv -v feature_names.tab Desulfovibrio_vulgaris_Hildenborough_feature_names.tab\n",
    "\n",
    "!wget 'http://rsat.ulb.ac.be/rsat/data/genomes/Desulfovibrio_desulfuricans_G20/genome/feature_names.tab'\n",
    "!mv -v feature_names.tab Desulfovibrio_desulfuricans_G20_feature_names.tab"
   ]
  },
  {
   "cell_type": "code",
   "execution_count": 27,
   "metadata": {
    "collapsed": false
   },
   "outputs": [
    {
     "data": {
      "text/plain": [
       "NULL\n"
      ]
     },
     "metadata": {},
     "output_type": "display_data"
    }
   ],
   "source": [
    "%%R\n",
    "fname <- 'Desulfovibrio_vulgaris_Hildenborough_feature_names.tab'\n",
    "nskip <- sum( substr( readLines( gzfile( fname ), n=20 ), 1, 2 ) == \"--\" )\n",
    "feature.names1 <- read.delim( gzfile( fname ), head=F, as.is=T, skip=nskip, row.names=NULL, comment='' )\n",
    "colnames( feature.names1 ) <- c( \"id\", \"names\", \"type\" )\n",
    "\n",
    "fname <- 'Desulfovibrio_desulfuricans_G20_feature_names.tab'\n",
    "nskip <- sum( substr( readLines( gzfile( fname ), n=20 ), 1, 2 ) == \"--\" )\n",
    "feature.names2 <- read.delim( gzfile( fname ), head=F, as.is=T, skip=nskip, row.names=NULL, comment='' )\n",
    "colnames( feature.names2 ) <- c( \"id\", \"names\", \"type\" )\n",
    "\n",
    "genes1 <- unlist(genes1)\n",
    "genes2 <- unlist(genes2)\n",
    "\n",
    "## Note - Query.id comes from env2 species; Subject.id comes from env1 species\n",
    "names1 <- unique( subset( feature.names1, names %in% genes1 )[ , c( \"id\", \"names\" ) ] )\n",
    "names2 <- unique( subset( feature.names2, names %in% genes2 )[ , c( \"id\", \"names\" ) ] )\n",
    "out <- merge( out, names2, by.x='Query.id', by.y='id', all.x=T, all.y=F )\n",
    "out <- merge( out, names1, by.x='Subject.id', by.y='id', all.x=T, all.y=F )\n",
    "  \n",
    "## Sort it so first one (which is kept) is the best\n",
    "out <- out[ order( -out$bit.score, out$e.value ), ]\n",
    "## Look for reciprocal best hits\n",
    "##out <- out[ ! duplicated( out[ ,1:2 ] ), ] ## First get rid of dupes (keeping best hit b/c it is sorted)\n",
    "out <- subset( out, ! duplicated( Subject.id ) & ! duplicated( Query.id ) )\n",
    "out <- subset( out, ! is.na( names.y ) & ! is.na( names.x ) )\n",
    "#print(head(out))\n",
    "blast_out <- out; rm(out)\n",
    "save.image('blasting.RData')\n",
    "NULL"
   ]
  },
  {
   "cell_type": "code",
   "execution_count": 28,
   "metadata": {
    "collapsed": false
   },
   "outputs": [
    {
     "data": {
      "text/html": [
       "<span style=\"font-size:60%; line-height:100%\"><div>\n",
       "<table border=\"1\" class=\"dataframe\">\n",
       "  <thead>\n",
       "    <tr style=\"text-align: right;\">\n",
       "      <th></th>\n",
       "      <th>Subject.id</th>\n",
       "      <th>Query.id</th>\n",
       "      <th>X..identity</th>\n",
       "      <th>alignment.length</th>\n",
       "      <th>mismatches</th>\n",
       "      <th>gap.openings</th>\n",
       "      <th>q..start</th>\n",
       "      <th>q..end</th>\n",
       "      <th>s..start</th>\n",
       "      <th>s..end</th>\n",
       "      <th>e.value</th>\n",
       "      <th>bit.score</th>\n",
       "      <th>fraction.x</th>\n",
       "      <th>fraction.y</th>\n",
       "      <th>names.x</th>\n",
       "      <th>names.y</th>\n",
       "      <th>names.x.1</th>\n",
       "      <th>names.y.1</th>\n",
       "      <th>names.x.2</th>\n",
       "      <th>names.y.2</th>\n",
       "    </tr>\n",
       "  </thead>\n",
       "  <tbody>\n",
       "    <tr>\n",
       "      <th>0</th>\n",
       "      <td>2765</td>\n",
       "      <td>2875</td>\n",
       "      <td>85.36</td>\n",
       "      <td>1380</td>\n",
       "      <td>201</td>\n",
       "      <td>1</td>\n",
       "      <td>1</td>\n",
       "      <td>1380</td>\n",
       "      <td>1</td>\n",
       "      <td>1379</td>\n",
       "      <td>0</td>\n",
       "      <td>2420</td>\n",
       "      <td>0.996390</td>\n",
       "      <td>0.995671</td>\n",
       "      <td>Dde_2998</td>\n",
       "      <td>DVU2929</td>\n",
       "      <td>Dde_2998</td>\n",
       "      <td>DVU2929</td>\n",
       "      <td>Dde_2998</td>\n",
       "      <td>DVU2929</td>\n",
       "    </tr>\n",
       "    <tr>\n",
       "      <th>1</th>\n",
       "      <td>2764</td>\n",
       "      <td>2874</td>\n",
       "      <td>83.70</td>\n",
       "      <td>1368</td>\n",
       "      <td>222</td>\n",
       "      <td>1</td>\n",
       "      <td>1</td>\n",
       "      <td>1367</td>\n",
       "      <td>1</td>\n",
       "      <td>1368</td>\n",
       "      <td>0</td>\n",
       "      <td>2385</td>\n",
       "      <td>0.997085</td>\n",
       "      <td>0.994909</td>\n",
       "      <td>Dde_2997</td>\n",
       "      <td>DVU2928</td>\n",
       "      <td>Dde_2997</td>\n",
       "      <td>DVU2928</td>\n",
       "      <td>Dde_2997</td>\n",
       "      <td>DVU2928</td>\n",
       "    </tr>\n",
       "    <tr>\n",
       "      <th>2</th>\n",
       "      <td>2854</td>\n",
       "      <td>3106</td>\n",
       "      <td>82.68</td>\n",
       "      <td>1218</td>\n",
       "      <td>207</td>\n",
       "      <td>3</td>\n",
       "      <td>1</td>\n",
       "      <td>1217</td>\n",
       "      <td>1</td>\n",
       "      <td>1215</td>\n",
       "      <td>0</td>\n",
       "      <td>2106</td>\n",
       "      <td>1.002469</td>\n",
       "      <td>1.000822</td>\n",
       "      <td>Dde_3237</td>\n",
       "      <td>DVU3025</td>\n",
       "      <td>Dde_3237</td>\n",
       "      <td>DVU3025</td>\n",
       "      <td>Dde_3237</td>\n",
       "      <td>DVU3025</td>\n",
       "    </tr>\n",
       "    <tr>\n",
       "      <th>3</th>\n",
       "      <td>1803</td>\n",
       "      <td>2009</td>\n",
       "      <td>79.81</td>\n",
       "      <td>1233</td>\n",
       "      <td>249</td>\n",
       "      <td>0</td>\n",
       "      <td>1</td>\n",
       "      <td>1233</td>\n",
       "      <td>1</td>\n",
       "      <td>1233</td>\n",
       "      <td>0</td>\n",
       "      <td>2079</td>\n",
       "      <td>0.999190</td>\n",
       "      <td>0.995961</td>\n",
       "      <td>Dde_2081</td>\n",
       "      <td>DVU1834</td>\n",
       "      <td>Dde_2081</td>\n",
       "      <td>DVU1834</td>\n",
       "      <td>Dde_2081</td>\n",
       "      <td>DVU1834</td>\n",
       "    </tr>\n",
       "    <tr>\n",
       "      <th>4</th>\n",
       "      <td>1802</td>\n",
       "      <td>2008</td>\n",
       "      <td>79.82</td>\n",
       "      <td>1194</td>\n",
       "      <td>238</td>\n",
       "      <td>2</td>\n",
       "      <td>1</td>\n",
       "      <td>1194</td>\n",
       "      <td>1</td>\n",
       "      <td>1191</td>\n",
       "      <td>0</td>\n",
       "      <td>1985</td>\n",
       "      <td>1.002519</td>\n",
       "      <td>1.000000</td>\n",
       "      <td>Dde_2080</td>\n",
       "      <td>DVU1833</td>\n",
       "      <td>Dde_2080</td>\n",
       "      <td>DVU1833</td>\n",
       "      <td>Dde_2080</td>\n",
       "      <td>DVU1833</td>\n",
       "    </tr>\n",
       "  </tbody>\n",
       "</table>\n",
       "</div></span>"
      ],
      "text/plain": [
       "<__main__.sizeme instance at 0x7f25347c6758>"
      ]
     },
     "execution_count": 28,
     "metadata": {},
     "output_type": "execute_result"
    }
   ],
   "source": [
    "%Rpull blast_out\n",
    "sizeme(blast_out.head(),60)"
   ]
  },
  {
   "cell_type": "code",
   "execution_count": null,
   "metadata": {
    "collapsed": true
   },
   "outputs": [],
   "source": []
  }
 ],
 "metadata": {
  "kernelspec": {
   "display_name": "Python 2",
   "language": "python",
   "name": "python2"
  },
  "language_info": {
   "codemirror_mode": {
    "name": "ipython",
    "version": 2
   },
   "file_extension": ".py",
   "mimetype": "text/x-python",
   "name": "python",
   "nbconvert_exporter": "python",
   "pygments_lexer": "ipython2",
   "version": "2.7.6"
  }
 },
 "nbformat": 4,
 "nbformat_minor": 0
}
