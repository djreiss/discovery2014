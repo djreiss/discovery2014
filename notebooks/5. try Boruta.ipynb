{
 "cells": [
  {
   "cell_type": "code",
   "execution_count": 1,
   "metadata": {
    "collapsed": false
   },
   "outputs": [],
   "source": [
    "#%run -i read_counts.py\n",
    "all_freqs = pickle.load(open('all_freqs.pkl', 'rb'))"
   ]
  },
  {
   "cell_type": "code",
   "execution_count": 2,
   "metadata": {
    "collapsed": false
   },
   "outputs": [
    {
     "name": "stdout",
     "output_type": "stream",
     "text": [
      "The rpy2.ipython extension is already loaded. To reload it, use:\n",
      "  %reload_ext rpy2.ipython\n"
     ]
    }
   ],
   "source": [
    "from matplotlib import pyplot as plt\n",
    "\n",
    "%matplotlib inline\n",
    "from IPython.display import set_matplotlib_formats\n",
    "set_matplotlib_formats('pdf', 'svg')\n",
    "\n",
    "import pandas as pd\n",
    "pd.options.display.mpl_style = 'default'\n",
    "\n",
    "from mpltools import style\n",
    "from mpltools import layout\n",
    "\n",
    "style.use('ggplot')\n",
    "\n",
    "## see: https://stackoverflow.com/questions/19536817/manipulate-html-module-font-size-in-ipython-notebook\n",
    "class sizeme():\n",
    "    \"\"\" Class to change html fontsize of object's representation\"\"\"\n",
    "    def __init__(self,ob, size, height=100):\n",
    "        self.ob = ob\n",
    "        self.size = size\n",
    "        self.height = height\n",
    "    def _repr_html_(self):\n",
    "        repl_tuple = (self.size, self.height, self.ob._repr_html_())\n",
    "        return u'<span style=\"font-size:{0}%; line-height:{1}%\">{2}</span>'.format(*repl_tuple)\n",
    "    \n",
    "## see https://stackoverflow.com/questions/14656852/how-to-use-pandas-dataframes-and-numpy-arrays-in-rpy2\n",
    "## and http://ipython.org/ipython-doc/rel-0.13/config/extensions/rmagic.html\n",
    "## note there's a ri2pandas() to convert back.\n",
    "## but note, rpy2 2.4.0 and later automagically translates dataframes: \n",
    "## https://stackoverflow.com/questions/20630121/pandas-how-to-convert-r-dataframe-back-to-pandas\n",
    "%load_ext rpy2.ipython\n",
    "#import rpy2.robjects.pandas2ri as p2r\n",
    "#rdf = p2r.pandas2ri(info)\n",
    "#%Rpush rdf"
   ]
  },
  {
   "cell_type": "code",
   "execution_count": 3,
   "metadata": {
    "collapsed": false
   },
   "outputs": [
    {
     "data": {
      "text/html": [
       "<span style=\"font-size:50%; line-height:120%\"><div>\n",
       "<table border=\"1\" class=\"dataframe\">\n",
       "  <thead>\n",
       "    <tr style=\"text-align: right;\">\n",
       "      <th></th>\n",
       "      <th>Sample name</th>\n",
       "      <th>Source</th>\n",
       "      <th>Barcode</th>\n",
       "      <th>Strain/condition</th>\n",
       "      <th>cultivation type</th>\n",
       "      <th>Chemostat/batch ID #</th>\n",
       "      <th>Description/condition details</th>\n",
       "      <th>Description/condition details -2</th>\n",
       "      <th>carbon source</th>\n",
       "      <th>electron donor</th>\n",
       "      <th>concentration (mM)</th>\n",
       "      <th>electron acceptor</th>\n",
       "      <th>growth rate per h</th>\n",
       "      <th>T0C</th>\n",
       "      <th>organisms</th>\n",
       "    </tr>\n",
       "    <tr>\n",
       "      <th>Sample name</th>\n",
       "      <th></th>\n",
       "      <th></th>\n",
       "      <th></th>\n",
       "      <th></th>\n",
       "      <th></th>\n",
       "      <th></th>\n",
       "      <th></th>\n",
       "      <th></th>\n",
       "      <th></th>\n",
       "      <th></th>\n",
       "      <th></th>\n",
       "      <th></th>\n",
       "      <th></th>\n",
       "      <th></th>\n",
       "      <th></th>\n",
       "    </tr>\n",
       "  </thead>\n",
       "  <tbody>\n",
       "    <tr>\n",
       "      <th>Sample_US-1505885</th>\n",
       "      <td>Sample_US-1505885</td>\n",
       "      <td>Labcorp</td>\n",
       "      <td>US-1505885</td>\n",
       "      <td>PS 37 C log 2</td>\n",
       "      <td>batch</td>\n",
       "      <td>NaN</td>\n",
       "      <td>pyruvate 80mM, sulfate 15mM 37C</td>\n",
       "      <td>sulfate respiration/growth</td>\n",
       "      <td>pyruvate 80mM</td>\n",
       "      <td>pyruvate</td>\n",
       "      <td>NaN</td>\n",
       "      <td>sulfate</td>\n",
       "      <td>NaN</td>\n",
       "      <td>37</td>\n",
       "      <td>D vulgaris Hildenborugh</td>\n",
       "    </tr>\n",
       "    <tr>\n",
       "      <th>Sample_US-1505888</th>\n",
       "      <td>Sample_US-1505888</td>\n",
       "      <td>Labcorp</td>\n",
       "      <td>US-1505888</td>\n",
       "      <td>LS 37C   log 1</td>\n",
       "      <td>batch</td>\n",
       "      <td>NaN</td>\n",
       "      <td>lactate 40mM, sulfate15mM 37C</td>\n",
       "      <td>sulfate respiration/growth</td>\n",
       "      <td>lactate 40mM</td>\n",
       "      <td>lactate</td>\n",
       "      <td>NaN</td>\n",
       "      <td>sulfate</td>\n",
       "      <td>NaN</td>\n",
       "      <td>37</td>\n",
       "      <td>D vulgaris Hildenborugh</td>\n",
       "    </tr>\n",
       "    <tr>\n",
       "      <th>Sample_US-1505895</th>\n",
       "      <td>Sample_US-1505895</td>\n",
       "      <td>Labcorp</td>\n",
       "      <td>US-1505895</td>\n",
       "      <td>LS 37C e. stat 1</td>\n",
       "      <td>batch</td>\n",
       "      <td>NaN</td>\n",
       "      <td>lactate 40mM, sulfate15mM 37C</td>\n",
       "      <td>fermentation</td>\n",
       "      <td>lactate 10mM</td>\n",
       "      <td>lactate</td>\n",
       "      <td>10</td>\n",
       "      <td>none</td>\n",
       "      <td>0</td>\n",
       "      <td>37</td>\n",
       "      <td>D vulgaris Hildenborugh</td>\n",
       "    </tr>\n",
       "  </tbody>\n",
       "</table>\n",
       "</div></span>"
      ],
      "text/plain": [
       "<__main__.sizeme instance at 0x7ffaf089fd40>"
      ]
     },
     "execution_count": 3,
     "metadata": {},
     "output_type": "execute_result"
    }
   ],
   "source": [
    "x = all_freqs['Desulfovibrio_vulgaris_Hildenborough_uid57645'].copy()\n",
    "sample_info = pd.read_excel('Sample_Info_COMPLETE.xlsx') ##,skiprows=[0])\n",
    "sample_info = sample_info.set_index( sample_info['Sample name'] )\n",
    "sample_infos = { k:sample_info.ix[all_freqs[k].columns.droplevel(1).values] for k in all_freqs.keys() }\n",
    "info = sample_infos['Desulfovibrio_vulgaris_Hildenborough_uid57645'].copy()\n",
    "sizeme(info.head(3),50,120)"
   ]
  },
  {
   "cell_type": "code",
   "execution_count": 5,
   "metadata": {
    "collapsed": false
   },
   "outputs": [
    {
     "name": "stdout",
     "output_type": "stream",
     "text": [
      "['DVU0001' 'DVU0002' 'DVU0003' ..., '__too_low_aQual' '__not_aligned'\n",
      " '__alignment_not_unique']\n"
     ]
    }
   ],
   "source": [
    "%Rpush info\n",
    "%Rpush x\n",
    "genes = x.index.values.astype('str')\n",
    "print(genes)\n",
    "%Rpush genes\n",
    "#%R save.image(\"Untitled1.RData\")"
   ]
  },
  {
   "cell_type": "code",
   "execution_count": 6,
   "metadata": {
    "collapsed": false
   },
   "outputs": [
    {
     "data": {
      "text/plain": [
       "NULL\n"
      ]
     },
     "metadata": {},
     "output_type": "display_data"
    }
   ],
   "source": [
    "%%R\n",
    "#    load(\"Untitled1.RData\")\n",
    "    good_gene = which(!substr(genes,1,2)=='__' & apply(x,1,sum)>0)\n",
    "    x = x[good_gene,]\n",
    "    rownames(x)=genes[good_gene]\n",
    "    x.orig = x = as.matrix(x); NULL"
   ]
  },
  {
   "cell_type": "markdown",
   "metadata": {},
   "source": [
    "##### Note I now think that we have to use all genes and use the non-centered-scaled data (ranked?) to do good classification."
   ]
  },
  {
   "cell_type": "markdown",
   "metadata": {},
   "source": [
    "### Train classifier on growth rate"
   ]
  },
  {
   "cell_type": "code",
   "execution_count": null,
   "metadata": {
    "collapsed": false
   },
   "outputs": [],
   "source": [
    "%%R\n",
    "require(Boruta)\n",
    "doMC:::registerDoMC(cores=8)\n",
    "\n",
    "gr=info$growth.rate.per.h; gr=as.numeric(as.character(gr)); gr[is.na(gr)]=0.2\n",
    "Y <- factor( ifelse(gr==0, 'no_growth', ifelse(gr>=0.2, 'fast_growth', 'med_growth')) )\n",
    "\n",
    "B.gr1 <- Boruta(t(x), Y, getImp=getImpFerns, ferns=10000, doTrace=0)\n",
    "B.gr2 <- Boruta(t(x), Y, getImp=getImpRfZ, ntree=10000, doTrace=0)\n",
    "NULL;"
   ]
  },
  {
   "cell_type": "code",
   "execution_count": null,
   "metadata": {
    "collapsed": false
   },
   "outputs": [],
   "source": [
    "%%R\n",
    "print(B.gr1)\n",
    "print(B.gr1$finalDecision[B.gr1$finalDecision=='Confirmed'])\n",
    "print(' ')\n",
    "print(B.gr2)\n",
    "print(B.gr2$finalDecision[B.gr2$finalDecision=='Confirmed'])\n",
    "NULL;"
   ]
  },
  {
   "cell_type": "code",
   "execution_count": 49,
   "metadata": {
    "collapsed": false
   },
   "outputs": [
    {
     "name": "stdout",
     "output_type": "stream",
     "text": [
      "DVU0033 DVU0146 DVU0147 DVU0148 DVU0149 DVU0150 DVU0152 DVU0169 DVU0267 DVU0277 DVU0305 DVU0378 DVU0471 DVU0501 DVU0503 DVU0530 DVU0532 DVU0536 DVU0549 DVU0566 DVU0576 DVU0585 DVU0598 DVU0599 DVU0684 DVU0692 DVU0701 DVU0707 DVU0794 DVU0799 DVU0808 DVU0810 DVU0879 DVU0920 DVU0936 DVU0967 DVU1037 DVU1060 DVU1069 DVU1109 DVU1236 DVU1257 DVU1258 DVU1349 DVU1365 DVU1368 DVU1412 DVU1470 DVU1537 DVU1548 DVU1559 DVU1621 DVU1655 DVU1786 DVU1790 DVU1840 DVU1841 DVU1873 DVU1891 DVU1912 DVU1936 DVU1950 DVU1964 DVU1971 DVU2069 DVU2105 DVU2107 DVU2108 DVU2110 DVU2130 DVU2135 DVU2235 DVU2251 DVU2256 DVU2286 DVU2287 DVU2289 DVU2290 DVU2291 DVU2292 DVU2294 DVU2298 DVU2299 DVU2300 DVU2350 DVU2383 DVU2424 DVU2451 DVU2472 DVU2569 DVU2974 DVU2975 DVU2983 DVU2984 DVU2985 DVU3025 DVU3026 DVU3027 DVU3028 DVU3029 DVU3030 DVU3031 DVU3032 DVU3033 DVU3069 DVU3083 DVU3084 DVU3132 DVU3133 DVU3134 DVU3148 DVU3161 DVU3211 DVU3217 DVU3234 DVU3270 DVU3307 DVU3308 DVU_tRNA.Thr.3 Dv23SA Dv23SB Dv23SD\n",
      "http://networks.systemsbiology.net/search?q=%22DVU0033%22+%22DVU0146%22+%22DVU0147%22+%22DVU0148%22+%22DVU0149%22+%22DVU0150%22+%22DVU0152%22+%22DVU0169%22+%22DVU0267%22+%22DVU0277%22+%22DVU0305%22+%22DVU0378%22+%22DVU0471%22+%22DVU0501%22+%22DVU0503%22+%22DVU0530%22+%22DVU0532%22+%22DVU0536%22+%22DVU0549%22+%22DVU0566%22+%22DVU0576%22+%22DVU0585%22+%22DVU0598%22+%22DVU0599%22+%22DVU0684%22+%22DVU0692%22+%22DVU0701%22+%22DVU0707%22+%22DVU0794%22+%22DVU0799%22+%22DVU0808%22+%22DVU0810%22+%22DVU0879%22+%22DVU0920%22+%22DVU0936%22+%22DVU0967%22+%22DVU1037%22+%22DVU1060%22+%22DVU1069%22+%22DVU1109%22+%22DVU1236%22+%22DVU1257%22+%22DVU1258%22+%22DVU1349%22+%22DVU1365%22+%22DVU1368%22+%22DVU1412%22+%22DVU1470%22+%22DVU1537%22+%22DVU1548%22+%22DVU1559%22+%22DVU1621%22+%22DVU1655%22+%22DVU1786%22+%22DVU1790%22+%22DVU1840%22+%22DVU1841%22+%22DVU1873%22+%22DVU1891%22+%22DVU1912%22+%22DVU1936%22+%22DVU1950%22+%22DVU1964%22+%22DVU1971%22+%22DVU2069%22+%22DVU2105%22+%22DVU2107%22+%22DVU2108%22+%22DVU2110%22+%22DVU2130%22+%22DVU2135%22+%22DVU2235%22+%22DVU2251%22+%22DVU2256%22+%22DVU2286%22+%22DVU2287%22+%22DVU2289%22+%22DVU2290%22+%22DVU2291%22+%22DVU2292%22+%22DVU2294%22+%22DVU2298%22+%22DVU2299%22+%22DVU2300%22+%22DVU2350%22+%22DVU2383%22+%22DVU2424%22+%22DVU2451%22+%22DVU2472%22+%22DVU2569%22+%22DVU2974%22+%22DVU2975%22+%22DVU2983%22+%22DVU2984%22+%22DVU2985%22+%22DVU3025%22+%22DVU3026%22+%22DVU3027%22+%22DVU3028%22+%22DVU3029%22+%22DVU3030%22+%22DVU3031%22+%22DVU3032%22+%22DVU3033%22+%22DVU3069%22+%22DVU3083%22+%22DVU3084%22+%22DVU3132%22+%22DVU3133%22+%22DVU3134%22+%22DVU3148%22+%22DVU3161%22+%22DVU3211%22+%22DVU3217%22+%22DVU3234%22+%22DVU3270%22+%22DVU3307%22+%22DVU3308%22+%22DVU_tRNA.Thr.3%22+%22Dv23SA%22+%22Dv23SB%22+%22Dv23SD%22\n"
     ]
    },
    {
     "data": {
      "text/html": [
       "\n",
       "        <iframe\n",
       "            width=\"100%\"\n",
       "            height=\"250\"\n",
       "            src=\"http://networks.systemsbiology.net/search?q=%22DVU0033%22+%22DVU0146%22+%22DVU0147%22+%22DVU0148%22+%22DVU0149%22+%22DVU0150%22+%22DVU0152%22+%22DVU0169%22+%22DVU0267%22+%22DVU0277%22+%22DVU0305%22+%22DVU0378%22+%22DVU0471%22+%22DVU0501%22+%22DVU0503%22+%22DVU0530%22+%22DVU0532%22+%22DVU0536%22+%22DVU0549%22+%22DVU0566%22+%22DVU0576%22+%22DVU0585%22+%22DVU0598%22+%22DVU0599%22+%22DVU0684%22+%22DVU0692%22+%22DVU0701%22+%22DVU0707%22+%22DVU0794%22+%22DVU0799%22+%22DVU0808%22+%22DVU0810%22+%22DVU0879%22+%22DVU0920%22+%22DVU0936%22+%22DVU0967%22+%22DVU1037%22+%22DVU1060%22+%22DVU1069%22+%22DVU1109%22+%22DVU1236%22+%22DVU1257%22+%22DVU1258%22+%22DVU1349%22+%22DVU1365%22+%22DVU1368%22+%22DVU1412%22+%22DVU1470%22+%22DVU1537%22+%22DVU1548%22+%22DVU1559%22+%22DVU1621%22+%22DVU1655%22+%22DVU1786%22+%22DVU1790%22+%22DVU1840%22+%22DVU1841%22+%22DVU1873%22+%22DVU1891%22+%22DVU1912%22+%22DVU1936%22+%22DVU1950%22+%22DVU1964%22+%22DVU1971%22+%22DVU2069%22+%22DVU2105%22+%22DVU2107%22+%22DVU2108%22+%22DVU2110%22+%22DVU2130%22+%22DVU2135%22+%22DVU2235%22+%22DVU2251%22+%22DVU2256%22+%22DVU2286%22+%22DVU2287%22+%22DVU2289%22+%22DVU2290%22+%22DVU2291%22+%22DVU2292%22+%22DVU2294%22+%22DVU2298%22+%22DVU2299%22+%22DVU2300%22+%22DVU2350%22+%22DVU2383%22+%22DVU2424%22+%22DVU2451%22+%22DVU2472%22+%22DVU2569%22+%22DVU2974%22+%22DVU2975%22+%22DVU2983%22+%22DVU2984%22+%22DVU2985%22+%22DVU3025%22+%22DVU3026%22+%22DVU3027%22+%22DVU3028%22+%22DVU3029%22+%22DVU3030%22+%22DVU3031%22+%22DVU3032%22+%22DVU3033%22+%22DVU3069%22+%22DVU3083%22+%22DVU3084%22+%22DVU3132%22+%22DVU3133%22+%22DVU3134%22+%22DVU3148%22+%22DVU3161%22+%22DVU3211%22+%22DVU3217%22+%22DVU3234%22+%22DVU3270%22+%22DVU3307%22+%22DVU3308%22+%22DVU_tRNA.Thr.3%22+%22Dv23SA%22+%22Dv23SB%22+%22Dv23SD%22\"\n",
       "            frameborder=\"0\"\n",
       "            allowfullscreen\n",
       "        ></iframe>\n",
       "        "
      ],
      "text/plain": [
       "<IPython.lib.display.IFrame at 0x7f33a7d53090>"
      ]
     },
     "execution_count": 49,
     "metadata": {},
     "output_type": "execute_result"
    }
   ],
   "source": [
    "%R imp_vars = names(B.gr1$finalDecision[B.gr1$finalDecision=='Confirmed'])\n",
    "%Rpull imp_vars\n",
    "\n",
    "query = '%22'+'%22+%22'.join(imp_vars)+'%22'\n",
    "print ' '.join(imp_vars)\n",
    "print 'http://networks.systemsbiology.net/search?q='+query\n",
    "from IPython.display import IFrame\n",
    "IFrame('http://networks.systemsbiology.net/search?q='+query, width='100%', height=250)"
   ]
  },
  {
   "cell_type": "markdown",
   "metadata": {},
   "source": [
    "### Train classifier on electron donor"
   ]
  },
  {
   "cell_type": "code",
   "execution_count": 32,
   "metadata": {
    "collapsed": false
   },
   "outputs": [
    {
     "data": {
      "text/plain": [
       "NULL\n"
      ]
     },
     "metadata": {},
     "output_type": "display_data"
    }
   ],
   "source": [
    "%%R\n",
    "Y <- info$electron.donor\n",
    "B.ed1 <- Boruta(t(x), Y, getImp=getImpFerns, ferns=10000, doTrace=0)\n",
    "B.ed2 <- Boruta(t(x), Y, getImp=getImpRfZ, ntree=10000, doTrace=0)\n",
    "NULL;"
   ]
  },
  {
   "cell_type": "code",
   "execution_count": null,
   "metadata": {
    "collapsed": false
   },
   "outputs": [],
   "source": [
    "%%R\n",
    "print(B.ed1)\n",
    "print(B.ed1$finalDecision[B.ed1$finalDecision=='Confirmed'])\n",
    "print('')\n",
    "print(B.ed2)\n",
    "print(B.ed2$finalDecision[B.ed2$finalDecision=='Confirmed'])\n",
    "NULL"
   ]
  },
  {
   "cell_type": "code",
   "execution_count": 48,
   "metadata": {
    "collapsed": false
   },
   "outputs": [
    {
     "name": "stdout",
     "output_type": "stream",
     "text": [
      "DVU0007 DVU0019 DVU0028 DVU0029 DVU0031 DVU0036 DVU0040 DVU0041 DVU0042 DVU0053 DVU0072 DVU0073 DVU0139 DVU0146 DVU0148 DVU0149 DVU0150 DVU0169 DVU0180 DVU0286 DVU0333 DVU0334 DVU0359 DVU0392 DVU0413 DVU0415 DVU0425 DVU0429 DVU0430 DVU0431 DVU0432 DVU0433 DVU0434 DVU0496 DVU0515 DVU0520 DVU0532 DVU0535 DVU0536 DVU0547 DVU0549 DVU0550 DVU0582 DVU0613 DVU0614 DVU0617 DVU0648 DVU0649 DVU0654 DVU0658 DVU0662 DVU0677 DVU0682 DVU0712 DVU0741 DVU0742 DVU0745 DVU0767 DVU0773 DVU0801 DVU0819 DVU0845 DVU0846 DVU0847 DVU0848 DVU0849 DVU0850 DVU0851 DVU0881 DVU0890 DVU0900 DVU0920 DVU0979 DVU0981 DVU0987 DVU1012 DVU1032 DVU1073 DVU1109 DVU1121 DVU1180 DVU1187 DVU1203 DVU1295 DVU1296 DVU1341 DVU1363 DVU1376 DVU1396 DVU1404 DVU1407 DVU1411 DVU1441 DVU1442 DVU1444 DVU1481 DVU1488 DVU1524 DVU1545 DVU1569 DVU1613 DVU1614 DVU1636 DVU1669 DVU1670 DVU1674 DVU1822 DVU1877 DVU1917 DVU1923 DVU1932 DVU1990 DVU2091 DVU2092 DVU2093 DVU2094 DVU2095 DVU2105 DVU2139 DVU2141 DVU2142 DVU2204 DVU2285 DVU2286 DVU2287 DVU2288 DVU2289 DVU2290 DVU2291 DVU2292 DVU2293 DVU2297 DVU2326 DVU2331 DVU2354 DVU2405 DVU2421 DVU2422 DVU2430 DVU2451 DVU2452 DVU2464 DVU2471 DVU2508 DVU2509 DVU2510 DVU2511 DVU2517 DVU2529 DVU2530 DVU2575 DVU2590 DVU2612 DVU2630 DVU2650 DVU2652 DVU2661 DVU2663 DVU2665 DVU2666 DVU2696 DVU2697 DVU2747 DVU2751 DVU2752 DVU2754 DVU2755 DVU2763 DVU2767 DVU2783 DVU2784 DVU2792 DVU2794 DVU2797 DVU2798 DVU2801 DVU2822 DVU2839 DVU2970 DVU2997 DVU3022 DVU3024 DVU3025 DVU3026 DVU3027 DVU3028 DVU3029 DVU3030 DVU3031 DVU3032 DVU3033 DVU3037 DVU3047 DVU3062 DVU3064 DVU3128 DVU3180 DVU3187 DVU3225 DVU3278 DVU3282 DVU3334 DVU3358 DVU4013 DVU4015 DVU4016 DVU4027 DVU_tRNA.Leu.7 Dv16SB Dv16SC Dv16SE\n",
      "http://networks.systemsbiology.net/search?q=%22DVU0007%22+%22DVU0019%22+%22DVU0028%22+%22DVU0029%22+%22DVU0031%22+%22DVU0036%22+%22DVU0040%22+%22DVU0041%22+%22DVU0042%22+%22DVU0053%22+%22DVU0072%22+%22DVU0073%22+%22DVU0139%22+%22DVU0146%22+%22DVU0148%22+%22DVU0149%22+%22DVU0150%22+%22DVU0169%22+%22DVU0180%22+%22DVU0286%22+%22DVU0333%22+%22DVU0334%22+%22DVU0359%22+%22DVU0392%22+%22DVU0413%22+%22DVU0415%22+%22DVU0425%22+%22DVU0429%22+%22DVU0430%22+%22DVU0431%22+%22DVU0432%22+%22DVU0433%22+%22DVU0434%22+%22DVU0496%22+%22DVU0515%22+%22DVU0520%22+%22DVU0532%22+%22DVU0535%22+%22DVU0536%22+%22DVU0547%22+%22DVU0549%22+%22DVU0550%22+%22DVU0582%22+%22DVU0613%22+%22DVU0614%22+%22DVU0617%22+%22DVU0648%22+%22DVU0649%22+%22DVU0654%22+%22DVU0658%22+%22DVU0662%22+%22DVU0677%22+%22DVU0682%22+%22DVU0712%22+%22DVU0741%22+%22DVU0742%22+%22DVU0745%22+%22DVU0767%22+%22DVU0773%22+%22DVU0801%22+%22DVU0819%22+%22DVU0845%22+%22DVU0846%22+%22DVU0847%22+%22DVU0848%22+%22DVU0849%22+%22DVU0850%22+%22DVU0851%22+%22DVU0881%22+%22DVU0890%22+%22DVU0900%22+%22DVU0920%22+%22DVU0979%22+%22DVU0981%22+%22DVU0987%22+%22DVU1012%22+%22DVU1032%22+%22DVU1073%22+%22DVU1109%22+%22DVU1121%22+%22DVU1180%22+%22DVU1187%22+%22DVU1203%22+%22DVU1295%22+%22DVU1296%22+%22DVU1341%22+%22DVU1363%22+%22DVU1376%22+%22DVU1396%22+%22DVU1404%22+%22DVU1407%22+%22DVU1411%22+%22DVU1441%22+%22DVU1442%22+%22DVU1444%22+%22DVU1481%22+%22DVU1488%22+%22DVU1524%22+%22DVU1545%22+%22DVU1569%22+%22DVU1613%22+%22DVU1614%22+%22DVU1636%22+%22DVU1669%22+%22DVU1670%22+%22DVU1674%22+%22DVU1822%22+%22DVU1877%22+%22DVU1917%22+%22DVU1923%22+%22DVU1932%22+%22DVU1990%22+%22DVU2091%22+%22DVU2092%22+%22DVU2093%22+%22DVU2094%22+%22DVU2095%22+%22DVU2105%22+%22DVU2139%22+%22DVU2141%22+%22DVU2142%22+%22DVU2204%22+%22DVU2285%22+%22DVU2286%22+%22DVU2287%22+%22DVU2288%22+%22DVU2289%22+%22DVU2290%22+%22DVU2291%22+%22DVU2292%22+%22DVU2293%22+%22DVU2297%22+%22DVU2326%22+%22DVU2331%22+%22DVU2354%22+%22DVU2405%22+%22DVU2421%22+%22DVU2422%22+%22DVU2430%22+%22DVU2451%22+%22DVU2452%22+%22DVU2464%22+%22DVU2471%22+%22DVU2508%22+%22DVU2509%22+%22DVU2510%22+%22DVU2511%22+%22DVU2517%22+%22DVU2529%22+%22DVU2530%22+%22DVU2575%22+%22DVU2590%22+%22DVU2612%22+%22DVU2630%22+%22DVU2650%22+%22DVU2652%22+%22DVU2661%22+%22DVU2663%22+%22DVU2665%22+%22DVU2666%22+%22DVU2696%22+%22DVU2697%22+%22DVU2747%22+%22DVU2751%22+%22DVU2752%22+%22DVU2754%22+%22DVU2755%22+%22DVU2763%22+%22DVU2767%22+%22DVU2783%22+%22DVU2784%22+%22DVU2792%22+%22DVU2794%22+%22DVU2797%22+%22DVU2798%22+%22DVU2801%22+%22DVU2822%22+%22DVU2839%22+%22DVU2970%22+%22DVU2997%22+%22DVU3022%22+%22DVU3024%22+%22DVU3025%22+%22DVU3026%22+%22DVU3027%22+%22DVU3028%22+%22DVU3029%22+%22DVU3030%22+%22DVU3031%22+%22DVU3032%22+%22DVU3033%22+%22DVU3037%22+%22DVU3047%22+%22DVU3062%22+%22DVU3064%22+%22DVU3128%22+%22DVU3180%22+%22DVU3187%22+%22DVU3225%22+%22DVU3278%22+%22DVU3282%22+%22DVU3334%22+%22DVU3358%22+%22DVU4013%22+%22DVU4015%22+%22DVU4016%22+%22DVU4027%22+%22DVU_tRNA.Leu.7%22+%22Dv16SB%22+%22Dv16SC%22+%22Dv16SE%22\n"
     ]
    },
    {
     "data": {
      "text/html": [
       "\n",
       "        <iframe\n",
       "            width=\"100%\"\n",
       "            height=\"250\"\n",
       "            src=\"http://networks.systemsbiology.net/search?q=%22DVU0007%22+%22DVU0019%22+%22DVU0028%22+%22DVU0029%22+%22DVU0031%22+%22DVU0036%22+%22DVU0040%22+%22DVU0041%22+%22DVU0042%22+%22DVU0053%22+%22DVU0072%22+%22DVU0073%22+%22DVU0139%22+%22DVU0146%22+%22DVU0148%22+%22DVU0149%22+%22DVU0150%22+%22DVU0169%22+%22DVU0180%22+%22DVU0286%22+%22DVU0333%22+%22DVU0334%22+%22DVU0359%22+%22DVU0392%22+%22DVU0413%22+%22DVU0415%22+%22DVU0425%22+%22DVU0429%22+%22DVU0430%22+%22DVU0431%22+%22DVU0432%22+%22DVU0433%22+%22DVU0434%22+%22DVU0496%22+%22DVU0515%22+%22DVU0520%22+%22DVU0532%22+%22DVU0535%22+%22DVU0536%22+%22DVU0547%22+%22DVU0549%22+%22DVU0550%22+%22DVU0582%22+%22DVU0613%22+%22DVU0614%22+%22DVU0617%22+%22DVU0648%22+%22DVU0649%22+%22DVU0654%22+%22DVU0658%22+%22DVU0662%22+%22DVU0677%22+%22DVU0682%22+%22DVU0712%22+%22DVU0741%22+%22DVU0742%22+%22DVU0745%22+%22DVU0767%22+%22DVU0773%22+%22DVU0801%22+%22DVU0819%22+%22DVU0845%22+%22DVU0846%22+%22DVU0847%22+%22DVU0848%22+%22DVU0849%22+%22DVU0850%22+%22DVU0851%22+%22DVU0881%22+%22DVU0890%22+%22DVU0900%22+%22DVU0920%22+%22DVU0979%22+%22DVU0981%22+%22DVU0987%22+%22DVU1012%22+%22DVU1032%22+%22DVU1073%22+%22DVU1109%22+%22DVU1121%22+%22DVU1180%22+%22DVU1187%22+%22DVU1203%22+%22DVU1295%22+%22DVU1296%22+%22DVU1341%22+%22DVU1363%22+%22DVU1376%22+%22DVU1396%22+%22DVU1404%22+%22DVU1407%22+%22DVU1411%22+%22DVU1441%22+%22DVU1442%22+%22DVU1444%22+%22DVU1481%22+%22DVU1488%22+%22DVU1524%22+%22DVU1545%22+%22DVU1569%22+%22DVU1613%22+%22DVU1614%22+%22DVU1636%22+%22DVU1669%22+%22DVU1670%22+%22DVU1674%22+%22DVU1822%22+%22DVU1877%22+%22DVU1917%22+%22DVU1923%22+%22DVU1932%22+%22DVU1990%22+%22DVU2091%22+%22DVU2092%22+%22DVU2093%22+%22DVU2094%22+%22DVU2095%22+%22DVU2105%22+%22DVU2139%22+%22DVU2141%22+%22DVU2142%22+%22DVU2204%22+%22DVU2285%22+%22DVU2286%22+%22DVU2287%22+%22DVU2288%22+%22DVU2289%22+%22DVU2290%22+%22DVU2291%22+%22DVU2292%22+%22DVU2293%22+%22DVU2297%22+%22DVU2326%22+%22DVU2331%22+%22DVU2354%22+%22DVU2405%22+%22DVU2421%22+%22DVU2422%22+%22DVU2430%22+%22DVU2451%22+%22DVU2452%22+%22DVU2464%22+%22DVU2471%22+%22DVU2508%22+%22DVU2509%22+%22DVU2510%22+%22DVU2511%22+%22DVU2517%22+%22DVU2529%22+%22DVU2530%22+%22DVU2575%22+%22DVU2590%22+%22DVU2612%22+%22DVU2630%22+%22DVU2650%22+%22DVU2652%22+%22DVU2661%22+%22DVU2663%22+%22DVU2665%22+%22DVU2666%22+%22DVU2696%22+%22DVU2697%22+%22DVU2747%22+%22DVU2751%22+%22DVU2752%22+%22DVU2754%22+%22DVU2755%22+%22DVU2763%22+%22DVU2767%22+%22DVU2783%22+%22DVU2784%22+%22DVU2792%22+%22DVU2794%22+%22DVU2797%22+%22DVU2798%22+%22DVU2801%22+%22DVU2822%22+%22DVU2839%22+%22DVU2970%22+%22DVU2997%22+%22DVU3022%22+%22DVU3024%22+%22DVU3025%22+%22DVU3026%22+%22DVU3027%22+%22DVU3028%22+%22DVU3029%22+%22DVU3030%22+%22DVU3031%22+%22DVU3032%22+%22DVU3033%22+%22DVU3037%22+%22DVU3047%22+%22DVU3062%22+%22DVU3064%22+%22DVU3128%22+%22DVU3180%22+%22DVU3187%22+%22DVU3225%22+%22DVU3278%22+%22DVU3282%22+%22DVU3334%22+%22DVU3358%22+%22DVU4013%22+%22DVU4015%22+%22DVU4016%22+%22DVU4027%22+%22DVU_tRNA.Leu.7%22+%22Dv16SB%22+%22Dv16SC%22+%22Dv16SE%22\"\n",
       "            frameborder=\"0\"\n",
       "            allowfullscreen\n",
       "        ></iframe>\n",
       "        "
      ],
      "text/plain": [
       "<IPython.lib.display.IFrame at 0x7f33a7dba810>"
      ]
     },
     "execution_count": 48,
     "metadata": {},
     "output_type": "execute_result"
    }
   ],
   "source": [
    "%R imp_vars = names(B.ed1$finalDecision[B.ed1$finalDecision=='Confirmed'])\n",
    "%Rpull imp_vars\n",
    "\n",
    "query = '%22'+'%22+%22'.join(imp_vars)+'%22'\n",
    "print ' '.join(imp_vars)\n",
    "print 'http://networks.systemsbiology.net/search?q='+query\n",
    "from IPython.display import IFrame\n",
    "IFrame('http://networks.systemsbiology.net/search?q='+query, width='100%', height=250)"
   ]
  },
  {
   "cell_type": "code",
   "execution_count": 35,
   "metadata": {
    "collapsed": false
   },
   "outputs": [
    {
     "data": {
      "image/png": "[encoded data removed]"
     },
     "metadata": {},
     "output_type": "display_data"
    }
   ],
   "source": [
    "%R xx=cbind(x[,Y=='lactate'],x[,Y=='pyruvate'],x[,Y=='hydrogen']); matplot(t(xx[imp_vars,,drop=F]),typ='l')\n",
    "#%R xx=cbind(x.orig[,Y=='lactate'],x.orig[,Y=='pyruvate'],x.orig[,Y=='hydrogen']); matplot(t(xx[imp_vars,,drop=F]),typ='l')"
   ]
  },
  {
   "cell_type": "markdown",
   "metadata": {},
   "source": [
    "### Train classifier on electron acceptor"
   ]
  },
  {
   "cell_type": "code",
   "execution_count": 36,
   "metadata": {
    "collapsed": false
   },
   "outputs": [
    {
     "data": {
      "text/plain": [
       "NULL\n"
      ]
     },
     "metadata": {},
     "output_type": "display_data"
    }
   ],
   "source": [
    "%%R\n",
    "Y <- info$electron.acceptor\n",
    "B.ea1 <- Boruta(t(x), Y, getImp=getImpFerns, ferns=10000, doTrace=0)\n",
    "B.ea2 <- Boruta(t(x), Y, getImp=getImpRfZ, ntree=10000, doTrace=0)\n",
    "NULL;"
   ]
  },
  {
   "cell_type": "code",
   "execution_count": null,
   "metadata": {
    "collapsed": false
   },
   "outputs": [],
   "source": [
    "%%R\n",
    "print(B.ea1)\n",
    "print(B.ea1$finalDecision[B.ea1$finalDecision=='Confirmed'])\n",
    "print('')\n",
    "print(B.ea2)\n",
    "print(B.ea2$finalDecision[B.ea2$finalDecision=='Confirmed'])\n",
    "NULL"
   ]
  },
  {
   "cell_type": "code",
   "execution_count": 47,
   "metadata": {
    "collapsed": false
   },
   "outputs": [
    {
     "name": "stdout",
     "output_type": "stream",
     "text": [
      "DVU0034 DVU0053 DVU0056 DVU0060 DVU0085 DVU0139 DVU0140 DVU0145 DVU0146 DVU0147 DVU0148 DVU0149 DVU0150 DVU0152 DVU0161 DVU0162 DVU0170 DVU0172 DVU0173 DVU0186 DVU0240 DVU0253 DVU0259 DVU0260 DVU0261 DVU0262 DVU0263 DVU0264 DVU0265 DVU0266 DVU0267 DVU0269 DVU0270 DVU0271 DVU0273 DVU0295 DVU0304 DVU0305 DVU0307 DVU0309 DVU0311 DVU0312 DVU0313 DVU0314 DVU0315 DVU0316 DVU0317 DVU0318 DVU0320 DVU0322 DVU0331 DVU0367 DVU0378 DVU0401 DVU0409 DVU0410 DVU0423 DVU0425 DVU0429 DVU0430 DVU0431 DVU0432 DVU0433 DVU0434 DVU0441 DVU0486 DVU0501 DVU0504 DVU0505 DVU0512 DVU0513 DVU0514 DVU0515 DVU0517 DVU0518 DVU0519 DVU0520 DVU0523 DVU0524 DVU0529 DVU0530 DVU0531 DVU0532 DVU0533 DVU0534 DVU0535 DVU0536 DVU0549 DVU0550 DVU0586 DVU0587 DVU0588 DVU0591 DVU0592 DVU0594 DVU0595 DVU0607 DVU0614 DVU0616 DVU0617 DVU0668 DVU0675 DVU0683 DVU0700 DVU0713 DVU0715 DVU0716 DVU0752 DVU0763 DVU0799 DVU0835 DVU0836 DVU0837 DVU0838 DVU0839 DVU0858 DVU0862 DVU0863 DVU0879 DVU0880 DVU0920 DVU0927 DVU0928 DVU0936 DVU0951 DVU0976 DVU0977 DVU0997 DVU1032 DVU1073 DVU1170 DVU1171 DVU1176 DVU1177 DVU1179 DVU1190 DVU1210 DVU1260 DVU1286 DVU1295 DVU1296 DVU1337 DVU1338 DVU1339 DVU1411 DVU1441 DVU1442 DVU1443 DVU1444 DVU1445 DVU1470 DVU1473 DVU1524 DVU1534 DVU1536 DVU1537 DVU1545 DVU1549 DVU1585 DVU1588 DVU1592 DVU1593 DVU1617 DVU1618 DVU1629 DVU1636 DVU1664 DVU1677 DVU1781 DVU1805 DVU1840 DVU1854 DVU1869 DVU1873 DVU1879 DVU1880 DVU1891 DVU1912 DVU1923 DVU1932 DVU1960 DVU1962 DVU1963 DVU1980 DVU2069 DVU2079 DVU2081 DVU2082 DVU2085 DVU2103 DVU2104 DVU2105 DVU2107 DVU2108 DVU2109 DVU2110 DVU2119 DVU2135 DVU2201 DVU2211 DVU2212 DVU2232 DVU2286 DVU2287 DVU2288 DVU2289 DVU2290 DVU2291 DVU2292 DVU2293 DVU2294 DVU2297 DVU2298 DVU2299 DVU2300 DVU2324 DVU2333 DVU2340 DVU2341 DVU2342 DVU2356 DVU2371 DVU2398 DVU2399 DVU2400 DVU2401 DVU2403 DVU2405 DVU2422 DVU2444 DVU2445 DVU2448 DVU2451 DVU2452 DVU2456 DVU2513 DVU2535 DVU2543 DVU2544 DVU2548 DVU2552 DVU2553 DVU2590 DVU2615 DVU2616 DVU2652 DVU2673 DVU2675 DVU2676 DVU2679 DVU2769 DVU2775 DVU2912 DVU2913 DVU2922 DVU2927 DVU2928 DVU2935 DVU2940 DVU2948 DVU2950 DVU2958 DVU2959 DVU2966 DVU2982 DVU2983 DVU2984 DVU2985 DVU2991 DVU2992 DVU3002 DVU3003 DVU3004 DVU3013 DVU3018 DVU3019 DVU3020 DVU3024 DVU3025 DVU3026 DVU3027 DVU3028 DVU3029 DVU3030 DVU3031 DVU3032 DVU3033 DVU3083 DVU3090 DVU3107 DVU3117 DVU3155 DVU3161 DVU3211 DVU3213 DVU3231 DVU3232 DVU3234 DVU3245 DVU3282 DVU3287 DVU3330 DVU3387 DVU4001 DVU4007 DVU_tRNA.Thr.3 Dv16SA Dv16SB Dv16SE Dv23SD Dv5SC\n",
      "http://networks.systemsbiology.net/search?q=%22DVU0034%22+%22DVU0053%22+%22DVU0056%22+%22DVU0060%22+%22DVU0085%22+%22DVU0139%22+%22DVU0140%22+%22DVU0145%22+%22DVU0146%22+%22DVU0147%22+%22DVU0148%22+%22DVU0149%22+%22DVU0150%22+%22DVU0152%22+%22DVU0161%22+%22DVU0162%22+%22DVU0170%22+%22DVU0172%22+%22DVU0173%22+%22DVU0186%22+%22DVU0240%22+%22DVU0253%22+%22DVU0259%22+%22DVU0260%22+%22DVU0261%22+%22DVU0262%22+%22DVU0263%22+%22DVU0264%22+%22DVU0265%22+%22DVU0266%22+%22DVU0267%22+%22DVU0269%22+%22DVU0270%22+%22DVU0271%22+%22DVU0273%22+%22DVU0295%22+%22DVU0304%22+%22DVU0305%22+%22DVU0307%22+%22DVU0309%22+%22DVU0311%22+%22DVU0312%22+%22DVU0313%22+%22DVU0314%22+%22DVU0315%22+%22DVU0316%22+%22DVU0317%22+%22DVU0318%22+%22DVU0320%22+%22DVU0322%22+%22DVU0331%22+%22DVU0367%22+%22DVU0378%22+%22DVU0401%22+%22DVU0409%22+%22DVU0410%22+%22DVU0423%22+%22DVU0425%22+%22DVU0429%22+%22DVU0430%22+%22DVU0431%22+%22DVU0432%22+%22DVU0433%22+%22DVU0434%22+%22DVU0441%22+%22DVU0486%22+%22DVU0501%22+%22DVU0504%22+%22DVU0505%22+%22DVU0512%22+%22DVU0513%22+%22DVU0514%22+%22DVU0515%22+%22DVU0517%22+%22DVU0518%22+%22DVU0519%22+%22DVU0520%22+%22DVU0523%22+%22DVU0524%22+%22DVU0529%22+%22DVU0530%22+%22DVU0531%22+%22DVU0532%22+%22DVU0533%22+%22DVU0534%22+%22DVU0535%22+%22DVU0536%22+%22DVU0549%22+%22DVU0550%22+%22DVU0586%22+%22DVU0587%22+%22DVU0588%22+%22DVU0591%22+%22DVU0592%22+%22DVU0594%22+%22DVU0595%22+%22DVU0607%22+%22DVU0614%22+%22DVU0616%22+%22DVU0617%22+%22DVU0668%22+%22DVU0675%22+%22DVU0683%22+%22DVU0700%22+%22DVU0713%22+%22DVU0715%22+%22DVU0716%22+%22DVU0752%22+%22DVU0763%22+%22DVU0799%22+%22DVU0835%22+%22DVU0836%22+%22DVU0837%22+%22DVU0838%22+%22DVU0839%22+%22DVU0858%22+%22DVU0862%22+%22DVU0863%22+%22DVU0879%22+%22DVU0880%22+%22DVU0920%22+%22DVU0927%22+%22DVU0928%22+%22DVU0936%22+%22DVU0951%22+%22DVU0976%22+%22DVU0977%22+%22DVU0997%22+%22DVU1032%22+%22DVU1073%22+%22DVU1170%22+%22DVU1171%22+%22DVU1176%22+%22DVU1177%22+%22DVU1179%22+%22DVU1190%22+%22DVU1210%22+%22DVU1260%22+%22DVU1286%22+%22DVU1295%22+%22DVU1296%22+%22DVU1337%22+%22DVU1338%22+%22DVU1339%22+%22DVU1411%22+%22DVU1441%22+%22DVU1442%22+%22DVU1443%22+%22DVU1444%22+%22DVU1445%22+%22DVU1470%22+%22DVU1473%22+%22DVU1524%22+%22DVU1534%22+%22DVU1536%22+%22DVU1537%22+%22DVU1545%22+%22DVU1549%22+%22DVU1585%22+%22DVU1588%22+%22DVU1592%22+%22DVU1593%22+%22DVU1617%22+%22DVU1618%22+%22DVU1629%22+%22DVU1636%22+%22DVU1664%22+%22DVU1677%22+%22DVU1781%22+%22DVU1805%22+%22DVU1840%22+%22DVU1854%22+%22DVU1869%22+%22DVU1873%22+%22DVU1879%22+%22DVU1880%22+%22DVU1891%22+%22DVU1912%22+%22DVU1923%22+%22DVU1932%22+%22DVU1960%22+%22DVU1962%22+%22DVU1963%22+%22DVU1980%22+%22DVU2069%22+%22DVU2079%22+%22DVU2081%22+%22DVU2082%22+%22DVU2085%22+%22DVU2103%22+%22DVU2104%22+%22DVU2105%22+%22DVU2107%22+%22DVU2108%22+%22DVU2109%22+%22DVU2110%22+%22DVU2119%22+%22DVU2135%22+%22DVU2201%22+%22DVU2211%22+%22DVU2212%22+%22DVU2232%22+%22DVU2286%22+%22DVU2287%22+%22DVU2288%22+%22DVU2289%22+%22DVU2290%22+%22DVU2291%22+%22DVU2292%22+%22DVU2293%22+%22DVU2294%22+%22DVU2297%22+%22DVU2298%22+%22DVU2299%22+%22DVU2300%22+%22DVU2324%22+%22DVU2333%22+%22DVU2340%22+%22DVU2341%22+%22DVU2342%22+%22DVU2356%22+%22DVU2371%22+%22DVU2398%22+%22DVU2399%22+%22DVU2400%22+%22DVU2401%22+%22DVU2403%22+%22DVU2405%22+%22DVU2422%22+%22DVU2444%22+%22DVU2445%22+%22DVU2448%22+%22DVU2451%22+%22DVU2452%22+%22DVU2456%22+%22DVU2513%22+%22DVU2535%22+%22DVU2543%22+%22DVU2544%22+%22DVU2548%22+%22DVU2552%22+%22DVU2553%22+%22DVU2590%22+%22DVU2615%22+%22DVU2616%22+%22DVU2652%22+%22DVU2673%22+%22DVU2675%22+%22DVU2676%22+%22DVU2679%22+%22DVU2769%22+%22DVU2775%22+%22DVU2912%22+%22DVU2913%22+%22DVU2922%22+%22DVU2927%22+%22DVU2928%22+%22DVU2935%22+%22DVU2940%22+%22DVU2948%22+%22DVU2950%22+%22DVU2958%22+%22DVU2959%22+%22DVU2966%22+%22DVU2982%22+%22DVU2983%22+%22DVU2984%22+%22DVU2985%22+%22DVU2991%22+%22DVU2992%22+%22DVU3002%22+%22DVU3003%22+%22DVU3004%22+%22DVU3013%22+%22DVU3018%22+%22DVU3019%22+%22DVU3020%22+%22DVU3024%22+%22DVU3025%22+%22DVU3026%22+%22DVU3027%22+%22DVU3028%22+%22DVU3029%22+%22DVU3030%22+%22DVU3031%22+%22DVU3032%22+%22DVU3033%22+%22DVU3083%22+%22DVU3090%22+%22DVU3107%22+%22DVU3117%22+%22DVU3155%22+%22DVU3161%22+%22DVU3211%22+%22DVU3213%22+%22DVU3231%22+%22DVU3232%22+%22DVU3234%22+%22DVU3245%22+%22DVU3282%22+%22DVU3287%22+%22DVU3330%22+%22DVU3387%22+%22DVU4001%22+%22DVU4007%22+%22DVU_tRNA.Thr.3%22+%22Dv16SA%22+%22Dv16SB%22+%22Dv16SE%22+%22Dv23SD%22+%22Dv5SC%22\n"
     ]
    },
    {
     "data": {
      "text/html": [
       "\n",
       "        <iframe\n",
       "            width=\"100%\"\n",
       "            height=\"250\"\n",
       "            src=\"http://networks.systemsbiology.net/search?q=%22DVU0034%22+%22DVU0053%22+%22DVU0056%22+%22DVU0060%22+%22DVU0085%22+%22DVU0139%22+%22DVU0140%22+%22DVU0145%22+%22DVU0146%22+%22DVU0147%22+%22DVU0148%22+%22DVU0149%22+%22DVU0150%22+%22DVU0152%22+%22DVU0161%22+%22DVU0162%22+%22DVU0170%22+%22DVU0172%22+%22DVU0173%22+%22DVU0186%22+%22DVU0240%22+%22DVU0253%22+%22DVU0259%22+%22DVU0260%22+%22DVU0261%22+%22DVU0262%22+%22DVU0263%22+%22DVU0264%22+%22DVU0265%22+%22DVU0266%22+%22DVU0267%22+%22DVU0269%22+%22DVU0270%22+%22DVU0271%22+%22DVU0273%22+%22DVU0295%22+%22DVU0304%22+%22DVU0305%22+%22DVU0307%22+%22DVU0309%22+%22DVU0311%22+%22DVU0312%22+%22DVU0313%22+%22DVU0314%22+%22DVU0315%22+%22DVU0316%22+%22DVU0317%22+%22DVU0318%22+%22DVU0320%22+%22DVU0322%22+%22DVU0331%22+%22DVU0367%22+%22DVU0378%22+%22DVU0401%22+%22DVU0409%22+%22DVU0410%22+%22DVU0423%22+%22DVU0425%22+%22DVU0429%22+%22DVU0430%22+%22DVU0431%22+%22DVU0432%22+%22DVU0433%22+%22DVU0434%22+%22DVU0441%22+%22DVU0486%22+%22DVU0501%22+%22DVU0504%22+%22DVU0505%22+%22DVU0512%22+%22DVU0513%22+%22DVU0514%22+%22DVU0515%22+%22DVU0517%22+%22DVU0518%22+%22DVU0519%22+%22DVU0520%22+%22DVU0523%22+%22DVU0524%22+%22DVU0529%22+%22DVU0530%22+%22DVU0531%22+%22DVU0532%22+%22DVU0533%22+%22DVU0534%22+%22DVU0535%22+%22DVU0536%22+%22DVU0549%22+%22DVU0550%22+%22DVU0586%22+%22DVU0587%22+%22DVU0588%22+%22DVU0591%22+%22DVU0592%22+%22DVU0594%22+%22DVU0595%22+%22DVU0607%22+%22DVU0614%22+%22DVU0616%22+%22DVU0617%22+%22DVU0668%22+%22DVU0675%22+%22DVU0683%22+%22DVU0700%22+%22DVU0713%22+%22DVU0715%22+%22DVU0716%22+%22DVU0752%22+%22DVU0763%22+%22DVU0799%22+%22DVU0835%22+%22DVU0836%22+%22DVU0837%22+%22DVU0838%22+%22DVU0839%22+%22DVU0858%22+%22DVU0862%22+%22DVU0863%22+%22DVU0879%22+%22DVU0880%22+%22DVU0920%22+%22DVU0927%22+%22DVU0928%22+%22DVU0936%22+%22DVU0951%22+%22DVU0976%22+%22DVU0977%22+%22DVU0997%22+%22DVU1032%22+%22DVU1073%22+%22DVU1170%22+%22DVU1171%22+%22DVU1176%22+%22DVU1177%22+%22DVU1179%22+%22DVU1190%22+%22DVU1210%22+%22DVU1260%22+%22DVU1286%22+%22DVU1295%22+%22DVU1296%22+%22DVU1337%22+%22DVU1338%22+%22DVU1339%22+%22DVU1411%22+%22DVU1441%22+%22DVU1442%22+%22DVU1443%22+%22DVU1444%22+%22DVU1445%22+%22DVU1470%22+%22DVU1473%22+%22DVU1524%22+%22DVU1534%22+%22DVU1536%22+%22DVU1537%22+%22DVU1545%22+%22DVU1549%22+%22DVU1585%22+%22DVU1588%22+%22DVU1592%22+%22DVU1593%22+%22DVU1617%22+%22DVU1618%22+%22DVU1629%22+%22DVU1636%22+%22DVU1664%22+%22DVU1677%22+%22DVU1781%22+%22DVU1805%22+%22DVU1840%22+%22DVU1854%22+%22DVU1869%22+%22DVU1873%22+%22DVU1879%22+%22DVU1880%22+%22DVU1891%22+%22DVU1912%22+%22DVU1923%22+%22DVU1932%22+%22DVU1960%22+%22DVU1962%22+%22DVU1963%22+%22DVU1980%22+%22DVU2069%22+%22DVU2079%22+%22DVU2081%22+%22DVU2082%22+%22DVU2085%22+%22DVU2103%22+%22DVU2104%22+%22DVU2105%22+%22DVU2107%22+%22DVU2108%22+%22DVU2109%22+%22DVU2110%22+%22DVU2119%22+%22DVU2135%22+%22DVU2201%22+%22DVU2211%22+%22DVU2212%22+%22DVU2232%22+%22DVU2286%22+%22DVU2287%22+%22DVU2288%22+%22DVU2289%22+%22DVU2290%22+%22DVU2291%22+%22DVU2292%22+%22DVU2293%22+%22DVU2294%22+%22DVU2297%22+%22DVU2298%22+%22DVU2299%22+%22DVU2300%22+%22DVU2324%22+%22DVU2333%22+%22DVU2340%22+%22DVU2341%22+%22DVU2342%22+%22DVU2356%22+%22DVU2371%22+%22DVU2398%22+%22DVU2399%22+%22DVU2400%22+%22DVU2401%22+%22DVU2403%22+%22DVU2405%22+%22DVU2422%22+%22DVU2444%22+%22DVU2445%22+%22DVU2448%22+%22DVU2451%22+%22DVU2452%22+%22DVU2456%22+%22DVU2513%22+%22DVU2535%22+%22DVU2543%22+%22DVU2544%22+%22DVU2548%22+%22DVU2552%22+%22DVU2553%22+%22DVU2590%22+%22DVU2615%22+%22DVU2616%22+%22DVU2652%22+%22DVU2673%22+%22DVU2675%22+%22DVU2676%22+%22DVU2679%22+%22DVU2769%22+%22DVU2775%22+%22DVU2912%22+%22DVU2913%22+%22DVU2922%22+%22DVU2927%22+%22DVU2928%22+%22DVU2935%22+%22DVU2940%22+%22DVU2948%22+%22DVU2950%22+%22DVU2958%22+%22DVU2959%22+%22DVU2966%22+%22DVU2982%22+%22DVU2983%22+%22DVU2984%22+%22DVU2985%22+%22DVU2991%22+%22DVU2992%22+%22DVU3002%22+%22DVU3003%22+%22DVU3004%22+%22DVU3013%22+%22DVU3018%22+%22DVU3019%22+%22DVU3020%22+%22DVU3024%22+%22DVU3025%22+%22DVU3026%22+%22DVU3027%22+%22DVU3028%22+%22DVU3029%22+%22DVU3030%22+%22DVU3031%22+%22DVU3032%22+%22DVU3033%22+%22DVU3083%22+%22DVU3090%22+%22DVU3107%22+%22DVU3117%22+%22DVU3155%22+%22DVU3161%22+%22DVU3211%22+%22DVU3213%22+%22DVU3231%22+%22DVU3232%22+%22DVU3234%22+%22DVU3245%22+%22DVU3282%22+%22DVU3287%22+%22DVU3330%22+%22DVU3387%22+%22DVU4001%22+%22DVU4007%22+%22DVU_tRNA.Thr.3%22+%22Dv16SA%22+%22Dv16SB%22+%22Dv16SE%22+%22Dv23SD%22+%22Dv5SC%22\"\n",
       "            frameborder=\"0\"\n",
       "            allowfullscreen\n",
       "        ></iframe>\n",
       "        "
      ],
      "text/plain": [
       "<IPython.lib.display.IFrame at 0x7f33a5078110>"
      ]
     },
     "execution_count": 47,
     "metadata": {},
     "output_type": "execute_result"
    }
   ],
   "source": [
    "%R imp_vars = names(B.ea1$finalDecision[B.ea1$finalDecision=='Confirmed'])\n",
    "%Rpull imp_vars\n",
    "\n",
    "query = '%22'+'%22+%22'.join(imp_vars)+'%22'\n",
    "print ' '.join(imp_vars)\n",
    "print 'http://networks.systemsbiology.net/search?q='+query\n",
    "from IPython.display import IFrame\n",
    "IFrame('http://networks.systemsbiology.net/search?q='+query, width='100%', height=250)"
   ]
  },
  {
   "cell_type": "markdown",
   "metadata": {},
   "source": [
    "### Train classifier on temperature"
   ]
  },
  {
   "cell_type": "code",
   "execution_count": null,
   "metadata": {
    "collapsed": false
   },
   "outputs": [],
   "source": [
    "%%R\n",
    "Y <- as.factor(as.character(info$T0C == 37))\n",
    "B.temp1 <- Boruta(t(x), Y, getImp=getImpFerns, ferns=10000, doTrace=0)\n",
    "B.temp2 <- Boruta(t(x), Y, getImp=getImpRfZ, ntree=10000, doTrace=0)\n",
    "NULL;"
   ]
  },
  {
   "cell_type": "code",
   "execution_count": null,
   "metadata": {
    "collapsed": false
   },
   "outputs": [],
   "source": [
    "%%R\n",
    "print(B.temp1)\n",
    "print(B.temp1$finalDecision[B.temp1$finalDecision=='Confirmed'])\n",
    "print('')\n",
    "print(B.temp2)\n",
    "print(B.temp2$finalDecision[B.temp2$finalDecision=='Confirmed'])\n",
    "NULL"
   ]
  },
  {
   "cell_type": "code",
   "execution_count": 46,
   "metadata": {
    "collapsed": false
   },
   "outputs": [
    {
     "name": "stdout",
     "output_type": "stream",
     "text": [
      "DVU0041 DVU0052 DVU0087 DVU0090 DVU0093 DVU0107 DVU0175 DVU0193 DVU0200 DVU0202 DVU0210 DVU0213 DVU0225 DVU0241 DVU0259 DVU0260 DVU0261 DVU0262 DVU0263 DVU0264 DVU0265 DVU0266 DVU0284 DVU0318 DVU0418 DVU0498 DVU0525 DVU0526 DVU0577 DVU0664 DVU0677 DVU0682 DVU0702 DVU0805 DVU0806 DVU0834 DVU0854 DVU0857 DVU0870 DVU0936 DVU0966 DVU0978 DVU0995 DVU1029 DVU1120 DVU1209 DVU1337 DVU1392 DVU1434 DVU1455 DVU1480 DVU1491 DVU1529 DVU1530 DVU1704 DVU1795 DVU1801 DVU1820 DVU1826 DVU1937 DVU2076 DVU2200 DVU2212 DVU2233 DVU2514 DVU2554 DVU2555 DVU2558 DVU2683 DVU2720 DVU2735 DVU2774 DVU2856 DVU2859 DVU2869 DVU2874 DVU2903 DVU2925 DVU2927 DVU2939 DVU2944 DVU3002 DVU3065 DVU3097 DVU3128 DVU3130 DVU3131 DVU3132 DVU3133 DVU3135 DVU3162 DVU3183 DVU3184 DVU3212 DVU3242 DVU3272 DVU3281 DVU3298 DVU3299 DVU3300 DVU3301 DVU3309 DvtmRNA1\n",
      "http://networks.systemsbiology.net/search?q=%22DVU0041%22+%22DVU0052%22+%22DVU0087%22+%22DVU0090%22+%22DVU0093%22+%22DVU0107%22+%22DVU0175%22+%22DVU0193%22+%22DVU0200%22+%22DVU0202%22+%22DVU0210%22+%22DVU0213%22+%22DVU0225%22+%22DVU0241%22+%22DVU0259%22+%22DVU0260%22+%22DVU0261%22+%22DVU0262%22+%22DVU0263%22+%22DVU0264%22+%22DVU0265%22+%22DVU0266%22+%22DVU0284%22+%22DVU0318%22+%22DVU0418%22+%22DVU0498%22+%22DVU0525%22+%22DVU0526%22+%22DVU0577%22+%22DVU0664%22+%22DVU0677%22+%22DVU0682%22+%22DVU0702%22+%22DVU0805%22+%22DVU0806%22+%22DVU0834%22+%22DVU0854%22+%22DVU0857%22+%22DVU0870%22+%22DVU0936%22+%22DVU0966%22+%22DVU0978%22+%22DVU0995%22+%22DVU1029%22+%22DVU1120%22+%22DVU1209%22+%22DVU1337%22+%22DVU1392%22+%22DVU1434%22+%22DVU1455%22+%22DVU1480%22+%22DVU1491%22+%22DVU1529%22+%22DVU1530%22+%22DVU1704%22+%22DVU1795%22+%22DVU1801%22+%22DVU1820%22+%22DVU1826%22+%22DVU1937%22+%22DVU2076%22+%22DVU2200%22+%22DVU2212%22+%22DVU2233%22+%22DVU2514%22+%22DVU2554%22+%22DVU2555%22+%22DVU2558%22+%22DVU2683%22+%22DVU2720%22+%22DVU2735%22+%22DVU2774%22+%22DVU2856%22+%22DVU2859%22+%22DVU2869%22+%22DVU2874%22+%22DVU2903%22+%22DVU2925%22+%22DVU2927%22+%22DVU2939%22+%22DVU2944%22+%22DVU3002%22+%22DVU3065%22+%22DVU3097%22+%22DVU3128%22+%22DVU3130%22+%22DVU3131%22+%22DVU3132%22+%22DVU3133%22+%22DVU3135%22+%22DVU3162%22+%22DVU3183%22+%22DVU3184%22+%22DVU3212%22+%22DVU3242%22+%22DVU3272%22+%22DVU3281%22+%22DVU3298%22+%22DVU3299%22+%22DVU3300%22+%22DVU3301%22+%22DVU3309%22+%22DvtmRNA1%22\n"
     ]
    },
    {
     "data": {
      "text/html": [
       "\n",
       "        <iframe\n",
       "            width=\"100%\"\n",
       "            height=\"250\"\n",
       "            src=\"http://networks.systemsbiology.net/search?q=%22DVU0041%22+%22DVU0052%22+%22DVU0087%22+%22DVU0090%22+%22DVU0093%22+%22DVU0107%22+%22DVU0175%22+%22DVU0193%22+%22DVU0200%22+%22DVU0202%22+%22DVU0210%22+%22DVU0213%22+%22DVU0225%22+%22DVU0241%22+%22DVU0259%22+%22DVU0260%22+%22DVU0261%22+%22DVU0262%22+%22DVU0263%22+%22DVU0264%22+%22DVU0265%22+%22DVU0266%22+%22DVU0284%22+%22DVU0318%22+%22DVU0418%22+%22DVU0498%22+%22DVU0525%22+%22DVU0526%22+%22DVU0577%22+%22DVU0664%22+%22DVU0677%22+%22DVU0682%22+%22DVU0702%22+%22DVU0805%22+%22DVU0806%22+%22DVU0834%22+%22DVU0854%22+%22DVU0857%22+%22DVU0870%22+%22DVU0936%22+%22DVU0966%22+%22DVU0978%22+%22DVU0995%22+%22DVU1029%22+%22DVU1120%22+%22DVU1209%22+%22DVU1337%22+%22DVU1392%22+%22DVU1434%22+%22DVU1455%22+%22DVU1480%22+%22DVU1491%22+%22DVU1529%22+%22DVU1530%22+%22DVU1704%22+%22DVU1795%22+%22DVU1801%22+%22DVU1820%22+%22DVU1826%22+%22DVU1937%22+%22DVU2076%22+%22DVU2200%22+%22DVU2212%22+%22DVU2233%22+%22DVU2514%22+%22DVU2554%22+%22DVU2555%22+%22DVU2558%22+%22DVU2683%22+%22DVU2720%22+%22DVU2735%22+%22DVU2774%22+%22DVU2856%22+%22DVU2859%22+%22DVU2869%22+%22DVU2874%22+%22DVU2903%22+%22DVU2925%22+%22DVU2927%22+%22DVU2939%22+%22DVU2944%22+%22DVU3002%22+%22DVU3065%22+%22DVU3097%22+%22DVU3128%22+%22DVU3130%22+%22DVU3131%22+%22DVU3132%22+%22DVU3133%22+%22DVU3135%22+%22DVU3162%22+%22DVU3183%22+%22DVU3184%22+%22DVU3212%22+%22DVU3242%22+%22DVU3272%22+%22DVU3281%22+%22DVU3298%22+%22DVU3299%22+%22DVU3300%22+%22DVU3301%22+%22DVU3309%22+%22DvtmRNA1%22\"\n",
       "            frameborder=\"0\"\n",
       "            allowfullscreen\n",
       "        ></iframe>\n",
       "        "
      ],
      "text/plain": [
       "<IPython.lib.display.IFrame at 0x7f33a5078590>"
      ]
     },
     "execution_count": 46,
     "metadata": {},
     "output_type": "execute_result"
    }
   ],
   "source": [
    "%R imp_vars = names(B.temp1$finalDecision[B.temp1$finalDecision=='Confirmed'])\n",
    "%Rpull imp_vars\n",
    "\n",
    "query = '%22'+'%22+%22'.join(imp_vars)+'%22'\n",
    "print ' '.join(imp_vars)\n",
    "print 'http://networks.systemsbiology.net/search?q='+query\n",
    "from IPython.display import IFrame\n",
    "IFrame('http://networks.systemsbiology.net/search?q='+query, width='100%', height=250)"
   ]
  }
 ],
 "metadata": {
  "kernelspec": {
   "display_name": "Python 2",
   "language": "python",
   "name": "python2"
  },
  "language_info": {
   "codemirror_mode": {
    "name": "ipython",
    "version": 2
   },
   "file_extension": ".py",
   "mimetype": "text/x-python",
   "name": "python",
   "nbconvert_exporter": "python",
   "pygments_lexer": "ipython2",
   "version": "2.7.6"
  }
 },
 "nbformat": 4,
 "nbformat_minor": 0
}
