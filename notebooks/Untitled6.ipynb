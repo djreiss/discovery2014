{
 "cells": [
  {
   "cell_type": "code",
   "execution_count": 2,
   "metadata": {
    "collapsed": false
   },
   "outputs": [
    {
     "name": "stdout",
     "output_type": "stream",
     "text": [
      "The rpy2.ipython extension is already loaded. To reload it, use:\n",
      "  %reload_ext rpy2.ipython\n"
     ]
    }
   ],
   "source": [
    "from matplotlib import pyplot as plt\n",
    "\n",
    "%matplotlib inline\n",
    "from IPython.display import set_matplotlib_formats\n",
    "set_matplotlib_formats('pdf', 'svg')\n",
    "\n",
    "import pandas as pd\n",
    "pd.options.display.mpl_style = 'default'\n",
    "\n",
    "from mpltools import style\n",
    "from mpltools import layout\n",
    "\n",
    "style.use('ggplot')\n",
    "\n",
    "## see: https://stackoverflow.com/questions/19536817/manipulate-html-module-font-size-in-ipython-notebook\n",
    "class sizeme():\n",
    "    \"\"\" Class to change html fontsize of object's representation\"\"\"\n",
    "    def __init__(self,ob, size, height=100):\n",
    "        self.ob = ob\n",
    "        self.size = size\n",
    "        self.height = height\n",
    "    def _repr_html_(self):\n",
    "        repl_tuple = (self.size, self.height, self.ob._repr_html_())\n",
    "        return u'<span style=\"font-size:{0}%; line-height:{1}%\">{2}</span>'.format(*repl_tuple)\n",
    "    \n",
    "## see https://stackoverflow.com/questions/14656852/how-to-use-pandas-dataframes-and-numpy-arrays-in-rpy2\n",
    "## and http://ipython.org/ipython-doc/rel-0.13/config/extensions/rmagic.html\n",
    "## note there's a ri2pandas() to convert back.\n",
    "## but note, rpy2 2.4.0 and later automagically translates dataframes: \n",
    "## https://stackoverflow.com/questions/20630121/pandas-how-to-convert-r-dataframe-back-to-pandas\n",
    "%load_ext rpy2.ipython\n",
    "%Rdevice svg\n",
    "#import rpy2.robjects.pandas2ri as p2r\n",
    "#rdf = p2r.pandas2ri(info)\n",
    "#%Rpush rdf"
   ]
  },
  {
   "cell_type": "code",
   "execution_count": null,
   "metadata": {
    "collapsed": false
   },
   "outputs": [],
   "source": [
    "%run -i read_counts.py"
   ]
  },
  {
   "cell_type": "code",
   "execution_count": 4,
   "metadata": {
    "collapsed": false,
    "scrolled": true
   },
   "outputs": [
    {
     "data": {
      "text/html": [
       "<span style=\"font-size:50%; line-height:120%\"><div style=\"max-height:1000px;max-width:1500px;overflow:auto;\">\n",
       "<table border=\"1\" class=\"dataframe\">\n",
       "  <thead>\n",
       "    <tr style=\"text-align: right;\">\n",
       "      <th></th>\n",
       "      <th>Sample name</th>\n",
       "      <th>Source</th>\n",
       "      <th>Barcode</th>\n",
       "      <th>Strain/condition</th>\n",
       "      <th>cultivation type</th>\n",
       "      <th>Chemostat/batch ID #</th>\n",
       "      <th>Description/condition details</th>\n",
       "      <th>Description/condition details -2</th>\n",
       "      <th>carbon source</th>\n",
       "      <th>electron donor</th>\n",
       "      <th>concentration (mM)</th>\n",
       "      <th>electron acceptor</th>\n",
       "      <th>growth rate per h</th>\n",
       "      <th>T0C</th>\n",
       "      <th>organisms</th>\n",
       "    </tr>\n",
       "    <tr>\n",
       "      <th>Sample name</th>\n",
       "      <th></th>\n",
       "      <th></th>\n",
       "      <th></th>\n",
       "      <th></th>\n",
       "      <th></th>\n",
       "      <th></th>\n",
       "      <th></th>\n",
       "      <th></th>\n",
       "      <th></th>\n",
       "      <th></th>\n",
       "      <th></th>\n",
       "      <th></th>\n",
       "      <th></th>\n",
       "      <th></th>\n",
       "      <th></th>\n",
       "    </tr>\n",
       "  </thead>\n",
       "  <tbody>\n",
       "    <tr>\n",
       "      <th>Sample_US-1505885</th>\n",
       "      <td>Sample_US-1505885</td>\n",
       "      <td>Labcorp</td>\n",
       "      <td>US-1505885</td>\n",
       "      <td>PS 37 C log 2</td>\n",
       "      <td>batch</td>\n",
       "      <td>NaN</td>\n",
       "      <td>pyruvate 80mM, sulfate 15mM 37C</td>\n",
       "      <td>sulfate respiration/growth</td>\n",
       "      <td>pyruvate 80mM</td>\n",
       "      <td>pyruvate</td>\n",
       "      <td>NaN</td>\n",
       "      <td>sulfate</td>\n",
       "      <td>NaN</td>\n",
       "      <td>37</td>\n",
       "      <td>D vulgaris Hildenborugh</td>\n",
       "    </tr>\n",
       "    <tr>\n",
       "      <th>Sample_US-1505888</th>\n",
       "      <td>Sample_US-1505888</td>\n",
       "      <td>Labcorp</td>\n",
       "      <td>US-1505888</td>\n",
       "      <td>LS 37C   log 1</td>\n",
       "      <td>batch</td>\n",
       "      <td>NaN</td>\n",
       "      <td>lactate 40mM, sulfate15mM 37C</td>\n",
       "      <td>sulfate respiration/growth</td>\n",
       "      <td>lactate 40mM</td>\n",
       "      <td>lactate</td>\n",
       "      <td>NaN</td>\n",
       "      <td>sulfate</td>\n",
       "      <td>NaN</td>\n",
       "      <td>37</td>\n",
       "      <td>D vulgaris Hildenborugh</td>\n",
       "    </tr>\n",
       "    <tr>\n",
       "      <th>Sample_US-1505895</th>\n",
       "      <td>Sample_US-1505895</td>\n",
       "      <td>Labcorp</td>\n",
       "      <td>US-1505895</td>\n",
       "      <td>LS 37C e. stat 1</td>\n",
       "      <td>batch</td>\n",
       "      <td>NaN</td>\n",
       "      <td>lactate 40mM, sulfate15mM 37C</td>\n",
       "      <td>fermentation</td>\n",
       "      <td>lactate 10mM</td>\n",
       "      <td>lactate</td>\n",
       "      <td>10</td>\n",
       "      <td>none</td>\n",
       "      <td>0</td>\n",
       "      <td>37</td>\n",
       "      <td>D vulgaris Hildenborugh</td>\n",
       "    </tr>\n",
       "  </tbody>\n",
       "</table>\n",
       "</div></span>"
      ],
      "text/plain": [
       "<__main__.sizeme instance at 0x7f00de047f80>"
      ]
     },
     "execution_count": 4,
     "metadata": {},
     "output_type": "execute_result"
    }
   ],
   "source": [
    "sample_info = pd.read_excel('Sample_Info_COMPLETE.xlsx') ##,skiprows=[0])\n",
    "sample_info = sample_info.set_index( sample_info['Sample name'] )\n",
    "sample_infos = { k:sample_info.ix[all_freqs[k].columns.droplevel(1).values] for k in all_freqs.keys() }\n",
    "info = sample_infos['Desulfovibrio_vulgaris_Hildenborough_uid57645'].copy()\n",
    "sizeme(info.head(3),50,120)"
   ]
  },
  {
   "cell_type": "code",
   "execution_count": 5,
   "metadata": {
    "collapsed": false
   },
   "outputs": [
    {
     "data": {
      "text/plain": [
       "Loading required package: Boruta\n",
       "Loading required package: randomForest\n",
       "randomForest 4.6-10\n",
       "Type rfNews() to see new features/changes/bug fixes.\n",
       "Loading required package: rFerns\n",
       "[1] TRUE\n"
      ]
     },
     "metadata": {},
     "output_type": "display_data"
    }
   ],
   "source": [
    "%%R\n",
    "load('Untitled5.RData')\n",
    "require(Boruta); require(randomForest); require(parallel)"
   ]
  },
  {
   "cell_type": "markdown",
   "metadata": {},
   "source": [
    "### Identify groups of replicates in the measurements -- using groupby"
   ]
  },
  {
   "cell_type": "code",
   "execution_count": 6,
   "metadata": {
    "collapsed": false
   },
   "outputs": [
    {
     "name": "stdout",
     "output_type": "stream",
     "text": [
      "['cultivation type', 'Description/condition details', 'Description/condition details -2', 'carbon source', 'electron donor', 'electron acceptor', 'growth rate per h', 'T0C', 'organisms']\n",
      "24 (57, 15) (24, 9)\n",
      "[3, 3, 3, 3, 2, 5, 2, 1, 1, 2, 1, 3, 3, 3, 3, 2, 2, 2, 1, 2, 3, 1, 4, 2]\n",
      "['Sample_US-1505895', 'Sample_US-1505949', 'Sample_US-1510877']\n",
      "['Sample_US-1505888', 'Sample_US-1505998', 'Sample_US-1510873']\n",
      "['Sample_US-1510871', 'Sample_US-1510882', 'Sample_US-1510888']\n",
      "['Sample_US-1510876', 'Sample_US-1510894', 'Sample_US-1510897']\n",
      "['Sample_US-1505946', 'Sample_US-1505985']\n",
      "['Sample_US-1510845', 'Sample_US-1510852', 'Sample_US-1510859', 'Sample_US-1510864', 'Sample_US-1510895']\n",
      "['Sample_US-1510853', 'Sample_US-1510856']\n",
      "['Sample_US-1510827']\n",
      "['Sample_US-1510855']\n",
      "['Sample_US-1510854', 'Sample_US-1510870']\n",
      "['Sample_US-1505967']\n",
      "['Sample_US-1505897', 'Sample_US-1505963', 'Sample_US-1510881']\n",
      "['Sample_US-1505885', 'Sample_US-1506000', 'Sample_US-1510880']\n",
      "['Sample_US-1510865', 'Sample_US-1510891', 'Sample_US-1510901']\n",
      "['Sample_US-1505953', 'Sample_US-1506005', 'Sample_US-1510878']\n",
      "['Sample_US-1510851', 'Sample_US-1510886']\n",
      "['Sample_US-1510836', 'Sample_US-1510848']\n",
      "['Sample_US-1510874', 'Sample_US-1510892']\n",
      "['Sample_US-1505926']\n",
      "['Sample_US-1505898', 'Sample_US-1505947']\n",
      "['Sample_US-1510889', 'Sample_US-1510896', 'Sample_US-1510899']\n",
      "['Sample_US-1510884']\n",
      "['Sample_US-1510829', 'Sample_US-1510840', 'Sample_US-1510866', 'Sample_US-1510868']\n",
      "['Sample_US-1505951', 'Sample_US-1510900']\n"
     ]
    }
   ],
   "source": [
    "#info_tmp = info[info.columns[np.hstack([4,np.arange(6,14)])]]  ##.duplicated()\n",
    "group_cols = info.columns[np.hstack([4,6,7,8,9,11,12,13,14])].values.astype(str).tolist()\n",
    "#grouped = info.groupby(info.columns[np.hstack([4,np.arange(6,14)])].values)\n",
    "#group_cols = ['cultivation type', 'Description/condition details',\n",
    "#             'Description/condition details -2', 'carbon source', 'electron donor',\n",
    "#             'concentration (mM)', 'electron acceptor', 'growth rate per h', 'T0C', 'organisms']\n",
    "print group_cols\n",
    "grouped = info.groupby(group_cols, axis=0)\n",
    "print len(grouped.groups), info.shape, info[group_cols].drop_duplicates().shape\n",
    "#print grouped.groups[grouped.groups.keys()[0]]\n",
    "print [len(i) for i in grouped.groups.values()]\n",
    "for i in grouped.groups.values():\n",
    "    print i\n",
    "    #print info.ix[i]['Description/condition details'].values"
   ]
  },
  {
   "cell_type": "code",
   "execution_count": 7,
   "metadata": {
    "collapsed": false
   },
   "outputs": [],
   "source": [
    "def plot_colored_by_density( x, y ):\n",
    "    import matplotlib.cm as cm\n",
    "    from sklearn.neighbors import KernelDensity\n",
    "\n",
    "    xy = np.vstack( [x, y] ).transpose()\n",
    "    kd = KernelDensity(kernel='linear', bandwidth=0.1, rtol=1e-3).fit(xy)\n",
    "    z = kd.score_samples(xy)\n",
    "\n",
    "    zord = z.argsort()\n",
    "    data = { 'x': x, 'y': y }\n",
    "    data = pd.DataFrame( data )\n",
    "\n",
    "    data.ix[zord].plot( 'x', 'y', c=z[zord], kind='scatter', cmap=cm.jet, alpha=0.5, \\\n",
    "                        linewidths=0, s=10 )"
   ]
  },
  {
   "cell_type": "code",
   "execution_count": 8,
   "metadata": {
    "collapsed": false
   },
   "outputs": [
    {
     "name": "stdout",
     "output_type": "stream",
     "text": [
      "(3648, 57)\n"
     ]
    },
    {
     "data": {
      "image/png": "[encoded data removed]",
      "text/plain": [
       "<matplotlib.figure.Figure at 0x7f00ddabb950>"
      ]
     },
     "metadata": {},
     "output_type": "display_data"
    }
   ],
   "source": [
    "x = all_freqs['Desulfovibrio_vulgaris_Hildenborough_uid57645'].copy()\n",
    "print x.shape\n",
    "cols = grouped.groups.values()[0]\n",
    "xx = np.log10(x+1e-1).fillna( 0 )\n",
    "#print xx[cols[0]][1].values\n",
    "set_matplotlib_formats('png') ## svg is too big and slows down the browser\n",
    "plot_colored_by_density( xx[cols[0]][1].values, xx[cols[1]][1].values )"
   ]
  },
  {
   "cell_type": "code",
   "execution_count": 9,
   "metadata": {
    "collapsed": false
   },
   "outputs": [
    {
     "data": {
      "image/png": "[encoded data removed]",
      "text/plain": [
       "<matplotlib.figure.Figure at 0x7f00ddc8a2d0>"
      ]
     },
     "metadata": {},
     "output_type": "display_data"
    }
   ],
   "source": [
    "## plot vs. random column\n",
    "plot_colored_by_density( xx[cols[0]][1].values, xx[grouped.groups.values()[10][0]][1].values )"
   ]
  },
  {
   "cell_type": "markdown",
   "metadata": {},
   "source": [
    "## OK, idea: remove all replicates of a given measurement, run Boruta to get big, best subset of variables that classify, then random forest (lots of trees) using those variables to get classifier. Test (predict) the random forest on the left-out measurements."
   ]
  },
  {
   "cell_type": "code",
   "execution_count": null,
   "metadata": {
    "collapsed": false
   },
   "outputs": [],
   "source": [
    "%%R -i cols\n",
    "colnames(x) <- gsub('X..','',gsub('...1.','',colnames(x),fixed=T),fixed=T)\n",
    "cols2 <- gsub('-','.',cols,fixed=T)\n",
    "print(cols2%in%colnames(x))\n",
    "\n",
    "Y <- as.factor(as.character(subset(info,!Sample.name%in%cols)$T0C == 37))\n",
    "B.temp1a <- Boruta(t(x[,!colnames(x)%in%cols2]), Y, getImp=getImpFerns, ferns=10000, doTrace=0)\n",
    "features <- gsub('.','-',getSelectedAttributes(B.temp1a), fixed=T)\n",
    "#print(features)"
   ]
  },
  {
   "cell_type": "code",
   "execution_count": null,
   "metadata": {
    "collapsed": false
   },
   "outputs": [],
   "source": [
    "%%R\n",
    "rf.temp1a <- randomForest(t(x[features,!colnames(x)%in%cols2]), Y, importance=T, ntree=100000, do.trace=F)\n",
    "varImpPlot(rf.temp1a); print(rf.temp1a)\n",
    "print(predict(rf.temp1a, t(x[,cols2]))); NULL"
   ]
  },
  {
   "cell_type": "markdown",
   "metadata": {},
   "source": [
    "##### Now try it on all the column groups! (First, do temperature)"
   ]
  },
  {
   "cell_type": "code",
   "execution_count": 10,
   "metadata": {
    "collapsed": false
   },
   "outputs": [],
   "source": [
    "col_groups = grouped.groups.values()"
   ]
  },
  {
   "cell_type": "code",
   "execution_count": 11,
   "metadata": {
    "collapsed": false
   },
   "outputs": [
    {
     "data": {
      "text/plain": [
       "NULL\n"
      ]
     },
     "metadata": {},
     "output_type": "display_data"
    }
   ],
   "source": [
    "%%R -i col_groups\n",
    "    colnames(x) <- gsub('X..','',gsub('...1.','',colnames(x),fixed=T),fixed=T)\n",
    "    save.image('Untitled6.RData')"
   ]
  },
  {
   "cell_type": "code",
   "execution_count": 12,
   "metadata": {
    "collapsed": false
   },
   "outputs": [
    {
     "data": {
      "text/plain": [
       "Loading required package: multicore\n",
       "WARNING: multicore has been superseded and will be removed shortly\n",
       "[1] 0.877193\n",
       "[1] 0.877193\n"
      ]
     },
     "metadata": {},
     "output_type": "display_data"
    }
   ],
   "source": [
    "%%R -i col_groups\n",
    "    colnames(x) <- gsub('X..','',gsub('...1.','',colnames(x),fixed=T),fixed=T)\n",
    "    require(parallel);options(mc.cores=8);options(cores=8)\n",
    "    #for ( cols in col_groups ) {\n",
    "    tmp <- mclapply( col_groups, function(cols) {\n",
    "        cols = unlist(cols)\n",
    "        cols2 <- gsub('-','.',cols,fixed=T)\n",
    "        #print(cols2%in%colnames(x))\n",
    "\n",
    "        Y <- as.factor(as.character(subset(info,!Sample.name%in%cols)$T0C == 37))\n",
    "        B.temp1a <- Boruta(t(x[,!colnames(x)%in%cols2]), Y, getImp=getImpFerns, ferns=10000, doTrace=0)\n",
    "        features <- gsub('.','-',getSelectedAttributes(B.temp1a), fixed=T)\n",
    "        \n",
    "        rf.temp1a <- randomForest(t(x[features,!colnames(x)%in%cols2]), Y, importance=T, ntree=100000, do.trace=F)\n",
    "        #varImpPlot(rf.temp1a); print(rf.temp1a)\n",
    "        #print(predict(rf.temp1a, t(x[,cols2,drop=F])))\n",
    "        #print(subset(info,Sample.name%in%cols)$T0C == 37)\n",
    "        return(list(predicted=predict(rf.temp1a, t(x[,cols2,drop=F])), actual=subset(info,Sample.name%in%cols)$T0C == 37))\n",
    "    }, mc.preschedule=F )\n",
    "\n",
    "    ##print(lapply(tmp,function(i)mean(i$predicted==i$actual)))\n",
    "    print(mean(unlist(lapply(tmp,'[[','predicted')) == unlist(lapply(tmp,'[[','actual'))))"
   ]
  },
  {
   "cell_type": "markdown",
   "metadata": {},
   "source": [
    "##### Compare to what we would get if we didn't leave any data out..."
   ]
  },
  {
   "cell_type": "code",
   "execution_count": 14,
   "metadata": {
    "collapsed": false
   },
   "outputs": [
    {
     "data": {
      "text/plain": [
       "[1] 1\n",
       "[1] 1\n"
      ]
     },
     "metadata": {},
     "output_type": "display_data"
    }
   ],
   "source": [
    "%%R\n",
    "Y <- as.factor(as.character(info$T0C == 37))\n",
    "B.temp1b <- Boruta(t(x), Y, getImp=getImpFerns, ferns=10000, doTrace=0)\n",
    "features <- gsub('.','-',getSelectedAttributes(B.temp1b), fixed=T)\n",
    "        \n",
    "rf.temp1b <- randomForest(t(x[features,]), Y, importance=T, ntree=100000, do.trace=F)\n",
    "print(mean(predict(rf.temp1b, t(x[features,])) == Y))"
   ]
  },
  {
   "cell_type": "markdown",
   "metadata": {
    "collapsed": true
   },
   "source": [
    "##### Now electron donor"
   ]
  },
  {
   "cell_type": "code",
   "execution_count": 16,
   "metadata": {
    "collapsed": false
   },
   "outputs": [
    {
     "data": {
      "text/plain": [
       "[1] 0.9649123\n",
       "[1] 0.9649123\n"
      ]
     },
     "metadata": {},
     "output_type": "display_data"
    }
   ],
   "source": [
    "%%R\n",
    "    tmp <- mclapply( col_groups, function(cols) {\n",
    "        cols = unlist(cols)\n",
    "        cols2 <- gsub('-','.',cols,fixed=T)\n",
    "\n",
    "        Y <- as.factor(as.character(subset(info,!Sample.name%in%cols)$electron.donor))\n",
    "        B.temp1a <- Boruta(t(x[,!colnames(x)%in%cols2]), Y, getImp=getImpFerns, ferns=10000, doTrace=0)\n",
    "        features <- gsub('.','-',getSelectedAttributes(B.temp1a), fixed=T)\n",
    "        \n",
    "        rf.temp1a <- randomForest(t(x[features,!colnames(x)%in%cols2]), Y, importance=T, ntree=100000, do.trace=F)\n",
    "        #varImpPlot(rf.temp1a); print(rf.temp1a)\n",
    "        #print(predict(rf.temp1a, t(x[,cols2,drop=F])))\n",
    "        #print(subset(info,Sample.name%in%cols)$electron.donor)\n",
    "        return(list(predicted=predict(rf.temp1a, t(x[,cols2,drop=F])), actual=subset(info,Sample.name%in%cols)$electron.donor))\n",
    "    }, mc.preschedule=F )\n",
    "\n",
    "    ##print(lapply(tmp,function(i)mean(i$predicted==i$actual)))\n",
    "    mean(unlist(lapply(tmp,'[[','predicted')) == unlist(lapply(tmp,'[[','actual')))"
   ]
  },
  {
   "cell_type": "code",
   "execution_count": 20,
   "metadata": {
    "collapsed": false
   },
   "outputs": [
    {
     "data": {
      "text/plain": [
       "[1] 1\n"
      ]
     },
     "metadata": {},
     "output_type": "display_data"
    }
   ],
   "source": [
    "%%R\n",
    "Y <- as.factor(as.character(info$electron.donor))\n",
    "B.temp1b <- Boruta(t(x), Y, getImp=getImpFerns, ferns=10000, doTrace=0)\n",
    "features <- gsub('.','-',getSelectedAttributes(B.temp1b), fixed=T)\n",
    "        \n",
    "rf.temp1b <- randomForest(t(x[features,]), Y, importance=T, ntree=100000, do.trace=F)\n",
    "mean(predict(rf.temp1b, t(x[features,])) == Y)"
   ]
  },
  {
   "cell_type": "markdown",
   "metadata": {},
   "source": [
    "### Now do it for all test cases! -- i.e., all replicate sets"
   ]
  },
  {
   "cell_type": "code",
   "execution_count": 56,
   "metadata": {
    "collapsed": false
   },
   "outputs": [
    {
     "data": {
      "text/plain": [
       "growth_rate 3 \n",
       "growth_rate 0.5964912 \n",
       "electron_donor 3 \n",
       "electron_donor 0.9649123 \n",
       "electron_acceptor 3 \n",
       "electron_acceptor 0.8421053 \n",
       "temperature 2 \n",
       "temperature 0.8596491 \n",
       "NULL\n"
      ]
     },
     "metadata": {},
     "output_type": "display_data"
    }
   ],
   "source": [
    "%%R\n",
    "    results = list()\n",
    "    for (cond_type in c('growth_rate', 'electron_donor', 'electron_acceptor', 'temperature')) {\n",
    "        if (cond_type == 'growth_rate') {\n",
    "            gr <- info$growth.rate.per.h; gr=as.numeric(as.character(gr)); gr[is.na(gr)]=0.2\n",
    "            Y <- factor( ifelse(gr==0, 'no_growth', ifelse(gr>=0.2, 'fast_growth', 'med_growth')) )\n",
    "        } else if (cond_type == 'electron_donor') {\n",
    "            Y <- as.factor(as.character(info$electron.donor))\n",
    "        } else if (cond_type == 'electron_acceptor') {\n",
    "            Y <- as.factor(as.character(info$electron.acceptor))\n",
    "        } else if (cond_type == 'temperature') {\n",
    "            Y <- as.factor(as.character(info$T0C == 37))\n",
    "        }\n",
    "        cat(cond_type, length(levels(Y)), '\\n')\n",
    "        names(Y) <- info$Sample.name\n",
    "\n",
    "        tmp <- mclapply( col_groups, function(cols) {\n",
    "            cols = unlist(cols)\n",
    "            cols2 <- gsub('-','.',cols,fixed=T)\n",
    "\n",
    "            YY <- Y[!info$Sample.name%in%cols]\n",
    "            B.temp1a <- Boruta(t(x[,!colnames(x)%in%cols2]), YY, getImp=getImpFerns, ferns=100000, doTrace=0)\n",
    "            features <- gsub('.','-',getSelectedAttributes(B.temp1a), fixed=T)\n",
    "        \n",
    "            rf.temp1a <- randomForest(t(x[features,!colnames(x)%in%cols2]), YY, importance=T, ntree=100000, do.trace=F)\n",
    "            return(list(predicted=predict(rf.temp1a, t(x[,cols2,drop=F])), actual=Y[cols], features=features))\n",
    "        }, mc.preschedule=F )\n",
    "\n",
    "        ##print(lapply(tmp,function(i)mean(i$predicted==i$actual)))\n",
    "        cat(cond_type, mean(unlist(lapply(tmp,'[[','predicted')) == unlist(lapply(tmp,'[[','actual'))), '\\n')\n",
    "        results[[cond_type]] <- tmp\n",
    "    }"
   ]
  },
  {
   "cell_type": "code",
   "execution_count": 49,
   "metadata": {
    "collapsed": false
   },
   "outputs": [
    {
     "data": {
      "text/plain": [
       "      growth_rate    electron_donor electron_acceptor       temperature \n",
       "        0.5964912         0.9649123         0.8421053         0.8771930 \n"
      ]
     },
     "metadata": {},
     "output_type": "display_data"
    },
    {
     "data": {
      "text/plain": [
       "      growth_rate    electron_donor electron_acceptor       temperature \n",
       "                3                 3                 3                 2 \n"
      ]
     },
     "metadata": {},
     "output_type": "display_data"
    }
   ],
   "source": [
    "%R print(sapply(results,function(tmp)mean(unlist(lapply(tmp,'[[','predicted')) == unlist(lapply(tmp,'[[','actual')))))\n",
    "%R print(sapply(results,function(tmp)length(levels(unlist(lapply(tmp,'[[','actual'))))))\n",
    "## get table of how many times a given feature was chosen out of the 24 condition replicate \"groups\":\n",
    "## %R lapply(lapply(results,lapply,'[[','features'),function(i)sort(table(unlist(i))))\n",
    "%Rpull results"
   ]
  },
  {
   "cell_type": "markdown",
   "metadata": {},
   "source": [
    "### See which classes are most misclassified (growth_rate).\n",
    "#### looks like fast growth is most often misclassified as no growth (and vice versa)."
   ]
  },
  {
   "cell_type": "code",
   "execution_count": 53,
   "metadata": {
    "collapsed": false
   },
   "outputs": [
    {
     "data": {
      "text/plain": [
       "\n",
       "fast_growth  med_growth   no_growth \n",
       "          7           2          14 \n",
       "\n",
       "fast_growth  med_growth   no_growth \n",
       "         13           3           7 \n",
       "      predicted     actual       \n",
       " [1,] \"fast_growth\" \"no_growth\"  \n",
       " [2,] \"fast_growth\" \"no_growth\"  \n",
       " [3,] \"fast_growth\" \"no_growth\"  \n",
       " [4,] \"fast_growth\" \"no_growth\"  \n",
       " [5,] \"fast_growth\" \"no_growth\"  \n",
       " [6,] \"fast_growth\" \"no_growth\"  \n",
       " [7,] \"med_growth\"  \"fast_growth\"\n",
       " [8,] \"no_growth\"   \"fast_growth\"\n",
       " [9,] \"fast_growth\" \"med_growth\" \n",
       "[10,] \"no_growth\"   \"med_growth\" \n",
       "[11,] \"no_growth\"   \"fast_growth\"\n",
       "[12,] \"no_growth\"   \"fast_growth\"\n",
       "[13,] \"no_growth\"   \"fast_growth\"\n",
       "[14,] \"no_growth\"   \"fast_growth\"\n",
       "[15,] \"no_growth\"   \"fast_growth\"\n",
       "[16,] \"fast_growth\" \"no_growth\"  \n",
       "[17,] \"fast_growth\" \"no_growth\"  \n",
       "[18,] \"fast_growth\" \"no_growth\"  \n",
       "[19,] \"med_growth\"  \"no_growth\"  \n",
       "[20,] \"med_growth\"  \"no_growth\"  \n",
       "[21,] \"fast_growth\" \"no_growth\"  \n",
       "[22,] \"fast_growth\" \"no_growth\"  \n",
       "[23,] \"fast_growth\" \"no_growth\"  \n"
      ]
     },
     "metadata": {},
     "output_type": "display_data"
    }
   ],
   "source": [
    "%%R -n\n",
    "tmp1=unlist(lapply(lapply(results$growth_rate,'[[','predicted'),as.character))\n",
    "tmp2=unlist(lapply(lapply(results$growth_rate,'[[','actual'),as.character))\n",
    "print(table(tmp2[tmp1!=tmp2]))   ## which actual classes are most frequently misclassified\n",
    "print(table(tmp1[tmp1!=tmp2]))   ## which predicted classes are they most frequently misclassified as\n",
    "cbind(predicted=tmp1[tmp1!=tmp2],actual=tmp2[tmp1!=tmp2])   ## misclassification pairs (predicted, actual)"
   ]
  },
  {
   "cell_type": "markdown",
   "metadata": {},
   "source": [
    "### For comparison, do it for the full data sets in which we did not leave any conditions out"
   ]
  },
  {
   "cell_type": "code",
   "execution_count": 55,
   "metadata": {
    "collapsed": false
   },
   "outputs": [
    {
     "data": {
      "text/plain": [
       "growth_rate 3 \n",
       "growth_rate 0.877193 \n",
       "electron_donor 3 \n",
       "electron_donor 0.9824561 \n",
       "electron_acceptor 3 \n",
       "electron_acceptor 0.8947368 \n",
       "temperature 2 \n",
       "temperature 0.9649123 \n",
       "NULL\n"
      ]
     },
     "metadata": {},
     "output_type": "display_data"
    }
   ],
   "source": [
    "%%R\n",
    "    results_noleaveout = list()\n",
    "    for (cond_type in c('growth_rate', 'electron_donor', 'electron_acceptor', 'temperature')) {\n",
    "        if (cond_type == 'growth_rate') {\n",
    "            gr <- info$growth.rate.per.h; gr=as.numeric(as.character(gr)); gr[is.na(gr)]=0.2\n",
    "            Y <- factor( ifelse(gr==0, 'no_growth', ifelse(gr>=0.2, 'fast_growth', 'med_growth')) )\n",
    "        } else if (cond_type == 'electron_donor') {\n",
    "            Y <- as.factor(as.character(info$electron.donor))\n",
    "        } else if (cond_type == 'electron_acceptor') {\n",
    "            Y <- as.factor(as.character(info$electron.acceptor))\n",
    "        } else if (cond_type == 'temperature') {\n",
    "            Y <- as.factor(as.character(info$T0C == 37))\n",
    "        }\n",
    "        cat(cond_type, length(levels(Y)), '\\n')\n",
    "\n",
    "        B.temp1a <- Boruta(t(x), Y, getImp=getImpFerns, ferns=100000, doTrace=0)\n",
    "        features <- gsub('.','-',getSelectedAttributes(B.temp1a), fixed=T)\n",
    "        \n",
    "        rf.temp1a <- randomForest(t(x[features,]), Y, importance=T, ntree=100000, do.trace=F)\n",
    "        tmp = list(predicted=predict(rf.temp1a), actual=Y, features=features)\n",
    "\n",
    "        ##print(lapply(tmp,function(i)mean(i$predicted==i$actual)))\n",
    "        cat(cond_type, mean(as.character(tmp$predicted) == as.character(tmp$actual)), '\\n')\n",
    "        results_noleaveout[[cond_type]] <- tmp\n",
    "    }"
   ]
  },
  {
   "cell_type": "code",
   "execution_count": null,
   "metadata": {
    "collapsed": true
   },
   "outputs": [],
   "source": []
  }
 ],
 "metadata": {
  "kernelspec": {
   "display_name": "Python 2",
   "language": "python",
   "name": "python2"
  },
  "language_info": {
   "codemirror_mode": {
    "name": "ipython",
    "version": 2
   },
   "file_extension": ".py",
   "mimetype": "text/x-python",
   "name": "python",
   "nbconvert_exporter": "python",
   "pygments_lexer": "ipython2",
   "version": "2.7.6"
  }
 },
 "nbformat": 4,
 "nbformat_minor": 0
}
