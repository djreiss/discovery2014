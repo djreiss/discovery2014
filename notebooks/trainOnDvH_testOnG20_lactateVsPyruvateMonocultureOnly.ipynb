{
 "cells": [
  {
   "cell_type": "code",
   "execution_count": 1,
   "metadata": {
    "collapsed": false
   },
   "outputs": [],
   "source": [
    "from matplotlib import pyplot as plt\n",
    "%matplotlib inline\n",
    "\n",
    "'''\n",
    "from IPython.display import set_matplotlib_formats\n",
    "set_matplotlib_formats('pdf', 'svg')\n",
    "\n",
    "import pandas as pd\n",
    "pd.options.display.mpl_style = 'default'\n",
    "\n",
    "from mpltools import style\n",
    "from mpltools import layout\n",
    "\n",
    "style.use('ggplot')\n",
    "## see: https://stackoverflow.com/questions/19536817/manipulate-html-module-font-size-in-ipython-notebook\n",
    "class sizeme():\n",
    "    \"\"\" Class to change html fontsize of object's representation\"\"\"\n",
    "    def __init__(self, ob, size=50, height=120):\n",
    "        self.ob = ob\n",
    "        self.size = size\n",
    "        self.height = height\n",
    "    def _repr_html_(self):\n",
    "        repl_tuple = (self.size, self.height, self.ob._repr_html_())\n",
    "        return u'<span style=\"font-size:{0}%; line-height:{1}%\">{2}</span>'.format(*repl_tuple)\n",
    "    \n",
    "## see https://stackoverflow.com/questions/14656852/how-to-use-pandas-dataframes-and-numpy-arrays-in-rpy2\n",
    "## and http://ipython.org/ipython-doc/rel-0.13/config/extensions/rmagic.html\n",
    "## note there's a ri2pandas() to convert back.\n",
    "## but note, rpy2 2.4.0 and later automagically translates dataframes: \n",
    "## https://stackoverflow.com/questions/20630121/pandas-how-to-convert-r-dataframe-back-to-pandas\n",
    "%load_ext rpy2.ipython\n",
    "%Rdevice svg\n",
    "#import rpy2.robjects.pandas2ri as p2r\n",
    "#rdf = p2r.pandas2ri(info)\n",
    "#%Rpush rdf\n",
    "'''\n",
    "None"
   ]
  },
  {
   "cell_type": "code",
   "execution_count": null,
   "metadata": {
    "collapsed": false
   },
   "outputs": [],
   "source": [
    "%run -i -e read_counts.py"
   ]
  },
  {
   "cell_type": "code",
   "execution_count": 3,
   "metadata": {
    "collapsed": false
   },
   "outputs": [],
   "source": [
    "sample_info = pd.read_excel('Sample_Info_FIXED2.xlsx') ##,skiprows=[0])\n",
    "sample_info = sample_info.drop( ['growth rate per h (OLD)', 'Unnamed: 16', 'Unnamed: 17', 'Unnamed: 18', 'Unnamed: 19', 'Sample name.1'], 1)\n",
    "sample_info = sample_info.set_index( sample_info['Sample name'] )\n",
    "#%store sample_info \n",
    "#%store all_freqs   ## cool! saved in ~/.ipython/profile_default/db/autorestore/"
   ]
  },
  {
   "cell_type": "code",
   "execution_count": 4,
   "metadata": {
    "collapsed": false
   },
   "outputs": [
    {
     "name": "stdout",
     "output_type": "stream",
     "text": [
      "(24, 16)\n"
     ]
    },
    {
     "data": {
      "text/html": [
       "<span style=\"font-size:50%; line-height:120%\"><div>\n",
       "<table border=\"1\" class=\"dataframe\">\n",
       "  <thead>\n",
       "    <tr style=\"text-align: right;\">\n",
       "      <th></th>\n",
       "      <th>Sample name</th>\n",
       "      <th>Source</th>\n",
       "      <th>Barcode</th>\n",
       "      <th>Strain/condition</th>\n",
       "      <th>cultivation type</th>\n",
       "      <th>Chemostat/batch ID #</th>\n",
       "      <th>Description/condition details</th>\n",
       "      <th>Description/condition details -2</th>\n",
       "      <th>carbon source</th>\n",
       "      <th>electron donor</th>\n",
       "      <th>concentration (mM)</th>\n",
       "      <th>electron acceptor</th>\n",
       "      <th>growth rate per h</th>\n",
       "      <th>T0C</th>\n",
       "      <th>organisms</th>\n",
       "      <th>growth rate per h.1</th>\n",
       "    </tr>\n",
       "    <tr>\n",
       "      <th>Sample name</th>\n",
       "      <th></th>\n",
       "      <th></th>\n",
       "      <th></th>\n",
       "      <th></th>\n",
       "      <th></th>\n",
       "      <th></th>\n",
       "      <th></th>\n",
       "      <th></th>\n",
       "      <th></th>\n",
       "      <th></th>\n",
       "      <th></th>\n",
       "      <th></th>\n",
       "      <th></th>\n",
       "      <th></th>\n",
       "      <th></th>\n",
       "      <th></th>\n",
       "    </tr>\n",
       "  </thead>\n",
       "  <tbody>\n",
       "    <tr>\n",
       "      <th>Sample_ISB-1</th>\n",
       "      <td>Sample_ISB-1</td>\n",
       "      <td>Genewiz</td>\n",
       "      <td>SS01-ISB1</td>\n",
       "      <td>LS 37C G20 log 1</td>\n",
       "      <td>batch</td>\n",
       "      <td>NaN</td>\n",
       "      <td>lactate 40mM, sulfate15mM 37C</td>\n",
       "      <td>sulfate respiration/growth</td>\n",
       "      <td>lactate 40mM</td>\n",
       "      <td>lactate</td>\n",
       "      <td>NaN</td>\n",
       "      <td>sulfate</td>\n",
       "      <td>NaN</td>\n",
       "      <td>37</td>\n",
       "      <td>D. alaskensis G20</td>\n",
       "      <td>0.027</td>\n",
       "    </tr>\n",
       "    <tr>\n",
       "      <th>Sample_ISB-10</th>\n",
       "      <td>Sample_ISB-10</td>\n",
       "      <td>Genewiz</td>\n",
       "      <td>SS10-ISB10</td>\n",
       "      <td>PS 37C G20 e. stat 1</td>\n",
       "      <td>batch</td>\n",
       "      <td>NaN</td>\n",
       "      <td>pyruvate 80mM, sulfate 15mM 37C</td>\n",
       "      <td>fermentation</td>\n",
       "      <td>pyruvate 20mM</td>\n",
       "      <td>pyruvate</td>\n",
       "      <td>20</td>\n",
       "      <td>none</td>\n",
       "      <td>0.001</td>\n",
       "      <td>37</td>\n",
       "      <td>D. alaskensis G20</td>\n",
       "      <td>0.035</td>\n",
       "    </tr>\n",
       "    <tr>\n",
       "      <th>Sample_ISB-11</th>\n",
       "      <td>Sample_ISB-11</td>\n",
       "      <td>Genewiz</td>\n",
       "      <td>SS11-ISB11</td>\n",
       "      <td>PS 37C G20 e. stat 2</td>\n",
       "      <td>batch</td>\n",
       "      <td>NaN</td>\n",
       "      <td>pyruvate 80mM, sulfate 15mM 37C</td>\n",
       "      <td>fermentation</td>\n",
       "      <td>pyruvate 20mM</td>\n",
       "      <td>pyruvate</td>\n",
       "      <td>20</td>\n",
       "      <td>none</td>\n",
       "      <td>0.001</td>\n",
       "      <td>37</td>\n",
       "      <td>D. alaskensis G20</td>\n",
       "      <td>0.035</td>\n",
       "    </tr>\n",
       "    <tr>\n",
       "      <th>Sample_ISB-12</th>\n",
       "      <td>Sample_ISB-12</td>\n",
       "      <td>Genewiz</td>\n",
       "      <td>SS12-ISB12</td>\n",
       "      <td>PS 37C G20 e. stat 3</td>\n",
       "      <td>batch</td>\n",
       "      <td>NaN</td>\n",
       "      <td>pyruvate 80mM, sulfate 15mM 37C</td>\n",
       "      <td>fermentation</td>\n",
       "      <td>pyruvate 20mM</td>\n",
       "      <td>pyruvate</td>\n",
       "      <td>20</td>\n",
       "      <td>none</td>\n",
       "      <td>0.001</td>\n",
       "      <td>37</td>\n",
       "      <td>D. alaskensis G20</td>\n",
       "      <td>0.000</td>\n",
       "    </tr>\n",
       "    <tr>\n",
       "      <th>Sample_ISB-13</th>\n",
       "      <td>Sample_ISB-13</td>\n",
       "      <td>Genewiz</td>\n",
       "      <td>SS13-ISB13</td>\n",
       "      <td>LS 25 G20 log 1</td>\n",
       "      <td>batch</td>\n",
       "      <td>NaN</td>\n",
       "      <td>lactate 40mM, sulfate15mM 25C</td>\n",
       "      <td>sulfate respiration/growth</td>\n",
       "      <td>lactate 40mM</td>\n",
       "      <td>lactate</td>\n",
       "      <td>NaN</td>\n",
       "      <td>sulfate</td>\n",
       "      <td>NaN</td>\n",
       "      <td>25</td>\n",
       "      <td>D. alaskensis G20</td>\n",
       "      <td>0.000</td>\n",
       "    </tr>\n",
       "  </tbody>\n",
       "</table>\n",
       "</div></span>"
      ],
      "text/plain": [
       "<__main__.sizeme instance at 0x7fed86aa0560>"
      ]
     },
     "execution_count": 4,
     "metadata": {},
     "output_type": "execute_result"
    }
   ],
   "source": [
    "##%who_ls\n",
    "#%store -r all_freqs\n",
    "#%store -r sample_info   ## seems to mess up the indexing\n",
    "\n",
    "sample_infos = { k:sample_info.ix[all_freqs[k].columns.droplevel(1).values] for k in all_freqs.keys() }\n",
    "info_g20 = sample_infos['Desulfovibrio_alaskensis_G20_uid57941'].copy()\n",
    "sizeme(info_g20.head(3),50,120)\n",
    "\n",
    "( (info_g20['electron donor']=='lactate').values | (info_g20['electron donor']=='pyruvate').values ) & \\\n",
    "(info_g20['organisms']=='D. alaskensis G20').values ## only mono-culture (i.e., single organism)\n",
    "\n",
    "info_g20a = info_g20[( (info_g20['electron donor']=='lactate').values | (info_g20['electron donor']=='pyruvate').values ) & \\\n",
    "(info_g20['organisms']=='D. alaskensis G20').values]\n",
    "print(info_g20a.shape)\n",
    "sizeme(info_g20a.head(),50,120)"
   ]
  },
  {
   "cell_type": "code",
   "execution_count": 5,
   "metadata": {
    "collapsed": false
   },
   "outputs": [
    {
     "name": "stdout",
     "output_type": "stream",
     "text": [
      "(24, 16)\n"
     ]
    },
    {
     "data": {
      "text/html": [
       "<span style=\"font-size:50%; line-height:120%\"><div>\n",
       "<table border=\"1\" class=\"dataframe\">\n",
       "  <thead>\n",
       "    <tr style=\"text-align: right;\">\n",
       "      <th></th>\n",
       "      <th>Sample name</th>\n",
       "      <th>Source</th>\n",
       "      <th>Barcode</th>\n",
       "      <th>Strain/condition</th>\n",
       "      <th>cultivation type</th>\n",
       "      <th>Chemostat/batch ID #</th>\n",
       "      <th>Description/condition details</th>\n",
       "      <th>Description/condition details -2</th>\n",
       "      <th>carbon source</th>\n",
       "      <th>electron donor</th>\n",
       "      <th>concentration (mM)</th>\n",
       "      <th>electron acceptor</th>\n",
       "      <th>growth rate per h</th>\n",
       "      <th>T0C</th>\n",
       "      <th>organisms</th>\n",
       "      <th>growth rate per h.1</th>\n",
       "    </tr>\n",
       "    <tr>\n",
       "      <th>Sample name</th>\n",
       "      <th></th>\n",
       "      <th></th>\n",
       "      <th></th>\n",
       "      <th></th>\n",
       "      <th></th>\n",
       "      <th></th>\n",
       "      <th></th>\n",
       "      <th></th>\n",
       "      <th></th>\n",
       "      <th></th>\n",
       "      <th></th>\n",
       "      <th></th>\n",
       "      <th></th>\n",
       "      <th></th>\n",
       "      <th></th>\n",
       "      <th></th>\n",
       "    </tr>\n",
       "  </thead>\n",
       "  <tbody>\n",
       "    <tr>\n",
       "      <th>Sample_US-1505885</th>\n",
       "      <td>Sample_US-1505885</td>\n",
       "      <td>Labcorp</td>\n",
       "      <td>US-1505885</td>\n",
       "      <td>PS 37 C log 2</td>\n",
       "      <td>batch</td>\n",
       "      <td>NaN</td>\n",
       "      <td>pyruvate 80mM, sulfate 15mM 37C</td>\n",
       "      <td>sulfate respiration/growth</td>\n",
       "      <td>pyruvate 80mM</td>\n",
       "      <td>pyruvate</td>\n",
       "      <td>NaN</td>\n",
       "      <td>sulfate</td>\n",
       "      <td>0.13</td>\n",
       "      <td>37</td>\n",
       "      <td>D vulgaris Hildenborugh</td>\n",
       "      <td>NaN</td>\n",
       "    </tr>\n",
       "    <tr>\n",
       "      <th>Sample_US-1505888</th>\n",
       "      <td>Sample_US-1505888</td>\n",
       "      <td>Labcorp</td>\n",
       "      <td>US-1505888</td>\n",
       "      <td>LS 37C   log 1</td>\n",
       "      <td>batch</td>\n",
       "      <td>NaN</td>\n",
       "      <td>lactate 40mM, sulfate15mM 37C</td>\n",
       "      <td>sulfate respiration/growth</td>\n",
       "      <td>lactate 40mM</td>\n",
       "      <td>lactate</td>\n",
       "      <td>NaN</td>\n",
       "      <td>sulfate</td>\n",
       "      <td>0.11</td>\n",
       "      <td>37</td>\n",
       "      <td>D vulgaris Hildenborugh</td>\n",
       "      <td>NaN</td>\n",
       "    </tr>\n",
       "    <tr>\n",
       "      <th>Sample_US-1505895</th>\n",
       "      <td>Sample_US-1505895</td>\n",
       "      <td>Labcorp</td>\n",
       "      <td>US-1505895</td>\n",
       "      <td>LS 37C e. stat 1</td>\n",
       "      <td>batch</td>\n",
       "      <td>NaN</td>\n",
       "      <td>lactate 40mM, sulfate15mM 37C</td>\n",
       "      <td>fermentation</td>\n",
       "      <td>lactate 10mM</td>\n",
       "      <td>lactate</td>\n",
       "      <td>10</td>\n",
       "      <td>none</td>\n",
       "      <td>0.00</td>\n",
       "      <td>37</td>\n",
       "      <td>D vulgaris Hildenborugh</td>\n",
       "      <td>0.00</td>\n",
       "    </tr>\n",
       "    <tr>\n",
       "      <th>Sample_US-1505926</th>\n",
       "      <td>Sample_US-1505926</td>\n",
       "      <td>Labcorp</td>\n",
       "      <td>US-1505926</td>\n",
       "      <td>PS 37 C e. stat 2</td>\n",
       "      <td>batch</td>\n",
       "      <td>NaN</td>\n",
       "      <td>pyruvate 80mM, sulfate 15mM 37C</td>\n",
       "      <td>sulfate respiration/growth</td>\n",
       "      <td>pyruvate 20mM</td>\n",
       "      <td>pyruvate</td>\n",
       "      <td>NaN</td>\n",
       "      <td>none</td>\n",
       "      <td>0.00</td>\n",
       "      <td>37</td>\n",
       "      <td>D vulgaris Hildenborugh</td>\n",
       "      <td>NaN</td>\n",
       "    </tr>\n",
       "    <tr>\n",
       "      <th>Sample_US-1505949</th>\n",
       "      <td>Sample_US-1505949</td>\n",
       "      <td>Labcorp</td>\n",
       "      <td>US-1505949</td>\n",
       "      <td>LS 37C e. stat 2</td>\n",
       "      <td>batch</td>\n",
       "      <td>NaN</td>\n",
       "      <td>lactate 40mM, sulfate15mM 37C</td>\n",
       "      <td>fermentation</td>\n",
       "      <td>lactate 10mM</td>\n",
       "      <td>lactate</td>\n",
       "      <td>10</td>\n",
       "      <td>none</td>\n",
       "      <td>0.00</td>\n",
       "      <td>37</td>\n",
       "      <td>D vulgaris Hildenborugh</td>\n",
       "      <td>0.05</td>\n",
       "    </tr>\n",
       "  </tbody>\n",
       "</table>\n",
       "</div></span>"
      ],
      "text/plain": [
       "<__main__.sizeme instance at 0x7fed878826c8>"
      ]
     },
     "execution_count": 5,
     "metadata": {},
     "output_type": "execute_result"
    }
   ],
   "source": [
    "info_dvh = sample_infos['Desulfovibrio_vulgaris_Hildenborough_uid57645'].copy()\n",
    "sizeme(info_dvh.head(3),50,120)\n",
    "\n",
    "( (info_dvh['electron donor']=='lactate').values | (info_dvh['electron donor']=='pyruvate').values ) & \\\n",
    "(info_dvh['organisms']=='D vulgaris Hildenborugh').values ## only mono-culture (i.e., single organism)\n",
    "\n",
    "info_dvha = info_dvh[( (info_dvh['electron donor']=='lactate').values | (info_dvh['electron donor']=='pyruvate').values ) & \\\n",
    "(info_dvh['organisms']=='D vulgaris Hildenborugh').values]\n",
    "print(info_dvha.shape)\n",
    "sizeme(info_dvha.head(),50,120)"
   ]
  },
  {
   "cell_type": "markdown",
   "metadata": {},
   "source": [
    "## Set up the expression data, separate for the 2 organisms, convert to ranks"
   ]
  },
  {
   "cell_type": "code",
   "execution_count": 31,
   "metadata": {
    "collapsed": false
   },
   "outputs": [
    {
     "name": "stdout",
     "output_type": "stream",
     "text": [
      "(3369, 30)\n",
      "(3648, 57)\n"
     ]
    }
   ],
   "source": [
    "%Rpush info_g20\n",
    "x_g20 = all_freqs['Desulfovibrio_alaskensis_G20_uid57941'].copy()\n",
    "print x_g20.shape\n",
    "%Rpush x_g20\n",
    "genes_g20 = x_g20.index.values.astype('str')\n",
    "%Rpush genes_g20\n",
    "%R -n colnames(x_g20) <- gsub('X..','',gsub('...1.','',colnames(x_g20),fixed=T),fixed=T)\n",
    "\n",
    "%Rpush info_dvh\n",
    "x_dvh = all_freqs['Desulfovibrio_vulgaris_Hildenborough_uid57645'].copy()\n",
    "print x_dvh.shape\n",
    "%Rpush x_dvh\n",
    "genes_dvh = x_dvh.index.values.astype('str')\n",
    "%Rpush genes_dvh\n",
    "%R -n colnames(x_dvh) <- gsub('X..','',gsub('...1.','',colnames(x_dvh),fixed=T),fixed=T)\n",
    "\n",
    "#%R save.image('qqq')"
   ]
  },
  {
   "cell_type": "markdown",
   "metadata": {},
   "source": [
    "## Filter out the bad rows from the data"
   ]
  },
  {
   "cell_type": "code",
   "execution_count": 32,
   "metadata": {
    "collapsed": false
   },
   "outputs": [],
   "source": [
    "%%R -n\n",
    "good_gene = which(!substr(genes_g20,1,2)=='__' & apply(x_g20,1,sum)>0)\n",
    "x_g20 = x_g20[good_gene,]\n",
    "x_g20.orig = x_g20 = as.matrix(x_g20)\n",
    "rownames(x_g20)=genes_g20[good_gene]\n",
    "\n",
    "good_gene = which(!substr(genes_dvh,1,2)=='__' & apply(x_dvh,1,sum)>0)\n",
    "x_dvh = x_dvh[good_gene,]\n",
    "x_dvh.orig = x_dvh = as.matrix(x_dvh)\n",
    "rownames(x_dvh)=genes_dvh[good_gene]\n",
    "#save.image('qqq')"
   ]
  },
  {
   "cell_type": "code",
   "execution_count": 33,
   "metadata": {
    "collapsed": false
   },
   "outputs": [
    {
     "data": {
      "text/html": [
       "<span style=\"font-size:50%; line-height:120%\"><div>\n",
       "<table border=\"1\" class=\"dataframe\">\n",
       "  <thead>\n",
       "    <tr style=\"text-align: right;\">\n",
       "      <th></th>\n",
       "      <th>Subject.id</th>\n",
       "      <th>Query.id</th>\n",
       "      <th>X..identity</th>\n",
       "      <th>alignment.length</th>\n",
       "      <th>mismatches</th>\n",
       "      <th>gap.openings</th>\n",
       "      <th>q..start</th>\n",
       "      <th>q..end</th>\n",
       "      <th>s..start</th>\n",
       "      <th>s..end</th>\n",
       "      <th>e.value</th>\n",
       "      <th>bit.score</th>\n",
       "      <th>fraction.x</th>\n",
       "      <th>fraction.y</th>\n",
       "      <th>names.x</th>\n",
       "      <th>names.y</th>\n",
       "      <th>names.x.1</th>\n",
       "      <th>names.y.1</th>\n",
       "      <th>names.x.2</th>\n",
       "      <th>names.y.2</th>\n",
       "    </tr>\n",
       "  </thead>\n",
       "  <tbody>\n",
       "    <tr>\n",
       "      <th>0</th>\n",
       "      <td>2765</td>\n",
       "      <td>2875</td>\n",
       "      <td>85.36</td>\n",
       "      <td>1380</td>\n",
       "      <td>201</td>\n",
       "      <td>1</td>\n",
       "      <td>1</td>\n",
       "      <td>1380</td>\n",
       "      <td>1</td>\n",
       "      <td>1379</td>\n",
       "      <td>0</td>\n",
       "      <td>2420</td>\n",
       "      <td>0.996390</td>\n",
       "      <td>0.995671</td>\n",
       "      <td>Dde_2998</td>\n",
       "      <td>DVU2929</td>\n",
       "      <td>Dde_2998</td>\n",
       "      <td>DVU2929</td>\n",
       "      <td>Dde_2998</td>\n",
       "      <td>DVU2929</td>\n",
       "    </tr>\n",
       "    <tr>\n",
       "      <th>1</th>\n",
       "      <td>2764</td>\n",
       "      <td>2874</td>\n",
       "      <td>83.70</td>\n",
       "      <td>1368</td>\n",
       "      <td>222</td>\n",
       "      <td>1</td>\n",
       "      <td>1</td>\n",
       "      <td>1367</td>\n",
       "      <td>1</td>\n",
       "      <td>1368</td>\n",
       "      <td>0</td>\n",
       "      <td>2385</td>\n",
       "      <td>0.997085</td>\n",
       "      <td>0.994909</td>\n",
       "      <td>Dde_2997</td>\n",
       "      <td>DVU2928</td>\n",
       "      <td>Dde_2997</td>\n",
       "      <td>DVU2928</td>\n",
       "      <td>Dde_2997</td>\n",
       "      <td>DVU2928</td>\n",
       "    </tr>\n",
       "    <tr>\n",
       "      <th>2</th>\n",
       "      <td>2854</td>\n",
       "      <td>3106</td>\n",
       "      <td>82.68</td>\n",
       "      <td>1218</td>\n",
       "      <td>207</td>\n",
       "      <td>3</td>\n",
       "      <td>1</td>\n",
       "      <td>1217</td>\n",
       "      <td>1</td>\n",
       "      <td>1215</td>\n",
       "      <td>0</td>\n",
       "      <td>2106</td>\n",
       "      <td>1.002469</td>\n",
       "      <td>1.000822</td>\n",
       "      <td>Dde_3237</td>\n",
       "      <td>DVU3025</td>\n",
       "      <td>Dde_3237</td>\n",
       "      <td>DVU3025</td>\n",
       "      <td>Dde_3237</td>\n",
       "      <td>DVU3025</td>\n",
       "    </tr>\n",
       "    <tr>\n",
       "      <th>3</th>\n",
       "      <td>1803</td>\n",
       "      <td>2009</td>\n",
       "      <td>79.81</td>\n",
       "      <td>1233</td>\n",
       "      <td>249</td>\n",
       "      <td>0</td>\n",
       "      <td>1</td>\n",
       "      <td>1233</td>\n",
       "      <td>1</td>\n",
       "      <td>1233</td>\n",
       "      <td>0</td>\n",
       "      <td>2079</td>\n",
       "      <td>0.999190</td>\n",
       "      <td>0.995961</td>\n",
       "      <td>Dde_2081</td>\n",
       "      <td>DVU1834</td>\n",
       "      <td>Dde_2081</td>\n",
       "      <td>DVU1834</td>\n",
       "      <td>Dde_2081</td>\n",
       "      <td>DVU1834</td>\n",
       "    </tr>\n",
       "    <tr>\n",
       "      <th>4</th>\n",
       "      <td>1802</td>\n",
       "      <td>2008</td>\n",
       "      <td>79.82</td>\n",
       "      <td>1194</td>\n",
       "      <td>238</td>\n",
       "      <td>2</td>\n",
       "      <td>1</td>\n",
       "      <td>1194</td>\n",
       "      <td>1</td>\n",
       "      <td>1191</td>\n",
       "      <td>0</td>\n",
       "      <td>1985</td>\n",
       "      <td>1.002519</td>\n",
       "      <td>1.000000</td>\n",
       "      <td>Dde_2080</td>\n",
       "      <td>DVU1833</td>\n",
       "      <td>Dde_2080</td>\n",
       "      <td>DVU1833</td>\n",
       "      <td>Dde_2080</td>\n",
       "      <td>DVU1833</td>\n",
       "    </tr>\n",
       "  </tbody>\n",
       "</table>\n",
       "</div></span>"
      ],
      "text/plain": [
       "<__main__.sizeme instance at 0x7fed8714c488>"
      ]
     },
     "execution_count": 33,
     "metadata": {},
     "output_type": "execute_result"
    }
   ],
   "source": [
    "#%store -r blast_out\n",
    "#%Rpush blast_out\n",
    "%R load('blasting.RData')\n",
    "%Rpull blast_out\n",
    "sizeme(blast_out.head())"
   ]
  },
  {
   "cell_type": "code",
   "execution_count": 34,
   "metadata": {
    "collapsed": true
   },
   "outputs": [],
   "source": [
    "%%R\n",
    "x_g20 = x_g20[ rownames(x_g20) %in% blast_out$names.x, ]\n",
    "x_g20.ranks <- apply(x_g20,2,rank)\n",
    "x_dvh = x_dvh[ rownames(x_dvh) %in% blast_out$names.y, ]\n",
    "x_dvh.ranks <- apply(x_dvh,2,rank)\n",
    "#save.image('qqq')"
   ]
  },
  {
   "cell_type": "markdown",
   "metadata": {},
   "source": [
    "## Set up the variables and data - training and test\n",
    "## Also, map the rows in the test data to the orthologs' names in the training data"
   ]
  },
  {
   "cell_type": "code",
   "execution_count": 36,
   "metadata": {
    "collapsed": true
   },
   "outputs": [],
   "source": [
    "%Rpush info_g20a\n",
    "%Rpush info_dvha\n",
    "#%R save.image('qqq')"
   ]
  },
  {
   "cell_type": "code",
   "execution_count": 70,
   "metadata": {
    "collapsed": false
   },
   "outputs": [
    {
     "data": {
      "text/plain": [
       "NULL\n"
      ]
     },
     "metadata": {},
     "output_type": "display_data"
    }
   ],
   "source": [
    "%%R -n\n",
    "require(Boruta); require(randomForest); require(parallel); options(mc.cores=8); options(cores=8)\n",
    "\n",
    "do_it_train <- function(cond_type, x_train, info_train,  \n",
    "                  cols_exclude=NULL, genes_exclude=NULL, n_trees=100000) {\n",
    "    \n",
    "    info <- info_train\n",
    "    x <- x_train\n",
    "    if (cond_type == 'growth_rate') {\n",
    "        gr <- info$growth.rate.per.h; gr=as.numeric(as.character(gr)); gr[is.na(gr)]=0.2\n",
    "        Y <- factor( ifelse(gr==0, 'no_growth', ifelse(gr>=0.2, 'fast_growth', 'med_growth')) )\n",
    "    } else if (cond_type == 'electron_donor') {\n",
    "        Y <- as.factor(as.character(info$electron.donor))\n",
    "    } else if (cond_type == 'electron_acceptor') {\n",
    "        Y <- as.factor(as.character(info$electron.acceptor))\n",
    "    } else if (cond_type == 'temperature') {\n",
    "        Y <- as.factor(as.character(info$T0C == 37))\n",
    "    } else if (cond_type == 'organisms') {\n",
    "        Y <- as.factor(as.character(info$organisms))\n",
    "    } else if (cond_type == 'all') {\n",
    "        Y1 <- '' #ifelse(gr==0, 'no_growth', ifelse(gr>=0.2, 'fast_growth', 'med_growth'))\n",
    "        Y2 <- as.character(info$electron.donor)\n",
    "        Y3 <- as.character(info$electron.acceptor)\n",
    "        Y4 <- as.character(info$T0C == 37)\n",
    "        Y <- as.factor(paste(Y1, Y2, Y3, Y4))\n",
    "    }\n",
    "    #cat(cond_type, length(levels(Y)), '\\n')\n",
    "    names(Y) <- info$Sample.name\n",
    "\n",
    "    cols2 <- ''\n",
    "    if ( ! is.null(cols_exclude) ) cols2 <- gsub('-','.',cols_exclude,fixed=T)\n",
    "\n",
    "    YY <- Y\n",
    "    if ( ! is.null(cols_exclude) ) YY <- Y[!names(Y)%in%cols_exclude]\n",
    "        \n",
    "    XX <- x\n",
    "    if ( ! is.null(cols_exclude) ) XX <- XX[, !colnames(XX) %in% cols2, drop=F]\n",
    "    if ( ! is.null(genes_exclude) ) XX <- XX[!rownames(XX) %in% genes_exclude, ,drop=F]\n",
    "    #print(dim(XX));print(length(YY))\n",
    "\n",
    "    if ( TRUE ) { ## preselect features using Boruta -- faster, and same results?\n",
    "        B.temp1a <- Boruta(t(XX), YY, getImp=getImpFerns, ferns=n_trees, doTrace=0)\n",
    "        features <- gsub('.','-',getSelectedAttributes(B.temp1a), fixed=T)\n",
    "    } else {\n",
    "        features <- rownames(XX)\n",
    "    }\n",
    "        \n",
    "    rf.temp1a <- randomForest(t(XX[features, ,drop=F]), YY, importance=T, ntree=n_trees, do.trace=F)\n",
    "    \n",
    "    cols_exclude2 <- cols_exclude\n",
    "    if (cols2 == '') {\n",
    "        cols2 <- colnames(x)\n",
    "        cols_exclude2 <- gsub('.','-',cols2,fixed=T)\n",
    "    }\n",
    "        \n",
    "    tmp <- list(predicted=predict(rf.temp1a, t(x[features,cols2,drop=F])), actual=Y[cols_exclude2], \n",
    "                features=features, classifier=rf.temp1a)\n",
    "    \n",
    "    return(tmp)\n",
    "}\n",
    "    \n",
    "#############################################\n",
    "#############################################\n",
    "#############################################\n",
    "#############################################\n",
    "\n",
    "do_it_test <- function(tmp, cond_type, x_test, info_test, \n",
    "            cols_exclude=NULL, genes_exclude=NULL) {\n",
    "\n",
    "    info <- info_test\n",
    "    x <- x_test\n",
    "\n",
    "    if (cond_type == 'growth_rate') {\n",
    "        gr <- info$growth.rate.per.h; gr=as.numeric(as.character(gr)); gr[is.na(gr)]=0.2\n",
    "        Y <- factor( ifelse(gr==0, 'no_growth', ifelse(gr>=0.2, 'fast_growth', 'med_growth')) )\n",
    "    } else if (cond_type == 'electron_donor') {\n",
    "        Y <- as.factor(as.character(info$electron.donor))\n",
    "    } else if (cond_type == 'electron_acceptor') {\n",
    "        Y <- as.factor(as.character(info$electron.acceptor))\n",
    "    } else if (cond_type == 'temperature') {\n",
    "        Y <- as.factor(as.character(info$T0C == 37))\n",
    "    } else if (cond_type == 'organisms') {\n",
    "        Y <- as.factor(as.character(info$organisms))\n",
    "    } else if (cond_type == 'all') {\n",
    "        Y1 <- '' #ifelse(gr==0, 'no_growth', ifelse(gr>=0.2, 'fast_growth', 'med_growth'))\n",
    "        Y2 <- as.character(info$electron.donor)\n",
    "        Y3 <- as.character(info$electron.acceptor)\n",
    "        Y4 <- as.character(info$T0C == 37)\n",
    "        Y <- as.factor(paste(Y1, Y2, Y3, Y4))\n",
    "    }\n",
    "    #cat(cond_type, length(levels(Y)), '\\n')\n",
    "    names(Y) <- info$Sample.name\n",
    "\n",
    "    cols2 <- ''\n",
    "    if ( ! is.null(cols_exclude) ) cols2 <- gsub('-','.',cols_exclude,fixed=T)\n",
    "\n",
    "    YY <- Y\n",
    "    if ( ! is.null(cols_exclude) ) YY <- Y[!names(Y)%in%cols_exclude]\n",
    "        \n",
    "    XX <- x\n",
    "    if ( ! is.null(cols_exclude) ) XX <- XX[, !colnames(XX) %in% cols2, drop=F]\n",
    "    if ( ! is.null(genes_exclude) ) XX <- XX[!rownames(XX) %in% genes_exclude, ,drop=F]\n",
    "    #print(dim(XX));print(length(YY))\n",
    "\n",
    "    #B.temp1a <- Boruta(t(XX), YY, getImp=getImpFerns, ferns=n_trees, doTrace=0)\n",
    "    #features <- gsub('.','-',getSelectedAttributes(B.temp1a), fixed=T)\n",
    "    \n",
    "    #rf.temp1a <- randomForest(t(XX[features, ,drop=F]), YY, importance=T, ntree=n_trees, do.trace=F)\n",
    "    cols_exclude2 <- cols_exclude\n",
    "    if (cols2 == '') {\n",
    "        cols2 <- colnames(x)\n",
    "        cols_exclude2 <- gsub('.','-',cols2,fixed=T)\n",
    "    }\n",
    "\n",
    "    predicted1 <- predict(tmp$classifier, t(x[tmp$features,cols2,drop=F]))\n",
    "    predicted2 <- predict(tmp$classifier, t(x[tmp$features,cols2,drop=F]), type='prob')\n",
    "\n",
    "    tmp2 <- list(predicted=predicted1, predictedProbs=predicted2, actual=Y[cols_exclude2])\n",
    "    \n",
    "    return(list(testOnTrain=tmp, testOnTest=tmp2, classifier=tmp$classifier, features=tmp$features))\n",
    "}\n",
    "\n",
    "rm(tmp, tmp2)\n",
    "NULL"
   ]
  },
  {
   "cell_type": "markdown",
   "metadata": {},
   "source": [
    "### Train on DvH, test on G20 "
   ]
  },
  {
   "cell_type": "code",
   "execution_count": 69,
   "metadata": {
    "collapsed": false
   },
   "outputs": [
    {
     "data": {
      "text/plain": [
       "[1] 2125   24\n",
       "[1] 2125   24\n"
      ]
     },
     "metadata": {},
     "output_type": "display_data"
    }
   ],
   "source": [
    "%%R\n",
    "x_train <- x_dvh.ranks\n",
    "info_train <- info_dvha\n",
    "x_train = x_train[,gsub('.','-',colnames(x_train),fixed=T) %in% info_train$Sample.name]; print(dim(x_train))\n",
    "\n",
    "x_test <- x_g20.ranks\n",
    "info_test <- info_g20a\n",
    "x_test = x_test[,gsub('.','-',colnames(x_test),fixed=T) %in% info_test$Sample.name]; print(dim(x_test))\n",
    "\n",
    "mapping <- as.character(blast_out$names.y)\n",
    "names(mapping) <- as.character(blast_out$names.x)\n",
    "rownames(x_test) <- mapping[rownames(x_test)]\n",
    "x_test = x_test[ rownames(x_train), ]\n",
    "\n",
    "save.image('qqq')"
   ]
  },
  {
   "cell_type": "code",
   "execution_count": 54,
   "metadata": {
    "collapsed": false
   },
   "outputs": [
    {
     "data": {
      "text/plain": [
       "[1] 0.75\n"
      ]
     },
     "metadata": {},
     "output_type": "display_data"
    }
   ],
   "source": [
    "%%R\n",
    "tmp <- do_it_train('electron_donor', x_train, info_train, \n",
    "                  cols_exclude=NULL, genes_exclude=NULL, n_trees=100000)\n",
    "tmp2 <- do_it_test(tmp, 'electron_donor', x_test, info_test, \n",
    "                  cols_exclude=NULL, genes_exclude=NULL)\n",
    "print(mean(tmp2$testOnTest$predicted==tmp2$testOnTest$actual))"
   ]
  },
  {
   "cell_type": "markdown",
   "metadata": {},
   "source": [
    "### Train on G20, test on DvH "
   ]
  },
  {
   "cell_type": "code",
   "execution_count": 65,
   "metadata": {
    "collapsed": false
   },
   "outputs": [
    {
     "data": {
      "text/plain": [
       "[1] 2125   24\n",
       "[1] 2125   24\n"
      ]
     },
     "metadata": {},
     "output_type": "display_data"
    }
   ],
   "source": [
    "%%R\n",
    "x_train <- x_g20.ranks\n",
    "info_train <- info_g20a\n",
    "x_train = x_train[,gsub('.','-',colnames(x_train),fixed=T) %in% info_train$Sample.name]; print(dim(x_train))\n",
    "\n",
    "x_test <- x_dvh.ranks\n",
    "info_test <- info_dvha\n",
    "x_test = x_test[,gsub('.','-',colnames(x_test),fixed=T) %in% info_test$Sample.name]; print(dim(x_test))\n",
    "\n",
    "mapping <- as.character(blast_out$names.x)\n",
    "names(mapping) <- as.character(blast_out$names.y)\n",
    "rownames(x_test) <- mapping[rownames(x_test)]\n",
    "x_test = x_test[ rownames(x_train), ]\n",
    "\n",
    "save.image('qqq')"
   ]
  },
  {
   "cell_type": "code",
   "execution_count": 66,
   "metadata": {
    "collapsed": false
   },
   "outputs": [
    {
     "data": {
      "text/plain": [
       "[1] 0.7083333\n"
      ]
     },
     "metadata": {},
     "output_type": "display_data"
    }
   ],
   "source": [
    "%%R\n",
    "tmpa <- do_it_train('electron_donor', x_train, info_train, \n",
    "                  cols_exclude=NULL, genes_exclude=NULL, n_trees=100000)\n",
    "tmp2a <- do_it_test(tmpa, 'electron_donor', x_test, info_test, \n",
    "                  cols_exclude=NULL, genes_exclude=NULL)\n",
    "print(mean(tmp2a$testOnTest$predicted==tmp2a$testOnTest$actual))"
   ]
  },
  {
   "cell_type": "code",
   "execution_count": null,
   "metadata": {
    "collapsed": true
   },
   "outputs": [],
   "source": []
  }
 ],
 "metadata": {
  "kernelspec": {
   "display_name": "Python 2",
   "language": "python",
   "name": "python2"
  },
  "language_info": {
   "codemirror_mode": {
    "name": "ipython",
    "version": 2
   },
   "file_extension": ".py",
   "mimetype": "text/x-python",
   "name": "python",
   "nbconvert_exporter": "python",
   "pygments_lexer": "ipython2",
   "version": "2.7.6"
  }
 },
 "nbformat": 4,
 "nbformat_minor": 0
}
