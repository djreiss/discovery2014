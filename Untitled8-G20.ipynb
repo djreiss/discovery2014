{
 "cells": [
  {
   "cell_type": "markdown",
   "metadata": {},
   "source": [
    "### Same as Untitled7 but using ranked expr levels instead of actual values and this is for G20, not DvH!!!"
   ]
  },
  {
   "cell_type": "code",
   "execution_count": 2,
   "metadata": {
    "collapsed": false
   },
   "outputs": [
    {
     "name": "stdout",
     "output_type": "stream",
     "text": [
      "The rpy2.ipython extension is already loaded. To reload it, use:\n",
      "  %reload_ext rpy2.ipython\n"
     ]
    }
   ],
   "source": [
    "from matplotlib import pyplot as plt\n",
    "\n",
    "%matplotlib inline\n",
    "from IPython.display import set_matplotlib_formats\n",
    "set_matplotlib_formats('pdf', 'svg')\n",
    "\n",
    "import pandas as pd\n",
    "pd.options.display.mpl_style = 'default'\n",
    "\n",
    "from mpltools import style\n",
    "from mpltools import layout\n",
    "\n",
    "style.use('ggplot')\n",
    "\n",
    "## see: https://stackoverflow.com/questions/19536817/manipulate-html-module-font-size-in-ipython-notebook\n",
    "class sizeme():\n",
    "    \"\"\" Class to change html fontsize of object's representation\"\"\"\n",
    "    def __init__(self,ob, size, height=100):\n",
    "        self.ob = ob\n",
    "        self.size = size\n",
    "        self.height = height\n",
    "    def _repr_html_(self):\n",
    "        repl_tuple = (self.size, self.height, self.ob._repr_html_())\n",
    "        return u'<span style=\"font-size:{0}%; line-height:{1}%\">{2}</span>'.format(*repl_tuple)\n",
    "    \n",
    "## see https://stackoverflow.com/questions/14656852/how-to-use-pandas-dataframes-and-numpy-arrays-in-rpy2\n",
    "## and http://ipython.org/ipython-doc/rel-0.13/config/extensions/rmagic.html\n",
    "## note there's a ri2pandas() to convert back.\n",
    "## but note, rpy2 2.4.0 and later automagically translates dataframes: \n",
    "## https://stackoverflow.com/questions/20630121/pandas-how-to-convert-r-dataframe-back-to-pandas\n",
    "%load_ext rpy2.ipython\n",
    "%Rdevice svg\n",
    "#import rpy2.robjects.pandas2ri as p2r\n",
    "#rdf = p2r.pandas2ri(info)\n",
    "#%Rpush rdf"
   ]
  },
  {
   "cell_type": "markdown",
   "metadata": {},
   "source": [
    "### Dont forget to mount the data drive -- udisks --mount /dev/sdb1"
   ]
  },
  {
   "cell_type": "code",
   "execution_count": null,
   "metadata": {
    "collapsed": false
   },
   "outputs": [],
   "source": [
    "%run -i read_counts.py"
   ]
  },
  {
   "cell_type": "code",
   "execution_count": 8,
   "metadata": {
    "collapsed": false,
    "scrolled": true
   },
   "outputs": [
    {
     "name": "stdout",
     "output_type": "stream",
     "text": [
      "['Desulfovibrio_alaskensis_G20_uid57941', 'Methanospirillum_hungatei_JF_1_uid58181', 'Methanococcus_maripaludis_S2_uid58035', 'Desulfovibrio_vulgaris_Hildenborough_uid57645']\n"
     ]
    },
    {
     "data": {
      "text/html": [
       "<span style=\"font-size:50%; line-height:120%\"><div>\n",
       "<table border=\"1\" class=\"dataframe\">\n",
       "  <thead>\n",
       "    <tr style=\"text-align: right;\">\n",
       "      <th></th>\n",
       "      <th>Sample name</th>\n",
       "      <th>Source</th>\n",
       "      <th>Barcode</th>\n",
       "      <th>Strain/condition</th>\n",
       "      <th>cultivation type</th>\n",
       "      <th>Chemostat/batch ID #</th>\n",
       "      <th>Description/condition details</th>\n",
       "      <th>Description/condition details -2</th>\n",
       "      <th>carbon source</th>\n",
       "      <th>electron donor</th>\n",
       "      <th>concentration (mM)</th>\n",
       "      <th>electron acceptor</th>\n",
       "      <th>growth rate per h</th>\n",
       "      <th>T0C</th>\n",
       "      <th>organisms</th>\n",
       "      <th>growth rate per h.1</th>\n",
       "    </tr>\n",
       "    <tr>\n",
       "      <th>Sample name</th>\n",
       "      <th></th>\n",
       "      <th></th>\n",
       "      <th></th>\n",
       "      <th></th>\n",
       "      <th></th>\n",
       "      <th></th>\n",
       "      <th></th>\n",
       "      <th></th>\n",
       "      <th></th>\n",
       "      <th></th>\n",
       "      <th></th>\n",
       "      <th></th>\n",
       "      <th></th>\n",
       "      <th></th>\n",
       "      <th></th>\n",
       "      <th></th>\n",
       "    </tr>\n",
       "  </thead>\n",
       "  <tbody>\n",
       "    <tr>\n",
       "      <th>Sample_ISB-1</th>\n",
       "      <td>Sample_ISB-1</td>\n",
       "      <td>Genewiz</td>\n",
       "      <td>SS01-ISB1</td>\n",
       "      <td>LS 37C G20 log 1</td>\n",
       "      <td>batch</td>\n",
       "      <td>NaN</td>\n",
       "      <td>lactate 40mM, sulfate15mM 37C</td>\n",
       "      <td>sulfate respiration/growth</td>\n",
       "      <td>lactate 40mM</td>\n",
       "      <td>lactate</td>\n",
       "      <td>NaN</td>\n",
       "      <td>sulfate</td>\n",
       "      <td>NaN</td>\n",
       "      <td>37</td>\n",
       "      <td>D. alaskensis G20</td>\n",
       "      <td>0.027</td>\n",
       "    </tr>\n",
       "    <tr>\n",
       "      <th>Sample_ISB-10</th>\n",
       "      <td>Sample_ISB-10</td>\n",
       "      <td>Genewiz</td>\n",
       "      <td>SS10-ISB10</td>\n",
       "      <td>PS 37C G20 e. stat 1</td>\n",
       "      <td>batch</td>\n",
       "      <td>NaN</td>\n",
       "      <td>pyruvate 80mM, sulfate 15mM 37C</td>\n",
       "      <td>fermentation</td>\n",
       "      <td>pyruvate 20mM</td>\n",
       "      <td>pyruvate</td>\n",
       "      <td>20</td>\n",
       "      <td>none</td>\n",
       "      <td>0.001</td>\n",
       "      <td>37</td>\n",
       "      <td>D. alaskensis G20</td>\n",
       "      <td>0.035</td>\n",
       "    </tr>\n",
       "    <tr>\n",
       "      <th>Sample_ISB-11</th>\n",
       "      <td>Sample_ISB-11</td>\n",
       "      <td>Genewiz</td>\n",
       "      <td>SS11-ISB11</td>\n",
       "      <td>PS 37C G20 e. stat 2</td>\n",
       "      <td>batch</td>\n",
       "      <td>NaN</td>\n",
       "      <td>pyruvate 80mM, sulfate 15mM 37C</td>\n",
       "      <td>fermentation</td>\n",
       "      <td>pyruvate 20mM</td>\n",
       "      <td>pyruvate</td>\n",
       "      <td>20</td>\n",
       "      <td>none</td>\n",
       "      <td>0.001</td>\n",
       "      <td>37</td>\n",
       "      <td>D. alaskensis G20</td>\n",
       "      <td>0.035</td>\n",
       "    </tr>\n",
       "  </tbody>\n",
       "</table>\n",
       "</div></span>"
      ],
      "text/plain": [
       "<__main__.sizeme instance at 0x7f44ed142320>"
      ]
     },
     "execution_count": 8,
     "metadata": {},
     "output_type": "execute_result"
    }
   ],
   "source": [
    "sample_info = pd.read_excel('Sample_Info_FIXED2.xlsx') ##,skiprows=[0])\n",
    "sample_info = sample_info.drop( ['growth rate per h (OLD)', 'Unnamed: 16', 'Unnamed: 17', 'Unnamed: 18', 'Unnamed: 19', 'Sample name.1'], 1)\n",
    "sample_info = sample_info.set_index( sample_info['Sample name'] )\n",
    "sample_infos = { k:sample_info.ix[all_freqs[k].columns.droplevel(1).values] for k in all_freqs.keys() }\n",
    "print sample_infos.keys()\n",
    "info = sample_infos['Desulfovibrio_alaskensis_G20_uid57941'].copy()\n",
    "sizeme(info.head(3),50,120)"
   ]
  },
  {
   "cell_type": "markdown",
   "metadata": {},
   "source": [
    "### Identify groups of replicates in the measurements -- using groupby"
   ]
  },
  {
   "cell_type": "code",
   "execution_count": 9,
   "metadata": {
    "collapsed": false
   },
   "outputs": [
    {
     "name": "stdout",
     "output_type": "stream",
     "text": [
      "['cultivation type', 'Description/condition details', 'Description/condition details -2', 'carbon source', 'electron donor', 'electron acceptor', 'growth rate per h', 'T0C', 'organisms']\n",
      "19 (30, 16) (11, 9)\n",
      "[2, 3, 1, 1, 1, 3, 1, 1, 2, 1, 2, 1, 1, 1, 1, 3, 3, 1, 1]\n",
      "['Sample_UW5', 'Sample_UW6']\n",
      "['Sample_ISB-22', 'Sample_ISB-23', 'Sample_ISB-24']\n",
      "['Sample_ISB-3']\n",
      "['Sample_ISB-7']\n",
      "['Sample_ISB-20']\n",
      "['Sample_ISB-16', 'Sample_ISB-17', 'Sample_ISB-18']\n",
      "['Sample_ISB-1']\n",
      "['Sample_ISB-21']\n",
      "['Sample_UW1', 'Sample_UW2']\n",
      "['Sample_ISB-15']\n",
      "['Sample_UW3', 'Sample_UW4']\n",
      "['Sample_ISB-9']\n",
      "['Sample_ISB-19']\n",
      "['Sample_ISB-2']\n",
      "['Sample_ISB-13']\n",
      "['Sample_ISB-4', 'Sample_ISB-5', 'Sample_ISB-6']\n",
      "['Sample_ISB-10', 'Sample_ISB-11', 'Sample_ISB-12']\n",
      "['Sample_ISB-14']\n",
      "['Sample_ISB-8']\n"
     ]
    }
   ],
   "source": [
    "#info_tmp = info[info.columns[np.hstack([4,np.arange(6,14)])]]  ##.duplicated()\n",
    "group_cols = info.columns[np.hstack([4,6,7,8,9,11,12,13,14])].values.astype(str).tolist()\n",
    "#grouped = info.groupby(info.columns[np.hstack([4,np.arange(6,14)])].values)\n",
    "#group_cols = ['cultivation type', 'Description/condition details',\n",
    "#             'Description/condition details -2', 'carbon source', 'electron donor',\n",
    "#             'concentration (mM)', 'electron acceptor', 'growth rate per h', 'T0C', 'organisms']\n",
    "print group_cols\n",
    "grouped = info.groupby(group_cols, axis=0)\n",
    "print len(grouped.groups), info.shape, info[group_cols].drop_duplicates().shape\n",
    "#print grouped.groups[grouped.groups.keys()[0]]\n",
    "print [len(i) for i in grouped.groups.values()]\n",
    "col_groups = grouped.groups.values()\n",
    "for i in grouped.groups.values():\n",
    "    print i\n",
    "    #print info.ix[i]['Description/condition details'].values\n",
    "col_groups = grouped.groups.values()"
   ]
  },
  {
   "cell_type": "markdown",
   "metadata": {},
   "source": [
    "### Load up the data"
   ]
  },
  {
   "cell_type": "code",
   "execution_count": 31,
   "metadata": {
    "collapsed": false
   },
   "outputs": [
    {
     "name": "stdout",
     "output_type": "stream",
     "text": [
      "(3369, 30)\n"
     ]
    }
   ],
   "source": [
    "x = all_freqs['Desulfovibrio_alaskensis_G20_uid57941'].copy()\n",
    "print x.shape\n",
    "%Rpush x\n",
    "genes = x.index.values.astype('str')\n",
    "%Rpush genes\n",
    "#%R -n load('Untitled5.RData')\n",
    "#%R -n load('Untitled6.RData')\n",
    "%R -n colnames(x) <- gsub('X..','',gsub('...1.','',colnames(x),fixed=T),fixed=T)\n",
    "%Rpush info"
   ]
  },
  {
   "cell_type": "code",
   "execution_count": 32,
   "metadata": {
    "collapsed": false
   },
   "outputs": [
    {
     "data": {
      "text/plain": [
       "NULL\n"
      ]
     },
     "metadata": {},
     "output_type": "display_data"
    }
   ],
   "source": [
    "%%R -n\n",
    "    #load(\"Untitled1.RData\")\n",
    "    good_gene = which(!substr(genes,1,2)=='__' & apply(x,1,sum)>0)\n",
    "    x = x[good_gene,]\n",
    "    rownames(x)=genes[good_gene]\n",
    "    x.orig = x = as.matrix(x); NULL"
   ]
  },
  {
   "cell_type": "code",
   "execution_count": 33,
   "metadata": {
    "collapsed": false
   },
   "outputs": [
    {
     "data": {
      "text/plain": [
       "[1] 19\n"
      ]
     },
     "metadata": {},
     "output_type": "display_data"
    }
   ],
   "source": [
    "%R -n x.ranks <- apply(x,2,rank)\n",
    "%Rpush col_groups\n",
    "%R print(length(col_groups))"
   ]
  },
  {
   "cell_type": "markdown",
   "metadata": {},
   "source": [
    "## OK, idea: remove all replicates of a given measurement, run Boruta to get big, best subset of variables that classify, then random forest (lots of trees) using those variables to get classifier. Test (predict) the random forest on the left-out measurements."
   ]
  },
  {
   "cell_type": "markdown",
   "metadata": {},
   "source": [
    "### Now do it for all test cases! -- i.e., all replicate sets"
   ]
  },
  {
   "cell_type": "code",
   "execution_count": 34,
   "metadata": {
    "collapsed": false
   },
   "outputs": [
    {
     "data": {
      "text/plain": [
       "NULL\n"
      ]
     },
     "metadata": {},
     "output_type": "display_data"
    }
   ],
   "source": [
    "%%R -n\n",
    "require(Boruta); require(randomForest); require(parallel); options(mc.cores=8); options(cores=8)\n",
    "\n",
    "do_it <- function(cond_type, x, cols_exclude=NULL, genes_exclude=NULL, n_trees=100000) {\n",
    "    if (cond_type == 'growth_rate') {\n",
    "        gr <- info$growth.rate.per.h; gr=as.numeric(as.character(gr)); gr[is.na(gr)]=0.2\n",
    "        Y <- factor( ifelse(gr==0, 'no_growth', ifelse(gr>=0.2, 'fast_growth', 'med_growth')) )\n",
    "    } else if (cond_type == 'electron_donor') {\n",
    "        Y <- as.factor(as.character(info$electron.donor))\n",
    "    } else if (cond_type == 'electron_acceptor') {\n",
    "        Y <- as.factor(as.character(info$electron.acceptor))\n",
    "    } else if (cond_type == 'temperature') {\n",
    "        Y <- as.factor(as.character(info$T0C == 37))\n",
    "    } else if (cond_type == 'all') {\n",
    "        Y1 <- '' #ifelse(gr==0, 'no_growth', ifelse(gr>=0.2, 'fast_growth', 'med_growth'))\n",
    "        Y2 <- as.character(info$electron.donor)\n",
    "        Y3 <- as.character(info$electron.acceptor)\n",
    "        Y4 <- as.character(info$T0C == 37)\n",
    "        Y <- as.factor(paste(Y1, Y2, Y3, Y4))\n",
    "    }\n",
    "    #cat(cond_type, length(levels(Y)), '\\n')\n",
    "    names(Y) <- info$Sample.name\n",
    "\n",
    "    cols2 <- ''\n",
    "    if ( ! is.null(cols_exclude) ) cols2 <- gsub('-','.',cols_exclude,fixed=T)\n",
    "\n",
    "    YY <- Y\n",
    "    if ( ! is.null(cols_exclude) ) YY <- Y[!names(Y)%in%cols_exclude]\n",
    "        \n",
    "    XX <- x\n",
    "    if ( ! is.null(cols_exclude) ) XX <- XX[, !colnames(XX) %in% cols2, drop=F]\n",
    "    if ( ! is.null(genes_exclude) ) XX <- XX[!rownames(XX) %in% genes_exclude, ,drop=F]\n",
    "    #print(dim(XX));print(length(YY))\n",
    "\n",
    "    B.temp1a <- Boruta(t(XX), YY, getImp=getImpFerns, ferns=n_trees, doTrace=0)\n",
    "    features <- gsub('.','-',getSelectedAttributes(B.temp1a), fixed=T)\n",
    "        \n",
    "    rf.temp1a <- randomForest(t(XX[features, ,drop=F]), YY, importance=T, ntree=n_trees, do.trace=F)\n",
    "    tmp <- list(predicted=predict(rf.temp1a, t(x[features,cols2,drop=F])), actual=Y[cols_exclude], features=features)\n",
    "    \n",
    "    return(tmp)\n",
    "}\n",
    "save.image('Untitled8-G20.RData')\n",
    "NULL"
   ]
  },
  {
   "cell_type": "code",
   "execution_count": 35,
   "metadata": {
    "collapsed": false
   },
   "outputs": [
    {
     "data": {
      "text/plain": [
       "electron_donor 0.9 \n",
       "electron_acceptor 0.9 \n",
       "temperature 0.9333333 \n",
       "growth_rate 0.9333333 \n"
      ]
     },
     "metadata": {},
     "output_type": "display_data"
    }
   ],
   "source": [
    "%%R \n",
    "results = list()\n",
    "for (cond_type in c('electron_donor', 'electron_acceptor', 'temperature', 'growth_rate')) {\n",
    "    tmp <- mclapply( col_groups, function(cols) {\n",
    "        cols = unlist(cols)\n",
    "        tmp <- do_it(cond_type, x.ranks, cols)\n",
    "        #cat(cond_type, mean(as.character(tmp$predicted) == as.character(tmp$actual)), '\\n')\n",
    "        return(tmp)\n",
    "    }, mc.preschedule=F )\n",
    "    cat(cond_type, mean(unlist(lapply(tmp,'[[','predicted')) == unlist(lapply(tmp,'[[','actual'))), '\\n')\n",
    "    results[[cond_type]] <- tmp\n",
    "}"
   ]
  },
  {
   "cell_type": "code",
   "execution_count": 36,
   "metadata": {
    "collapsed": false
   },
   "outputs": [
    {
     "data": {
      "text/plain": [
       "   electron_donor electron_acceptor       temperature       growth_rate \n",
       "        0.9000000         0.9000000         0.9333333         0.9333333 \n"
      ]
     },
     "metadata": {},
     "output_type": "display_data"
    },
    {
     "data": {
      "text/plain": [
       "   electron_donor electron_acceptor       temperature       growth_rate \n",
       "                2                 3                 2                 2 \n"
      ]
     },
     "metadata": {},
     "output_type": "display_data"
    }
   ],
   "source": [
    "%R print(sapply(results,function(tmp)mean(unlist(lapply(tmp,'[[','predicted')) == unlist(lapply(tmp,'[[','actual')))))\n",
    "%R print(sapply(results,function(tmp)length(levels(unlist(lapply(tmp,'[[','actual'))))))\n",
    "## get table of how many times a given feature was chosen out of the 24 condition replicate \"groups\":\n",
    "## %R lapply(lapply(results,lapply,'[[','features'),function(i)sort(table(unlist(i))))\n",
    "%Rpull results"
   ]
  },
  {
   "cell_type": "markdown",
   "metadata": {},
   "source": [
    "### For comparison, do it for the full data sets in which we did not leave any conditions out"
   ]
  },
  {
   "cell_type": "code",
   "execution_count": 37,
   "metadata": {
    "collapsed": false
   },
   "outputs": [
    {
     "data": {
      "text/plain": [
       "growth_rate 2 \n",
       "growth_rate 0.9666667 \n",
       "electron_donor 2 \n",
       "electron_donor 1 \n",
       "electron_acceptor 3 \n",
       "electron_acceptor 0.9666667 \n",
       "temperature 2 \n",
       "temperature 1 \n"
      ]
     },
     "metadata": {},
     "output_type": "display_data"
    }
   ],
   "source": [
    "%%R\n",
    "    results_noleaveout = list()\n",
    "    for (cond_type in c('growth_rate', 'electron_donor', 'electron_acceptor', 'temperature')) {\n",
    "        if (cond_type == 'growth_rate') {\n",
    "            gr <- info$growth.rate.per.h; gr=as.numeric(as.character(gr)); gr[is.na(gr)]=0.2\n",
    "            Y <- factor( ifelse(gr==0, 'no_growth', ifelse(gr>=0.2, 'fast_growth', 'med_growth')) )\n",
    "        } else if (cond_type == 'electron_donor') {\n",
    "            Y <- as.factor(as.character(info$electron.donor))\n",
    "        } else if (cond_type == 'electron_acceptor') {\n",
    "            Y <- as.factor(as.character(info$electron.acceptor))\n",
    "        } else if (cond_type == 'temperature') {\n",
    "            Y <- as.factor(as.character(info$T0C == 37))\n",
    "        } else if (cond_type == 'all') {\n",
    "            Y1 <- '' #ifelse(gr==0, 'no_growth', ifelse(gr>=0.2, 'fast_growth', 'med_growth'))\n",
    "            Y2 <- as.character(info$electron.donor)\n",
    "            Y3 <- as.character(info$electron.acceptor)\n",
    "            Y4 <- as.character(info$T0C == 37)\n",
    "            Y <- as.factor(paste(Y1, Y2, Y3, Y4))\n",
    "        }\n",
    "        cat(cond_type, length(levels(Y)), '\\n')\n",
    "\n",
    "        B.temp1a <- Boruta(t(x.ranks), Y, getImp=getImpFerns, ferns=100000, doTrace=0)\n",
    "        features <- gsub('.','-',getSelectedAttributes(B.temp1a), fixed=T)\n",
    "        \n",
    "        rf.temp1a <- randomForest(t(x.ranks[features,]), Y, importance=T, ntree=100000, do.trace=F)\n",
    "        tmp = list(predicted=predict(rf.temp1a), actual=Y, features=features)\n",
    "\n",
    "        ##print(lapply(tmp,function(i)mean(i$predicted==i$actual)))\n",
    "        cat(cond_type, mean(as.character(tmp$predicted) == as.character(tmp$actual)), '\\n')\n",
    "        results_noleaveout[[cond_type]] <- tmp\n",
    "    }"
   ]
  },
  {
   "cell_type": "code",
   "execution_count": 40,
   "metadata": {
    "collapsed": false
   },
   "outputs": [
    {
     "data": {
      "text/plain": [
       "      growth_rate    electron_donor electron_acceptor       temperature \n",
       "        0.9666667         1.0000000         0.9666667         1.0000000 \n"
      ]
     },
     "metadata": {},
     "output_type": "display_data"
    },
    {
     "data": {
      "text/plain": [
       "      growth_rate    electron_donor electron_acceptor       temperature \n",
       "                2                 2                 3                 2 \n"
      ]
     },
     "metadata": {},
     "output_type": "display_data"
    }
   ],
   "source": [
    "%R print(apply(sapply(results_noleaveout,'[[','predicted') == sapply(results_noleaveout,'[[','actual'),2,mean))\n",
    "%R print(sapply(results_noleaveout,function(tmp)length(levels(tmp$actual))))\n",
    "## get table of how many times a given feature was chosen out of the 24 condition replicate \"groups\":\n",
    "## %R lapply(lapply(results,lapply,'[[','features'),function(i)sort(table(unlist(i))))\n",
    "##%Rpull results_noleaveout\n",
    "%R rm(rf.temp1a,B.temp1a)"
   ]
  },
  {
   "cell_type": "markdown",
   "metadata": {},
   "source": [
    "### Let's try the removing of the lowest-expressed genes incrementally and see how training/testing works for electron_donor conditions:\n",
    "\n",
    "##### lets do it by quantiles first, just to see (try 8 quantiles???):"
   ]
  },
  {
   "cell_type": "code",
   "execution_count": 41,
   "metadata": {
    "collapsed": false
   },
   "outputs": [
    {
     "name": "stdout",
     "output_type": "stream",
     "text": [
      "\n",
      "Error in FUN(X[[i]], ...) : subscript out of bounds\n"
     ]
    },
    {
     "name": "stderr",
     "output_type": "stream",
     "text": [
      "/home/dreiss/PYTHONUSERBASE/lib/python2.7/site-packages/rpy2/robjects/functions.py:106: UserWarning: Warning messages:\n",
      "\n",
      "  res = super(Function, self).__call__(*new_args, **new_kwargs)\n",
      "/home/dreiss/PYTHONUSERBASE/lib/python2.7/site-packages/rpy2/robjects/functions.py:106: UserWarning: 1: \n",
      "  res = super(Function, self).__call__(*new_args, **new_kwargs)\n",
      "/home/dreiss/PYTHONUSERBASE/lib/python2.7/site-packages/rpy2/robjects/functions.py:106: UserWarning: In rm(rf.temp1a, B.temp1a) :\n",
      "  res = super(Function, self).__call__(*new_args, **new_kwargs)\n",
      "/home/dreiss/PYTHONUSERBASE/lib/python2.7/site-packages/rpy2/robjects/functions.py:106: UserWarning:  object 'rf.temp1a' not found\n",
      "\n",
      "  res = super(Function, self).__call__(*new_args, **new_kwargs)\n",
      "/home/dreiss/PYTHONUSERBASE/lib/python2.7/site-packages/rpy2/robjects/functions.py:106: UserWarning: 2: \n",
      "  res = super(Function, self).__call__(*new_args, **new_kwargs)\n",
      "/home/dreiss/PYTHONUSERBASE/lib/python2.7/site-packages/rpy2/robjects/functions.py:106: UserWarning:  object 'B.temp1a' not found\n",
      "\n",
      "  res = super(Function, self).__call__(*new_args, **new_kwargs)\n",
      "/home/dreiss/PYTHONUSERBASE/lib/python2.7/site-packages/rpy2/robjects/functions.py:106: UserWarning: 3: \n",
      "  res = super(Function, self).__call__(*new_args, **new_kwargs)\n",
      "/home/dreiss/PYTHONUSERBASE/lib/python2.7/site-packages/rpy2/robjects/functions.py:106: UserWarning: In mclapply(rev(levels), function(lev) { :\n",
      "  res = super(Function, self).__call__(*new_args, **new_kwargs)\n",
      "/home/dreiss/PYTHONUSERBASE/lib/python2.7/site-packages/rpy2/robjects/functions.py:106: UserWarning:  1 function calls resulted in an error\n",
      "\n",
      "  res = super(Function, self).__call__(*new_args, **new_kwargs)\n"
     ]
    }
   ],
   "source": [
    "%%R\n",
    "require(Boruta); require(randomForest); require(parallel); options(mc.cores=8); options(cores=8)\n",
    "#cond_type <- 'electron_donor'\n",
    "qqq <- list()\n",
    "inp_quantiles <- c(0,0.5,0.75, seq(0.8,0.95,by=0.5),seq(0.92,0.98,by=0.02),seq(0.982,0.999,by=0.002))\n",
    "for (cond_type in c('electron_donor', 'electron_acceptor', 'temperature', 'growth_rate')) {\n",
    "tmp_lst <- lapply( 1:length(col_groups), function(col) {\n",
    "    #print(col)\n",
    "    #cols = unlist(col_groups[[13]])\n",
    "    cols <- col_groups[[col]]\n",
    "    cols <- unlist(cols)\n",
    "    cols2 <- gsub('-','.',cols)   ## try a pyruvate condition  -- all predicted correctly\n",
    "    mns <- apply(x.ranks[,cols2, drop=F], 1, median)\n",
    "    levels <- quantile(mns, inp_quantiles)\n",
    "    tmp <- mclapply( rev(levels), function(lev) {\n",
    "        cat(col, 'of', length(col_groups), rev(names(levels))[which(rev(levels)==lev)], lev, sum(mns>lev), cond_type, '\\n')\n",
    "        xx <- x.ranks[mns > lev,, drop=F]\n",
    "        ttmp <- do_it(cond_type, xx, cols)\n",
    "        #cat(lev, sum(mns>lev), cond_type, mean(as.character(ttmp$predicted) == as.character(ttmp$actual)), '\\n')\n",
    "        return(ttmp)\n",
    "    }, mc.preschedule=F )\n",
    "    #print('DONE')\n",
    "    try(print(apply(sapply(tmp,'[[','predicted') == sapply(tmp,'[[','actual'),2,mean)))\n",
    "    return( tmp )\n",
    "} )\n",
    "try(print(sapply(tmp_lst,function(tmp)mean(unlist(lapply(tmp,'[[','predicted')) == unlist(lapply(tmp,'[[','actual'))))))\n",
    "qqq[[cond_type]] <- tmp_lst\n",
    "}"
   ]
  },
  {
   "cell_type": "code",
   "execution_count": 43,
   "metadata": {
    "collapsed": false
   },
   "outputs": [],
   "source": [
    "%R save.image('Untitled8-G20.RData')\n",
    "#%R load('Untitled8-G20.RData')"
   ]
  },
  {
   "cell_type": "code",
   "execution_count": 42,
   "metadata": {
    "collapsed": false
   },
   "outputs": [
    {
     "name": "stdout",
     "output_type": "stream",
     "text": [
      "\n",
      "Error in ncol(mns):1 : argument of length 0\n"
     ]
    },
    {
     "name": "stderr",
     "output_type": "stream",
     "text": [
      "/home/dreiss/PYTHONUSERBASE/lib/python2.7/site-packages/rpy2/robjects/functions.py:106: UserWarning: Error in ncol(mns):1 : argument of length 0\n",
      "\n",
      "  res = super(Function, self).__call__(*new_args, **new_kwargs)\n"
     ]
    }
   ],
   "source": [
    "%%R\n",
    "load('Untitled8-G20.RData')\n",
    "inp_quantiles <- c(0,0.5,0.75, seq(0.8,0.95,by=0.5),seq(0.92,0.98,by=0.02),seq(0.982,0.999,by=0.002))\n",
    "mns <- sapply(1:length(inp_quantiles),function(lev)sapply(qqq,function(tmp1)mean(unlist(sapply(tmp1,function(tmp2)tmp2[[lev]]$predicted==unlist(tmp2[[lev]]$actual))))))\n",
    "colnames(mns)<-names(qqq[[1]][[1]])\n",
    "mns<-mns[,ncol(mns):1]\n",
    "expr_levels = quantile(apply(x.ranks,1,median),inp_quantiles)\n",
    "n_genes <- sapply(expr_levels,function(lev)sum(apply(x.ranks,1,median)>lev))\n",
    "\n",
    "n_features <- sapply(1:length(inp_quantiles),function(lev)sapply(qqq,function(tmp1)mean(unlist(sapply(tmp1,function(tmp2)length(tmp2[[lev]]$features))))))\n",
    "colnames(n_features)<-names(qqq[[1]][[1]])\n",
    "n_features<-n_features[,ncol(n_features):1]\n",
    "\n",
    "matplot(log10(1-inp_quantiles),t(mns),typ='l',main='accuracy')\n",
    "legend('topleft',legend=rownames(mns),lwd=1,col=1:4)\n",
    "#text(log10(1-inp_quantiles), 0.5, lab=as.character(round(expr_levels)),cex=0.5,srt=90, xpd=NA)\n",
    "#text(0.1, 0.5, lab='Rank', pos=4, cex=0.5, xpd=NA)\n",
    "text(log10(1-inp_quantiles), 0.53, lab=as.character(n_genes),cex=0.5,srt=90, xpd=NA)\n",
    "text(0.1, 0.53, lab='Ngenes', pos=4, cex=0.5, xpd=NA)\n",
    "text(log10(1-inp_quantiles), 0.56, lab=as.character(round(apply(n_features,2,mean))),cex=0.5,srt=90, xpd=NA)\n",
    "text(0.1, 0.56, lab='Nfeatures', pos=4, cex=0.5, xpd=NA)\n",
    "\n",
    "NULL"
   ]
  },
  {
   "cell_type": "code",
   "execution_count": 22,
   "metadata": {
    "collapsed": false
   },
   "outputs": [
    {
     "data": {
      "text/plain": [
       "NULL\n"
      ]
     },
     "metadata": {
      "image/svg+xml": {
       "isolated": true
      }
     },
     "output_type": "display_data"
    },
    {
     "data": {
      "image/svg+xml": [
       "<?xml version=\"1.0\" encoding=\"UTF-8\"?>\n",
       "<svg xmlns=\"http://www.w3.org/2000/svg\" xmlns:xlink=\"http://www.w3.org/1999/xlink\" width=\"432pt\" height=\"432pt\" viewBox=\"0 0 432 432\" version=\"1.1\">\n",
       "<defs>\n",
       "<g>\n",
       "<symbol overflow=\"visible\" id=\"glyph0-0\">\n",
       "<path style=\"stroke:none;\" d=\"\"/>\n",
       "</symbol>\n",
       "<symbol overflow=\"visible\" id=\"glyph0-1\">\n",
       "<path style=\"stroke:none;\" d=\"M 0.890625 -8.046875 L 0.890625 0 L 2.984375 0 L 2.984375 -4.828125 C 2.984375 -5.8125 3.515625 -6.40625 4.40625 -6.40625 C 5.109375 -6.40625 5.546875 -6 5.546875 -5.359375 L 5.546875 0 L 7.625 0 L 7.625 -4.828125 C 7.625 -5.8125 8.171875 -6.40625 9.0625 -6.40625 C 9.765625 -6.40625 10.203125 -6 10.203125 -5.359375 L 10.203125 0 L 12.28125 0 L 12.28125 -5.6875 C 12.28125 -7.265625 11.328125 -8.1875 9.71875 -8.1875 C 8.703125 -8.1875 7.984375 -7.828125 7.359375 -6.984375 C 6.96875 -7.75 6.171875 -8.1875 5.171875 -8.1875 C 4.25 -8.1875 3.65625 -7.875 2.96875 -7.046875 L 2.96875 -8.046875 Z M 0.890625 -8.046875 \"/>\n",
       "</symbol>\n",
       "<symbol overflow=\"visible\" id=\"glyph0-2\">\n",
       "<path style=\"stroke:none;\" d=\"M 7.8125 -3.375 C 7.828125 -3.546875 7.828125 -3.625 7.828125 -3.71875 C 7.828125 -4.53125 7.703125 -5.28125 7.515625 -5.84375 C 6.96875 -7.296875 5.671875 -8.1875 4.046875 -8.1875 C 1.75 -8.1875 0.328125 -6.515625 0.328125 -3.8125 C 0.328125 -1.234375 1.734375 0.34375 4.015625 0.34375 C 5.8125 0.34375 7.28125 -0.6875 7.734375 -2.265625 L 5.671875 -2.265625 C 5.421875 -1.625 4.84375 -1.25 4.078125 -1.25 C 3.484375 -1.25 3.015625 -1.5 2.71875 -1.953125 C 2.515625 -2.25 2.4375 -2.609375 2.421875 -3.375 Z M 2.4375 -4.75 C 2.578125 -5.984375 3.09375 -6.59375 4.03125 -6.59375 C 4.546875 -6.59375 5.015625 -6.328125 5.328125 -5.921875 C 5.515625 -5.625 5.609375 -5.3125 5.65625 -4.75 Z M 2.4375 -4.75 \"/>\n",
       "</symbol>\n",
       "<symbol overflow=\"visible\" id=\"glyph0-3\">\n",
       "<path style=\"stroke:none;\" d=\"M 6.03125 0 L 8.125 0 L 8.125 -10.859375 L 6.03125 -10.859375 L 6.03125 -7 C 5.515625 -7.8125 4.8125 -8.1875 3.8125 -8.1875 C 1.890625 -8.1875 0.4375 -6.328125 0.4375 -3.90625 C 0.4375 -2.8125 0.765625 -1.71875 1.296875 -0.9375 C 1.84375 -0.15625 2.828125 0.34375 3.8125 0.34375 C 4.8125 0.34375 5.515625 -0.03125 6.03125 -0.8125 Z M 4.28125 -6.4375 C 5.34375 -6.4375 6.03125 -5.40625 6.03125 -3.875 C 6.03125 -2.421875 5.328125 -1.40625 4.28125 -1.40625 C 3.234375 -1.40625 2.515625 -2.4375 2.515625 -3.90625 C 2.515625 -5.390625 3.234375 -6.4375 4.28125 -6.4375 Z M 4.28125 -6.4375 \"/>\n",
       "</symbol>\n",
       "<symbol overflow=\"visible\" id=\"glyph0-4\">\n",
       "<path style=\"stroke:none;\" d=\"M 3.078125 -8.046875 L 1 -8.046875 L 1 0 L 3.078125 0 Z M 3.078125 -10.859375 L 1 -10.859375 L 1 -9 L 3.078125 -9 Z M 3.078125 -10.859375 \"/>\n",
       "</symbol>\n",
       "<symbol overflow=\"visible\" id=\"glyph0-5\">\n",
       "<path style=\"stroke:none;\" d=\"M 7.8125 -0.25 C 7.4375 -0.59375 7.328125 -0.8125 7.328125 -1.234375 L 7.328125 -5.703125 C 7.328125 -7.34375 6.21875 -8.1875 4.046875 -8.1875 C 1.859375 -8.1875 0.734375 -7.265625 0.59375 -5.390625 L 2.609375 -5.390625 C 2.71875 -6.234375 3.0625 -6.5 4.078125 -6.5 C 4.890625 -6.5 5.296875 -6.234375 5.296875 -5.6875 C 5.296875 -5.421875 5.15625 -5.1875 4.9375 -5.0625 C 4.65625 -4.921875 4.65625 -4.921875 3.625 -4.75 L 2.78125 -4.609375 C 1.1875 -4.34375 0.421875 -3.515625 0.421875 -2.078125 C 0.421875 -1.390625 0.609375 -0.8125 0.984375 -0.421875 C 1.453125 0.0625 2.140625 0.34375 2.859375 0.34375 C 3.75 0.34375 4.578125 -0.046875 5.3125 -0.8125 C 5.3125 -0.390625 5.34375 -0.234375 5.546875 0 L 7.8125 0 Z M 5.296875 -3.234375 C 5.296875 -2.03125 4.703125 -1.34375 3.640625 -1.34375 C 2.9375 -1.34375 2.5 -1.71875 2.5 -2.3125 C 2.5 -2.9375 2.828125 -3.234375 3.703125 -3.40625 L 4.40625 -3.546875 C 4.96875 -3.65625 5.046875 -3.6875 5.296875 -3.796875 Z M 5.296875 -3.234375 \"/>\n",
       "</symbol>\n",
       "<symbol overflow=\"visible\" id=\"glyph0-6\">\n",
       "<path style=\"stroke:none;\" d=\"M 0.9375 -8.046875 L 0.9375 0 L 3.03125 0 L 3.03125 -4.828125 C 3.03125 -5.78125 3.703125 -6.40625 4.703125 -6.40625 C 5.609375 -6.40625 6.046875 -5.921875 6.046875 -4.96875 L 6.046875 0 L 8.140625 0 L 8.140625 -5.390625 C 8.140625 -7.171875 7.15625 -8.1875 5.4375 -8.1875 C 4.359375 -8.1875 3.625 -7.78125 3.03125 -6.890625 L 3.03125 -8.046875 Z M 0.9375 -8.046875 \"/>\n",
       "</symbol>\n",
       "<symbol overflow=\"visible\" id=\"glyph0-7\">\n",
       "<path style=\"stroke:none;\" d=\"\"/>\n",
       "</symbol>\n",
       "<symbol overflow=\"visible\" id=\"glyph0-8\">\n",
       "<path style=\"stroke:none;\" d=\"M 0.9375 -8.046875 L 0.9375 0 L 3.03125 0 L 3.03125 -4.28125 C 3.03125 -5.5 3.640625 -6.109375 4.859375 -6.109375 C 5.078125 -6.109375 5.234375 -6.09375 5.515625 -6.046875 L 5.515625 -8.171875 C 5.390625 -8.1875 5.328125 -8.1875 5.265625 -8.1875 C 4.3125 -8.1875 3.46875 -7.5625 3.03125 -6.46875 L 3.03125 -8.046875 Z M 0.9375 -8.046875 \"/>\n",
       "</symbol>\n",
       "<symbol overflow=\"visible\" id=\"glyph0-9\">\n",
       "<path style=\"stroke:none;\" d=\"M 2.96875 -4.921875 L 2.96875 -10.859375 L 0.875 -10.859375 L 0.875 0 L 2.96875 0 L 2.96875 -2.640625 L 3.796875 -3.546875 L 5.71875 0 L 8.171875 0 L 5.234375 -5.015625 L 7.96875 -8.046875 L 5.609375 -8.046875 Z M 2.96875 -4.921875 \"/>\n",
       "</symbol>\n",
       "<symbol overflow=\"visible\" id=\"glyph0-10\">\n",
       "<path style=\"stroke:none;\" d=\"M 7.53125 -5.453125 C 7.5 -7.15625 6.1875 -8.1875 4.03125 -8.1875 C 1.984375 -8.1875 0.71875 -7.15625 0.71875 -5.5 C 0.71875 -4.96875 0.875 -4.5 1.15625 -4.1875 C 1.453125 -3.90625 1.703125 -3.765625 2.46875 -3.515625 L 4.96875 -2.75 C 5.484375 -2.578125 5.671875 -2.421875 5.671875 -2.09375 C 5.671875 -1.59375 5.078125 -1.296875 4.109375 -1.296875 C 3.578125 -1.296875 3.140625 -1.40625 2.875 -1.578125 C 2.65625 -1.75 2.5625 -1.90625 2.46875 -2.34375 L 0.4375 -2.34375 C 0.484375 -0.578125 1.78125 0.34375 4.234375 0.34375 C 5.34375 0.34375 6.203125 0.109375 6.796875 -0.375 C 7.390625 -0.84375 7.75 -1.59375 7.75 -2.390625 C 7.75 -3.421875 7.234375 -4.09375 6.171875 -4.40625 L 3.53125 -5.171875 C 2.953125 -5.34375 2.796875 -5.46875 2.796875 -5.796875 C 2.796875 -6.25 3.28125 -6.546875 4.015625 -6.546875 C 5.015625 -6.546875 5.5 -6.1875 5.515625 -5.453125 Z M 7.53125 -5.453125 \"/>\n",
       "</symbol>\n",
       "<symbol overflow=\"visible\" id=\"glyph1-0\">\n",
       "<path style=\"stroke:none;\" d=\"\"/>\n",
       "</symbol>\n",
       "<symbol overflow=\"visible\" id=\"glyph1-1\">\n",
       "<path style=\"stroke:none;\" d=\"M 1.90625 -9.109375 L 0.84375 -9.109375 L 0.84375 0 L 1.90625 0 Z M 1.90625 -9.109375 \"/>\n",
       "</symbol>\n",
       "<symbol overflow=\"visible\" id=\"glyph1-2\">\n",
       "<path style=\"stroke:none;\" d=\"M 3.40625 -6.734375 C 1.5625 -6.734375 0.453125 -5.421875 0.453125 -3.21875 C 0.453125 -1.03125 1.546875 0.28125 3.40625 0.28125 C 5.25 0.28125 6.375 -1.03125 6.375 -3.171875 C 6.375 -5.4375 5.28125 -6.734375 3.40625 -6.734375 Z M 3.40625 -5.78125 C 4.59375 -5.78125 5.28125 -4.8125 5.28125 -3.1875 C 5.28125 -1.65625 4.5625 -0.671875 3.40625 -0.671875 C 2.25 -0.671875 1.53125 -1.640625 1.53125 -3.21875 C 1.53125 -4.796875 2.25 -5.78125 3.40625 -5.78125 Z M 3.40625 -5.78125 \"/>\n",
       "</symbol>\n",
       "<symbol overflow=\"visible\" id=\"glyph1-3\">\n",
       "<path style=\"stroke:none;\" d=\"M 5.15625 -6.546875 L 5.15625 -5.59375 C 4.625 -6.375 3.984375 -6.734375 3.15625 -6.734375 C 1.484375 -6.734375 0.359375 -5.28125 0.359375 -3.15625 C 0.359375 -2.09375 0.65625 -1.21875 1.1875 -0.59375 C 1.671875 -0.03125 2.375 0.28125 3.0625 0.28125 C 3.890625 0.28125 4.46875 -0.0625 5.046875 -0.890625 L 5.046875 -0.546875 C 5.046875 0.34375 4.9375 0.875 4.671875 1.234375 C 4.40625 1.625 3.859375 1.84375 3.21875 1.84375 C 2.75 1.84375 2.328125 1.71875 2.03125 1.5 C 1.796875 1.3125 1.703125 1.140625 1.640625 0.75 L 0.578125 0.75 C 0.6875 1.984375 1.65625 2.71875 3.1875 2.71875 C 4.15625 2.71875 5 2.40625 5.421875 1.890625 C 5.921875 1.28125 6.109375 0.46875 6.109375 -1.078125 L 6.109375 -6.546875 Z M 3.265625 -5.78125 C 4.390625 -5.78125 5.046875 -4.828125 5.046875 -3.1875 C 5.046875 -1.625 4.375 -0.671875 3.28125 -0.671875 C 2.140625 -0.671875 1.453125 -1.640625 1.453125 -3.21875 C 1.453125 -4.796875 2.15625 -5.78125 3.265625 -5.78125 Z M 3.265625 -5.78125 \"/>\n",
       "</symbol>\n",
       "<symbol overflow=\"visible\" id=\"glyph1-4\">\n",
       "<path style=\"stroke:none;\" d=\"M 3.234375 -6.3125 L 3.234375 0 L 4.34375 0 L 4.34375 -8.859375 L 3.609375 -8.859375 C 3.21875 -7.5 2.96875 -7.3125 1.28125 -7.09375 L 1.28125 -6.3125 Z M 3.234375 -6.3125 \"/>\n",
       "</symbol>\n",
       "<symbol overflow=\"visible\" id=\"glyph1-5\">\n",
       "<path style=\"stroke:none;\" d=\"M 3.4375 -8.859375 C 2.609375 -8.859375 1.859375 -8.5 1.40625 -7.890625 C 0.828125 -7.109375 0.53125 -5.921875 0.53125 -4.28125 C 0.53125 -1.296875 1.53125 0.28125 3.4375 0.28125 C 5.3125 0.28125 6.34375 -1.296875 6.34375 -4.21875 C 6.34375 -5.9375 6.0625 -7.09375 5.46875 -7.890625 C 5.015625 -8.515625 4.28125 -8.859375 3.4375 -8.859375 Z M 3.4375 -7.890625 C 4.625 -7.890625 5.21875 -6.6875 5.21875 -4.3125 C 5.21875 -1.796875 4.640625 -0.625 3.40625 -0.625 C 2.25 -0.625 1.65625 -1.84375 1.65625 -4.28125 C 1.65625 -6.703125 2.25 -7.890625 3.4375 -7.890625 Z M 3.4375 -7.890625 \"/>\n",
       "</symbol>\n",
       "<symbol overflow=\"visible\" id=\"glyph1-6\">\n",
       "<path style=\"stroke:none;\" d=\"M 2.953125 -9.109375 C 1.703125 -7.46875 0.90625 -5.203125 0.90625 -3.234375 C 0.90625 -1.265625 1.703125 1.015625 2.953125 2.65625 L 3.640625 2.65625 C 2.53125 0.859375 1.921875 -1.234375 1.921875 -3.234375 C 1.921875 -5.21875 2.53125 -7.34375 3.640625 -9.109375 Z M 2.953125 -9.109375 \"/>\n",
       "</symbol>\n",
       "<symbol overflow=\"visible\" id=\"glyph1-7\">\n",
       "<path style=\"stroke:none;\" d=\"M 6.6875 -0.609375 C 6.578125 -0.59375 6.53125 -0.59375 6.46875 -0.59375 C 6.09375 -0.59375 5.90625 -0.78125 5.90625 -1.09375 L 5.90625 -4.953125 C 5.90625 -6.109375 5.046875 -6.734375 3.4375 -6.734375 C 2.484375 -6.734375 1.703125 -6.46875 1.265625 -5.96875 C 0.96875 -5.640625 0.84375 -5.265625 0.8125 -4.609375 L 1.859375 -4.609375 C 1.953125 -5.40625 2.421875 -5.78125 3.40625 -5.78125 C 4.34375 -5.78125 4.859375 -5.421875 4.859375 -4.796875 L 4.859375 -4.53125 C 4.859375 -4.09375 4.59375 -3.90625 3.78125 -3.796875 C 2.296875 -3.609375 2.078125 -3.5625 1.671875 -3.40625 C 0.90625 -3.09375 0.53125 -2.5 0.53125 -1.65625 C 0.53125 -0.46875 1.34375 0.28125 2.671875 0.28125 C 3.5 0.28125 4.15625 0 4.90625 -0.671875 C 4.96875 -0.015625 5.296875 0.28125 5.96875 0.28125 C 6.1875 0.28125 6.34375 0.265625 6.6875 0.171875 Z M 4.859375 -2.0625 C 4.859375 -1.71875 4.765625 -1.5 4.453125 -1.21875 C 4.03125 -0.828125 3.515625 -0.625 2.90625 -0.625 C 2.09375 -0.625 1.609375 -1.015625 1.609375 -1.671875 C 1.609375 -2.359375 2.078125 -2.71875 3.1875 -2.875 C 4.28125 -3.03125 4.515625 -3.078125 4.859375 -3.234375 Z M 4.859375 -2.0625 \"/>\n",
       "</symbol>\n",
       "<symbol overflow=\"visible\" id=\"glyph1-8\">\n",
       "<path style=\"stroke:none;\" d=\"M 0.671875 2.71875 L 1.71875 2.71875 L 1.71875 -0.6875 C 2.28125 -0.015625 2.890625 0.28125 3.734375 0.28125 C 5.421875 0.28125 6.53125 -1.078125 6.53125 -3.15625 C 6.53125 -5.359375 5.46875 -6.734375 3.71875 -6.734375 C 2.84375 -6.734375 2.125 -6.34375 1.640625 -5.5625 L 1.640625 -6.546875 L 0.671875 -6.546875 Z M 3.546875 -5.765625 C 4.703125 -5.765625 5.453125 -4.75 5.453125 -3.1875 C 5.453125 -1.703125 4.6875 -0.6875 3.546875 -0.6875 C 2.453125 -0.6875 1.71875 -1.6875 1.71875 -3.21875 C 1.71875 -4.765625 2.453125 -5.765625 3.546875 -5.765625 Z M 3.546875 -5.765625 \"/>\n",
       "</symbol>\n",
       "<symbol overflow=\"visible\" id=\"glyph1-9\">\n",
       "<path style=\"stroke:none;\" d=\"M 4.84375 -6.546875 L 3.03125 -1.453125 L 1.359375 -6.546875 L 0.25 -6.546875 L 2.46875 0.03125 L 2.0625 1.0625 C 1.90625 1.53125 1.65625 1.703125 1.21875 1.703125 C 1.078125 1.703125 0.90625 1.671875 0.671875 1.625 L 0.671875 2.5625 C 0.890625 2.671875 1.09375 2.71875 1.375 2.71875 C 1.71875 2.71875 2.078125 2.609375 2.34375 2.40625 C 2.671875 2.171875 2.859375 1.90625 3.0625 1.375 L 5.96875 -6.546875 Z M 4.84375 -6.546875 \"/>\n",
       "</symbol>\n",
       "<symbol overflow=\"visible\" id=\"glyph1-10\">\n",
       "<path style=\"stroke:none;\" d=\"M 3.65625 -3.390625 L 5.84375 -6.546875 L 4.671875 -6.546875 L 3.09375 -4.171875 L 1.53125 -6.546875 L 0.34375 -6.546875 L 2.53125 -3.34375 L 0.21875 0 L 1.40625 0 L 3.0625 -2.515625 L 4.703125 0 L 5.90625 0 Z M 3.65625 -3.390625 \"/>\n",
       "</symbol>\n",
       "<symbol overflow=\"visible\" id=\"glyph1-11\">\n",
       "<path style=\"stroke:none;\" d=\"M 2.390625 -1.296875 L 1.09375 -1.296875 L 1.09375 0 L 2.390625 0 Z M 2.390625 -1.296875 \"/>\n",
       "</symbol>\n",
       "<symbol overflow=\"visible\" id=\"glyph1-12\">\n",
       "<path style=\"stroke:none;\" d=\"M 0.859375 -6.546875 L 0.859375 0 L 1.90625 0 L 1.90625 -3.40625 C 1.90625 -4.34375 2.15625 -4.953125 2.65625 -5.3125 C 2.96875 -5.546875 3.28125 -5.625 4.015625 -5.640625 L 4.015625 -6.703125 C 3.84375 -6.71875 3.75 -6.734375 3.609375 -6.734375 C 2.9375 -6.734375 2.421875 -6.34375 1.828125 -5.359375 L 1.828125 -6.546875 Z M 0.859375 -6.546875 \"/>\n",
       "</symbol>\n",
       "<symbol overflow=\"visible\" id=\"glyph1-13\">\n",
       "<path style=\"stroke:none;\" d=\"M 0.875 -6.546875 L 0.875 0 L 1.921875 0 L 1.921875 -3.609375 C 1.921875 -4.953125 2.625 -5.828125 3.703125 -5.828125 C 4.53125 -5.828125 5.046875 -5.328125 5.046875 -4.53125 L 5.046875 0 L 6.09375 0 L 6.09375 -4.953125 C 6.09375 -6.03125 5.28125 -6.734375 4.015625 -6.734375 C 3.03125 -6.734375 2.40625 -6.359375 1.84375 -5.453125 L 1.84375 -6.546875 Z M 0.875 -6.546875 \"/>\n",
       "</symbol>\n",
       "<symbol overflow=\"visible\" id=\"glyph1-14\">\n",
       "<path style=\"stroke:none;\" d=\"M 1.765625 -9.109375 L 0.71875 -9.109375 L 0.71875 0 L 1.765625 0 L 1.765625 -2.546875 L 2.78125 -3.546875 L 4.984375 0 L 6.28125 0 L 3.59375 -4.28125 L 5.875 -6.546875 L 4.53125 -6.546875 L 1.765625 -3.78125 Z M 1.765625 -9.109375 \"/>\n",
       "</symbol>\n",
       "<symbol overflow=\"visible\" id=\"glyph1-15\">\n",
       "<path style=\"stroke:none;\" d=\"M 5.46875 -4.71875 C 5.46875 -6.015625 4.609375 -6.734375 3.09375 -6.734375 C 1.578125 -6.734375 0.59375 -5.953125 0.59375 -4.734375 C 0.59375 -3.71875 1.109375 -3.21875 2.65625 -2.84375 L 3.640625 -2.609375 C 4.359375 -2.4375 4.65625 -2.171875 4.65625 -1.703125 C 4.65625 -1.09375 4.03125 -0.671875 3.125 -0.671875 C 2.5625 -0.671875 2.09375 -0.84375 1.828125 -1.109375 C 1.65625 -1.296875 1.59375 -1.484375 1.53125 -1.953125 L 0.421875 -1.953125 C 0.46875 -0.4375 1.328125 0.28125 3.03125 0.28125 C 4.6875 0.28125 5.734375 -0.53125 5.734375 -1.78125 C 5.734375 -2.765625 5.1875 -3.296875 3.890625 -3.609375 L 2.890625 -3.84375 C 2.03125 -4.046875 1.671875 -4.328125 1.671875 -4.78125 C 1.671875 -5.390625 2.21875 -5.78125 3.0625 -5.78125 C 3.90625 -5.78125 4.34375 -5.40625 4.375 -4.71875 Z M 5.46875 -4.71875 \"/>\n",
       "</symbol>\n",
       "<symbol overflow=\"visible\" id=\"glyph1-16\">\n",
       "<path style=\"stroke:none;\" d=\"M 1.09375 -1.296875 L 1.09375 0 L 1.84375 0 L 1.84375 0.21875 C 1.84375 1.09375 1.671875 1.34375 1.09375 1.359375 L 1.09375 1.84375 C 1.96875 1.84375 2.40625 1.28125 2.40625 0.203125 L 2.40625 -1.296875 Z M 1.09375 -1.296875 \"/>\n",
       "</symbol>\n",
       "<symbol overflow=\"visible\" id=\"glyph1-17\">\n",
       "<path style=\"stroke:none;\" d=\"\"/>\n",
       "</symbol>\n",
       "<symbol overflow=\"visible\" id=\"glyph1-18\">\n",
       "<path style=\"stroke:none;\" d=\"M 0.875 -6.546875 L 0.875 0 L 1.921875 0 L 1.921875 -4.109375 C 1.921875 -5.0625 2.609375 -5.828125 3.46875 -5.828125 C 4.234375 -5.828125 4.671875 -5.34375 4.671875 -4.515625 L 4.671875 0 L 5.71875 0 L 5.71875 -4.109375 C 5.71875 -5.0625 6.40625 -5.828125 7.265625 -5.828125 C 8.03125 -5.828125 8.46875 -5.34375 8.46875 -4.515625 L 8.46875 0 L 9.53125 0 L 9.53125 -4.90625 C 9.53125 -6.09375 8.84375 -6.734375 7.625 -6.734375 C 6.75 -6.734375 6.21875 -6.46875 5.609375 -5.734375 C 5.21875 -6.4375 4.703125 -6.734375 3.84375 -6.734375 C 2.96875 -6.734375 2.40625 -6.40625 1.84375 -5.625 L 1.84375 -6.546875 Z M 0.875 -6.546875 \"/>\n",
       "</symbol>\n",
       "<symbol overflow=\"visible\" id=\"glyph1-19\">\n",
       "<path style=\"stroke:none;\" d=\"M 6.40625 -2.921875 C 6.40625 -3.921875 6.34375 -4.53125 6.15625 -5.015625 C 5.71875 -6.09375 4.71875 -6.734375 3.5 -6.734375 C 1.671875 -6.734375 0.5 -5.34375 0.5 -3.1875 C 0.5 -1.03125 1.640625 0.28125 3.46875 0.28125 C 4.96875 0.28125 6.015625 -0.5625 6.28125 -1.984375 L 5.21875 -1.984375 C 4.9375 -1.125 4.34375 -0.671875 3.515625 -0.671875 C 2.84375 -0.671875 2.28125 -0.96875 1.9375 -1.53125 C 1.6875 -1.90625 1.59375 -2.28125 1.59375 -2.921875 Z M 1.609375 -3.78125 C 1.703125 -4.984375 2.4375 -5.78125 3.484375 -5.78125 C 4.515625 -5.78125 5.296875 -4.921875 5.296875 -3.84375 C 5.296875 -3.828125 5.296875 -3.796875 5.28125 -3.78125 Z M 1.609375 -3.78125 \"/>\n",
       "</symbol>\n",
       "<symbol overflow=\"visible\" id=\"glyph1-20\">\n",
       "<path style=\"stroke:none;\" d=\"M 6.1875 -9.109375 L 5.15625 -9.109375 L 5.15625 -5.71875 C 4.71875 -6.390625 4.015625 -6.734375 3.140625 -6.734375 C 1.4375 -6.734375 0.328125 -5.375 0.328125 -3.28125 C 0.328125 -1.078125 1.40625 0.28125 3.171875 0.28125 C 4.078125 0.28125 4.703125 -0.046875 5.265625 -0.859375 L 5.265625 0 L 6.1875 0 Z M 3.3125 -5.765625 C 4.4375 -5.765625 5.15625 -4.765625 5.15625 -3.203125 C 5.15625 -1.6875 4.421875 -0.6875 3.328125 -0.6875 C 2.171875 -0.6875 1.40625 -1.703125 1.40625 -3.21875 C 1.40625 -4.75 2.171875 -5.765625 3.3125 -5.765625 Z M 3.3125 -5.765625 \"/>\n",
       "</symbol>\n",
       "<symbol overflow=\"visible\" id=\"glyph1-21\">\n",
       "<path style=\"stroke:none;\" d=\"M 1.875 -6.546875 L 0.84375 -6.546875 L 0.84375 0 L 1.875 0 Z M 1.875 -9.109375 L 0.828125 -9.109375 L 0.828125 -7.796875 L 1.875 -7.796875 Z M 1.875 -9.109375 \"/>\n",
       "</symbol>\n",
       "<symbol overflow=\"visible\" id=\"glyph1-22\">\n",
       "<path style=\"stroke:none;\" d=\"M 1.15625 2.65625 C 2.40625 1.015625 3.203125 -1.265625 3.203125 -3.21875 C 3.203125 -5.203125 2.40625 -7.46875 1.15625 -9.109375 L 0.46875 -9.109375 C 1.578125 -7.328125 2.1875 -5.21875 2.1875 -3.21875 C 2.1875 -1.234375 1.578125 0.875 0.46875 2.65625 Z M 1.15625 2.65625 \"/>\n",
       "</symbol>\n",
       "<symbol overflow=\"visible\" id=\"glyph1-23\">\n",
       "<path style=\"stroke:none;\" d=\"M 6.671875 -3.34375 L 4.09375 -3.34375 L 4.09375 -5.921875 L 3.21875 -5.921875 L 3.21875 -3.34375 L 0.625 -3.34375 L 0.625 -2.46875 L 3.21875 -2.46875 L 3.21875 0.125 L 4.09375 0.125 L 4.09375 -2.46875 L 6.671875 -2.46875 Z M 6.671875 -3.34375 \"/>\n",
       "</symbol>\n",
       "<symbol overflow=\"visible\" id=\"glyph1-24\">\n",
       "<path style=\"stroke:none;\" d=\"M 6.328125 -1.09375 L 1.65625 -1.09375 C 1.78125 -1.8125 2.171875 -2.28125 3.265625 -2.90625 L 4.515625 -3.59375 C 5.75 -4.265625 6.390625 -5.171875 6.390625 -6.265625 C 6.390625 -7 6.09375 -7.6875 5.5625 -8.15625 C 5.03125 -8.640625 4.390625 -8.859375 3.546875 -8.859375 C 2.421875 -8.859375 1.59375 -8.46875 1.09375 -7.71875 C 0.78125 -7.234375 0.65625 -6.6875 0.625 -5.78125 L 1.71875 -5.78125 C 1.765625 -6.390625 1.84375 -6.75 1.984375 -7.03125 C 2.28125 -7.578125 2.84375 -7.90625 3.515625 -7.90625 C 4.515625 -7.90625 5.265625 -7.1875 5.265625 -6.234375 C 5.265625 -5.53125 4.84375 -4.9375 4.0625 -4.484375 L 2.90625 -3.84375 C 1.0625 -2.78125 0.53125 -1.953125 0.421875 0 L 6.328125 0 Z M 6.328125 -1.09375 \"/>\n",
       "</symbol>\n",
       "<symbol overflow=\"visible\" id=\"glyph1-25\">\n",
       "<path style=\"stroke:none;\" d=\"M 5.953125 -8.859375 L 1.375 -8.859375 L 0.71875 -4.03125 L 1.71875 -4.03125 C 2.234375 -4.65625 2.65625 -4.859375 3.34375 -4.859375 C 4.53125 -4.859375 5.28125 -4.046875 5.28125 -2.734375 C 5.28125 -1.46875 4.546875 -0.6875 3.34375 -0.6875 C 2.390625 -0.6875 1.796875 -1.171875 1.53125 -2.171875 L 0.4375 -2.171875 C 0.59375 -1.453125 0.71875 -1.09375 0.96875 -0.78125 C 1.46875 -0.09375 2.375 0.28125 3.375 0.28125 C 5.15625 0.28125 6.40625 -1.015625 6.40625 -2.890625 C 6.40625 -4.640625 5.25 -5.84375 3.546875 -5.84375 C 2.921875 -5.84375 2.421875 -5.671875 1.90625 -5.296875 L 2.265625 -7.78125 L 5.953125 -7.78125 Z M 5.953125 -8.859375 \"/>\n",
       "</symbol>\n",
       "<symbol overflow=\"visible\" id=\"glyph1-26\">\n",
       "<path style=\"stroke:none;\" d=\"M 2.765625 -4.0625 L 2.90625 -4.0625 L 3.359375 -4.078125 C 4.578125 -4.078125 5.203125 -3.53125 5.203125 -2.46875 C 5.203125 -1.34375 4.515625 -0.6875 3.359375 -0.6875 C 2.15625 -0.6875 1.578125 -1.28125 1.5 -2.578125 L 0.40625 -2.578125 C 0.453125 -1.859375 0.578125 -1.40625 0.78125 -1 C 1.234375 -0.15625 2.109375 0.28125 3.328125 0.28125 C 5.15625 0.28125 6.328125 -0.796875 6.328125 -2.46875 C 6.328125 -3.59375 5.890625 -4.21875 4.828125 -4.59375 C 5.65625 -4.90625 6.0625 -5.53125 6.0625 -6.421875 C 6.0625 -7.953125 5.046875 -8.859375 3.359375 -8.859375 C 1.578125 -8.859375 0.625 -7.890625 0.59375 -6 L 1.6875 -6 C 1.703125 -6.53125 1.75 -6.84375 1.890625 -7.109375 C 2.140625 -7.59375 2.6875 -7.90625 3.375 -7.90625 C 4.34375 -7.90625 4.9375 -7.328125 4.9375 -6.390625 C 4.9375 -5.765625 4.71875 -5.390625 4.21875 -5.1875 C 3.921875 -5.0625 3.53125 -5.015625 2.765625 -5 Z M 2.765625 -4.0625 \"/>\n",
       "</symbol>\n",
       "<symbol overflow=\"visible\" id=\"glyph2-0\">\n",
       "<path style=\"stroke:none;\" d=\"\"/>\n",
       "</symbol>\n",
       "<symbol overflow=\"visible\" id=\"glyph2-1\">\n",
       "<path style=\"stroke:none;\" d=\"M -4.15625 -2.28125 L -4.15625 -6.640625 L -5.171875 -6.640625 L -5.171875 -2.28125 L -8.09375 -2.28125 L -8.09375 -7.234375 L -9.109375 -7.234375 L -9.109375 -1.125 L 0 -1.125 L 0 -2.28125 Z M -4.15625 -2.28125 \"/>\n",
       "</symbol>\n",
       "<symbol overflow=\"visible\" id=\"glyph2-2\">\n",
       "<path style=\"stroke:none;\" d=\"M -6.546875 -0.859375 L 0 -0.859375 L 0 -1.90625 L -3.40625 -1.90625 C -4.34375 -1.90625 -4.953125 -2.15625 -5.3125 -2.65625 C -5.546875 -2.96875 -5.625 -3.28125 -5.640625 -4.015625 L -6.703125 -4.015625 C -6.71875 -3.84375 -6.734375 -3.75 -6.734375 -3.609375 C -6.734375 -2.9375 -6.34375 -2.421875 -5.359375 -1.828125 L -6.546875 -1.828125 Z M -6.546875 -0.859375 \"/>\n",
       "</symbol>\n",
       "<symbol overflow=\"visible\" id=\"glyph2-3\">\n",
       "<path style=\"stroke:none;\" d=\"M -2.921875 -6.40625 C -3.921875 -6.40625 -4.53125 -6.34375 -5.015625 -6.15625 C -6.09375 -5.71875 -6.734375 -4.71875 -6.734375 -3.5 C -6.734375 -1.671875 -5.34375 -0.5 -3.1875 -0.5 C -1.03125 -0.5 0.28125 -1.640625 0.28125 -3.46875 C 0.28125 -4.96875 -0.5625 -6.015625 -1.984375 -6.28125 L -1.984375 -5.21875 C -1.125 -4.9375 -0.671875 -4.34375 -0.671875 -3.515625 C -0.671875 -2.84375 -0.96875 -2.28125 -1.53125 -1.9375 C -1.90625 -1.6875 -2.28125 -1.59375 -2.921875 -1.59375 Z M -3.78125 -1.609375 C -4.984375 -1.703125 -5.78125 -2.4375 -5.78125 -3.484375 C -5.78125 -4.515625 -4.921875 -5.296875 -3.84375 -5.296875 C -3.828125 -5.296875 -3.796875 -5.296875 -3.78125 -5.28125 Z M -3.78125 -1.609375 \"/>\n",
       "</symbol>\n",
       "<symbol overflow=\"visible\" id=\"glyph2-4\">\n",
       "<path style=\"stroke:none;\" d=\"M 2.71875 -6.1875 L -6.546875 -6.1875 L -6.546875 -5.265625 L -5.671875 -5.265625 C -6.359375 -4.78125 -6.734375 -4.03125 -6.734375 -3.171875 C -6.734375 -1.453125 -5.328125 -0.328125 -3.15625 -0.328125 C -1.03125 -0.328125 0.28125 -1.40625 0.28125 -3.125 C 0.28125 -4.03125 -0.03125 -4.65625 -0.75 -5.15625 L 2.71875 -5.15625 Z M -5.765625 -3.328125 C -5.765625 -4.4375 -4.765625 -5.15625 -3.1875 -5.15625 C -1.6875 -5.15625 -0.6875 -4.421875 -0.6875 -3.328125 C -0.6875 -2.171875 -1.703125 -1.40625 -3.21875 -1.40625 C -4.734375 -1.40625 -5.765625 -2.171875 -5.765625 -3.328125 Z M -5.765625 -3.328125 \"/>\n",
       "</symbol>\n",
       "<symbol overflow=\"visible\" id=\"glyph2-5\">\n",
       "<path style=\"stroke:none;\" d=\"M 0 -6.03125 L -6.546875 -6.03125 L -6.546875 -4.984375 L -2.84375 -4.984375 C -1.5 -4.984375 -0.625 -4.28125 -0.625 -3.203125 C -0.625 -2.375 -1.125 -1.84375 -1.90625 -1.84375 L -6.546875 -1.84375 L -6.546875 -0.8125 L -1.5 -0.8125 C -0.40625 -0.8125 0.28125 -1.625 0.28125 -2.90625 C 0.28125 -3.859375 -0.046875 -4.46875 -0.90625 -5.09375 L 0 -5.09375 Z M 0 -6.03125 \"/>\n",
       "</symbol>\n",
       "<symbol overflow=\"visible\" id=\"glyph2-6\">\n",
       "<path style=\"stroke:none;\" d=\"M -6.546875 -0.875 L 0 -0.875 L 0 -1.921875 L -3.609375 -1.921875 C -4.953125 -1.921875 -5.828125 -2.625 -5.828125 -3.703125 C -5.828125 -4.53125 -5.328125 -5.046875 -4.53125 -5.046875 L 0 -5.046875 L 0 -6.09375 L -4.953125 -6.09375 C -6.03125 -6.09375 -6.734375 -5.28125 -6.734375 -4.015625 C -6.734375 -3.03125 -6.359375 -2.40625 -5.453125 -1.84375 L -6.546875 -1.84375 Z M -6.546875 -0.875 \"/>\n",
       "</symbol>\n",
       "<symbol overflow=\"visible\" id=\"glyph2-7\">\n",
       "<path style=\"stroke:none;\" d=\"M -4.34375 -5.890625 C -4.984375 -5.84375 -5.40625 -5.703125 -5.765625 -5.453125 C -6.375 -5 -6.734375 -4.21875 -6.734375 -3.296875 C -6.734375 -1.53125 -5.34375 -0.390625 -3.15625 -0.390625 C -1.046875 -0.390625 0.28125 -1.515625 0.28125 -3.28125 C 0.28125 -4.84375 -0.65625 -5.84375 -2.25 -5.96875 L -2.25 -4.90625 C -1.203125 -4.734375 -0.671875 -4.203125 -0.671875 -3.3125 C -0.671875 -2.15625 -1.609375 -1.46875 -3.15625 -1.46875 C -4.796875 -1.46875 -5.78125 -2.15625 -5.78125 -3.28125 C -5.78125 -4.15625 -5.265625 -4.71875 -4.34375 -4.84375 Z M -4.34375 -5.890625 \"/>\n",
       "</symbol>\n",
       "<symbol overflow=\"visible\" id=\"glyph2-8\">\n",
       "<path style=\"stroke:none;\" d=\"M -6.546875 -4.84375 L -1.453125 -3.03125 L -6.546875 -1.359375 L -6.546875 -0.25 L 0.03125 -2.46875 L 1.0625 -2.0625 C 1.53125 -1.90625 1.703125 -1.65625 1.703125 -1.21875 C 1.703125 -1.078125 1.671875 -0.90625 1.625 -0.671875 L 2.5625 -0.671875 C 2.671875 -0.890625 2.71875 -1.09375 2.71875 -1.375 C 2.71875 -1.71875 2.609375 -2.078125 2.40625 -2.34375 C 2.171875 -2.671875 1.90625 -2.859375 1.375 -3.0625 L -6.546875 -5.96875 Z M -6.546875 -4.84375 \"/>\n",
       "</symbol>\n",
       "<symbol overflow=\"visible\" id=\"glyph2-9\">\n",
       "<path style=\"stroke:none;\" d=\"M -8.859375 -3.4375 C -8.859375 -2.609375 -8.5 -1.859375 -7.890625 -1.40625 C -7.109375 -0.828125 -5.921875 -0.53125 -4.28125 -0.53125 C -1.296875 -0.53125 0.28125 -1.53125 0.28125 -3.4375 C 0.28125 -5.3125 -1.296875 -6.34375 -4.21875 -6.34375 C -5.9375 -6.34375 -7.09375 -6.0625 -7.890625 -5.46875 C -8.515625 -5.015625 -8.859375 -4.28125 -8.859375 -3.4375 Z M -7.890625 -3.4375 C -7.890625 -4.625 -6.6875 -5.21875 -4.3125 -5.21875 C -1.796875 -5.21875 -0.625 -4.640625 -0.625 -3.40625 C -0.625 -2.25 -1.84375 -1.65625 -4.28125 -1.65625 C -6.703125 -1.65625 -7.890625 -2.25 -7.890625 -3.4375 Z M -7.890625 -3.4375 \"/>\n",
       "</symbol>\n",
       "<symbol overflow=\"visible\" id=\"glyph2-10\">\n",
       "<path style=\"stroke:none;\" d=\"M -1.09375 -6.328125 L -1.09375 -1.65625 C -1.8125 -1.78125 -2.28125 -2.171875 -2.90625 -3.265625 L -3.59375 -4.515625 C -4.265625 -5.75 -5.171875 -6.390625 -6.265625 -6.390625 C -7 -6.390625 -7.6875 -6.09375 -8.15625 -5.5625 C -8.640625 -5.03125 -8.859375 -4.390625 -8.859375 -3.546875 C -8.859375 -2.421875 -8.46875 -1.59375 -7.71875 -1.09375 C -7.234375 -0.78125 -6.6875 -0.65625 -5.78125 -0.625 L -5.78125 -1.71875 C -6.390625 -1.765625 -6.75 -1.84375 -7.03125 -1.984375 C -7.578125 -2.28125 -7.90625 -2.84375 -7.90625 -3.515625 C -7.90625 -4.515625 -7.1875 -5.265625 -6.234375 -5.265625 C -5.53125 -5.265625 -4.9375 -4.84375 -4.484375 -4.0625 L -3.84375 -2.90625 C -2.78125 -1.0625 -1.953125 -0.53125 0 -0.421875 L 0 -6.328125 Z M -1.09375 -6.328125 \"/>\n",
       "</symbol>\n",
       "<symbol overflow=\"visible\" id=\"glyph2-11\">\n",
       "<path style=\"stroke:none;\" d=\"M -2.125 -4.09375 L 0 -4.09375 L 0 -5.1875 L -2.125 -5.1875 L -2.125 -6.5 L -3.109375 -6.5 L -3.109375 -5.1875 L -8.859375 -5.1875 L -8.859375 -4.375 L -3.28125 -0.34375 L -2.125 -0.34375 Z M -3.109375 -4.09375 L -3.109375 -1.3125 L -6.984375 -4.09375 Z M -3.109375 -4.09375 \"/>\n",
       "</symbol>\n",
       "<symbol overflow=\"visible\" id=\"glyph2-12\">\n",
       "<path style=\"stroke:none;\" d=\"M -6.546875 -6.21875 C -8 -6.015625 -8.859375 -5.0625 -8.859375 -3.71875 C -8.859375 -2.734375 -8.390625 -1.859375 -7.59375 -1.34375 C -6.734375 -0.78125 -5.65625 -0.53125 -4.03125 -0.53125 C -2.546875 -0.53125 -1.59375 -0.765625 -0.8125 -1.28125 C -0.09375 -1.765625 0.28125 -2.53125 0.28125 -3.515625 C 0.28125 -5.203125 -0.96875 -6.40625 -2.703125 -6.40625 C -4.34375 -6.40625 -5.515625 -5.28125 -5.515625 -3.703125 C -5.515625 -2.828125 -5.171875 -2.140625 -4.53125 -1.65625 C -6.6875 -1.671875 -7.890625 -2.375 -7.890625 -3.640625 C -7.890625 -4.40625 -7.40625 -4.953125 -6.546875 -5.125 Z M -4.53125 -3.5625 C -4.53125 -4.625 -3.796875 -5.28125 -2.609375 -5.28125 C -1.5 -5.28125 -0.6875 -4.53125 -0.6875 -3.53125 C -0.6875 -2.5 -1.53125 -1.71875 -2.671875 -1.71875 C -3.78125 -1.71875 -4.53125 -2.46875 -4.53125 -3.5625 Z M -4.53125 -3.5625 \"/>\n",
       "</symbol>\n",
       "<symbol overflow=\"visible\" id=\"glyph2-13\">\n",
       "<path style=\"stroke:none;\" d=\"M -4.65625 -4.890625 C -5.21875 -5.796875 -5.65625 -6.09375 -6.5 -6.09375 C -7.890625 -6.09375 -8.859375 -5.015625 -8.859375 -3.4375 C -8.859375 -1.875 -7.890625 -0.78125 -6.5 -0.78125 C -5.671875 -0.78125 -5.21875 -1.078125 -4.65625 -1.96875 C -4.171875 -0.96875 -3.4375 -0.46875 -2.46875 -0.46875 C -0.84375 -0.46875 0.28125 -1.6875 0.28125 -3.4375 C 0.28125 -5.1875 -0.84375 -6.40625 -2.453125 -6.40625 C -3.4375 -6.40625 -4.171875 -5.90625 -4.65625 -4.890625 Z M -7.890625 -3.4375 C -7.890625 -4.375 -7.34375 -4.96875 -6.46875 -4.96875 C -5.65625 -4.96875 -5.09375 -4.359375 -5.09375 -3.4375 C -5.09375 -2.515625 -5.65625 -1.90625 -6.484375 -1.90625 C -7.34375 -1.90625 -7.890625 -2.515625 -7.890625 -3.4375 Z M -4.171875 -3.4375 C -4.171875 -4.53125 -3.46875 -5.28125 -2.4375 -5.28125 C -1.390625 -5.28125 -0.6875 -4.53125 -0.6875 -3.40625 C -0.6875 -2.34375 -1.40625 -1.59375 -2.4375 -1.59375 C -3.46875 -1.59375 -4.171875 -2.34375 -4.171875 -3.4375 Z M -4.171875 -3.4375 \"/>\n",
       "</symbol>\n",
       "<symbol overflow=\"visible\" id=\"glyph2-14\">\n",
       "<path style=\"stroke:none;\" d=\"M -6.3125 -3.234375 L 0 -3.234375 L 0 -4.34375 L -8.859375 -4.34375 L -8.859375 -3.609375 C -7.5 -3.21875 -7.3125 -2.96875 -7.09375 -1.28125 L -6.3125 -1.28125 Z M -6.3125 -3.234375 \"/>\n",
       "</symbol>\n",
       "</g>\n",
       "</defs>\n",
       "<g id=\"surface126\">\n",
       "<g style=\"fill:rgb(0%,0%,0%);fill-opacity:1;\">\n",
       "  <use xlink:href=\"#glyph0-1\" x=\"182.347656\" y=\"34.949219\"/>\n",
       "  <use xlink:href=\"#glyph0-2\" x=\"195.599243\" y=\"34.949219\"/>\n",
       "  <use xlink:href=\"#glyph0-3\" x=\"203.88707\" y=\"34.949219\"/>\n",
       "  <use xlink:href=\"#glyph0-4\" x=\"212.994736\" y=\"34.949219\"/>\n",
       "  <use xlink:href=\"#glyph0-5\" x=\"217.138657\" y=\"34.949219\"/>\n",
       "  <use xlink:href=\"#glyph0-6\" x=\"225.426483\" y=\"34.949219\"/>\n",
       "  <use xlink:href=\"#glyph0-7\" x=\"234.534149\" y=\"34.949219\"/>\n",
       "  <use xlink:href=\"#glyph0-8\" x=\"238.67807\" y=\"34.949219\"/>\n",
       "  <use xlink:href=\"#glyph0-5\" x=\"244.476562\" y=\"34.949219\"/>\n",
       "  <use xlink:href=\"#glyph0-6\" x=\"252.764389\" y=\"34.949219\"/>\n",
       "  <use xlink:href=\"#glyph0-9\" x=\"261.872055\" y=\"34.949219\"/>\n",
       "  <use xlink:href=\"#glyph0-10\" x=\"270.159882\" y=\"34.949219\"/>\n",
       "</g>\n",
       "<g style=\"fill:rgb(0%,0%,0%);fill-opacity:1;\">\n",
       "  <use xlink:href=\"#glyph1-1\" x=\"130.1875\" y=\"414.71875\"/>\n",
       "  <use xlink:href=\"#glyph1-2\" x=\"132.962509\" y=\"414.71875\"/>\n",
       "  <use xlink:href=\"#glyph1-3\" x=\"139.912537\" y=\"414.71875\"/>\n",
       "  <use xlink:href=\"#glyph1-4\" x=\"146.862564\" y=\"414.71875\"/>\n",
       "  <use xlink:href=\"#glyph1-5\" x=\"153.812592\" y=\"414.71875\"/>\n",
       "  <use xlink:href=\"#glyph1-6\" x=\"160.762619\" y=\"414.71875\"/>\n",
       "  <use xlink:href=\"#glyph1-7\" x=\"164.92514\" y=\"414.71875\"/>\n",
       "  <use xlink:href=\"#glyph1-8\" x=\"171.875168\" y=\"414.71875\"/>\n",
       "  <use xlink:href=\"#glyph1-8\" x=\"178.825195\" y=\"414.71875\"/>\n",
       "  <use xlink:href=\"#glyph1-1\" x=\"185.775223\" y=\"414.71875\"/>\n",
       "  <use xlink:href=\"#glyph1-9\" x=\"188.550232\" y=\"414.71875\"/>\n",
       "  <use xlink:href=\"#glyph1-6\" x=\"194.800262\" y=\"414.71875\"/>\n",
       "  <use xlink:href=\"#glyph1-10\" x=\"198.962784\" y=\"414.71875\"/>\n",
       "  <use xlink:href=\"#glyph1-11\" x=\"205.212814\" y=\"414.71875\"/>\n",
       "  <use xlink:href=\"#glyph1-12\" x=\"208.68782\" y=\"414.71875\"/>\n",
       "  <use xlink:href=\"#glyph1-7\" x=\"212.850342\" y=\"414.71875\"/>\n",
       "  <use xlink:href=\"#glyph1-13\" x=\"219.800369\" y=\"414.71875\"/>\n",
       "  <use xlink:href=\"#glyph1-14\" x=\"226.750397\" y=\"414.71875\"/>\n",
       "  <use xlink:href=\"#glyph1-15\" x=\"233.000427\" y=\"414.71875\"/>\n",
       "  <use xlink:href=\"#glyph1-16\" x=\"239.250458\" y=\"414.71875\"/>\n",
       "  <use xlink:href=\"#glyph1-17\" x=\"242.725464\" y=\"414.71875\"/>\n",
       "  <use xlink:href=\"#glyph1-4\" x=\"246.20047\" y=\"414.71875\"/>\n",
       "  <use xlink:href=\"#glyph1-16\" x=\"253.150497\" y=\"414.71875\"/>\n",
       "  <use xlink:href=\"#glyph1-17\" x=\"256.625504\" y=\"414.71875\"/>\n",
       "  <use xlink:href=\"#glyph1-18\" x=\"260.10051\" y=\"414.71875\"/>\n",
       "  <use xlink:href=\"#glyph1-19\" x=\"270.513046\" y=\"414.71875\"/>\n",
       "  <use xlink:href=\"#glyph1-20\" x=\"277.463074\" y=\"414.71875\"/>\n",
       "  <use xlink:href=\"#glyph1-21\" x=\"284.413101\" y=\"414.71875\"/>\n",
       "  <use xlink:href=\"#glyph1-7\" x=\"287.18811\" y=\"414.71875\"/>\n",
       "  <use xlink:href=\"#glyph1-13\" x=\"294.138138\" y=\"414.71875\"/>\n",
       "  <use xlink:href=\"#glyph1-22\" x=\"301.088165\" y=\"414.71875\"/>\n",
       "  <use xlink:href=\"#glyph1-17\" x=\"305.250687\" y=\"414.71875\"/>\n",
       "  <use xlink:href=\"#glyph1-23\" x=\"308.725693\" y=\"414.71875\"/>\n",
       "  <use xlink:href=\"#glyph1-17\" x=\"316.025726\" y=\"414.71875\"/>\n",
       "  <use xlink:href=\"#glyph1-4\" x=\"319.500732\" y=\"414.71875\"/>\n",
       "  <use xlink:href=\"#glyph1-22\" x=\"326.45076\" y=\"414.71875\"/>\n",
       "</g>\n",
       "<g style=\"fill:rgb(0%,0%,0%);fill-opacity:1;\">\n",
       "  <use xlink:href=\"#glyph2-1\" x=\"14.398438\" y=\"238.324219\"/>\n",
       "  <use xlink:href=\"#glyph2-2\" x=\"14.398438\" y=\"230.686691\"/>\n",
       "  <use xlink:href=\"#glyph2-3\" x=\"14.398438\" y=\"226.52417\"/>\n",
       "  <use xlink:href=\"#glyph2-4\" x=\"14.398438\" y=\"219.574142\"/>\n",
       "  <use xlink:href=\"#glyph2-5\" x=\"14.398438\" y=\"212.624115\"/>\n",
       "  <use xlink:href=\"#glyph2-3\" x=\"14.398438\" y=\"205.674088\"/>\n",
       "  <use xlink:href=\"#glyph2-6\" x=\"14.398438\" y=\"198.72406\"/>\n",
       "  <use xlink:href=\"#glyph2-7\" x=\"14.398438\" y=\"191.774033\"/>\n",
       "  <use xlink:href=\"#glyph2-8\" x=\"14.398438\" y=\"185.524002\"/>\n",
       "</g>\n",
       "<path style=\"fill:none;stroke-width:1;stroke-linecap:round;stroke-linejoin:round;stroke:rgb(0%,0%,0%);stroke-opacity:1;stroke-miterlimit:10;\" d=\"M 161.183594 358.558594 L 374.160156 358.558594 \"/>\n",
       "<path style=\"fill:none;stroke-width:1;stroke-linecap:round;stroke-linejoin:round;stroke:rgb(0%,0%,0%);stroke-opacity:1;stroke-miterlimit:10;\" d=\"M 161.183594 358.558594 L 161.183594 365.761719 \"/>\n",
       "<path style=\"fill:none;stroke-width:1;stroke-linecap:round;stroke-linejoin:round;stroke:rgb(0%,0%,0%);stroke-opacity:1;stroke-miterlimit:10;\" d=\"M 267.671875 358.558594 L 267.671875 365.761719 \"/>\n",
       "<path style=\"fill:none;stroke-width:1;stroke-linecap:round;stroke-linejoin:round;stroke:rgb(0%,0%,0%);stroke-opacity:1;stroke-miterlimit:10;\" d=\"M 374.160156 358.558594 L 374.160156 365.761719 \"/>\n",
       "<g style=\"fill:rgb(0%,0%,0%);fill-opacity:1;\">\n",
       "  <use xlink:href=\"#glyph1-24\" x=\"152.496094\" y=\"385.921875\"/>\n",
       "  <use xlink:href=\"#glyph1-11\" x=\"159.446121\" y=\"385.921875\"/>\n",
       "  <use xlink:href=\"#glyph1-25\" x=\"162.921127\" y=\"385.921875\"/>\n",
       "</g>\n",
       "<g style=\"fill:rgb(0%,0%,0%);fill-opacity:1;\">\n",
       "  <use xlink:href=\"#glyph1-26\" x=\"258.984375\" y=\"385.921875\"/>\n",
       "  <use xlink:href=\"#glyph1-11\" x=\"265.934402\" y=\"385.921875\"/>\n",
       "  <use xlink:href=\"#glyph1-5\" x=\"269.409409\" y=\"385.921875\"/>\n",
       "</g>\n",
       "<g style=\"fill:rgb(0%,0%,0%);fill-opacity:1;\">\n",
       "  <use xlink:href=\"#glyph1-26\" x=\"365.472656\" y=\"385.921875\"/>\n",
       "  <use xlink:href=\"#glyph1-11\" x=\"372.422684\" y=\"385.921875\"/>\n",
       "  <use xlink:href=\"#glyph1-25\" x=\"375.89769\" y=\"385.921875\"/>\n",
       "</g>\n",
       "<path style=\"fill:none;stroke-width:1;stroke-linecap:round;stroke-linejoin:round;stroke:rgb(0%,0%,0%);stroke-opacity:1;stroke-miterlimit:10;\" d=\"M 59.039062 347.464844 L 59.039062 93.03125 \"/>\n",
       "<path style=\"fill:none;stroke-width:1;stroke-linecap:round;stroke-linejoin:round;stroke:rgb(0%,0%,0%);stroke-opacity:1;stroke-miterlimit:10;\" d=\"M 59.039062 347.464844 L 51.839844 347.464844 \"/>\n",
       "<path style=\"fill:none;stroke-width:1;stroke-linecap:round;stroke-linejoin:round;stroke:rgb(0%,0%,0%);stroke-opacity:1;stroke-miterlimit:10;\" d=\"M 59.039062 296.578125 L 51.839844 296.578125 \"/>\n",
       "<path style=\"fill:none;stroke-width:1;stroke-linecap:round;stroke-linejoin:round;stroke:rgb(0%,0%,0%);stroke-opacity:1;stroke-miterlimit:10;\" d=\"M 59.039062 245.691406 L 51.839844 245.691406 \"/>\n",
       "<path style=\"fill:none;stroke-width:1;stroke-linecap:round;stroke-linejoin:round;stroke:rgb(0%,0%,0%);stroke-opacity:1;stroke-miterlimit:10;\" d=\"M 59.039062 194.804688 L 51.839844 194.804688 \"/>\n",
       "<path style=\"fill:none;stroke-width:1;stroke-linecap:round;stroke-linejoin:round;stroke:rgb(0%,0%,0%);stroke-opacity:1;stroke-miterlimit:10;\" d=\"M 59.039062 143.917969 L 51.839844 143.917969 \"/>\n",
       "<path style=\"fill:none;stroke-width:1;stroke-linecap:round;stroke-linejoin:round;stroke:rgb(0%,0%,0%);stroke-opacity:1;stroke-miterlimit:10;\" d=\"M 59.039062 93.03125 L 51.839844 93.03125 \"/>\n",
       "<g style=\"fill:rgb(0%,0%,0%);fill-opacity:1;\">\n",
       "  <use xlink:href=\"#glyph2-9\" x=\"43.199219\" y=\"350.941406\"/>\n",
       "</g>\n",
       "<g style=\"fill:rgb(0%,0%,0%);fill-opacity:1;\">\n",
       "  <use xlink:href=\"#glyph2-10\" x=\"43.199219\" y=\"303.527344\"/>\n",
       "  <use xlink:href=\"#glyph2-9\" x=\"43.199219\" y=\"296.577316\"/>\n",
       "</g>\n",
       "<g style=\"fill:rgb(0%,0%,0%);fill-opacity:1;\">\n",
       "  <use xlink:href=\"#glyph2-11\" x=\"43.199219\" y=\"252.640625\"/>\n",
       "  <use xlink:href=\"#glyph2-9\" x=\"43.199219\" y=\"245.690598\"/>\n",
       "</g>\n",
       "<g style=\"fill:rgb(0%,0%,0%);fill-opacity:1;\">\n",
       "  <use xlink:href=\"#glyph2-12\" x=\"43.199219\" y=\"201.753906\"/>\n",
       "  <use xlink:href=\"#glyph2-9\" x=\"43.199219\" y=\"194.803879\"/>\n",
       "</g>\n",
       "<g style=\"fill:rgb(0%,0%,0%);fill-opacity:1;\">\n",
       "  <use xlink:href=\"#glyph2-13\" x=\"43.199219\" y=\"150.867188\"/>\n",
       "  <use xlink:href=\"#glyph2-9\" x=\"43.199219\" y=\"143.91716\"/>\n",
       "</g>\n",
       "<g style=\"fill:rgb(0%,0%,0%);fill-opacity:1;\">\n",
       "  <use xlink:href=\"#glyph2-14\" x=\"43.199219\" y=\"103.457031\"/>\n",
       "  <use xlink:href=\"#glyph2-9\" x=\"43.199219\" y=\"96.507004\"/>\n",
       "  <use xlink:href=\"#glyph2-9\" x=\"43.199219\" y=\"89.556976\"/>\n",
       "</g>\n",
       "<path style=\"fill:none;stroke-width:1;stroke-linecap:round;stroke-linejoin:round;stroke:rgb(0%,0%,0%);stroke-opacity:1;stroke-miterlimit:10;\" d=\"M 71.734375 344.921875 L 73.863281 344.921875 L 73.863281 347.464844 L 71.734375 347.464844 Z M 71.734375 344.921875 \"/>\n",
       "<path style=\"fill:none;stroke-width:1;stroke-linecap:round;stroke-linejoin:round;stroke:rgb(0%,0%,0%);stroke-opacity:1;stroke-miterlimit:10;\" d=\"M 73.863281 344.921875 L 75.992188 344.921875 L 75.992188 347.464844 L 73.863281 347.464844 Z M 73.863281 344.921875 \"/>\n",
       "<path style=\"fill:none;stroke-width:1;stroke-linecap:round;stroke-linejoin:round;stroke:rgb(0%,0%,0%);stroke-opacity:1;stroke-miterlimit:10;\" d=\"M 75.992188 344.921875 L 78.121094 344.921875 L 78.121094 347.464844 L 75.992188 347.464844 Z M 75.992188 344.921875 \"/>\n",
       "<path style=\"fill:none;stroke-width:1;stroke-linecap:round;stroke-linejoin:round;stroke:rgb(0%,0%,0%);stroke-opacity:1;stroke-miterlimit:10;\" d=\"M 78.121094 324.566406 L 80.25 324.566406 L 80.25 347.464844 L 78.121094 347.464844 Z M 78.121094 324.566406 \"/>\n",
       "<path style=\"fill:none;stroke-width:1;stroke-linecap:round;stroke-linejoin:round;stroke:rgb(0%,0%,0%);stroke-opacity:1;stroke-miterlimit:10;\" d=\"M 80.253906 339.832031 L 82.382812 339.832031 L 82.382812 347.464844 L 80.253906 347.464844 Z M 80.253906 339.832031 \"/>\n",
       "<path style=\"fill:none;stroke-width:1;stroke-linecap:round;stroke-linejoin:round;stroke:rgb(0%,0%,0%);stroke-opacity:1;stroke-miterlimit:10;\" d=\"M 82.382812 347.464844 L 84.511719 347.464844 Z M 82.382812 347.464844 \"/>\n",
       "<path style=\"fill:none;stroke-width:1;stroke-linecap:round;stroke-linejoin:round;stroke:rgb(0%,0%,0%);stroke-opacity:1;stroke-miterlimit:10;\" d=\"M 84.511719 334.746094 L 86.640625 334.746094 L 86.640625 347.46875 L 84.511719 347.46875 Z M 84.511719 334.746094 \"/>\n",
       "<path style=\"fill:none;stroke-width:1;stroke-linecap:round;stroke-linejoin:round;stroke:rgb(0%,0%,0%);stroke-opacity:1;stroke-miterlimit:10;\" d=\"M 86.640625 337.289062 L 88.769531 337.289062 L 88.769531 347.464844 L 86.640625 347.464844 Z M 86.640625 337.289062 \"/>\n",
       "<path style=\"fill:none;stroke-width:1;stroke-linecap:round;stroke-linejoin:round;stroke:rgb(0%,0%,0%);stroke-opacity:1;stroke-miterlimit:10;\" d=\"M 88.769531 334.746094 L 90.898438 334.746094 L 90.898438 347.46875 L 88.769531 347.46875 Z M 88.769531 334.746094 \"/>\n",
       "<path style=\"fill:none;stroke-width:1;stroke-linecap:round;stroke-linejoin:round;stroke:rgb(0%,0%,0%);stroke-opacity:1;stroke-miterlimit:10;\" d=\"M 90.902344 319.480469 L 93.03125 319.480469 L 93.03125 347.46875 L 90.902344 347.46875 Z M 90.902344 319.480469 \"/>\n",
       "<path style=\"fill:none;stroke-width:1;stroke-linecap:round;stroke-linejoin:round;stroke:rgb(0%,0%,0%);stroke-opacity:1;stroke-miterlimit:10;\" d=\"M 93.03125 70.132812 L 95.160156 70.132812 L 95.160156 347.464844 L 93.03125 347.464844 Z M 93.03125 70.132812 \"/>\n",
       "<path style=\"fill:none;stroke-width:1;stroke-linecap:round;stroke-linejoin:round;stroke:rgb(0%,0%,0%);stroke-opacity:1;stroke-miterlimit:10;\" d=\"M 95.160156 347.464844 L 97.289062 347.464844 Z M 95.160156 347.464844 \"/>\n",
       "<path style=\"fill:none;stroke-width:1;stroke-linecap:round;stroke-linejoin:round;stroke:rgb(0%,0%,0%);stroke-opacity:1;stroke-miterlimit:10;\" d=\"M 97.289062 342.378906 L 99.417969 342.378906 L 99.417969 347.46875 L 97.289062 347.46875 Z M 97.289062 342.378906 \"/>\n",
       "<path style=\"fill:none;stroke-width:1;stroke-linecap:round;stroke-linejoin:round;stroke:rgb(0%,0%,0%);stroke-opacity:1;stroke-miterlimit:10;\" d=\"M 99.421875 347.464844 L 101.550781 347.464844 Z M 99.421875 347.464844 \"/>\n",
       "<path style=\"fill:none;stroke-width:1;stroke-linecap:round;stroke-linejoin:round;stroke:rgb(0%,0%,0%);stroke-opacity:1;stroke-miterlimit:10;\" d=\"M 101.550781 248.238281 L 103.679688 248.238281 L 103.679688 347.46875 L 101.550781 347.46875 Z M 101.550781 248.238281 \"/>\n",
       "<path style=\"fill:none;stroke-width:1;stroke-linecap:round;stroke-linejoin:round;stroke:rgb(0%,0%,0%);stroke-opacity:1;stroke-miterlimit:10;\" d=\"M 103.679688 347.464844 L 105.808594 347.464844 Z M 103.679688 347.464844 \"/>\n",
       "<path style=\"fill:none;stroke-width:1;stroke-linecap:round;stroke-linejoin:round;stroke:rgb(0%,0%,0%);stroke-opacity:1;stroke-miterlimit:10;\" d=\"M 105.808594 339.832031 L 107.9375 339.832031 L 107.9375 347.464844 L 105.808594 347.464844 Z M 105.808594 339.832031 \"/>\n",
       "<path style=\"fill:none;stroke-width:1;stroke-linecap:round;stroke-linejoin:round;stroke:rgb(0%,0%,0%);stroke-opacity:1;stroke-miterlimit:10;\" d=\"M 107.9375 327.113281 L 110.066406 327.113281 L 110.066406 347.46875 L 107.9375 347.46875 Z M 107.9375 327.113281 \"/>\n",
       "<path style=\"fill:none;stroke-width:1;stroke-linecap:round;stroke-linejoin:round;stroke:rgb(0%,0%,0%);stroke-opacity:1;stroke-miterlimit:10;\" d=\"M 110.070312 342.378906 L 112.199219 342.378906 L 112.199219 347.46875 L 110.070312 347.46875 Z M 110.070312 342.378906 \"/>\n",
       "<path style=\"fill:none;stroke-width:1;stroke-linecap:round;stroke-linejoin:round;stroke:rgb(0%,0%,0%);stroke-opacity:1;stroke-miterlimit:10;\" d=\"M 112.199219 344.921875 L 114.328125 344.921875 L 114.328125 347.464844 L 112.199219 347.464844 Z M 112.199219 344.921875 \"/>\n",
       "<path style=\"fill:none;stroke-width:1;stroke-linecap:round;stroke-linejoin:round;stroke:rgb(0%,0%,0%);stroke-opacity:1;stroke-miterlimit:10;\" d=\"M 114.328125 344.921875 L 116.457031 344.921875 L 116.457031 347.464844 L 114.328125 347.464844 Z M 114.328125 344.921875 \"/>\n",
       "<path style=\"fill:none;stroke-width:1;stroke-linecap:round;stroke-linejoin:round;stroke:rgb(0%,0%,0%);stroke-opacity:1;stroke-miterlimit:10;\" d=\"M 116.457031 327.113281 L 118.585938 327.113281 L 118.585938 347.46875 L 116.457031 347.46875 Z M 116.457031 327.113281 \"/>\n",
       "<path style=\"fill:none;stroke-width:1;stroke-linecap:round;stroke-linejoin:round;stroke:rgb(0%,0%,0%);stroke-opacity:1;stroke-miterlimit:10;\" d=\"M 118.589844 344.921875 L 120.71875 344.921875 L 120.71875 347.464844 L 118.589844 347.464844 Z M 118.589844 344.921875 \"/>\n",
       "<path style=\"fill:none;stroke-width:1;stroke-linecap:round;stroke-linejoin:round;stroke:rgb(0%,0%,0%);stroke-opacity:1;stroke-miterlimit:10;\" d=\"M 120.71875 344.921875 L 122.847656 344.921875 L 122.847656 347.464844 L 120.71875 347.464844 Z M 120.71875 344.921875 \"/>\n",
       "<path style=\"fill:none;stroke-width:1;stroke-linecap:round;stroke-linejoin:round;stroke:rgb(0%,0%,0%);stroke-opacity:1;stroke-miterlimit:10;\" d=\"M 122.847656 347.464844 L 124.976562 347.464844 Z M 122.847656 347.464844 \"/>\n",
       "<path style=\"fill:none;stroke-width:1;stroke-linecap:round;stroke-linejoin:round;stroke:rgb(0%,0%,0%);stroke-opacity:1;stroke-miterlimit:10;\" d=\"M 124.976562 339.832031 L 127.105469 339.832031 L 127.105469 347.464844 L 124.976562 347.464844 Z M 124.976562 339.832031 \"/>\n",
       "<path style=\"fill:none;stroke-width:1;stroke-linecap:round;stroke-linejoin:round;stroke:rgb(0%,0%,0%);stroke-opacity:1;stroke-miterlimit:10;\" d=\"M 127.105469 339.832031 L 129.234375 339.832031 L 129.234375 347.464844 L 127.105469 347.464844 Z M 127.105469 339.832031 \"/>\n",
       "<path style=\"fill:none;stroke-width:1;stroke-linecap:round;stroke-linejoin:round;stroke:rgb(0%,0%,0%);stroke-opacity:1;stroke-miterlimit:10;\" d=\"M 129.238281 339.832031 L 131.367188 339.832031 L 131.367188 347.464844 L 129.238281 347.464844 Z M 129.238281 339.832031 \"/>\n",
       "<path style=\"fill:none;stroke-width:1;stroke-linecap:round;stroke-linejoin:round;stroke:rgb(0%,0%,0%);stroke-opacity:1;stroke-miterlimit:10;\" d=\"M 131.367188 344.921875 L 133.496094 344.921875 L 133.496094 347.464844 L 131.367188 347.464844 Z M 131.367188 344.921875 \"/>\n",
       "<path style=\"fill:none;stroke-width:1;stroke-linecap:round;stroke-linejoin:round;stroke:rgb(0%,0%,0%);stroke-opacity:1;stroke-miterlimit:10;\" d=\"M 133.496094 344.921875 L 135.625 344.921875 L 135.625 347.464844 L 133.496094 347.464844 Z M 133.496094 344.921875 \"/>\n",
       "<path style=\"fill:none;stroke-width:1;stroke-linecap:round;stroke-linejoin:round;stroke:rgb(0%,0%,0%);stroke-opacity:1;stroke-miterlimit:10;\" d=\"M 135.625 344.921875 L 137.753906 344.921875 L 137.753906 347.464844 L 135.625 347.464844 Z M 135.625 344.921875 \"/>\n",
       "<path style=\"fill:none;stroke-width:1;stroke-linecap:round;stroke-linejoin:round;stroke:rgb(0%,0%,0%);stroke-opacity:1;stroke-miterlimit:10;\" d=\"M 137.753906 339.832031 L 139.882812 339.832031 L 139.882812 347.464844 L 137.753906 347.464844 Z M 137.753906 339.832031 \"/>\n",
       "<path style=\"fill:none;stroke-width:1;stroke-linecap:round;stroke-linejoin:round;stroke:rgb(0%,0%,0%);stroke-opacity:1;stroke-miterlimit:10;\" d=\"M 139.886719 337.289062 L 142.015625 337.289062 L 142.015625 347.464844 L 139.886719 347.464844 Z M 139.886719 337.289062 \"/>\n",
       "<path style=\"fill:none;stroke-width:1;stroke-linecap:round;stroke-linejoin:round;stroke:rgb(0%,0%,0%);stroke-opacity:1;stroke-miterlimit:10;\" d=\"M 142.015625 329.65625 L 144.144531 329.65625 L 144.144531 347.464844 L 142.015625 347.464844 Z M 142.015625 329.65625 \"/>\n",
       "<path style=\"fill:none;stroke-width:1;stroke-linecap:round;stroke-linejoin:round;stroke:rgb(0%,0%,0%);stroke-opacity:1;stroke-miterlimit:10;\" d=\"M 144.144531 319.480469 L 146.273438 319.480469 L 146.273438 347.46875 L 144.144531 347.46875 Z M 144.144531 319.480469 \"/>\n",
       "<path style=\"fill:none;stroke-width:1;stroke-linecap:round;stroke-linejoin:round;stroke:rgb(0%,0%,0%);stroke-opacity:1;stroke-miterlimit:10;\" d=\"M 146.273438 339.832031 L 148.402344 339.832031 L 148.402344 347.464844 L 146.273438 347.464844 Z M 146.273438 339.832031 \"/>\n",
       "<path style=\"fill:none;stroke-width:1;stroke-linecap:round;stroke-linejoin:round;stroke:rgb(0%,0%,0%);stroke-opacity:1;stroke-miterlimit:10;\" d=\"M 148.40625 324.566406 L 150.535156 324.566406 L 150.535156 347.464844 L 148.40625 347.464844 Z M 148.40625 324.566406 \"/>\n",
       "<path style=\"fill:none;stroke-width:1;stroke-linecap:round;stroke-linejoin:round;stroke:rgb(0%,0%,0%);stroke-opacity:1;stroke-miterlimit:10;\" d=\"M 150.535156 332.199219 L 152.664062 332.199219 L 152.664062 347.464844 L 150.535156 347.464844 Z M 150.535156 332.199219 \"/>\n",
       "<path style=\"fill:none;stroke-width:1;stroke-linecap:round;stroke-linejoin:round;stroke:rgb(0%,0%,0%);stroke-opacity:1;stroke-miterlimit:10;\" d=\"M 152.664062 334.746094 L 154.792969 334.746094 L 154.792969 347.46875 L 152.664062 347.46875 Z M 152.664062 334.746094 \"/>\n",
       "<path style=\"fill:none;stroke-width:1;stroke-linecap:round;stroke-linejoin:round;stroke:rgb(0%,0%,0%);stroke-opacity:1;stroke-miterlimit:10;\" d=\"M 154.792969 319.480469 L 156.921875 319.480469 L 156.921875 347.46875 L 154.792969 347.46875 Z M 154.792969 319.480469 \"/>\n",
       "<path style=\"fill:none;stroke-width:1;stroke-linecap:round;stroke-linejoin:round;stroke:rgb(0%,0%,0%);stroke-opacity:1;stroke-miterlimit:10;\" d=\"M 156.921875 324.566406 L 159.050781 324.566406 L 159.050781 347.464844 L 156.921875 347.464844 Z M 156.921875 324.566406 \"/>\n",
       "<path style=\"fill:none;stroke-width:1;stroke-linecap:round;stroke-linejoin:round;stroke:rgb(0%,0%,0%);stroke-opacity:1;stroke-miterlimit:10;\" d=\"M 159.054688 334.746094 L 161.183594 334.746094 L 161.183594 347.46875 L 159.054688 347.46875 Z M 159.054688 334.746094 \"/>\n",
       "<path style=\"fill:none;stroke-width:1;stroke-linecap:round;stroke-linejoin:round;stroke:rgb(0%,0%,0%);stroke-opacity:1;stroke-miterlimit:10;\" d=\"M 161.183594 327.113281 L 163.3125 327.113281 L 163.3125 347.46875 L 161.183594 347.46875 Z M 161.183594 327.113281 \"/>\n",
       "<path style=\"fill:none;stroke-width:1;stroke-linecap:round;stroke-linejoin:round;stroke:rgb(0%,0%,0%);stroke-opacity:1;stroke-miterlimit:10;\" d=\"M 163.3125 327.113281 L 165.441406 327.113281 L 165.441406 347.46875 L 163.3125 347.46875 Z M 163.3125 327.113281 \"/>\n",
       "<path style=\"fill:none;stroke-width:1;stroke-linecap:round;stroke-linejoin:round;stroke:rgb(0%,0%,0%);stroke-opacity:1;stroke-miterlimit:10;\" d=\"M 165.441406 332.199219 L 167.570312 332.199219 L 167.570312 347.464844 L 165.441406 347.464844 Z M 165.441406 332.199219 \"/>\n",
       "<path style=\"fill:none;stroke-width:1;stroke-linecap:round;stroke-linejoin:round;stroke:rgb(0%,0%,0%);stroke-opacity:1;stroke-miterlimit:10;\" d=\"M 167.570312 334.746094 L 169.699219 334.746094 L 169.699219 347.46875 L 167.570312 347.46875 Z M 167.570312 334.746094 \"/>\n",
       "<path style=\"fill:none;stroke-width:1;stroke-linecap:round;stroke-linejoin:round;stroke:rgb(0%,0%,0%);stroke-opacity:1;stroke-miterlimit:10;\" d=\"M 169.703125 337.289062 L 171.832031 337.289062 L 171.832031 347.464844 L 169.703125 347.464844 Z M 169.703125 337.289062 \"/>\n",
       "<path style=\"fill:none;stroke-width:1;stroke-linecap:round;stroke-linejoin:round;stroke:rgb(0%,0%,0%);stroke-opacity:1;stroke-miterlimit:10;\" d=\"M 171.832031 319.480469 L 173.960938 319.480469 L 173.960938 347.46875 L 171.832031 347.46875 Z M 171.832031 319.480469 \"/>\n",
       "<path style=\"fill:none;stroke-width:1;stroke-linecap:round;stroke-linejoin:round;stroke:rgb(0%,0%,0%);stroke-opacity:1;stroke-miterlimit:10;\" d=\"M 173.960938 329.65625 L 176.089844 329.65625 L 176.089844 347.464844 L 173.960938 347.464844 Z M 173.960938 329.65625 \"/>\n",
       "<path style=\"fill:none;stroke-width:1;stroke-linecap:round;stroke-linejoin:round;stroke:rgb(0%,0%,0%);stroke-opacity:1;stroke-miterlimit:10;\" d=\"M 176.089844 327.113281 L 178.21875 327.113281 L 178.21875 347.46875 L 176.089844 347.46875 Z M 176.089844 327.113281 \"/>\n",
       "<path style=\"fill:none;stroke-width:1;stroke-linecap:round;stroke-linejoin:round;stroke:rgb(0%,0%,0%);stroke-opacity:1;stroke-miterlimit:10;\" d=\"M 178.222656 309.300781 L 180.351562 309.300781 L 180.351562 347.464844 L 178.222656 347.464844 Z M 178.222656 309.300781 \"/>\n",
       "<path style=\"fill:none;stroke-width:1;stroke-linecap:round;stroke-linejoin:round;stroke:rgb(0%,0%,0%);stroke-opacity:1;stroke-miterlimit:10;\" d=\"M 180.351562 304.210938 L 182.480469 304.210938 L 182.480469 347.464844 L 180.351562 347.464844 Z M 180.351562 304.210938 \"/>\n",
       "<path style=\"fill:none;stroke-width:1;stroke-linecap:round;stroke-linejoin:round;stroke:rgb(0%,0%,0%);stroke-opacity:1;stroke-miterlimit:10;\" d=\"M 182.480469 316.933594 L 184.609375 316.933594 L 184.609375 347.464844 L 182.480469 347.464844 Z M 182.480469 316.933594 \"/>\n",
       "<path style=\"fill:none;stroke-width:1;stroke-linecap:round;stroke-linejoin:round;stroke:rgb(0%,0%,0%);stroke-opacity:1;stroke-miterlimit:10;\" d=\"M 184.609375 319.480469 L 186.738281 319.480469 L 186.738281 347.46875 L 184.609375 347.46875 Z M 184.609375 319.480469 \"/>\n",
       "<path style=\"fill:none;stroke-width:1;stroke-linecap:round;stroke-linejoin:round;stroke:rgb(0%,0%,0%);stroke-opacity:1;stroke-miterlimit:10;\" d=\"M 186.738281 327.113281 L 188.867188 327.113281 L 188.867188 347.46875 L 186.738281 347.46875 Z M 186.738281 327.113281 \"/>\n",
       "<path style=\"fill:none;stroke-width:1;stroke-linecap:round;stroke-linejoin:round;stroke:rgb(0%,0%,0%);stroke-opacity:1;stroke-miterlimit:10;\" d=\"M 188.871094 324.566406 L 191 324.566406 L 191 347.464844 L 188.871094 347.464844 Z M 188.871094 324.566406 \"/>\n",
       "<path style=\"fill:none;stroke-width:1;stroke-linecap:round;stroke-linejoin:round;stroke:rgb(0%,0%,0%);stroke-opacity:1;stroke-miterlimit:10;\" d=\"M 191 327.113281 L 193.128906 327.113281 L 193.128906 347.46875 L 191 347.46875 Z M 191 327.113281 \"/>\n",
       "<path style=\"fill:none;stroke-width:1;stroke-linecap:round;stroke-linejoin:round;stroke:rgb(0%,0%,0%);stroke-opacity:1;stroke-miterlimit:10;\" d=\"M 193.128906 322.023438 L 195.257812 322.023438 L 195.257812 347.46875 L 193.128906 347.46875 Z M 193.128906 322.023438 \"/>\n",
       "<path style=\"fill:none;stroke-width:1;stroke-linecap:round;stroke-linejoin:round;stroke:rgb(0%,0%,0%);stroke-opacity:1;stroke-miterlimit:10;\" d=\"M 195.257812 291.492188 L 197.386719 291.492188 L 197.386719 347.46875 L 195.257812 347.46875 Z M 195.257812 291.492188 \"/>\n",
       "<path style=\"fill:none;stroke-width:1;stroke-linecap:round;stroke-linejoin:round;stroke:rgb(0%,0%,0%);stroke-opacity:1;stroke-miterlimit:10;\" d=\"M 197.390625 309.300781 L 199.519531 309.300781 L 199.519531 347.464844 L 197.390625 347.464844 Z M 197.390625 309.300781 \"/>\n",
       "<path style=\"fill:none;stroke-width:1;stroke-linecap:round;stroke-linejoin:round;stroke:rgb(0%,0%,0%);stroke-opacity:1;stroke-miterlimit:10;\" d=\"M 199.519531 329.65625 L 201.648438 329.65625 L 201.648438 347.464844 L 199.519531 347.464844 Z M 199.519531 329.65625 \"/>\n",
       "<path style=\"fill:none;stroke-width:1;stroke-linecap:round;stroke-linejoin:round;stroke:rgb(0%,0%,0%);stroke-opacity:1;stroke-miterlimit:10;\" d=\"M 201.648438 314.390625 L 203.777344 314.390625 L 203.777344 347.46875 L 201.648438 347.46875 Z M 201.648438 314.390625 \"/>\n",
       "<path style=\"fill:none;stroke-width:1;stroke-linecap:round;stroke-linejoin:round;stroke:rgb(0%,0%,0%);stroke-opacity:1;stroke-miterlimit:10;\" d=\"M 203.777344 324.566406 L 205.90625 324.566406 L 205.90625 347.464844 L 203.777344 347.464844 Z M 203.777344 324.566406 \"/>\n",
       "<path style=\"fill:none;stroke-width:1;stroke-linecap:round;stroke-linejoin:round;stroke:rgb(0%,0%,0%);stroke-opacity:1;stroke-miterlimit:10;\" d=\"M 205.90625 311.847656 L 208.035156 311.847656 L 208.035156 347.46875 L 205.90625 347.46875 Z M 205.90625 311.847656 \"/>\n",
       "<path style=\"fill:none;stroke-width:1;stroke-linecap:round;stroke-linejoin:round;stroke:rgb(0%,0%,0%);stroke-opacity:1;stroke-miterlimit:10;\" d=\"M 208.039062 314.390625 L 210.167969 314.390625 L 210.167969 347.46875 L 208.039062 347.46875 Z M 208.039062 314.390625 \"/>\n",
       "<path style=\"fill:none;stroke-width:1;stroke-linecap:round;stroke-linejoin:round;stroke:rgb(0%,0%,0%);stroke-opacity:1;stroke-miterlimit:10;\" d=\"M 210.167969 311.847656 L 212.296875 311.847656 L 212.296875 347.46875 L 210.167969 347.46875 Z M 210.167969 311.847656 \"/>\n",
       "<path style=\"fill:none;stroke-width:1;stroke-linecap:round;stroke-linejoin:round;stroke:rgb(0%,0%,0%);stroke-opacity:1;stroke-miterlimit:10;\" d=\"M 212.296875 314.390625 L 214.425781 314.390625 L 214.425781 347.46875 L 212.296875 347.46875 Z M 212.296875 314.390625 \"/>\n",
       "<path style=\"fill:none;stroke-width:1;stroke-linecap:round;stroke-linejoin:round;stroke:rgb(0%,0%,0%);stroke-opacity:1;stroke-miterlimit:10;\" d=\"M 214.425781 319.480469 L 216.554688 319.480469 L 216.554688 347.46875 L 214.425781 347.46875 Z M 214.425781 319.480469 \"/>\n",
       "<path style=\"fill:none;stroke-width:1;stroke-linecap:round;stroke-linejoin:round;stroke:rgb(0%,0%,0%);stroke-opacity:1;stroke-miterlimit:10;\" d=\"M 216.554688 314.390625 L 218.683594 314.390625 L 218.683594 347.46875 L 216.554688 347.46875 Z M 216.554688 314.390625 \"/>\n",
       "<path style=\"fill:none;stroke-width:1;stroke-linecap:round;stroke-linejoin:round;stroke:rgb(0%,0%,0%);stroke-opacity:1;stroke-miterlimit:10;\" d=\"M 218.6875 296.578125 L 220.816406 296.578125 L 220.816406 347.464844 L 218.6875 347.464844 Z M 218.6875 296.578125 \"/>\n",
       "<path style=\"fill:none;stroke-width:1;stroke-linecap:round;stroke-linejoin:round;stroke:rgb(0%,0%,0%);stroke-opacity:1;stroke-miterlimit:10;\" d=\"M 220.816406 314.390625 L 222.945312 314.390625 L 222.945312 347.46875 L 220.816406 347.46875 Z M 220.816406 314.390625 \"/>\n",
       "<path style=\"fill:none;stroke-width:1;stroke-linecap:round;stroke-linejoin:round;stroke:rgb(0%,0%,0%);stroke-opacity:1;stroke-miterlimit:10;\" d=\"M 222.945312 316.933594 L 225.074219 316.933594 L 225.074219 347.464844 L 222.945312 347.464844 Z M 222.945312 316.933594 \"/>\n",
       "<path style=\"fill:none;stroke-width:1;stroke-linecap:round;stroke-linejoin:round;stroke:rgb(0%,0%,0%);stroke-opacity:1;stroke-miterlimit:10;\" d=\"M 225.074219 314.390625 L 227.203125 314.390625 L 227.203125 347.46875 L 225.074219 347.46875 Z M 225.074219 314.390625 \"/>\n",
       "<path style=\"fill:none;stroke-width:1;stroke-linecap:round;stroke-linejoin:round;stroke:rgb(0%,0%,0%);stroke-opacity:1;stroke-miterlimit:10;\" d=\"M 227.207031 309.300781 L 229.335938 309.300781 L 229.335938 347.464844 L 227.207031 347.464844 Z M 227.207031 309.300781 \"/>\n",
       "<path style=\"fill:none;stroke-width:1;stroke-linecap:round;stroke-linejoin:round;stroke:rgb(0%,0%,0%);stroke-opacity:1;stroke-miterlimit:10;\" d=\"M 229.335938 294.035156 L 231.464844 294.035156 L 231.464844 347.464844 L 229.335938 347.464844 Z M 229.335938 294.035156 \"/>\n",
       "<path style=\"fill:none;stroke-width:1;stroke-linecap:round;stroke-linejoin:round;stroke:rgb(0%,0%,0%);stroke-opacity:1;stroke-miterlimit:10;\" d=\"M 231.464844 324.566406 L 233.59375 324.566406 L 233.59375 347.464844 L 231.464844 347.464844 Z M 231.464844 324.566406 \"/>\n",
       "<path style=\"fill:none;stroke-width:1;stroke-linecap:round;stroke-linejoin:round;stroke:rgb(0%,0%,0%);stroke-opacity:1;stroke-miterlimit:10;\" d=\"M 233.59375 301.667969 L 235.722656 301.667969 L 235.722656 347.464844 L 233.59375 347.464844 Z M 233.59375 301.667969 \"/>\n",
       "<path style=\"fill:none;stroke-width:1;stroke-linecap:round;stroke-linejoin:round;stroke:rgb(0%,0%,0%);stroke-opacity:1;stroke-miterlimit:10;\" d=\"M 235.722656 314.390625 L 237.851562 314.390625 L 237.851562 347.46875 L 235.722656 347.46875 Z M 235.722656 314.390625 \"/>\n",
       "<path style=\"fill:none;stroke-width:1;stroke-linecap:round;stroke-linejoin:round;stroke:rgb(0%,0%,0%);stroke-opacity:1;stroke-miterlimit:10;\" d=\"M 237.855469 304.210938 L 239.984375 304.210938 L 239.984375 347.464844 L 237.855469 347.464844 Z M 237.855469 304.210938 \"/>\n",
       "<path style=\"fill:none;stroke-width:1;stroke-linecap:round;stroke-linejoin:round;stroke:rgb(0%,0%,0%);stroke-opacity:1;stroke-miterlimit:10;\" d=\"M 239.984375 309.300781 L 242.113281 309.300781 L 242.113281 347.464844 L 239.984375 347.464844 Z M 239.984375 309.300781 \"/>\n",
       "<path style=\"fill:none;stroke-width:1;stroke-linecap:round;stroke-linejoin:round;stroke:rgb(0%,0%,0%);stroke-opacity:1;stroke-miterlimit:10;\" d=\"M 242.113281 314.390625 L 244.242188 314.390625 L 244.242188 347.46875 L 242.113281 347.46875 Z M 242.113281 314.390625 \"/>\n",
       "<path style=\"fill:none;stroke-width:1;stroke-linecap:round;stroke-linejoin:round;stroke:rgb(0%,0%,0%);stroke-opacity:1;stroke-miterlimit:10;\" d=\"M 244.242188 316.933594 L 246.371094 316.933594 L 246.371094 347.464844 L 244.242188 347.464844 Z M 244.242188 316.933594 \"/>\n",
       "<path style=\"fill:none;stroke-width:1;stroke-linecap:round;stroke-linejoin:round;stroke:rgb(0%,0%,0%);stroke-opacity:1;stroke-miterlimit:10;\" d=\"M 246.375 263.503906 L 248.503906 263.503906 L 248.503906 347.46875 L 246.375 347.46875 Z M 246.375 263.503906 \"/>\n",
       "<path style=\"fill:none;stroke-width:1;stroke-linecap:round;stroke-linejoin:round;stroke:rgb(0%,0%,0%);stroke-opacity:1;stroke-miterlimit:10;\" d=\"M 248.503906 286.402344 L 250.632812 286.402344 L 250.632812 347.464844 L 248.503906 347.464844 Z M 248.503906 286.402344 \"/>\n",
       "<path style=\"fill:none;stroke-width:1;stroke-linecap:round;stroke-linejoin:round;stroke:rgb(0%,0%,0%);stroke-opacity:1;stroke-miterlimit:10;\" d=\"M 250.632812 301.667969 L 252.761719 301.667969 L 252.761719 347.464844 L 250.632812 347.464844 Z M 250.632812 301.667969 \"/>\n",
       "<path style=\"fill:none;stroke-width:1;stroke-linecap:round;stroke-linejoin:round;stroke:rgb(0%,0%,0%);stroke-opacity:1;stroke-miterlimit:10;\" d=\"M 252.761719 316.933594 L 254.890625 316.933594 L 254.890625 347.464844 L 252.761719 347.464844 Z M 252.761719 316.933594 \"/>\n",
       "<path style=\"fill:none;stroke-width:1;stroke-linecap:round;stroke-linejoin:round;stroke:rgb(0%,0%,0%);stroke-opacity:1;stroke-miterlimit:10;\" d=\"M 254.890625 301.667969 L 257.019531 301.667969 L 257.019531 347.464844 L 254.890625 347.464844 Z M 254.890625 301.667969 \"/>\n",
       "<path style=\"fill:none;stroke-width:1;stroke-linecap:round;stroke-linejoin:round;stroke:rgb(0%,0%,0%);stroke-opacity:1;stroke-miterlimit:10;\" d=\"M 257.023438 301.667969 L 259.152344 301.667969 L 259.152344 347.464844 L 257.023438 347.464844 Z M 257.023438 301.667969 \"/>\n",
       "<path style=\"fill:none;stroke-width:1;stroke-linecap:round;stroke-linejoin:round;stroke:rgb(0%,0%,0%);stroke-opacity:1;stroke-miterlimit:10;\" d=\"M 259.152344 316.933594 L 261.28125 316.933594 L 261.28125 347.464844 L 259.152344 347.464844 Z M 259.152344 316.933594 \"/>\n",
       "<path style=\"fill:none;stroke-width:1;stroke-linecap:round;stroke-linejoin:round;stroke:rgb(0%,0%,0%);stroke-opacity:1;stroke-miterlimit:10;\" d=\"M 261.28125 299.125 L 263.410156 299.125 L 263.410156 347.46875 L 261.28125 347.46875 Z M 261.28125 299.125 \"/>\n",
       "<path style=\"fill:none;stroke-width:1;stroke-linecap:round;stroke-linejoin:round;stroke:rgb(0%,0%,0%);stroke-opacity:1;stroke-miterlimit:10;\" d=\"M 263.410156 283.859375 L 265.539062 283.859375 L 265.539062 347.46875 L 263.410156 347.46875 Z M 263.410156 283.859375 \"/>\n",
       "<path style=\"fill:none;stroke-width:1;stroke-linecap:round;stroke-linejoin:round;stroke:rgb(0%,0%,0%);stroke-opacity:1;stroke-miterlimit:10;\" d=\"M 265.539062 276.226562 L 267.667969 276.226562 L 267.667969 347.46875 L 265.539062 347.46875 Z M 265.539062 276.226562 \"/>\n",
       "<path style=\"fill:none;stroke-width:1;stroke-linecap:round;stroke-linejoin:round;stroke:rgb(0%,0%,0%);stroke-opacity:1;stroke-miterlimit:10;\" d=\"M 267.671875 286.402344 L 269.800781 286.402344 L 269.800781 347.464844 L 267.671875 347.464844 Z M 267.671875 286.402344 \"/>\n",
       "<path style=\"fill:none;stroke-width:1;stroke-linecap:round;stroke-linejoin:round;stroke:rgb(0%,0%,0%);stroke-opacity:1;stroke-miterlimit:10;\" d=\"M 269.800781 278.769531 L 271.929688 278.769531 L 271.929688 347.464844 L 269.800781 347.464844 Z M 269.800781 278.769531 \"/>\n",
       "<path style=\"fill:none;stroke-width:1;stroke-linecap:round;stroke-linejoin:round;stroke:rgb(0%,0%,0%);stroke-opacity:1;stroke-miterlimit:10;\" d=\"M 271.929688 306.757812 L 274.058594 306.757812 L 274.058594 347.46875 L 271.929688 347.46875 Z M 271.929688 306.757812 \"/>\n",
       "<path style=\"fill:none;stroke-width:1;stroke-linecap:round;stroke-linejoin:round;stroke:rgb(0%,0%,0%);stroke-opacity:1;stroke-miterlimit:10;\" d=\"M 274.058594 232.972656 L 276.1875 232.972656 L 276.1875 347.46875 L 274.058594 347.46875 Z M 274.058594 232.972656 \"/>\n",
       "<path style=\"fill:none;stroke-width:1;stroke-linecap:round;stroke-linejoin:round;stroke:rgb(0%,0%,0%);stroke-opacity:1;stroke-miterlimit:10;\" d=\"M 276.191406 286.402344 L 278.320312 286.402344 L 278.320312 347.464844 L 276.191406 347.464844 Z M 276.191406 286.402344 \"/>\n",
       "<path style=\"fill:none;stroke-width:1;stroke-linecap:round;stroke-linejoin:round;stroke:rgb(0%,0%,0%);stroke-opacity:1;stroke-miterlimit:10;\" d=\"M 278.320312 281.3125 L 280.449219 281.3125 L 280.449219 347.464844 L 278.320312 347.464844 Z M 278.320312 281.3125 \"/>\n",
       "<path style=\"fill:none;stroke-width:1;stroke-linecap:round;stroke-linejoin:round;stroke:rgb(0%,0%,0%);stroke-opacity:1;stroke-miterlimit:10;\" d=\"M 280.449219 294.035156 L 282.578125 294.035156 L 282.578125 347.464844 L 280.449219 347.464844 Z M 280.449219 294.035156 \"/>\n",
       "<path style=\"fill:none;stroke-width:1;stroke-linecap:round;stroke-linejoin:round;stroke:rgb(0%,0%,0%);stroke-opacity:1;stroke-miterlimit:10;\" d=\"M 282.578125 273.679688 L 284.707031 273.679688 L 284.707031 347.464844 L 282.578125 347.464844 Z M 282.578125 273.679688 \"/>\n",
       "<path style=\"fill:none;stroke-width:1;stroke-linecap:round;stroke-linejoin:round;stroke:rgb(0%,0%,0%);stroke-opacity:1;stroke-miterlimit:10;\" d=\"M 284.707031 253.324219 L 286.835938 253.324219 L 286.835938 347.464844 L 284.707031 347.464844 Z M 284.707031 253.324219 \"/>\n",
       "<path style=\"fill:none;stroke-width:1;stroke-linecap:round;stroke-linejoin:round;stroke:rgb(0%,0%,0%);stroke-opacity:1;stroke-miterlimit:10;\" d=\"M 286.839844 283.859375 L 288.96875 283.859375 L 288.96875 347.46875 L 286.839844 347.46875 Z M 286.839844 283.859375 \"/>\n",
       "<path style=\"fill:none;stroke-width:1;stroke-linecap:round;stroke-linejoin:round;stroke:rgb(0%,0%,0%);stroke-opacity:1;stroke-miterlimit:10;\" d=\"M 288.96875 278.769531 L 291.097656 278.769531 L 291.097656 347.464844 L 288.96875 347.464844 Z M 288.96875 278.769531 \"/>\n",
       "<path style=\"fill:none;stroke-width:1;stroke-linecap:round;stroke-linejoin:round;stroke:rgb(0%,0%,0%);stroke-opacity:1;stroke-miterlimit:10;\" d=\"M 291.097656 266.046875 L 293.226562 266.046875 L 293.226562 347.464844 L 291.097656 347.464844 Z M 291.097656 266.046875 \"/>\n",
       "<path style=\"fill:none;stroke-width:1;stroke-linecap:round;stroke-linejoin:round;stroke:rgb(0%,0%,0%);stroke-opacity:1;stroke-miterlimit:10;\" d=\"M 293.226562 260.960938 L 295.355469 260.960938 L 295.355469 347.46875 L 293.226562 347.46875 Z M 293.226562 260.960938 \"/>\n",
       "<path style=\"fill:none;stroke-width:1;stroke-linecap:round;stroke-linejoin:round;stroke:rgb(0%,0%,0%);stroke-opacity:1;stroke-miterlimit:10;\" d=\"M 295.359375 263.503906 L 297.488281 263.503906 L 297.488281 347.46875 L 295.359375 347.46875 Z M 295.359375 263.503906 \"/>\n",
       "<path style=\"fill:none;stroke-width:1;stroke-linecap:round;stroke-linejoin:round;stroke:rgb(0%,0%,0%);stroke-opacity:1;stroke-miterlimit:10;\" d=\"M 297.488281 245.691406 L 299.617188 245.691406 L 299.617188 347.464844 L 297.488281 347.464844 Z M 297.488281 245.691406 \"/>\n",
       "<path style=\"fill:none;stroke-width:1;stroke-linecap:round;stroke-linejoin:round;stroke:rgb(0%,0%,0%);stroke-opacity:1;stroke-miterlimit:10;\" d=\"M 299.617188 245.691406 L 301.746094 245.691406 L 301.746094 347.464844 L 299.617188 347.464844 Z M 299.617188 245.691406 \"/>\n",
       "<path style=\"fill:none;stroke-width:1;stroke-linecap:round;stroke-linejoin:round;stroke:rgb(0%,0%,0%);stroke-opacity:1;stroke-miterlimit:10;\" d=\"M 301.746094 283.859375 L 303.875 283.859375 L 303.875 347.46875 L 301.746094 347.46875 Z M 301.746094 283.859375 \"/>\n",
       "<path style=\"fill:none;stroke-width:1;stroke-linecap:round;stroke-linejoin:round;stroke:rgb(0%,0%,0%);stroke-opacity:1;stroke-miterlimit:10;\" d=\"M 303.875 266.046875 L 306.003906 266.046875 L 306.003906 347.464844 L 303.875 347.464844 Z M 303.875 266.046875 \"/>\n",
       "<path style=\"fill:none;stroke-width:1;stroke-linecap:round;stroke-linejoin:round;stroke:rgb(0%,0%,0%);stroke-opacity:1;stroke-miterlimit:10;\" d=\"M 306.007812 260.960938 L 308.136719 260.960938 L 308.136719 347.46875 L 306.007812 347.46875 Z M 306.007812 260.960938 \"/>\n",
       "<path style=\"fill:none;stroke-width:1;stroke-linecap:round;stroke-linejoin:round;stroke:rgb(0%,0%,0%);stroke-opacity:1;stroke-miterlimit:10;\" d=\"M 308.136719 227.882812 L 310.265625 227.882812 L 310.265625 347.46875 L 308.136719 347.46875 Z M 308.136719 227.882812 \"/>\n",
       "<path style=\"fill:none;stroke-width:1;stroke-linecap:round;stroke-linejoin:round;stroke:rgb(0%,0%,0%);stroke-opacity:1;stroke-miterlimit:10;\" d=\"M 310.265625 273.679688 L 312.394531 273.679688 L 312.394531 347.464844 L 310.265625 347.464844 Z M 310.265625 273.679688 \"/>\n",
       "<path style=\"fill:none;stroke-width:1;stroke-linecap:round;stroke-linejoin:round;stroke:rgb(0%,0%,0%);stroke-opacity:1;stroke-miterlimit:10;\" d=\"M 312.394531 238.058594 L 314.523438 238.058594 L 314.523438 347.464844 L 312.394531 347.464844 Z M 312.394531 238.058594 \"/>\n",
       "<path style=\"fill:none;stroke-width:1;stroke-linecap:round;stroke-linejoin:round;stroke:rgb(0%,0%,0%);stroke-opacity:1;stroke-miterlimit:10;\" d=\"M 314.523438 232.972656 L 316.652344 232.972656 L 316.652344 347.46875 L 314.523438 347.46875 Z M 314.523438 232.972656 \"/>\n",
       "<path style=\"fill:none;stroke-width:1;stroke-linecap:round;stroke-linejoin:round;stroke:rgb(0%,0%,0%);stroke-opacity:1;stroke-miterlimit:10;\" d=\"M 316.65625 230.425781 L 318.785156 230.425781 L 318.785156 347.464844 L 316.65625 347.464844 Z M 316.65625 230.425781 \"/>\n",
       "<path style=\"fill:none;stroke-width:1;stroke-linecap:round;stroke-linejoin:round;stroke:rgb(0%,0%,0%);stroke-opacity:1;stroke-miterlimit:10;\" d=\"M 318.785156 238.058594 L 320.914062 238.058594 L 320.914062 347.464844 L 318.785156 347.464844 Z M 318.785156 238.058594 \"/>\n",
       "<path style=\"fill:none;stroke-width:1;stroke-linecap:round;stroke-linejoin:round;stroke:rgb(0%,0%,0%);stroke-opacity:1;stroke-miterlimit:10;\" d=\"M 320.914062 240.605469 L 323.042969 240.605469 L 323.042969 347.46875 L 320.914062 347.46875 Z M 320.914062 240.605469 \"/>\n",
       "<path style=\"fill:none;stroke-width:1;stroke-linecap:round;stroke-linejoin:round;stroke:rgb(0%,0%,0%);stroke-opacity:1;stroke-miterlimit:10;\" d=\"M 323.042969 240.605469 L 325.171875 240.605469 L 325.171875 347.46875 L 323.042969 347.46875 Z M 323.042969 240.605469 \"/>\n",
       "<path style=\"fill:none;stroke-width:1;stroke-linecap:round;stroke-linejoin:round;stroke:rgb(0%,0%,0%);stroke-opacity:1;stroke-miterlimit:10;\" d=\"M 325.175781 235.515625 L 327.304688 235.515625 L 327.304688 347.464844 L 325.175781 347.464844 Z M 325.175781 235.515625 \"/>\n",
       "<path style=\"fill:none;stroke-width:1;stroke-linecap:round;stroke-linejoin:round;stroke:rgb(0%,0%,0%);stroke-opacity:1;stroke-miterlimit:10;\" d=\"M 327.304688 238.058594 L 329.433594 238.058594 L 329.433594 347.464844 L 327.304688 347.464844 Z M 327.304688 238.058594 \"/>\n",
       "<path style=\"fill:none;stroke-width:1;stroke-linecap:round;stroke-linejoin:round;stroke:rgb(0%,0%,0%);stroke-opacity:1;stroke-miterlimit:10;\" d=\"M 329.433594 253.324219 L 331.5625 253.324219 L 331.5625 347.464844 L 329.433594 347.464844 Z M 329.433594 253.324219 \"/>\n",
       "<path style=\"fill:none;stroke-width:1;stroke-linecap:round;stroke-linejoin:round;stroke:rgb(0%,0%,0%);stroke-opacity:1;stroke-miterlimit:10;\" d=\"M 331.5625 215.160156 L 333.691406 215.160156 L 333.691406 347.464844 L 331.5625 347.464844 Z M 331.5625 215.160156 \"/>\n",
       "<path style=\"fill:none;stroke-width:1;stroke-linecap:round;stroke-linejoin:round;stroke:rgb(0%,0%,0%);stroke-opacity:1;stroke-miterlimit:10;\" d=\"M 333.691406 202.4375 L 335.820312 202.4375 L 335.820312 347.464844 L 333.691406 347.464844 Z M 333.691406 202.4375 \"/>\n",
       "<path style=\"fill:none;stroke-width:1;stroke-linecap:round;stroke-linejoin:round;stroke:rgb(0%,0%,0%);stroke-opacity:1;stroke-miterlimit:10;\" d=\"M 335.824219 202.4375 L 337.953125 202.4375 L 337.953125 347.464844 L 335.824219 347.464844 Z M 335.824219 202.4375 \"/>\n",
       "<path style=\"fill:none;stroke-width:1;stroke-linecap:round;stroke-linejoin:round;stroke:rgb(0%,0%,0%);stroke-opacity:1;stroke-miterlimit:10;\" d=\"M 337.953125 245.691406 L 340.082031 245.691406 L 340.082031 347.464844 L 337.953125 347.464844 Z M 337.953125 245.691406 \"/>\n",
       "<path style=\"fill:none;stroke-width:1;stroke-linecap:round;stroke-linejoin:round;stroke:rgb(0%,0%,0%);stroke-opacity:1;stroke-miterlimit:10;\" d=\"M 340.082031 222.792969 L 342.210938 222.792969 L 342.210938 347.464844 L 340.082031 347.464844 Z M 340.082031 222.792969 \"/>\n",
       "<path style=\"fill:none;stroke-width:1;stroke-linecap:round;stroke-linejoin:round;stroke:rgb(0%,0%,0%);stroke-opacity:1;stroke-miterlimit:10;\" d=\"M 342.210938 169.363281 L 344.339844 169.363281 L 344.339844 347.46875 L 342.210938 347.46875 Z M 342.210938 169.363281 \"/>\n",
       "<path style=\"fill:none;stroke-width:1;stroke-linecap:round;stroke-linejoin:round;stroke:rgb(0%,0%,0%);stroke-opacity:1;stroke-miterlimit:10;\" d=\"M 344.34375 197.351562 L 346.472656 197.351562 L 346.472656 347.46875 L 344.34375 347.46875 Z M 344.34375 197.351562 \"/>\n",
       "<path style=\"fill:none;stroke-width:1;stroke-linecap:round;stroke-linejoin:round;stroke:rgb(0%,0%,0%);stroke-opacity:1;stroke-miterlimit:10;\" d=\"M 346.472656 225.339844 L 348.601562 225.339844 L 348.601562 347.46875 L 346.472656 347.46875 Z M 346.472656 225.339844 \"/>\n",
       "<path style=\"fill:none;stroke-width:1;stroke-linecap:round;stroke-linejoin:round;stroke:rgb(0%,0%,0%);stroke-opacity:1;stroke-miterlimit:10;\" d=\"M 348.601562 159.183594 L 350.730469 159.183594 L 350.730469 347.464844 L 348.601562 347.464844 Z M 348.601562 159.183594 \"/>\n",
       "<path style=\"fill:none;stroke-width:1;stroke-linecap:round;stroke-linejoin:round;stroke:rgb(0%,0%,0%);stroke-opacity:1;stroke-miterlimit:10;\" d=\"M 350.730469 212.617188 L 352.859375 212.617188 L 352.859375 347.46875 L 350.730469 347.46875 Z M 350.730469 212.617188 \"/>\n",
       "<path style=\"fill:none;stroke-width:1;stroke-linecap:round;stroke-linejoin:round;stroke:rgb(0%,0%,0%);stroke-opacity:1;stroke-miterlimit:10;\" d=\"M 352.859375 189.71875 L 354.988281 189.71875 L 354.988281 347.46875 L 352.859375 347.46875 Z M 352.859375 189.71875 \"/>\n",
       "<path style=\"fill:none;stroke-width:1;stroke-linecap:round;stroke-linejoin:round;stroke:rgb(0%,0%,0%);stroke-opacity:1;stroke-miterlimit:10;\" d=\"M 354.992188 202.4375 L 357.121094 202.4375 L 357.121094 347.464844 L 354.992188 347.464844 Z M 354.992188 202.4375 \"/>\n",
       "<path style=\"fill:none;stroke-width:1;stroke-linecap:round;stroke-linejoin:round;stroke:rgb(0%,0%,0%);stroke-opacity:1;stroke-miterlimit:10;\" d=\"M 357.121094 204.984375 L 359.25 204.984375 L 359.25 347.46875 L 357.121094 347.46875 Z M 357.121094 204.984375 \"/>\n",
       "<path style=\"fill:none;stroke-width:1;stroke-linecap:round;stroke-linejoin:round;stroke:rgb(0%,0%,0%);stroke-opacity:1;stroke-miterlimit:10;\" d=\"M 359.25 210.070312 L 361.378906 210.070312 L 361.378906 347.464844 L 359.25 347.464844 Z M 359.25 210.070312 \"/>\n",
       "<path style=\"fill:none;stroke-width:1;stroke-linecap:round;stroke-linejoin:round;stroke:rgb(0%,0%,0%);stroke-opacity:1;stroke-miterlimit:10;\" d=\"M 361.378906 184.628906 L 363.507812 184.628906 L 363.507812 347.46875 L 361.378906 347.46875 Z M 361.378906 184.628906 \"/>\n",
       "<path style=\"fill:none;stroke-width:1;stroke-linecap:round;stroke-linejoin:round;stroke:rgb(0%,0%,0%);stroke-opacity:1;stroke-miterlimit:10;\" d=\"M 363.507812 199.894531 L 365.636719 199.894531 L 365.636719 347.464844 L 363.507812 347.464844 Z M 363.507812 199.894531 \"/>\n",
       "<path style=\"fill:none;stroke-width:1;stroke-linecap:round;stroke-linejoin:round;stroke:rgb(0%,0%,0%);stroke-opacity:1;stroke-miterlimit:10;\" d=\"M 365.640625 138.832031 L 367.769531 138.832031 L 367.769531 347.46875 L 365.640625 347.46875 Z M 365.640625 138.832031 \"/>\n",
       "<path style=\"fill:none;stroke-width:1;stroke-linecap:round;stroke-linejoin:round;stroke:rgb(0%,0%,0%);stroke-opacity:1;stroke-miterlimit:10;\" d=\"M 367.769531 199.894531 L 369.898438 199.894531 L 369.898438 347.464844 L 367.769531 347.464844 Z M 367.769531 199.894531 \"/>\n",
       "<path style=\"fill:none;stroke-width:1;stroke-linecap:round;stroke-linejoin:round;stroke:rgb(0%,0%,0%);stroke-opacity:1;stroke-miterlimit:10;\" d=\"M 369.898438 174.453125 L 372.027344 174.453125 L 372.027344 347.46875 L 369.898438 347.46875 Z M 369.898438 174.453125 \"/>\n",
       "<path style=\"fill:none;stroke-width:1;stroke-linecap:round;stroke-linejoin:round;stroke:rgb(0%,0%,0%);stroke-opacity:1;stroke-miterlimit:10;\" d=\"M 372.027344 207.527344 L 374.15625 207.527344 L 374.15625 347.464844 L 372.027344 347.464844 Z M 372.027344 207.527344 \"/>\n",
       "<path style=\"fill:none;stroke-width:1;stroke-linecap:round;stroke-linejoin:round;stroke:rgb(0%,0%,0%);stroke-opacity:1;stroke-miterlimit:10;\" d=\"M 374.160156 166.816406 L 376.289062 166.816406 L 376.289062 347.464844 L 374.160156 347.464844 Z M 374.160156 166.816406 \"/>\n",
       "<path style=\"fill:none;stroke-width:1;stroke-linecap:round;stroke-linejoin:round;stroke:rgb(0%,0%,0%);stroke-opacity:1;stroke-miterlimit:10;\" d=\"M 376.289062 179.539062 L 378.417969 179.539062 L 378.417969 347.464844 L 376.289062 347.464844 Z M 376.289062 179.539062 \"/>\n",
       "<path style=\"fill:none;stroke-width:1;stroke-linecap:round;stroke-linejoin:round;stroke:rgb(0%,0%,0%);stroke-opacity:1;stroke-miterlimit:10;\" d=\"M 378.417969 169.363281 L 380.546875 169.363281 L 380.546875 347.46875 L 378.417969 347.46875 Z M 378.417969 169.363281 \"/>\n",
       "<path style=\"fill:none;stroke-width:1;stroke-linecap:round;stroke-linejoin:round;stroke:rgb(0%,0%,0%);stroke-opacity:1;stroke-miterlimit:10;\" d=\"M 380.546875 118.476562 L 382.675781 118.476562 L 382.675781 347.46875 L 380.546875 347.46875 Z M 380.546875 118.476562 \"/>\n",
       "<path style=\"fill:none;stroke-width:1;stroke-linecap:round;stroke-linejoin:round;stroke:rgb(0%,0%,0%);stroke-opacity:1;stroke-miterlimit:10;\" d=\"M 382.675781 151.550781 L 384.804688 151.550781 L 384.804688 347.464844 L 382.675781 347.464844 Z M 382.675781 151.550781 \"/>\n",
       "<path style=\"fill:none;stroke-width:1;stroke-linecap:round;stroke-linejoin:round;stroke:rgb(0%,0%,0%);stroke-opacity:1;stroke-miterlimit:10;\" d=\"M 384.808594 192.261719 L 386.9375 192.261719 L 386.9375 347.464844 L 384.808594 347.464844 Z M 384.808594 192.261719 \"/>\n",
       "<path style=\"fill:none;stroke-width:1;stroke-linecap:round;stroke-linejoin:round;stroke:rgb(0%,0%,0%);stroke-opacity:1;stroke-miterlimit:10;\" d=\"M 386.9375 332.199219 L 389.066406 332.199219 L 389.066406 347.464844 L 386.9375 347.464844 Z M 386.9375 332.199219 \"/>\n",
       "<path style=\"fill:none;stroke-width:3;stroke-linecap:round;stroke-linejoin:round;stroke:rgb(100%,0%,0%);stroke-opacity:1;stroke-miterlimit:10;\" d=\"M 71.945312 350.011719 L 71.945312 347.464844 \"/>\n",
       "<path style=\"fill:none;stroke-width:3;stroke-linecap:round;stroke-linejoin:round;stroke:rgb(100%,0%,0%);stroke-opacity:1;stroke-miterlimit:10;\" d=\"M 321.261719 350.011719 L 321.261719 347.464844 \"/>\n",
       "<path style=\"fill:none;stroke-width:3;stroke-linecap:round;stroke-linejoin:round;stroke:rgb(100%,0%,0%);stroke-opacity:1;stroke-miterlimit:10;\" d=\"M 357.984375 350.011719 L 357.984375 347.464844 \"/>\n",
       "<path style=\"fill:none;stroke-width:3;stroke-linecap:round;stroke-linejoin:round;stroke:rgb(100%,0%,0%);stroke-opacity:1;stroke-miterlimit:10;\" d=\"M 364.742188 350.011719 L 364.742188 347.464844 \"/>\n",
       "<path style=\"fill:none;stroke-width:3;stroke-linecap:round;stroke-linejoin:round;stroke:rgb(100%,0%,0%);stroke-opacity:1;stroke-miterlimit:10;\" d=\"M 378.75 350.011719 L 378.75 347.464844 \"/>\n",
       "<path style=\"fill:none;stroke-width:3;stroke-linecap:round;stroke-linejoin:round;stroke:rgb(100%,0%,0%);stroke-opacity:1;stroke-miterlimit:10;\" d=\"M 380.996094 350.011719 L 380.996094 347.464844 \"/>\n",
       "<path style=\"fill:none;stroke-width:3;stroke-linecap:round;stroke-linejoin:round;stroke:rgb(100%,0%,0%);stroke-opacity:1;stroke-miterlimit:10;\" d=\"M 382.648438 350.011719 L 382.648438 347.464844 \"/>\n",
       "<path style=\"fill:none;stroke-width:3;stroke-linecap:round;stroke-linejoin:round;stroke:rgb(100%,0%,0%);stroke-opacity:1;stroke-miterlimit:10;\" d=\"M 384.515625 350.011719 L 384.515625 347.464844 \"/>\n",
       "<path style=\"fill:none;stroke-width:3;stroke-linecap:round;stroke-linejoin:round;stroke:rgb(100%,0%,0%);stroke-opacity:1;stroke-miterlimit:10;\" d=\"M 384.84375 350.011719 L 384.84375 347.464844 \"/>\n",
       "<path style=\"fill:none;stroke-width:3;stroke-linecap:round;stroke-linejoin:round;stroke:rgb(100%,0%,0%);stroke-opacity:1;stroke-miterlimit:10;\" d=\"M 384.984375 350.011719 L 384.984375 347.464844 \"/>\n",
       "<path style=\"fill:none;stroke-width:3;stroke-linecap:round;stroke-linejoin:round;stroke:rgb(100%,0%,0%);stroke-opacity:1;stroke-miterlimit:10;\" d=\"M 385.328125 350.011719 L 385.328125 347.464844 \"/>\n",
       "<path style=\"fill:none;stroke-width:3;stroke-linecap:round;stroke-linejoin:round;stroke:rgb(100%,0%,0%);stroke-opacity:1;stroke-miterlimit:10;\" d=\"M 385.539062 350.011719 L 385.539062 347.464844 \"/>\n",
       "<path style=\"fill:none;stroke-width:3;stroke-linecap:round;stroke-linejoin:round;stroke:rgb(100%,0%,0%);stroke-opacity:1;stroke-miterlimit:10;\" d=\"M 385.832031 350.011719 L 385.832031 347.464844 \"/>\n",
       "<path style=\"fill:none;stroke-width:3;stroke-linecap:round;stroke-linejoin:round;stroke:rgb(100%,0%,0%);stroke-opacity:1;stroke-miterlimit:10;\" d=\"M 386.09375 350.011719 L 386.09375 347.464844 \"/>\n",
       "<path style=\"fill:none;stroke-width:3;stroke-linecap:round;stroke-linejoin:round;stroke:rgb(100%,0%,0%);stroke-opacity:1;stroke-miterlimit:10;\" d=\"M 386.371094 350.011719 L 386.371094 347.464844 \"/>\n",
       "<path style=\"fill:none;stroke-width:3;stroke-linecap:round;stroke-linejoin:round;stroke:rgb(100%,0%,0%);stroke-opacity:1;stroke-miterlimit:10;\" d=\"M 386.671875 350.011719 L 386.671875 347.464844 \"/>\n",
       "<path style=\"fill:none;stroke-width:3;stroke-linecap:round;stroke-linejoin:round;stroke:rgb(100%,0%,0%);stroke-opacity:1;stroke-miterlimit:10;\" d=\"M 386.871094 350.011719 L 386.871094 347.464844 \"/>\n",
       "</g>\n",
       "</svg>\n"
      ]
     },
     "metadata": {
      "image/svg+xml": {
       "isolated": true
      }
     },
     "output_type": "display_data"
    }
   ],
   "source": [
    "%%R\n",
    "hist(log10(apply(x.ranks,1,median)+1),breaks=200,main='median ranks')\n",
    "tmp<-sapply(expr_levels,function(i)lines(rep(log10(i+1),2),c(-1,0),col='red',lwd=3));rm(tmp);NULL"
   ]
  },
  {
   "cell_type": "code",
   "execution_count": null,
   "metadata": {
    "collapsed": true
   },
   "outputs": [],
   "source": []
  }
 ],
 "metadata": {
  "kernelspec": {
   "display_name": "Python 2",
   "language": "python",
   "name": "python2"
  },
  "language_info": {
   "codemirror_mode": {
    "name": "ipython",
    "version": 2
   },
   "file_extension": ".py",
   "mimetype": "text/x-python",
   "name": "python",
   "nbconvert_exporter": "python",
   "pygments_lexer": "ipython2",
   "version": "2.7.6"
  }
 },
 "nbformat": 4,
 "nbformat_minor": 0
}
